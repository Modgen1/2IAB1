{
 "cells": [
  {
   "cell_type": "markdown",
   "metadata": {},
   "source": [
    "# Programming Lesson and Exercises - VIS\n",
    "\n",
    "The goal of these programming lesson and exercises is to teach you how to visualize data using Python."
   ]
  },
  {
   "cell_type": "markdown",
   "metadata": {},
   "source": [
    "\n",
    "This notebook has the following structure:\n",
    "\n",
    "- The first part introduces the concepts for this week. The theory is interleaved with small exercises, which have the goal of letting you practice the concepts that were just intruduced.\n",
    "- At the end there are one or more larger exercises, which have the goal to test what you have learned earlier. These will be more difficult and will require more independent work than the exercises in the first part.\n",
    "\n",
    "All exercises can be solved with the concepts that were introduced earlier. Since there are often more than one correct way to solve a programming problem, we try to accept various correct anwers. However, many of the automatic tests in Momotor (see _How to submit your work_ below) assume that your answers are constructed using the concepts introduced in these notebooks. If you look for answers on the Internet (e.g. if you import other libraries) you run the risk that your answers will be rejected.\n",
    "\n",
    "Some of the small exercises can be solved by copy-pasting code from the examples. However, it is up to you to try to solve the exercises yourself, which will help you learn, before copy-pasting the answers. The ease of looking up answers is meant to provide guidance when you get stuck, especially for those of you who are new to programming.\n",
    "\n",
    "For your convenience, in the `support` directory you will find a summary of the Python methods introduced in this notebook.\n"
   ]
  },
  {
   "cell_type": "markdown",
   "metadata": {},
   "source": [
    "\n",
    "# Introduction to This Template Notebook\n",
    "\n",
    "* This is a **personal** notebook.\n",
    "* Make sure you work in a **copy** of `...-template.ipynb`,\n",
    "**renamed** to `...-yourIDnr.ipynb`,\n",
    "where `yourIDnr` is your TU/e identification number.\n",
    "\n",
    "<div class=\"alert alert-danger\" role=\"danger\">\n",
    "<h3>Integrity</h3>\n",
    "<ul>\n",
    "    <li>In this course you must act according to the rules of the TU/e code of scientific conduct.</li>\n",
    "    <li>All the exercises and the graded assignments are to be executed individually and independently.</li>\n",
    "    <li>You must not copy from the Internet, your friends, books... If you represent other people's work as your own, then that constitutes fraud and will be reported to the Examination Committee.</li>\n",
    "    <li>Making your work available to others (complicity) also constitutes fraud.</li>\n",
    "</ul>\n",
    "</div>\n",
    "\n",
    "You are expected to work with Python code in this notebook.\n",
    "\n",
    "The locations where you should write your solutions can be recognized by\n",
    "**marker lines**,\n",
    "which look like this:\n",
    "\n",
    ">`#//`\n",
    ">    `BEGIN_TODO [Label]` `Description` `(n points)`\n",
    ">\n",
    ">`#//`\n",
    ">    `END_TODO [Label]`\n",
    "\n",
    "<div class=\"alert alert-warning\" role=\"alert\">Do NOT modify or delete these marker lines.  Keep them as they are.<br/>\n",
    "NEVER write code <i>outside</i> the marked blocks.\n",
    "Such code cannot be evaluated.\n",
    "</div>\n",
    "\n",
    "Proceed in this notebook as follows:\n",
    "* **Read** the text.\n",
    "* **Fill in** your solutions between `BEGIN_TODO` and `END_TODO` marker lines.\n",
    "* **Run** _all_ code cells (also the ones _without_ your code),\n",
    "    _in linear order_ from the first code cell.\n",
    "\n",
    "**Personalize your notebook**:\n",
    "1. Copy the following three lines of code:\n",
    "\n",
    "  ```python\n",
    "  AUTHOR_NAME = 'Your Full Name'\n",
    "  AUTHOR_ID_NR = '1234567'\n",
    "  AUTHOR_DATE = 'YYYY-MM-DD'\n",
    "  ```\n",
    "1. Paste them between the marker lines in the next code cell.\n",
    "1. Fill in your _full name_, _identification number_, and the current _date_ (i.e. when you first modified this notebook, e.g. '2023-11-01') as strings between the `Author` markers.\n",
    "1. Run the code cell by putting the cursor there and typing **Control-Enter**.\n"
   ]
  },
  {
   "cell_type": "code",
   "execution_count": null,
   "metadata": {},
   "outputs": [],
   "source": [
    "#// BEGIN_TODO [Author] Name, Id.nr., Date, as strings (1 point)\n",
    "\n",
    "AUTHOR_NAME = 'Ivan Sergeevich Mishin'\n",
    "AUTHOR_ID_NR = '2076209'\n",
    "AUTHOR_DATE = '2024-11-12'\n",
    "\n",
    "#// END_TODO [Author]"
   ]
  },
  {
   "cell_type": "markdown",
   "metadata": {},
   "source": [
    "## Table of Contents\n",
    "\n",
    "- [1. Introduction to Visualization](#1.-Introduction-to-Visualization) \n",
    "  - [Learning Objectives of This Section](#Learning-Objectives-of-This-Section)\n",
    "  - [Loading the Libraries](#Loading-the-Libraries)\n",
    "  - [Concepts and Terminology for Plotting](#Concepts-and-Terminology-for-Plotting)\n",
    "  - [Best Practices for Plotting](#Best-Practices-for-Plotting)\n",
    "- [2. Matplotlib and Pandas](#2.-Matplotlib-and-Pandas) \n",
    "  - [Learning Objectives of This Section](#Learning-Objectives-of-This-Section)\n",
    "  - [Stocks](#Stocks)\n",
    "  - [A Simple Plot](#A-Simple-Plot)\n",
    "  - [Title, Axis Labels, Legend](#Title,-Axis-Labels,-Legend) \n",
    "      - [Exercise 2.a](#Exercise-2.a)\n",
    "  - [Saving a Plot](#Saving-a-Plot) \n",
    "      - [Exercise 2.b](#Exercise-2.b)\n",
    "  - [Line Styles, Colors, Marker Styles](#Line-Styles,-Colors,-Marker-Styles) \n",
    "    - [Line Styles](#Line-Styles)\n",
    "    - [Marker Styles](#Marker-Styles)\n",
    "    - [Colors](#Colors)\n",
    "    - [Exercise 2.c](#Exercise-2.c)\n",
    "  - [Plot Range Limits and Plot Size](#Plot-Range-Limits-and-Plot-Size) \n",
    "    - [Exercise 2.d](#Exercise-2.d)\n",
    "  - [Text and Annotation](#Text-and-Annotation) \n",
    "    - [Exercise 2.e](#Exercise-2.e)\n",
    "  - [Combining Multiples Plots](#Combining-Multiple-Plots) \n",
    "    - [Superimposing](#Superimposing)\n",
    "    - [Exercise 2.f](#Exercise-2.f)\n",
    "    - [Juxtaposition (Subplots)](#Juxtaposition-(Subplots))\n",
    "    - [Exercise 2.g](#Exercise-2.g)\n",
    "  - [Scatter Plots](#Scatter-Plots) \n",
    "    - [Scatter Matrix](#Scatter-Matrix)\n",
    "    - [Transparency and Point Size](#Transparency-and-Point-Size)\n",
    "    - [Exercise 2.h](#Exercise-2.h)\n",
    "    - [Exercise 2.i](#Exercise-2.i)\n",
    "    - [Modulating Dot Color or Size](#Modulating-Dor-Color-or-Size)\n",
    "  - [Plotting Grouped Data](#Plotting-Grouped-Data) \n",
    "    - [Exercise 2.j](#Exercise-2.j)\n",
    "- [3. Seaborn and Pandas](#3.-Seaborn-and-Pandas) \n",
    "  - [Learning Objectives of This Section](#Learning-Objectives-of-This-Section)\n",
    "  - [The Iris Data Set](#The-Iris-Data-Set)\n",
    "  - [Histogram and Density Plot](#Histogram-and-Density-Plot) \n",
    "    - [Exercise 3.a](#Exercise-3.a)\n",
    "  - [Strip Plot](#Strip-Plot) \n",
    "    - [Exercise 3.b](#Exercise-3.b)\n",
    "  - [Box Plot](#Box-Plot)\n",
    "  - [Violin Plot](#Violin-Plot) \n",
    "    - [Exercise 3.c](#Exercise-3.c)\n",
    "  - [Heat Map](#Heat-Map)\n",
    "- [4. Exercise: Comparison of Laboratories](#4.-Exercise:-Comparison-of-Laboratories) \n",
    "  - [Exercise 4.a](#Exercise-4.a)\n",
    "  - [Exercise 4.b](#Exercise-4.b)\n",
    "  - [Exercise 4.c](#Exercise-4.c)\n",
    "  - [Exercise 4.d](#Exercise-4.d)\n",
    "  - [Exercise 4.e](#Exercise-4.e)\n",
    "  - [Exercise 4.f](#Exercise-4.f)\n",
    "  - [Exercise 4.g](#Exercise-4.g)\n",
    "  - [Exercise 4.h](#Exercise-4.h)\n",
    "  - [Exercise 4.i](#Exercise-4.i)\n",
    "  - [Exercise 4.j](#Exercise-4.j)"
   ]
  },
  {
   "cell_type": "markdown",
   "metadata": {},
   "source": [
    "# 1. Introduction to Visualization\n",
    "\n",
    "The programming lesson on EDA introduced some ways to create plots\n",
    "directly from Pandas data frames.\n",
    "\n",
    "In this lesson, we will introduce techniques to\n",
    "\n",
    "* **customize the plots** to emphasize the message that we would like to convey, and\n",
    "* create more **advanced types of plots**.\n",
    "\n",
    "For further details, see\n",
    "\n",
    "* [Visualization](https://pandas.pydata.org/pandas-docs/stable/user_guide/visualization.html)\n",
    "    in the _Pandas Documentation_\n",
    "* [Seaborn documentation](https://seaborn.pydata.org/)\n",
    "* [Visualization with Matplotlib](https://github.com/jakevdp/PythonDataScienceHandbook/blob/master/notebooks/04.00-Introduction-To-Matplotlib.ipynb)\n",
    "    in the _Python Data Science Handbook_"
   ]
  },
  {
   "cell_type": "markdown",
   "metadata": {},
   "source": [
    "## Learning Objectives of This Section\n",
    "\n",
    "After this section, you should\n",
    "\n",
    "* know how to **load the visualization libraries**;\n",
    "* understand the basic **plotting concepts and terminology**, and;\n",
    "* know about **best practices** for visualization."
   ]
  },
  {
   "cell_type": "markdown",
   "metadata": {},
   "source": [
    "## Loading the Libraries\n",
    "\n",
    "There are many plotting libraries that work with Python.\n",
    "We have selected three of these libraries for this lesson:\n",
    "\n",
    "* **`matplotlib`**: the base library for plotting, especially with Jupyter Notebook\n",
    "* **`pandas`**: built on top of `matplotlib` to let you plot `DataFrame` and `Series` objects\n",
    "* **`seaborn`**: built on top of `matplotlib` to create statistical plots\n",
    "\n",
    "Execute the following code cell to load and initialize the relevant libraries."
   ]
  },
  {
   "cell_type": "code",
   "execution_count": null,
   "metadata": {},
   "outputs": [],
   "source": [
    "import numpy as np\n",
    "import pandas as pd\n",
    "import matplotlib as mpl\n",
    "import matplotlib.pyplot as plt\n",
    "import seaborn as sns                       # also improves the look of plots\n",
    "import warnings                             # [EV]: Added to filter out some warnings\n",
    "\n",
    "# Configure plots\n",
    "sns.set()                                   # set Seaborn defaults\n",
    "plt.rcParams['figure.figsize'] = 10, 5      # default hor./vert. size of plots, in inches\n",
    "\n",
    "# Reveal a hint only while holding the mouse down\n",
    "from IPython.display import HTML\n",
    "HTML('<style>.h,.c{display:none}.t{color:#296eaa}.t:active+.h{display:block;}</style>')\n",
    "\n",
    "# [EV]: Filtering out some warnings\n",
    "warnings.filterwarnings(\"ignore\", \"use_inf_as_na\")"
   ]
  },
  {
   "cell_type": "markdown",
   "metadata": {},
   "source": [
    "## Concepts and Terminology for Plotting\n",
    "\n",
    "You should know a few things about `matplotlib`:\n",
    "\n",
    "* `matplotlib` uses the same approach to plotting as _MATLAB_\n",
    "    (a programming language you may have already seen or will see in other technical courses).\n",
    "* With `matplotlib` you **build up a plot in a sequence of steps**,\n",
    "    where each step adds _plot elements_ to the _**current figure**_.\n",
    "* In a Jupyter notebook (like this one),\n",
    "    such a plot is most often built up in a **single code cell**.\n",
    "* When that code cell is executed,\n",
    "    * the _current figure_ is **automatically cleared and initialized** at the beginning, and\n",
    "    * the resulting plot is **automatically shown** at the end.\n",
    "* Therefore, you **do _not_ call `plt.figure()` or `plt.show()`** in a Jupyter notebook.\n",
    "    (You will often see these commands when browsing the web for solutions.\n",
    "    Don't use them here.)"
   ]
  },
  {
   "cell_type": "markdown",
   "metadata": {},
   "source": [
    "<div style=\"text-align: center\">\n",
    "    <img src=\"files/mpl_terminology.png\"></img>\n",
    "</div>\n",
    "<figcaption style=\"text-align: center;\"><b>Figure 1. Matplotlib terminology.</b></figcaption>\n",
    "\n",
    "The above image shows some standard terminology for plot elements.\n",
    "\n",
    "* **Figure**: refers to the whole figure,\n",
    "    possibly consisting of multiple plots ('*axes*') arranged in a grid.\n",
    "* **Axes** (plural): an actual plot visualizing data in its central area,\n",
    "    bounded by _spines_ that show _axis_ information;\n",
    "    not to be confused with just the $x$- and $y$-axis.\n",
    "* **Axis** (singular): information that defines the relationship between data values and\n",
    "    horizontal or vertical offsets in the plot.\n",
    "* **Spine**: a line on the boundary with reference information obtained from an _axis_.\n",
    "* **Major and minor ticks**: longer and shorter lines marking off positions on a _spine_.\n",
    "* **Major and minor tick labels**: numeric or textual labels of _ticks_.\n",
    "* **Axis label**: a textual label of an _axis_.\n",
    "* **Title**: textual label of a plot.\n",
    "* **Grid**: auxiliary reference lines derived from each _axis_.\n",
    "* **Lines and markers**: visualizations of data values.\n",
    "* **Legend**: overview that associates text with visual elements for data.\n",
    "\n",
    "Also, see the `matplotlib` [Usage Guide](https://matplotlib.org/stable/tutorials/introductory/usage.html)."
   ]
  },
  {
   "cell_type": "markdown",
   "metadata": {},
   "source": [
    "## Best Practices for Plotting <span id=\"best_practices\"></span>\n",
    "\n",
    "A visualization can be a great way to communicate your results. But all too often communication is broken because the reader cannot understand the visualization. As a main rule, always ensure it is easy for your intended audience to interpret your plot, even if they do not have your knowledge about how the plot is created and what it is representing. In general, it will help if you follow the following \"best practices\" for visualization:\n",
    "\n",
    "* Include a descriptive **title** for your plot.\n",
    "* Make sure your plot has **labels** on the $x$- and $y$-axis. Include the **units** of the quantities on these axes if applicable.\n",
    "* Choose the **right plot** for the results that you are presenting. E.g., sometimes a line plot is a good choice, but in other cases, a bar chart is much better.\n",
    "* Ensure that the plot is **readable**, for instance, that the letters are not too small, and lines are not too thin. Usually, your plot is used in a different environment from where you created it. For instance, you create the plot in a notebook, but use it on a poster. It is important that you optimize your plot for the final environment.\n",
    "* Ensure that your plot is also understandable for somebody who is color-blind.\n",
    "* Avoid misleading the reader.\n",
    "* Choose appropriate ranges for the axes of your plot. For instance, if you make a plot of a positive quantity, the range of the $y$-axis should not contain negative values.\n",
    "* Include a **legend** when you are combining different elements in your plot, e.g. multiple line plots.\n",
    "* Include a **caption** for your plot when you include your plot in another document.\n",
    "\n",
    "**<p style=\"color:red;\">For the exercises in this notebook, and throughout the rest of this course, you should always conform to these rules.</p>**"
   ]
  },
  {
   "cell_type": "markdown",
   "metadata": {},
   "source": [
    "---\n",
    "\n",
    "# 2. Matplotlib and Pandas"
   ]
  },
  {
   "cell_type": "markdown",
   "metadata": {},
   "source": [
    "## Learning Objectives of This Section\n",
    "\n",
    "After this section, you should\n",
    "\n",
    "* understand the basics of plotting with Pandas and Matplotlib\n",
    "    for **communication with others**;\n",
    "* know how to add a **title**, **axis labels**, and **legend** to a plot;\n",
    "* know how to **save a plot** to a file;\n",
    "* know how to adjust plot **style** and **color**;\n",
    "* know how to add **text** and **annotation** to plots;\n",
    "* know how to **combine multiple plots**;\n",
    "* know how to make scatter plots with **alpha, color, and size settings**;\n",
    "* know how to create a **scatter matrix**, and;\n",
    "* know how to **modulate a scatter plot** by dot color and dot size."
   ]
  },
  {
   "cell_type": "markdown",
   "metadata": {},
   "source": [
    "## Stocks\n",
    "\n",
    "We will illustrate the various visualization possibilities with a dataset containing the closing prices of selected stocks. The data set contains five columns: `'Date'`, `'NASDAQ'`, `'AMZN'`, `'GOOG'`, and `'MSFT'`. The `'AMZN'`, `'GOOG'`, and `'MSFT'` columns contain the closing price, in USD, for the stocks of Amazon, Google, and Microsoft respectively. The closing prices are measured on the dates in the `'Date'` column, and those dates correspond to the last (trading) days of the month. The `'NASDAQ'` column contains the closing price of the NASDAQ composite index. This is a number calculated by taking a weighted average over various stocks and is an indicator of how the market is performing.\n",
    "\n",
    "We first read the data into a data frame `df_stocks_0`. We add the keyword argument `parse_dates=['Date']` to the `read_csv` method, so `pandas` knows that the `'Date'` column should be interpreted as dates. "
   ]
  },
  {
   "cell_type": "code",
   "execution_count": null,
   "metadata": {},
   "outputs": [],
   "source": [
    "df_stocks_0 = pd.read_csv('datasets/stocks-monthly.csv', parse_dates=['Date'])\n",
    "df_stocks_0.head()"
   ]
  },
  {
   "cell_type": "markdown",
   "metadata": {},
   "source": [
    "## A Simple Plot\n",
    "\n",
    "First, we create a line plot for the `'NASDAQ'` column of the Stocks dataset\n",
    "(see the EDA lesson)."
   ]
  },
  {
   "cell_type": "code",
   "execution_count": null,
   "metadata": {},
   "outputs": [],
   "source": [
    "df_stocks_0['NASDAQ'].plot()"
   ]
  },
  {
   "cell_type": "markdown",
   "metadata": {},
   "source": [
    "> **Note:** The semicolon (**`;`**) at the end of the line in the code cell above\n",
    "suppresses the display of the string representation of the execution result\n",
    "(but it does not suppress the showing of the plot).\n",
    "That execution result is an **`Axes`** object, which could be used to add further plot elements.\n",
    "All Pandas and Seaborn plotting functions return such an `Axes` object."
   ]
  },
  {
   "cell_type": "markdown",
   "metadata": {},
   "source": [
    "We get a single **figure** with a single plot (**axes**) consisting of a colored **line**.  \n",
    "This plot automatically includes \n",
    "* The numeric **tick labels** on the $x$-axis and $y$-axis, and\n",
    "* a **grid** (thanks to importing and using Seaborn).\n",
    "\n",
    "There are many issues with this plot. One issue needs immediate attention: the drawn curve should show the development of the NASDAQ composite index over time but on the $x$-axis we only see integers. This is because the `'NASDAQ'` column is plotted against the index of `df_stocks_0`, instead of the dates. One way to fix this is to set the `'Date'` column as the new index for the data frame. We make this change and assign the resulting data frame to the `df_stocks` variable."
   ]
  },
  {
   "cell_type": "code",
   "execution_count": null,
   "metadata": {},
   "outputs": [],
   "source": [
    "df_stocks = df_stocks_0.set_index('Date')\n",
    "df_stocks.head()"
   ]
  },
  {
   "cell_type": "markdown",
   "metadata": {},
   "source": [
    "Let us recreate the plot of the `'NASDAQ'` column."
   ]
  },
  {
   "cell_type": "code",
   "execution_count": null,
   "metadata": {},
   "outputs": [],
   "source": [
    "df_stocks['NASDAQ'].plot();"
   ]
  },
  {
   "cell_type": "markdown",
   "metadata": {},
   "source": [
    "## Title, Axis Labels, Legend\n",
    "\n",
    "We can store the result of a `plot()` call in a variable. It is customary to name this variable `ax` or `axes`, but it can be any other name. We can then use this variable to add elements to the plot, such as a **title**, **axis labels**, and a **legend**.\n",
    "\n",
    "This variable can then be used as follows to add certain plot elements.\n",
    "\n",
    "* **`ax.set_title(string, ...)`**: set the plot's title.\n",
    "* **`ax.set_xlabel(string, ...)`**: set the $x$-axis label.\n",
    "* **`ax.set_ylabel(string, ...)`**: set the $y$-axis label.\n",
    "* **`ax.legend(list_of_strings)`**: add a legend, one string per column plotted.\n",
    "\n",
    "The functions `ax.set_...` can take additional keyword arguments:\n",
    "\n",
    "* **`size=...`** (a number, font size in points)\n",
    "* **`weight=...`** (a string, font weight, e.g. `'bold'`)\n",
    "\n",
    "Finally, the size of the _tick labels_ can be modified by writing\n",
    "\n",
    "* **`ax.tick_params(labelsize=...)`**\n",
    "\n",
    "which can be very useful to improve readability.\n",
    "For more information, see [Text properties and layout](https://matplotlib.org/stable/tutorials/text/text_props.html#text-properties-and-layout)."
   ]
  },
  {
   "cell_type": "markdown",
   "metadata": {},
   "source": [
    "We again create a plot of the `'NASDAQ'` column but now with additional information,\n",
    "using the variable `ax_nasdaq` (which we will refer to later)."
   ]
  },
  {
   "cell_type": "code",
   "execution_count": null,
   "metadata": {},
   "outputs": [],
   "source": [
    "ax_nasdaq = df_stocks['NASDAQ'].plot()\n",
    "ax_nasdaq.set_title('Development of NASDAQ Composite Index', size=16, weight='bold')\n",
    "ax_nasdaq.set_xlabel('Date')\n",
    "ax_nasdaq.set_ylabel('Index')\n",
    "ax_nasdaq.legend(['NASDAQ']);"
   ]
  },
  {
   "cell_type": "markdown",
   "metadata": {},
   "source": [
    "There are two other common ways of adding these labels to a plot:\n",
    "-  the `.plot` method has `title=...`, `xlabel=...` and `ylabel=...` as optional keyword arguments;\n",
    "-  the functions `plt.title(...)`, `plt.xlabel(...)` or `plt.ylabel(...)` can be called after the plot has already been created (in the same code cell!).\n",
    "\n",
    "The object-oriented approach we used here, with the `ax_nasdaq` object, is often the most versatile, but if you do not want to store the axes then either of these two methods can be used instead."
   ]
  },
  {
   "cell_type": "markdown",
   "metadata": {},
   "source": [
    "### Exercise 2.a\n",
    "\n",
    "Create a plot of the price of the Google stock with respect to the date.\n",
    "Make sure your plot has a title and contains the labels `'Date'` for the $x$-axis and `'Price (USD)'` for the $y$-axis.\n",
    "Also add a legend containing the element `'GOOG'`.\n",
    "Assign this plot to the variable `ax_goog`. "
   ]
  },
  {
   "cell_type": "code",
   "execution_count": null,
   "metadata": {},
   "outputs": [],
   "source": [
    "#// BEGIN_TODO [VIS_2a] Plot value of GOOG stock (1 point)\n",
    "\n",
    "# ===== =====> Replace this line by your code. <===== ===== #\n",
    "\n",
    "#// END_TODO [VIS_2a]"
   ]
  },
  {
   "cell_type": "markdown",
   "metadata": {},
   "source": [
    "## Saving a Plot\n",
    "\n",
    "You can **save a plot to a file** by writing\n",
    "\n",
    "* **`plt.savefig(file_name)`**\n",
    "\n",
    "as the last expression in the code cell.\n",
    "\n",
    "The call `plt.savefig()` **must appear in the same code cell** that constructed the plot.\n",
    "\n",
    "If you captured the result of the plot call in variable `ax`,\n",
    "then you can also do (possibly in a later code cell):\n",
    "\n",
    "* **`ax.get_figure().savefig(file_name)`**"
   ]
  },
  {
   "cell_type": "code",
   "execution_count": null,
   "metadata": {},
   "outputs": [],
   "source": [
    "ax_nasdaq.get_figure().savefig('NASDAQ-composite.png')"
   ]
  },
  {
   "cell_type": "markdown",
   "metadata": {},
   "source": [
    "Check that the file `NASDAQ-composite.png` was created (in the same directory as this notebook)\n",
    "and that it contains the expected plot.\n",
    "\n",
    "> **Note:** The **extension** of the file name will determine the **file format**.\n",
    "Many common file formats are supported, including `pdf`, `png`, `jpg`, `ps`, and `svg`."
   ]
  },
  {
   "cell_type": "markdown",
   "metadata": {},
   "source": [
    "### Exercise 2.b\n",
    "\n",
    "Save your plot for the Google stock to a PDF named\n",
    "`'GOOG.pdf'`.\n",
    "\n",
    "> **Hint:** Check that the file was created, and contains the expected plot."
   ]
  },
  {
   "cell_type": "code",
   "execution_count": null,
   "metadata": {},
   "outputs": [],
   "source": [
    "#// BEGIN_TODO [VIS_2b] Save GOOG plot to pdf (1 point)\n",
    "\n",
    "# ===== =====> Replace this line by your code. <===== ===== #\n",
    "\n",
    "#// END_TODO [VIS_2b]"
   ]
  },
  {
   "cell_type": "markdown",
   "metadata": {},
   "source": [
    "## Line Styles, Colors, Marker Styles\n",
    "\n",
    "There are many options to change the appearance of a **line plot**. For instance, you can vary the **line style**, **marker style**, and **color**.\n",
    "\n",
    "### Line Styles\n",
    "\n",
    "The line style can be set with the **`linestyle=...`** argument. To obtain an overview of all **supported line styles**, execute the following code cell:"
   ]
  },
  {
   "cell_type": "code",
   "execution_count": null,
   "metadata": {},
   "outputs": [],
   "source": [
    "mpl.lines.lineStyles"
   ]
  },
  {
   "cell_type": "markdown",
   "metadata": {},
   "source": [
    "Here is the same `NASDAQ` plot with a **dotted** line."
   ]
  },
  {
   "cell_type": "code",
   "execution_count": null,
   "metadata": {},
   "outputs": [],
   "source": [
    "ax_nasdaq = df_stocks['NASDAQ'].plot(linestyle=':')\n",
    "ax_nasdaq.set_title('Development of NASDAQ Composite Index', size=16, weight='bold')\n",
    "ax_nasdaq.set_xlabel('Date')\n",
    "ax_nasdaq.set_ylabel('Index')\n",
    "ax_nasdaq.legend(['NASDAQ']);"
   ]
  },
  {
   "cell_type": "markdown",
   "metadata": {},
   "source": [
    "The **line width** can be set with the keyword argument **`linewidth=...`** (similar to the keyword argument **`size=16`** above)."
   ]
  },
  {
   "cell_type": "markdown",
   "metadata": {},
   "source": [
    "### Marker Styles\n",
    "\n",
    "The marker style can be set with the **`marker=...`** argument. To obtain an overview of all **supported marker styles**, execute the following code cell:"
   ]
  },
  {
   "cell_type": "code",
   "execution_count": null,
   "metadata": {},
   "outputs": [],
   "source": [
    "mpl.markers.MarkerStyle.markers"
   ]
  },
  {
   "cell_type": "markdown",
   "metadata": {},
   "source": [
    "Here is the same plot with **octagons** as markers."
   ]
  },
  {
   "cell_type": "code",
   "execution_count": null,
   "metadata": {},
   "outputs": [],
   "source": [
    "ax_nasdaq = df_stocks['NASDAQ'].plot(marker='8')\n",
    "ax_nasdaq.set_title('Development of NASDAQ Composite Index', size=16, weight='bold')\n",
    "ax_nasdaq.set_xlabel('Date')\n",
    "ax_nasdaq.set_ylabel('Index')\n",
    "ax_nasdaq.legend(['NASDAQ']);"
   ]
  },
  {
   "cell_type": "markdown",
   "metadata": {},
   "source": [
    "This looks rather terrible because there are way too many markers. For this plot, it seems better to not use any markers at all.\n",
    "\n",
    "There could be some alternative options.\n",
    "The **marker size** can be varied with the keyword argument **`markersize=...`**.\n",
    "Or, we can specify to only mark every 6th point in the data set by adding the keyword argument **`markevery=6`**."
   ]
  },
  {
   "cell_type": "markdown",
   "metadata": {},
   "source": [
    "### Colors\n",
    "\n",
    "The color is specified with the **`color=...`** argument. To obtain an overview of all **supported base colors** and their RGB values,\n",
    "execute the following code cell."
   ]
  },
  {
   "cell_type": "code",
   "execution_count": null,
   "metadata": {},
   "outputs": [],
   "source": [
    "mpl.colors.BASE_COLORS"
   ]
  },
  {
   "cell_type": "markdown",
   "metadata": {},
   "source": [
    "The letters are abbreviations for:\n",
    "\n",
    "* **`'b'`** : blue\n",
    "* **`'c'`** : cyan\n",
    "* **`'g'`** : green\n",
    "* **`'k'`** : black\n",
    "* **`'m'`** : magenta\n",
    "* **`'r'`** : red\n",
    "* **`'w'`** : white\n",
    "* **`'y'`** : yellow"
   ]
  },
  {
   "cell_type": "markdown",
   "metadata": {},
   "source": [
    "Here is the same `NASDAQ` plot with a **solid red line**."
   ]
  },
  {
   "cell_type": "code",
   "execution_count": null,
   "metadata": {},
   "outputs": [],
   "source": [
    "ax_nasdaq = df_stocks['NASDAQ'].plot(color='r')\n",
    "ax_nasdaq.set_title('Development of NASDAQ Composite Index', size=16, weight='bold')\n",
    "ax_nasdaq.set_xlabel('Date')\n",
    "ax_nasdaq.set_ylabel('Index')\n",
    "ax_nasdaq.legend(['NASDAQ']);"
   ]
  },
  {
   "cell_type": "markdown",
   "metadata": {},
   "source": [
    "There are also **full-color names** for more subtle variations. To obtain an overview of all **supported full-color names** and their RGB hex values,\n",
    "execute the following code cell.\n",
    "It is best to use the _color name_ instead of the hex value.  \n",
    "\n",
    "> **Warning:** This is a long overview."
   ]
  },
  {
   "cell_type": "code",
   "execution_count": null,
   "metadata": {},
   "outputs": [],
   "source": [
    "mpl.colors.cnames"
   ]
  },
  {
   "cell_type": "markdown",
   "metadata": {},
   "source": [
    "### Exercise 2.c\n",
    "\n",
    "Create a plot of the `'AMZN'` stock with respect to the date. Use a green, dash-dotted line.\n",
    "\n",
    "> **Hint:** Look again at the list of _supported line styles_."
   ]
  },
  {
   "cell_type": "code",
   "execution_count": null,
   "metadata": {},
   "outputs": [],
   "source": [
    "#// BEGIN_TODO [VIS_2c] Create plot for AMZN with green, dash-dotted line (1 point)\n",
    "\n",
    "# ===== =====> Replace this line by your code. <===== ===== #\n",
    "\n",
    "#// END_TODO [VIS_2c]"
   ]
  },
  {
   "cell_type": "markdown",
   "metadata": {},
   "source": [
    "## Plot Range Limits and Plot Size\n",
    "\n",
    "If we plot the NASDAQ composite index as before:"
   ]
  },
  {
   "cell_type": "code",
   "execution_count": null,
   "metadata": {},
   "outputs": [],
   "source": [
    "ax_nasdaq = df_stocks['NASDAQ'].plot()\n",
    "ax_nasdaq.set_title('Development of NASDAQ Composite Index', size=16, weight='bold')\n",
    "ax_nasdaq.set_xlabel('Date')\n",
    "ax_nasdaq.set_ylabel('Index')\n",
    "ax_nasdaq.legend(['NASDAQ']);"
   ]
  },
  {
   "cell_type": "markdown",
   "metadata": {},
   "source": [
    "then the plunge of NASDAQ around the 2008 financial crisis looks extra dramatic due to the range of the $y$-axis."
   ]
  },
  {
   "cell_type": "markdown",
   "metadata": {},
   "source": [
    "We can **limit the plot range** by using\n",
    "\n",
    "* **`ax.set_xlim(min, max)`**\n",
    "* **`ax.set_ylim(min, max)`**\n",
    "\n",
    "for the $x$- and $y$-axis respectively."
   ]
  },
  {
   "cell_type": "code",
   "execution_count": null,
   "metadata": {},
   "outputs": [],
   "source": [
    "ax_nasdaq = df_stocks['NASDAQ'].plot()\n",
    "ax_nasdaq.set_title('Development of NASDAQ Composite Index', size=16, weight='bold')\n",
    "ax_nasdaq.set_xlabel('Date')\n",
    "ax_nasdaq.set_ylabel('Index')\n",
    "ax_nasdaq.legend(['NASDAQ'])\n",
    "\n",
    "ax_nasdaq.set_xlim(pd.to_datetime('2015-01-01'), pd.to_datetime('2016-12-31'))\n",
    "ax_nasdaq.set_ylim(4000, 6000);"
   ]
  },
  {
   "cell_type": "markdown",
   "metadata": {},
   "source": [
    "> **Note:** Because the index of `df_stocks` consists of `datetime`-objects, we had to use `pd.to_datetime` here.\n",
    " When specifying dates, use the convention `'year-month-day'` (e.g. `'2016-12-31'`).\n",
    "Specifying dates in the opposite order `'day-month-year'` (e.g. `'31-12-2016'`) may lead to inconsistent behavior."
   ]
  },
  {
   "cell_type": "markdown",
   "metadata": {},
   "source": [
    "The **size of a plot** can be set for a single plot\n",
    "by supplying the keyword argument **`figsize=(W, H)`** to the `plot()` method,\n",
    "where `W` and `H` are the width and height respectively, in _inches_. For instance, if we want to change the previous figure to a figure which is 16 inches wide and 9 inches high, we could do this with the following code. \n",
    "\n",
    "We set the size of the axis and tick labels below by hand. Otherwise, they would be too small in comparison, because the figure is so large."
   ]
  },
  {
   "cell_type": "code",
   "execution_count": null,
   "metadata": {},
   "outputs": [],
   "source": [
    "ax_nasdaq = df_stocks['NASDAQ'].plot(figsize=(16, 9))\n",
    "ax_nasdaq.set_title('Development of NASDAQ Composite Index', size=16, weight='bold')\n",
    "ax_nasdaq.set_xlabel('Date')\n",
    "ax_nasdaq.set_ylabel('Index')\n",
    "ax_nasdaq.legend(['NASDAQ'])\n",
    "\n",
    "ax_nasdaq.set_xlim(pd.to_datetime('2015-01-01'), pd.to_datetime('2016-12-31'))\n",
    "ax_nasdaq.set_ylim(4000, 6000)\n",
    "\n",
    "ax_nasdaq.tick_params(labelsize=14);"
   ]
  },
  {
   "cell_type": "markdown",
   "metadata": {},
   "source": [
    "### Exercise 2.d\n",
    "\n",
    "Create a plot of the `'GOOG'` stock in _black_ with *line width 5*,\n",
    "limiting the $x$-axis between 2008-01-01 and 2010-01-01 and the $y$-axis between 0 and 400, \n",
    "giving the figure a size of *9 inches wide and 6 inches high*."
   ]
  },
  {
   "cell_type": "code",
   "execution_count": null,
   "metadata": {},
   "outputs": [],
   "source": [
    "#// BEGIN_TODO [VIS_2d] Create GOOG plot, thick black, x- and y-limited, 9:6 (1 point)\n",
    "\n",
    "# ===== =====> Replace this line by your code. <===== ===== #\n",
    "\n",
    "#// END_TODO [VIS_2d]"
   ]
  },
  {
   "cell_type": "markdown",
   "metadata": {},
   "source": [
    "## Text and Annotation\n",
    "\n",
    "You can add arbitrary **text** and **arrows** to a plot, using\n",
    "\n",
    "* **`ax.text(x, y, string)`**, where `x` and `y` are the coordinates of the bottom left corner of the text\n",
    "* **`ax.annotate(string, xy=(x, y), xytext=(x, y), arrowprops=...)`**, where `xy=...` are the coordinates of the tip of the arrowhead, `xytext=...` are the coordinates of the bottom left corner of the text, and the value for `arrowprops` is a _dictionary_ of arrow properties (see example).\n",
    "    \n",
    "For more details, see the `matplotlib` documentation:\n",
    "* [Annotating Plots](https://matplotlib.org/stable/gallery/text_labels_and_annotations/annotation_demo.html)\n",
    "* [Text properties and layout](https://matplotlib.org/stable/tutorials/text/text_props.html#text-properties-and-layout)\n",
    "\n",
    "The following example shows the line plot of the NASDAQ composite index again,\n",
    "but now with additional text and an arrow pointing at the sharp drop related to the financial crisis."
   ]
  },
  {
   "cell_type": "code",
   "execution_count": null,
   "metadata": {},
   "outputs": [],
   "source": [
    "ax_nasdaq = df_stocks['NASDAQ'].plot(figsize=(9, 6))\n",
    "ax_nasdaq.set_title('Development of NASDAQ Composite Index', size=16, weight='bold')\n",
    "ax_nasdaq.set_xlabel('Date')\n",
    "ax_nasdaq.set_ylabel('Index')\n",
    "ax_nasdaq.legend(['NASDAQ'])\n",
    "\n",
    "ax_nasdaq.set_xlim(pd.to_datetime('2007-01-01'), pd.to_datetime('2018-01-01'))\n",
    "ax_nasdaq.set_ylim(0, 8000)\n",
    "\n",
    "ax_nasdaq.text(pd.to_datetime('2015-01-01'), 6500, 'Where is this going?')  # add text; can use LaTeX; needs doubled backslashes\n",
    "arrow = {'facecolor': 'black', 'width': 2, 'shrink': 0.05}  # arrow properties\n",
    "ax_nasdaq.annotate('Bankruptcy of Lehman Brothers',         # add annotation\n",
    "            xy=(pd.to_datetime('2008-09-15'), 2400), \n",
    "            xytext=(pd.to_datetime('2009-02-01'), 3500), \n",
    "            arrowprops=arrow);"
   ]
  },
  {
   "cell_type": "markdown",
   "metadata": {},
   "source": [
    "### Exercise 2.e\n",
    "\n",
    "Recreate the plot from [Exercise 2.d](#Exercise-2.d). Add to the plot an arrow pointing at the bankruptcy of Lehman Brothers on September 15th, 2008."
   ]
  },
  {
   "cell_type": "code",
   "execution_count": null,
   "metadata": {},
   "outputs": [],
   "source": [
    "#// BEGIN_TODO [VIS_2e] Annotated GOOG plot (1 point)\n",
    "\n",
    "# ===== =====> Replace this line by your code. <===== ===== #\n",
    "\n",
    "#// END_TODO [VIS_2e]"
   ]
  },
  {
   "cell_type": "markdown",
   "metadata": {},
   "source": [
    "## Combining Multiple Plots\n",
    "\n",
    "In this section, we will see various ways to combine multiple plots in one figure. "
   ]
  },
  {
   "cell_type": "markdown",
   "metadata": {},
   "source": [
    "### Superimposing\n",
    "\n",
    "When plotting a data frame with multiple (numeric) columns\n",
    "using a **single `plot()` call**,\n",
    "all the column plots are **superimposed** (put **on top of each other**)\n",
    "**in a single figure**,\n",
    "thereby sharing $x$- and $y$-axis.\n",
    "**Colors** are used to distinguish the columns,\n",
    "and an automatic **legend** explains the coloring scheme."
   ]
  },
  {
   "cell_type": "code",
   "execution_count": null,
   "metadata": {},
   "outputs": [],
   "source": [
    "df_stocks.plot()\n",
    "plt.title('Development of All Closing Prices', size=16, weight='bold')\n",
    "plt.ylabel('Price (USD)');"
   ]
  },
  {
   "cell_type": "markdown",
   "metadata": {},
   "source": [
    "Plots created in **separate** `plot()` calls can be superimposed via the _axes_ object.\n",
    "\n",
    "* The **axes object** of the _first_ `plot()` call is **stored in a variable** (e.g. `ax_combined`).\n",
    "* Subsequent `plot()` calls are then supplied with an extra keyword argument **`ax=ax_combined`**.  \n",
    "    (If the axes object is stored in variable `ax`, then the first `ax` is the name of the keyword argument of `plot()`,\n",
    "    and the second is the `ax` variable.)\n",
    "\n",
    "Here are line plots for the first two data sets, superimposed in one _axes_ object.\n",
    "Note that we have provided our own legend and stored the axes object in the variable `ax_combined`."
   ]
  },
  {
   "cell_type": "code",
   "execution_count": null,
   "metadata": {},
   "outputs": [],
   "source": [
    "ax_combined = df_stocks['GOOG'].plot()\n",
    "df_stocks['AMZN'].plot(ax=ax_combined)\n",
    "ax_combined.legend(['GOOG', 'AMZN']);"
   ]
  },
  {
   "cell_type": "markdown",
   "metadata": {},
   "source": [
    "As you can see, we have plotted multiple stocks in one figure. However, the plot does not adhere to all best practices.\n",
    "The purpose of the next exercise is to improve on this."
   ]
  },
  {
   "cell_type": "markdown",
   "metadata": {},
   "source": [
    "### Exercise 2.f\n",
    "\n",
    "Make line plots for the `GOOG`, `MSFT`, and `AMZN` stocks, superimposed in one _axes_ object. Keep in mind the <a href=\"#best_practices\">best practices</a> for plotting to create a proper figure."
   ]
  },
  {
   "cell_type": "code",
   "execution_count": null,
   "metadata": {},
   "outputs": [],
   "source": [
    "#// BEGIN_TODO [VIS_2f] Superimposed line plots of three stocks, follow best practices (1 point)\n",
    "\n",
    "# ===== =====> Replace this line by your code. <===== ===== #\n",
    "\n",
    "#// END_TODO [VIS_2f]"
   ]
  },
  {
   "cell_type": "markdown",
   "metadata": {},
   "source": [
    "### Juxtaposition (Subplots)\n",
    "\n",
    "Multiple plots can also be combined by **juxtaposition** (placing them **next to each other**)\n",
    "**in a single figure**,\n",
    "rather than superimposing them.\n",
    "We have already seen in the EDA exercises that **box plots** can be combined side-by-side,\n",
    "using the **`by=...`** argument.\n",
    "Now we will see how to juxtaposition plots that are created by **separate `plot()` calls** using the _axes_ object.\n",
    "\n",
    "First, you set up a **grid of subplots** using plain `matplotlib` code.\n",
    "The common idiom for this is:\n",
    "```python\n",
    "fig, ax = plt.subplots(nrows=..., ncols=..., squeeze=False, ...)\n",
    "```\n",
    "> **Note**:\n",
    "> The argument **`squeeze=False`** ensures that `ax` will be a 2D array of axes objects, allowing you to write `ax[i, j]` to select the appropriate subplot. With **`squeeze=True`** (which is the default), if one of the dimensions equals 1 (i.e. `nrows=1` or `ncols=1`), `ax` will be a 1D array, representing a row (if `nrows=1`) or a column (if `ncols=1`). In that case you would have to write `ax[i]`.\n",
    "\n",
    "Let us try that for a 2x2 grid with _empty_ plots."
   ]
  },
  {
   "cell_type": "code",
   "execution_count": null,
   "metadata": {},
   "outputs": [],
   "source": [
    "fig, ax = plt.subplots(nrows=2, ncols=2, squeeze=False)"
   ]
  },
  {
   "cell_type": "markdown",
   "metadata": {},
   "source": [
    "You can ignore the variable `fig` for now (it is needed to capture both values returned by `plt.subplots()`).\n",
    "\n",
    "The variable `ax` now holds a **two-dimensional array of _axes_ objects**.  It can be indexed by **`ax[row][column]`** or **`ax[row, column]`** **starting from index 0**.\n",
    "\n",
    "Next, you provide each plot call with the appropriate argument **`ax=ax[row, column]`**.\n",
    "\n",
    "Below we show all stock data, in four separate plots."
   ]
  },
  {
   "cell_type": "code",
   "execution_count": null,
   "metadata": {},
   "outputs": [],
   "source": [
    "fig, ax = plt.subplots(nrows=2, ncols=2, squeeze=False, figsize=(10, 10))\n",
    "df_stocks['NASDAQ'].plot(ax=ax[0, 0])\n",
    "df_stocks['AMZN'].plot(ax=ax[0, 1])\n",
    "df_stocks['GOOG'].plot(ax=ax[1, 0])\n",
    "df_stocks['MSFT'].plot(ax=ax[1, 1]);"
   ]
  },
  {
   "cell_type": "markdown",
   "metadata": {},
   "source": [
    "The different _axes_ objects can be used to set a title, $x$-label and $y$-label for each subplot individually.\n",
    "However, in this case we can share some of these axis labels, with the following extra arguments for `plt.subplots()`:\n",
    "\n",
    "* **`sharex=True`** shares a common range of the $x$-axis between the plots\n",
    "* **`sharey=True`** shares a common range of the $y$-axis between the plots\n",
    "\n",
    "You can also set a **global title** for the entire figure with `fig.suptitle()`.\n",
    "\n",
    "Here are the preceding plots, but now with shared $x$-axis,\n",
    "and with both subplot titles, a global title, and $y$-labels on the leftmost plots:"
   ]
  },
  {
   "cell_type": "code",
   "execution_count": null,
   "metadata": {},
   "outputs": [],
   "source": [
    "fig, ax = plt.subplots(nrows=2, ncols=2, squeeze=False, sharex=True, figsize=(10, 10))\n",
    "\n",
    "df_stocks['NASDAQ'].plot(ax=ax[0, 0])\n",
    "df_stocks['AMZN'].plot(ax=ax[0, 1])\n",
    "df_stocks['GOOG'].plot(ax=ax[1, 0])\n",
    "df_stocks['MSFT'].plot(ax=ax[1, 1])\n",
    "\n",
    "ax[0, 0].set_title('NASDAQ')\n",
    "ax[0, 1].set_title('AMZN')\n",
    "ax[1, 0].set_title('GOOG')\n",
    "ax[1, 1].set_title('MSFT')\n",
    "ax[0, 0].set_ylabel('Price (USD)')\n",
    "ax[1, 0].set_ylabel('Price (USD)')\n",
    "\n",
    "fig.suptitle('Development of Stocks Over Time', size=16, weight='bold');"
   ]
  },
  {
   "cell_type": "markdown",
   "metadata": {},
   "source": [
    "### Exercise 2.g\n",
    "\n",
    "Create the three plots of the stocks of Amazon, Google, and Microsoft next to each other in one row, setting the size of the entire figure at $15\\times5$ inches. Make sure you include appropriate titles for the subplots and the figure as a whole and let the plots share the $y$-axis. Don't forget to put an appropriate label on the $y$-axis.\n",
    "\n",
    "> **Hint:** Set the $y$-axis label for the left most axes object."
   ]
  },
  {
   "cell_type": "code",
   "execution_count": null,
   "metadata": {},
   "outputs": [],
   "source": [
    "#// BEGIN_TODO [VIS_2g] Three plots of stocks on a row (1 point)\n",
    "\n",
    "# ===== =====> Replace this line by your code. <===== ===== #\n",
    "\n",
    "#// END_TODO [VIS_2g]"
   ]
  },
  {
   "cell_type": "markdown",
   "metadata": {},
   "source": [
    "## Scatter Plots\n",
    "\n",
    "Recall from the EDA exercises that you can create a scatter plot by providing the argument `kind='scatter'` to the function `plot()`. \n",
    "\n",
    "We will now present a useful procedure to create many scatter plots at once, to get an idea of possible relationships between various columns in a data set.\n",
    "\n",
    "### Scatter Matrix\n",
    "\n",
    "When investigating data sets with multiple columns and/or many values, it is important to take a bit more care when creating plots. We illustrate this with some examples based on a randomly generated data set.\n",
    "\n",
    "The data has _five_ columns, named `'a'`, `'b'`, `'c'`, `'e'`, and `'f'`,\n",
    "where `'a'`, `'b'`, and `'e'` are *numeric*, and `'c'` and `'f'` are *Boolean*:"
   ]
  },
  {
   "cell_type": "code",
   "execution_count": null,
   "metadata": {},
   "outputs": [],
   "source": [
    "df_sd = pd.DataFrame(((x, v, b, e, not b)\n",
    "                      for b in (False, True)\n",
    "                      for x in np.random.sample(5000 if b else 20000)\n",
    "                      for e in np.random.sample(1)\n",
    "                      for v in [x ** 3 + (e - 0.5) / 10 if b else x + (e - 0.8) * 0.7]\n",
    "                      if 0 <= v < 1),\n",
    "                     columns=list('abcef'))\n",
    "df_sd.info()"
   ]
  },
  {
   "cell_type": "code",
   "execution_count": null,
   "metadata": {},
   "outputs": [],
   "source": [
    "df_sd.head()"
   ]
  },
  {
   "cell_type": "markdown",
   "metadata": {},
   "source": [
    "To get an impression of possible relationships between the values in these columns,\n",
    "we create a **scatter matrix**,\n",
    "consisting of a **scatter plot** for _each pair_ of the numeric columns\n",
    "(`a`, `b`, `e`).\n",
    "On the diagonal of this matrix, we show a **density plot** of the corresponding column.\n",
    "\n",
    "This is accomplished by calling **`pd.plotting.scatter_matrix()`**,\n",
    "supplying as arguments the appropriate columns of the data frame,\n",
    "and the keyword argument **`diagonal='...'`**."
   ]
  },
  {
   "cell_type": "code",
   "execution_count": null,
   "metadata": {},
   "outputs": [],
   "source": [
    "# scatter matrix for pairs of colums 'a', 'b', and 'e'\n",
    "pd.plotting.scatter_matrix(df_sd[['a', 'b', 'e']], diagonal='density', figsize=(10, 10))\n",
    "plt.suptitle('Scatter matrix of the `a`, `b` and `e` columns', size=16, weight='bold')\n",
    "plt.tight_layout();     # this makes the subplots fit nicer in the figure"
   ]
  },
  {
   "cell_type": "markdown",
   "metadata": {},
   "source": [
    "> **Note:** Each scatter plot appears twice. \n",
    "\n",
    "The columns `'a'` and `'b'` appear to be *positively correlated*:\n",
    "higher values of `'a'` correspond to higher values of `'b'`.\n",
    "\n",
    "There are also peculiar patterns in the other two correlations.\n",
    "\n",
    "However, because there are so many values in the plots,\n",
    "details may have been obscured.\n",
    "For example, there is a _lack of contrast_."
   ]
  },
  {
   "cell_type": "markdown",
   "metadata": {},
   "source": [
    "### Transparency and Point Size\n",
    "\n",
    "There are two parameters that we can play with to improve the contrast:\n",
    "\n",
    "* the **transparency** of the dots (also knowns as the **alpha setting**), and\n",
    "* the **size** of the dots.\n",
    "\n",
    "The **alpha setting** is a value between\n",
    "\n",
    "* 0 (fully *transparent*) and\n",
    "* 1 (fully *opaque*).\n",
    "\n",
    "When dots are plotted on top of each other in an area,\n",
    "their opaqueness accumulates: more dots means more ink.\n",
    "\n",
    "We illustrate this with the scatter plot for `a` and `b`,\n",
    "using two different alpha settings by supplying **`alpha=`** as an extra argument:"
   ]
  },
  {
   "cell_type": "code",
   "execution_count": null,
   "metadata": {},
   "outputs": [],
   "source": [
    "# Effect of alpha (transparency: 0 = transparent; 1 = opaque)\n",
    "fig, ax = plt.subplots(ncols=2, sharey=True, figsize=(11, 5))\n",
    "df_sd.plot(kind='scatter', x='a', y='b', color='blue', alpha=1, title='`b` versus `a` with alpha = 1', ax=ax[0])             # too high\n",
    "df_sd.plot(kind='scatter', x='a', y='b', color='blue', alpha=0.005, title='`b` versus `a` with alpha = 0.005', ax=ax[1]);    # a bit low"
   ]
  },
  {
   "cell_type": "markdown",
   "metadata": {},
   "source": [
    "### Exercise 2.h\n",
    "\n",
    "Create a square scatter plot for columns `a` and `b`,\n",
    "using `alpha=0.05`, which should give a better result.\n",
    "\n",
    "> **Hint:** Do not use `plt.subplots()` if it is not necessary."
   ]
  },
  {
   "cell_type": "code",
   "execution_count": null,
   "metadata": {},
   "outputs": [],
   "source": [
    "#// BEGIN_TODO [VIS_2h] Scatter plot for a and b with alpha 0.05 (1 point)\n",
    "\n",
    "# ===== =====> Replace this line by your code. <===== ===== #\n",
    "\n",
    "#// END_TODO [VIS_2h]"
   ]
  },
  {
   "cell_type": "markdown",
   "metadata": {},
   "source": [
    "A similar effect is obtained by **reducing the dot size**,\n",
    "which can be accomplished by keyword argument **`s=...`**:"
   ]
  },
  {
   "cell_type": "code",
   "execution_count": null,
   "metadata": {},
   "outputs": [],
   "source": [
    "# Effect of size (s=)\n",
    "fig, ax = plt.subplots(ncols=2, sharey=True, figsize=(11, 5))\n",
    "df_sd.plot(kind='scatter', x='a', y='b', color='blue', s=10, title='`b` versus `a` with s = 10', ax=ax[0])          # too high\n",
    "df_sd.plot(kind='scatter', x='a', y='b', color='blue', s=0.01, title='`b` versus `a` with s = 0.01', ax=ax[1]);     # a bit low"
   ]
  },
  {
   "cell_type": "markdown",
   "metadata": {},
   "source": [
    "### Exercise 2.i\n",
    "\n",
    "Create the same scatter plot as the one above, but with a dot size of 0.2, which should give a better result:"
   ]
  },
  {
   "cell_type": "code",
   "execution_count": null,
   "metadata": {},
   "outputs": [],
   "source": [
    "#// BEGIN_TODO [VIS_2i] Scatter plot for a and b with dot size 0.2 (1 point)\n",
    "\n",
    "# ===== =====> Replace this line by your code. <===== ===== #\n",
    "\n",
    "#// END_TODO [VIS_2i]"
   ]
  },
  {
   "cell_type": "markdown",
   "metadata": {},
   "source": [
    "Varying the transparancy and point size both reveal another relationship between columns `'a'` and `'b'`;\n",
    "one that is _not linear_."
   ]
  },
  {
   "cell_type": "markdown",
   "metadata": {},
   "source": [
    "### Modulating Dot Color or Size\n",
    "\n",
    "Another thing we can do in scatter plots is to **modulate** a dot parameter,\n",
    "such as **color** or **size**, _based on another column_.\n",
    "\n",
    "Here is a scatter plot for columns `'a'` and `'b'`,\n",
    "where _color_ is modulated by column `'e'`,\n",
    "by supplying the argument **`c='e'`**:"
   ]
  },
  {
   "cell_type": "code",
   "execution_count": null,
   "metadata": {},
   "outputs": [],
   "source": [
    "# Modulate color (c=) by value in column 'e'\n",
    "df_sd.plot(kind='scatter', x='a', y='b', c='e', title='`b` versus `a` modulated by `e`', figsize=(6,5));"
   ]
  },
  {
   "cell_type": "markdown",
   "metadata": {},
   "source": [
    "Sometimes it may be useful to change the color palette for modulating the color, which can be done with the **`colormap=...`** argument (you can find possible colormap values [here](https://matplotlib.org/stable/tutorials/colors/colormaps.html))."
   ]
  },
  {
   "cell_type": "code",
   "execution_count": null,
   "metadata": {},
   "outputs": [],
   "source": [
    "# Modulate color (c=) by value in column 'e' usin the 'coolwarm' colormap\n",
    "df_sd.plot(kind='scatter', x='a', y='b', c='e', colormap='viridis', title='`b` versus `a` modulated by `e`', figsize=(6, 5));"
   ]
  },
  {
   "cell_type": "markdown",
   "metadata": {},
   "source": [
    "We clearly see that our data set actually consists of two different kinds of data,\n",
    "each with its own correlations.\n",
    "Here, we can conveniently separate them on the basis of column `'c'` (not to be confused with the keyword argument `c=...`)."
   ]
  },
  {
   "cell_type": "markdown",
   "metadata": {},
   "source": [
    "## Plotting Grouped Data\n",
    "\n",
    "The result of a `groupby()` call is a **grouping object** that holds the _data groups_.\n",
    "This grouping object can also be plotted.\n",
    "\n",
    "Below we create a scatter plot for `'a'` against `'b'` grouped by column `'c'`. \n",
    "Since the group labels are not shown in the plots by default, we manually add plot titles via the axes object."
   ]
  },
  {
   "cell_type": "code",
   "execution_count": null,
   "metadata": {},
   "outputs": [],
   "source": [
    "ax = df_sd.groupby('c').plot(kind='scatter', x='a', y='b', color='blue', figsize=(6, 5))\n",
    "ax.iloc[0].set_title('`b` versus `a` when `c` is False', size=16)\n",
    "ax.iloc[1].set_title('`b` versus `a` when `c` is True' , size=16);"
   ]
  },
  {
   "cell_type": "markdown",
   "metadata": {},
   "source": [
    "We can also superimpose the different groups in a single plot using different colors. Continuing with the example of plotting  `'a'` against `'b'` grouped by column `'c'`, first we define the mapping from the values in the `'c'` column to a color name."
   ]
  },
  {
   "cell_type": "code",
   "execution_count": null,
   "metadata": {},
   "outputs": [],
   "source": [
    "colors = {True: 'k', False: 'r'}"
   ]
  },
  {
   "cell_type": "markdown",
   "metadata": {},
   "source": [
    "Then we create an axis, where we will superimpose the plots for all the groups, and iterate over all groups using a for loop, plotting each group with its corresponding color in `colors`."
   ]
  },
  {
   "cell_type": "code",
   "execution_count": null,
   "metadata": {},
   "outputs": [],
   "source": [
    "fig, ax = plt.subplots(figsize=(6, 5))\n",
    "for name, group in df_sd.groupby('c'):\n",
    "    group.plot(kind='scatter', x='a', y='b', color=colors[name], ax=ax)\n",
    "plt.legend(['c = True', 'c = False'])\n",
    "plt.title('`b` versus `a`');"
   ]
  },
  {
   "cell_type": "markdown",
   "metadata": {},
   "source": [
    "### Exercise <span class=\"exercise\">2.j</span>\n",
    "\n",
    "Create two scatter plots of `'b'` against `'a'` grouped by column `'f'` and color modulated by column `'e'` using the `'magma'` colormap, setting the figure size equal to 6x5 inches:"
   ]
  },
  {
   "cell_type": "code",
   "execution_count": null,
   "metadata": {},
   "outputs": [],
   "source": [
    "#// BEGIN_TODO [VIS_2j] Scatter plots for a and b grouped by f, color modulated by e (1 point)\n",
    "\n",
    "# ===== =====> Replace this line by your code. <===== ===== #\n",
    "\n",
    "#// END_TODO [VIS_2j]"
   ]
  },
  {
   "cell_type": "markdown",
   "metadata": {},
   "source": [
    "___\n",
    "\n",
    "# 3. Seaborn and Pandas\n",
    "\n",
    "_Seaborn_ is a visualization library for statistical plots. While you can usually achieve similar visualizations using Pandas' `plot()` method, you may find Seaborn a convenient alternative."
   ]
  },
  {
   "cell_type": "markdown",
   "metadata": {},
   "source": [
    "## Learning Objectives of This Section\n",
    "\n",
    "After this section, you should\n",
    "\n",
    "* understand the basics of plotting with Pandas and Seaborn\n",
    "    for **communication with others**;\n",
    "* know how to combine a **histogram** with a **density plot**, and;\n",
    "* know how to create a **box plot**, **strip plot**, **violin plot**, and **heat map**."
   ]
  },
  {
   "cell_type": "markdown",
   "metadata": {},
   "source": [
    "## The Iris Data Set\n",
    "\n",
    "We will illustrate the Seaborn library with the popular Iris dataset, which was published in 1936 by Edgar Anderson in a study of the morphologic variation of Iris flowers of three related species (*Iris setosa*, *Iris versicolor*, and *Iris virginica*).\n",
    "\n",
    "The following code cell reads this data set as a `DataFrame` into the variable `iris`\n",
    "and displays its head."
   ]
  },
  {
   "cell_type": "code",
   "execution_count": null,
   "metadata": {},
   "outputs": [],
   "source": [
    "iris = pd.read_csv('datasets/iris.csv')\n",
    "iris.head()"
   ]
  },
  {
   "cell_type": "markdown",
   "metadata": {},
   "source": [
    "Below we obtain some information about this `DataFrame`."
   ]
  },
  {
   "cell_type": "code",
   "execution_count": null,
   "metadata": {},
   "outputs": [],
   "source": [
    "iris.info()"
   ]
  },
  {
   "cell_type": "markdown",
   "metadata": {},
   "source": [
    "We can compute the count, mean and standard deviation statistics per species using the `.agg()` function (which stands for *aggregate*):"
   ]
  },
  {
   "cell_type": "code",
   "execution_count": null,
   "metadata": {},
   "outputs": [],
   "source": [
    "iris.groupby('species').agg(['count', 'mean', 'std'])"
   ]
  },
  {
   "cell_type": "markdown",
   "metadata": {},
   "source": [
    "We split the data set according to the species into three parts (using appropriate *Boolean masks*, as introduced in the EDA lesson), and assign them to three separate variables."
   ]
  },
  {
   "cell_type": "code",
   "execution_count": null,
   "metadata": {},
   "outputs": [],
   "source": [
    "iris_setosa = iris[iris['species'] == 'Iris-setosa']\n",
    "iris_versicolor = iris[iris['species'] == 'Iris-versicolor']\n",
    "iris_virginica = iris[iris['species'] == 'Iris-virginica']\n",
    "\n",
    "# Make indices run from 0 through 49\n",
    "iris_versicolor = iris_versicolor.reset_index(drop=True)\n",
    "iris_virginica = iris_virginica.reset_index(drop=True)\n",
    "\n",
    "iris_virginica"
   ]
  },
  {
   "cell_type": "markdown",
   "metadata": {},
   "source": [
    "## Histogram and Density Plot\n",
    "\n",
    "In Seaborn, a combined **histogram** with a **density plot** can be drawn using **`sns.histplot()`**, if we set the `kde` keyword parameter to `True`. See [Seaborn Histplot](https://seaborn.pydata.org/generated/seaborn.histplot.html) for more information.\n",
    "\n",
    "Here is a histogram with 20 bins combined with a density plot for all the `'petal length'` values in the Iris data set."
   ]
  },
  {
   "cell_type": "code",
   "execution_count": null,
   "metadata": {},
   "outputs": [],
   "source": [
    "ax = sns.histplot(iris[['petal length']], kde=True, bins=20)\n",
    "ax.set_title('Histogram of the Iris petal length');"
   ]
  },
  {
   "cell_type": "markdown",
   "metadata": {},
   "source": [
    "You can plot histograms and density plots separately by setting `kde=False` in `sns.histplot`, and using `sns.kdeplot` for the density plot.\n",
    "\n",
    "Here are separate histogram and density plots for all the `'petal length'` values in the Iris data set."
   ]
  },
  {
   "cell_type": "code",
   "execution_count": null,
   "metadata": {},
   "outputs": [],
   "source": [
    "fig, ax = plt.subplots(nrows=1, ncols=2)\n",
    "sns.histplot(iris[['petal length']], bins=20, kde=False, ax=ax[0])\n",
    "sns.kdeplot(iris[['petal length']], ax=ax[1])\n",
    "plt.suptitle('Histogram and density plot for all petal lengths', weight='bold');"
   ]
  },
  {
   "cell_type": "markdown",
   "metadata": {},
   "source": [
    "Observe that the distribution is bimodal.\n",
    "\n",
    "Additionally, a density plot has a **bandwidth** parameter, which has a significant influence on the resulting estimate. This parameter thus defines the smoothness of the plot. An unsuitable bandwidth can result in *undersmoothing* (when using a small bandwidth) or *oversmoothing* (when using a large bandwidth). \n",
    "\n",
    "You can use the `bw_adjust` parameter together with the `kdeplot` function and assign a decimal number to adjust the bandwidth. In the cell below, we generate three density plots with three different bandwidths (0.1, 0.5, and 2). Analyze how this parameter impacts the output of the estimate."
   ]
  },
  {
   "cell_type": "code",
   "execution_count": null,
   "metadata": {},
   "outputs": [],
   "source": [
    "fig, ax = plt.subplots(nrows=1, ncols=3, sharey='row')\n",
    "\n",
    "sns.kdeplot(iris[['petal length']], ax=ax[0], bw_adjust=0.1)\n",
    "sns.kdeplot(iris[['petal length']], ax=ax[1], bw_adjust=0.5)\n",
    "sns.kdeplot(iris[['petal length']], ax=ax[2], bw_adjust=2)\n",
    "\n",
    "ax[0].set_xlabel('bandwidth = 0.1')\n",
    "ax[1].set_xlabel('bandwidth = 0.5')\n",
    "ax[2].set_xlabel('bandwidth = 2')\n",
    "\n",
    "plt.suptitle('Influence of the bandwidth in density plots for all petal lengths', weight='bold');"
   ]
  },
  {
   "cell_type": "markdown",
   "metadata": {},
   "source": [
    "### Exercise 3.a\n",
    "\n",
    "Create a combined histogram and density plot for the petal length of the three Iris species. Place them in a $3\\times 1$ grid (i.e. 3 rows and 1 column) of $5\\times7$ inch, _share_ the $x$- **and** $y$-axis, title each plot appropriately, and label the $x$-axis of the bottom plot with `'petal length'`.\n",
    "\n",
    "> **Hint:** Note how `iris[['petal length']]` in the examples above is a `DataFrame` object. Supplying a `Series` object `iris['petal length']` would automatically add the label `'petal length'` to the $x$ axis."
   ]
  },
  {
   "cell_type": "code",
   "execution_count": null,
   "metadata": {},
   "outputs": [],
   "source": [
    "#// BEGIN_TODO [VIS_3a] Combined plots in 3x1 grid (1 point)\n",
    "\n",
    "# ===== =====> Replace this line by your code. <===== ===== #\n",
    "\n",
    "#// END_TODO [VIS_3a]\n"
   ]
  },
  {
   "cell_type": "markdown",
   "metadata": {},
   "source": [
    "Can you now explain the bimodal distribution of the petal length of the entire Iris data set we saw above?"
   ]
  },
  {
   "cell_type": "markdown",
   "metadata": {},
   "source": [
    "## Strip Plot\n",
    "\n",
    "A **strip plot** plots data values as dots on a linear strip. In Seaborn, a strip plot can be drawn using **`sns.stripplot()`**. When there are many points, it is useful to play with the numeric argument **`jitter=...`** to set how much the points are spread randomly in the horizontal direction. See [Seaborn Strip Plot](https://seaborn.pydata.org/generated/seaborn.stripplot.html) for details.\n",
    "\n",
    "A strip plot for the `'petal length'` in each Iris species:"
   ]
  },
  {
   "cell_type": "code",
   "execution_count": null,
   "metadata": {},
   "outputs": [],
   "source": [
    "sns.stripplot(data=iris, x='species', y='petal length')\n",
    "plt.title('Strip plot of the petal lengths', weight='bold', size=16);"
   ]
  },
  {
   "cell_type": "markdown",
   "metadata": {},
   "source": [
    "We can also remove the jitter by setting **`jitter=0`**:"
   ]
  },
  {
   "cell_type": "code",
   "execution_count": null,
   "metadata": {},
   "outputs": [],
   "source": [
    "sns.stripplot(data=iris, x='species', y='petal length', jitter=0)\n",
    "plt.title('Strip plot of the petal lengths', weight='bold', size=16);"
   ]
  },
  {
   "cell_type": "markdown",
   "metadata": {},
   "source": [
    "> **Notes:**\n",
    ">\n",
    "> * The **`x=...`** argument indicates by what column(s) to _group_ the data.  \n",
    ">     Omit it if no grouping is desired.\n",
    "> * The **`y=...`** argument indicates which column(s) to plot.  \n",
    ">     Omit it to plot all columns of a data frame.\n",
    "> * The default orientation is _vertical_ when there are _multiple_ strips, and\n",
    ">     _horizontal_ when there is a _single_ strip.  \n",
    ">     Orientation can be forced with **`orient='v'`** or **`orient='h'`**.\n",
    "> * **`jitter=...`** can be used to set a numeric value manually."
   ]
  },
  {
   "cell_type": "markdown",
   "metadata": {},
   "source": [
    "### Exercise 3.b\n",
    "\n",
    "Create a strip plot for column `'sepal width'` in each Iris species:"
   ]
  },
  {
   "cell_type": "code",
   "execution_count": null,
   "metadata": {},
   "outputs": [],
   "source": [
    "#// BEGIN_TODO [VIS_3b] Stripplot for the sepal width in each species (1 point)\n",
    "\n",
    "# ===== =====> Replace this line by your code. <===== ===== #\n",
    "\n",
    "#// END_TODO [VIS_3b]"
   ]
  },
  {
   "cell_type": "markdown",
   "metadata": {},
   "source": [
    "## Box Plot\n",
    "\n",
    "In Seaborn, a **box plot** can be drawn using **`sns.boxplot()`**. See [Seaborn Box Plot](https://seaborn.pydata.org/generated/seaborn.boxplot.html) for details.\n",
    "\n",
    "A box plot for column `'petal length'` in each Iris species:"
   ]
  },
  {
   "cell_type": "code",
   "execution_count": null,
   "metadata": {},
   "outputs": [],
   "source": [
    "sns.boxplot(data=iris, x='species', y='petal length')\n",
    "plt.title('Box plot of the petal lengths', weight='bold', size=16);"
   ]
  },
  {
   "cell_type": "markdown",
   "metadata": {},
   "source": [
    "## Violin Plot\n",
    "\n",
    "A **violin plot** is a refinement of a box plot. In Seaborn, it can be drawn using **`sns.violinplot()`** and consists of a density plot that is reflected on the base axis, the area in-between being colored in, and with a small box plot inside. See [Seaborn Violin Plot](https://seaborn.pydata.org/generated/seaborn.violinplot.html) for details.\n",
    "\n",
    "A violin plot for column `'petal length'` in each Iris species:"
   ]
  },
  {
   "cell_type": "code",
   "execution_count": null,
   "metadata": {},
   "outputs": [],
   "source": [
    "sns.violinplot(data=iris, x='species', y='petal length')\n",
    "plt.title('Violin plot of the petal lengths', weight='bold', size=16);"
   ]
  },
  {
   "cell_type": "markdown",
   "metadata": {},
   "source": [
    "### Exercise 3.c\n",
    "\n",
    "Create a violin plot for `'sepal width'` in each Iris species."
   ]
  },
  {
   "cell_type": "code",
   "execution_count": null,
   "metadata": {},
   "outputs": [],
   "source": [
    "#// BEGIN_TODO [VIS_3c] Violin plot for the sepal width in each species (1 point)\n",
    "\n",
    "# ===== =====> Replace this line by your code. <===== ===== #\n",
    "\n",
    "#// END_TODO [VIS_3c]"
   ]
  },
  {
   "cell_type": "markdown",
   "metadata": {},
   "source": [
    "## Heat Map\n",
    "\n",
    "A **heat map** plots a (2D) matrix of values as a 2D grid of colored squares.\n",
    "In Seaborn, this is done using `sns.heatmap()`. See [Seaborn Heat Map](https://seaborn.pydata.org/generated/seaborn.heatmap.html) for details.\n",
    "\n",
    "For example, let us generate a data frame representing a 3x4 matrix with values sampled from a uniform distribution in the range [0, 1)."
   ]
  },
  {
   "cell_type": "code",
   "execution_count": null,
   "metadata": {},
   "outputs": [],
   "source": [
    "df_random_matrix = pd.DataFrame(np.random.rand(3, 4))\n",
    "df_random_matrix"
   ]
  },
  {
   "cell_type": "markdown",
   "metadata": {},
   "source": [
    "We can visualize this matrix with a heat map."
   ]
  },
  {
   "cell_type": "code",
   "execution_count": null,
   "metadata": {},
   "outputs": [],
   "source": [
    "sns.heatmap(data=df_random_matrix)\n",
    "plt.title('Heat map of the random matrix', weight='bold', size=16);"
   ]
  },
  {
   "cell_type": "markdown",
   "metadata": {},
   "source": [
    "We will now use a heat map to explore the distribution of the petal width and petal length of the Iris flowers. We will need to transform the data first.\n",
    "\n",
    "We first divide the _petal width_ and _petal length_ features each into five equal levels `'tiny', 'small', 'medium', 'big', 'large'`, and count the number of Iris flowers that fall into that level:\n",
    "\n",
    "> **Note:** the Pandas `cut()` method bins the values of a list or Series into discrete intervals. See [Pandas cut](https://pandas.pydata.org/pandas-docs/stable/reference/api/pandas.cut.html) for details, or use Shift Tab-Tab to view the details."
   ]
  },
  {
   "cell_type": "code",
   "execution_count": null,
   "metadata": {},
   "outputs": [],
   "source": [
    "levels = ['tiny', 'small', 'medium', 'big', 'large']\n",
    "iris['petal width level'] = pd.cut(iris['petal width'], len(levels), labels=levels)\n",
    "iris['petal length level'] = pd.cut(iris['petal length'], len(levels), labels=levels)\n",
    "iris.head()"
   ]
  },
  {
   "cell_type": "markdown",
   "metadata": {},
   "source": [
    "We transform the data frame into a matrix shape, where\n",
    "\n",
    "* matrix _rows_ represent the *petal width level*,\n",
    "* matrix _columns_ represent the *petal length level*, and\n",
    "* matrix _entries_ represent the _number of flowers_ that fall into the particular _petal width level_ and *petal length level*.\n",
    "\n",
    "We first group the data by `'petal width level'` and `'petal length level'`, counting the number of instances for each width and length level combination."
   ]
  },
  {
   "cell_type": "code",
   "execution_count": null,
   "metadata": {},
   "outputs": [],
   "source": [
    "# EV: Added observed=False to avoid a deprecation warning\n",
    "iris_count = iris.groupby(['petal width level', 'petal length level'], observed=False)['species'].count().rename('count')\n",
    "iris_count.head(10)"
   ]
  },
  {
   "cell_type": "markdown",
   "metadata": {},
   "source": [
    "Note that the Series we created here has a `MultiIndex` with `'petal width level'` as the outer level and `'petal length level'` as the inner level. We can reshape this Series into a data frame with a row per width level and a column per length level by applying the **`unstack()`** method."
   ]
  },
  {
   "cell_type": "code",
   "execution_count": null,
   "metadata": {},
   "outputs": [],
   "source": [
    "iris_matrix = iris_count.unstack()\n",
    "iris_matrix"
   ]
  },
  {
   "cell_type": "markdown",
   "metadata": {},
   "source": [
    "Next, we create the heat map, where we use the keyword parameter `square=True` to make all bins squares."
   ]
  },
  {
   "cell_type": "code",
   "execution_count": null,
   "metadata": {},
   "outputs": [],
   "source": [
    "sns.heatmap(data=iris_matrix, square=True)\n",
    "plt.title('Heat map of petal width against petal length', weight='bold', size=16);"
   ]
  },
  {
   "cell_type": "markdown",
   "metadata": {
    "tags": []
   },
   "source": [
    "# 4. Exercise: Comparison of Laboratories\n",
    "\n",
    "Now let us put your data visualization skills to the test by analyzing some data about the fat content of eggs.\n",
    "\n",
    "\n",
    "In the earlier exercises you were closely guided. In the following exercises we will put your knowledge to the test.\n",
    "\n",
    "Note that these exercises may seem more difficult as you will need to work more indepedently. When you struggle with an exercise then go back to the corresponding earlier section and make sure you really understand the introduced concepts. Do not hesitate to experiment with your own code!\n",
    "\n",
    "\n",
    "Canned dried egg powder is sold as a supplement for fresh eggs.\n",
    "Each can contains **two different types of eggs**.\n",
    "As part of a quality control program,\n",
    "the fat content of eggs is being investigated.\n",
    "The investigation is divided into **6 different laboratories**.\n",
    "Every laboratory receives the same number of eggs of both types.\n",
    "Testing the fat content of eggs is destructive, so each egg can only be investigated once.\n",
    "Since measuring the fat content is time-consuming,\n",
    "the measurements are divided among **2 laboratory assistants** within each laboratory.\n",
    "The fat content is measured as a percentage.\n",
    "\n",
    "A quality manager applies a certain statistical procedure and\n",
    "claims that there is a significant difference between the fat contents measured by the laboratories.\n",
    "This report causes confusion\n",
    "since the 6 laboratories all have a good reputation and\n",
    "there is no reason to expect a large variation in the fat content of the eggs.\n",
    "\n",
    "Your task is to find an explanation by making appropriate plots of the data set `eggs.csv`.\n",
    "The following questions will guide you in finding this explanation."
   ]
  },
  {
   "cell_type": "markdown",
   "metadata": {},
   "source": [
    "### Exercise 4.a\n",
    "\n",
    "Write Python code to load the data set from the data file `eggs.csv` into a Pandas `DataFrame` named `df_eggs`, and show its overview (including the column names and their types).\n",
    "\n",
    "> **Hint:** The `eggs.csv` file resides in the `datasets` folder."
   ]
  },
  {
   "cell_type": "code",
   "execution_count": null,
   "metadata": {},
   "outputs": [],
   "source": [
    "#// BEGIN_TODO [VIS_4a] Load data set and show information (1 point)\n",
    "\n",
    "# ===== =====> Replace this line by your code. <===== ===== #\n",
    "\n",
    "#// END_TODO [VIS_4a]"
   ]
  },
  {
   "cell_type": "markdown",
   "metadata": {},
   "source": [
    "If things went well,\n",
    "you will see for each of the four columns\n",
    "\n",
    "* its label,\n",
    "* the number of (non-null) values, and\n",
    "* its type.\n",
    "\n",
    "The `'Sample'` column refers to the egg type, which is either `'G'` or `'H'`."
   ]
  },
  {
   "cell_type": "markdown",
   "metadata": {},
   "source": [
    "### Exercise 4.b\n",
    "\n",
    "Create two plots, below each other, one containing a combined histogram and density plot for the fat content of sample `'G'`, and the other for the fat content of sample `'H'`. To not be mislead by the figure, make sure that the limits on the $y$-axis are the same for both plots and that the $x$-axis is shared. The label on the $x$-axis should read `'Fat content (%)'`.\n",
    "\n",
    "> **Hint:** Similar to the Matplotlib and Pandas `.plot()` function, Seaborn plotting functions also accept the `ax=...` argument."
   ]
  },
  {
   "cell_type": "code",
   "execution_count": null,
   "metadata": {},
   "outputs": [],
   "source": [
    "#// BEGIN_TODO [VIS_4b] Combined histogram and density plot for fat content (2 points)\n",
    "\n",
    "# ===== =====> Replace this line by your code. <===== ===== #\n",
    "\n",
    "#// END_TODO [VIS_4b]"
   ]
  },
  {
   "cell_type": "markdown",
   "metadata": {},
   "source": [
    "### Exercise 4.c\n",
    "\n",
    "Create violin plots for the fat content for each of the 6 laboratories\n",
    "in a single figure.\n",
    "Add the title `\"Violin Plots of Fat Content per Lab\"` with a size of 18 points in bold. Add an appropriate label on the $y$-axis.\n",
    "\n",
    "> **Hint:** Use `sns.violinplot()` and the _axes_ object."
   ]
  },
  {
   "cell_type": "code",
   "execution_count": null,
   "metadata": {},
   "outputs": [],
   "source": [
    "#// BEGIN_TODO [VIS_4c] Violin plot per laboratory (1 point)\n",
    "\n",
    "# ===== =====> Replace this line by your code. <===== ===== #\n",
    "\n",
    "#// END_TODO [VIS_4c]"
   ]
  },
  {
   "cell_type": "markdown",
   "metadata": {},
   "source": [
    "### Exercise 4.d\n",
    "\n",
    "Create strip plots for the fat content for the two different egg types (samples). Limit the $y$-axis between 0 and 100%. Keep in mind the best practices for plotting."
   ]
  },
  {
   "cell_type": "code",
   "execution_count": null,
   "metadata": {},
   "outputs": [],
   "source": [
    "#// BEGIN_TODO [VIS_4d] Jittered strip plot per sample (1 point)\n",
    "\n",
    "# ===== =====> Replace this line by your code. <===== ===== #\n",
    "\n",
    "#// END_TODO [VIS_4d]"
   ]
  },
  {
   "cell_type": "markdown",
   "metadata": {},
   "source": [
    "### Exercise 4.e\n",
    "\n",
    "In this exercise we will investigate different representations of the same data. Create a box plot, a violin plot, a strip plot without jitter and a strip plot with jitter for the fat content (without differentiating by lab or sample),\n",
    "placing them side by side (in juxtaposition) in a figure of $12\\times 5$ inch.\n",
    "\n",
    "Include as global title `'Distribution of Fat Content in Eggs'`,\n",
    "and title each subplot by its plot type.\n",
    "Share the $y$-axis for all plots and label it `'Fat content (%)'`.\n",
    "Create one strip plot without jitter and one with appropriate jitter (experiment with parameter values!).\n",
    "\n",
    "> **Hints:**\n",
    "> * First, set up the four side-by-side subplots.\n",
    "> * Use the returned axes object to create the box, violin, and strip plots.\n",
    "> * Use `fig.suptitle()` to set the global title.\n",
    "> * Optionally, supply the argument `orient='v'` to the plotting functions to ensure a vertical orientation.\n",
    "> * Optionally, suppress the automatic label on some of the $y$-axes of the three rightmost box plots by doing\n",
    "    ```python\n",
    "    ax[0, i].yaxis.set_visible(False)\n",
    "    ```\n"
   ]
  },
  {
   "cell_type": "code",
   "execution_count": null,
   "metadata": {},
   "outputs": [],
   "source": [
    "#// BEGIN_TODO [VIS_4e] Combined box plot, violin plot, strip plot with and strip plot without jitter (2 points)\n",
    "\n",
    "# ===== =====> Replace this line by your code. <===== ===== #\n",
    "\n",
    "#// END_TODO [VIS_4e]"
   ]
  },
  {
   "cell_type": "markdown",
   "metadata": {},
   "source": [
    "### Exercise 4.f\n",
    "\n",
    "Group the egg data by technician and lab (in this order),\n",
    "select the column for the fat content,\n",
    "and assign the result to the variable `grouped_fat_eggs`.\n",
    "\n",
    "Next, use `grouped_fat_eggs` to create a Series with the _median_ fat content per technician and lab,\n",
    "and assign it to the variable `median_fat_eggs`. It should have a 2-level `MultiIndex` with levels Technician and Lab. \n",
    "\n",
    "> **Hint:** You can group by several columns by providing a list as argument to `.groupby()`, e.g. `df.groupby(['A', 'B'])` will group data frame `df` by columns `'A'` and `'B'` (in that order)."
   ]
  },
  {
   "cell_type": "code",
   "execution_count": null,
   "metadata": {},
   "outputs": [],
   "source": [
    "#// BEGIN_TODO [VIS_4f] Median fat content per technician and lab (2 points)\n",
    "\n",
    "# ===== =====> Replace this line by your code. <===== ===== #\n",
    "\n",
    "#// END_TODO [VIS_4f]\n",
    "\n",
    "median_fat_eggs.to_frame()  # show Series as DataFrame (looks nicer)"
   ]
  },
  {
   "cell_type": "markdown",
   "metadata": {},
   "source": [
    "The result has a **2-level `MultiIndex`** (also called _hierarchical_ index) and\n",
    "one column with the fat content medians.  \n",
    "This can be turned into a data frame with a row per technician\n",
    "and a column per lab by applying **`unstack()`**."
   ]
  },
  {
   "cell_type": "code",
   "execution_count": null,
   "metadata": {},
   "outputs": [],
   "source": [
    "df_median_fat_eggs = median_fat_eggs.unstack()\n",
    "df_median_fat_eggs"
   ]
  },
  {
   "cell_type": "markdown",
   "metadata": {},
   "source": [
    "### Exercise 4.g\n",
    "\n",
    "Determine the **standard deviation**\n",
    "of the fat content per technician and lab\n",
    "as data frame _with a row per technician and a column per lab_ ,\n",
    "and assign it to the variable `df_std_fat_eggs`.\n",
    "\n",
    "> **Hint:** Adapt the code that was used to create `df_median_fat_eggs`."
   ]
  },
  {
   "cell_type": "code",
   "execution_count": null,
   "metadata": {},
   "outputs": [],
   "source": [
    "#// BEGIN_TODO [VIS_4g] Standard deviation of fat content per technician and lab (2 points)\n",
    "\n",
    "# ===== =====> Replace this line by your code. <===== ===== #\n",
    "\n",
    "#// END_TODO [VIS_4g]\n",
    "\n",
    "df_std_fat_eggs"
   ]
  },
  {
   "cell_type": "markdown",
   "metadata": {},
   "source": [
    "### Exercise 4.h\n",
    "\n",
    "Create one figure containing two heat maps below each other:\n",
    "\n",
    "- one for median fat content per technician and lab, and\n",
    "- one for the standard deviation of the fat content per technician and lab.\n",
    "\n",
    "Include as titles for the subplots `'Median fat content'` and `'Standard deviation of the fat content'`, respectively. Make sure that the whole figure is 10 inches wide and 10 inches tall."
   ]
  },
  {
   "cell_type": "code",
   "execution_count": null,
   "metadata": {},
   "outputs": [],
   "source": [
    "#// BEGIN_TODO [VIS_4h] Heat maps for median and std fat content, per technician and lab (2 points)\n",
    "\n",
    "# ===== =====> Replace this line by your code. <===== ===== #\n",
    "\n",
    "#// END_TODO [VIS_4h]"
   ]
  },
  {
   "cell_type": "markdown",
   "metadata": {},
   "source": [
    "Do these heat maps convey the same information as the previous visualizations?  \n",
    "How do they \"feel\" as a means of communication?"
   ]
  },
  {
   "cell_type": "markdown",
   "metadata": {},
   "source": [
    "### Exercise 4.i\n",
    "\n",
    "Was the quality manager right? Is there an indication that a significant difference exists between the fat contents measured by the laboratories?\n",
    "\n",
    "Assign to the variable `suspicious_labs` a list of laboratories (using Roman numerals, e.g. `['IV']`) that you consider suspicious. If you find no suspicious labs, then assign an empty list `[]`."
   ]
  },
  {
   "cell_type": "code",
   "execution_count": null,
   "metadata": {},
   "outputs": [],
   "source": [
    "#// BEGIN_TODO [VIS_4i] Interpret the visualizations (2 points)\n",
    "\n",
    "# ===== =====> Replace this line by your code. <===== ===== #\n",
    "\n",
    "#// END_TODO [VIS_4i]"
   ]
  },
  {
   "cell_type": "markdown",
   "metadata": {},
   "source": [
    "### Exercise 4.j\n",
    "\n",
    "Save the preceding plot to a PDF file named `heatmap_egg_fat_content.pdf`.  \n",
    "\n",
    "> **Hint:** Use the variable `fig` from the preceding exercise: `fig.savefig()`."
   ]
  },
  {
   "cell_type": "code",
   "execution_count": null,
   "metadata": {},
   "outputs": [],
   "source": [
    "#// BEGIN_TODO [VIS_4j] Save plot to file (1 point)\n",
    "\n",
    "# ===== =====> Replace this line by your code. <===== ===== #\n",
    "\n",
    "#// END_TODO [VIS_4j]"
   ]
  },
  {
   "cell_type": "markdown",
   "metadata": {},
   "source": [
    "# Feedback\n",
    "\n",
    "Please fill in this questionaire to help us improve this course for the next year. Your feedback will be anonymized and will not affect your grade in any way!"
   ]
  },
  {
   "cell_type": "markdown",
   "metadata": {},
   "source": [
    "### How many hours did you spend on these Exercises?\n",
    "\n",
    "Assign a number to `feedback_time`."
   ]
  },
  {
   "cell_type": "code",
   "execution_count": null,
   "metadata": {},
   "outputs": [],
   "source": [
    "#// BEGIN_FEEDBACK [Feedback_1] (0 point)\n",
    "\n",
    "#// END_FEEDBACK [Feedback_1] (0 point)\n",
    "\n",
    "import numbers\n",
    "assert isinstance(feedback_time, numbers.Number), \"Please assign a number to feedback_time\"\n",
    "feedback_time"
   ]
  },
  {
   "cell_type": "markdown",
   "metadata": {},
   "source": [
    "### How difficult did you find these Exercises?\n",
    "\n",
    "Assign an integer to `feedback_difficulty`, on a scale 0 - 10, with 0 being very easy, 5 being just right, and 10 being very difficult."
   ]
  },
  {
   "cell_type": "code",
   "execution_count": null,
   "metadata": {},
   "outputs": [],
   "source": [
    "#// BEGIN_FEEDBACK [Feedback_2] (0 point)\n",
    "\n",
    "#// END_FEEDBACK [Feedback_2] (0 point)\n",
    "\n",
    "import numbers\n",
    "assert isinstance(feedback_difficulty, numbers.Number), \"Please assign a number to feedback_difficulty\"\n",
    "feedback_difficulty"
   ]
  },
  {
   "cell_type": "markdown",
   "metadata": {},
   "source": [
    "### (Optional) What did you like?\n",
    "\n",
    "Assign a string to `feedback_like`."
   ]
  },
  {
   "cell_type": "code",
   "execution_count": null,
   "metadata": {},
   "outputs": [],
   "source": [
    "#// BEGIN_FEEDBACK [Feedback_3] (0 point)\n",
    "\n",
    "#// END_FEEDBACK [Feedback_3] (0 point)"
   ]
  },
  {
   "cell_type": "markdown",
   "metadata": {},
   "source": [
    "### (Optional) What can be improved?\n",
    "\n",
    "Assign a string to `feedback_improve`. Please be specific, so that we can act on your feedback. For example, mention the specific exercises and what was unclear."
   ]
  },
  {
   "cell_type": "code",
   "execution_count": null,
   "metadata": {},
   "outputs": [],
   "source": [
    "#// BEGIN_FEEDBACK [Feedback_4] (0 point)\n",
    "\n",
    "#// END_FEEDBACK [Feedback_4] (0 point)"
   ]
  },
  {
   "cell_type": "markdown",
   "metadata": {},
   "source": [
    "\n",
    "\n",
    "\n",
    "## How to Submit Your Work\n",
    "\n",
    "1. **Before submitting**, you must run your notebook by doing **Kernel > Restart & Run All**.  \n",
    "   Make sure that your notebook runs without errors **in linear order**.\n",
    "1. Remember to rename the notebook, replacing `...-template.ipynb` with `...-yourIDnr.ipynb`, where `yourIDnr` is your TU/e identification number.\n",
    "1. Submit the executed notebook with your work\n",
    "   for the appropriate assignment in **Canvas**.\n",
    "1. In the **Momotor** tab in Canvas,\n",
    "  you can select that assignment again to find some feedback on your submitted work.\n",
    "  If there are any problems reported by _Momotor_,\n",
    "  then you need to fix those,\n",
    "  and **resubmit the fixed notebook**.\n",
    "\n",
    "In case of a high workload on our server\n",
    "(because many students submit close to the deadline),\n",
    "it may take longer to receive the feedback.\n",
    "\n",
    "\n"
   ]
  },
  {
   "cell_type": "markdown",
   "metadata": {},
   "source": [
    "---"
   ]
  },
  {
   "cell_type": "code",
   "execution_count": null,
   "metadata": {},
   "outputs": [],
   "source": [
    "# List all defined names\n",
    "%whos"
   ]
  },
  {
   "cell_type": "markdown",
   "metadata": {},
   "source": [
    "---\n",
    "\n",
    "# (End of Notebook) <span class=\"tocSkip\"></span>\n",
    "\n",
    "&copy; 2017-2023 - **TU/e** - Eindhoven University of Technology"
   ]
  }
 ],
 "metadata": {
  "hide_input": false,
  "kernelspec": {
   "display_name": "Python 3",
   "language": "python",
   "name": "python3"
  },
  "language_info": {
   "codemirror_mode": {
    "name": "ipython",
    "version": 3
   },
   "file_extension": ".py",
   "mimetype": "text/x-python",
   "name": "python",
   "nbconvert_exporter": "python",
   "pygments_lexer": "ipython3",
   "version": "3.11.7"
  },
  "toc": {
   "base_numbering": 1,
   "nav_menu": {
    "height": "174px",
    "width": "252px"
   },
   "number_sections": false,
   "sideBar": true,
   "skip_h1_title": false,
   "title_cell": "Table of Contents",
   "title_sidebar": "Contents",
   "toc_cell": true,
   "toc_position": {
    "height": "684px",
    "left": "0px",
    "right": "989px",
    "top": "107px",
    "width": "230px"
   },
   "toc_section_display": "block",
   "toc_window_display": true
  }
 },
 "nbformat": 4,
 "nbformat_minor": 4
}
