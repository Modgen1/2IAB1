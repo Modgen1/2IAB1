{
 "cells": [
  {
   "cell_type": "markdown",
   "metadata": {},
   "source": [
    "# Programming Lesson and Exercises - DAS\n",
    "\n",
    "The goal of these programming lesson and exercises is to teach you how to filter and aggregate time series data."
   ]
  },
  {
   "cell_type": "markdown",
   "metadata": {},
   "source": [
    "\n",
    "This notebook has the following structure:\n",
    "\n",
    "- The first part introduces the concepts for this week. The theory is interleaved with small exercises, which have the goal of letting you practice the concepts that were just intruduced.\n",
    "- At the end there are one or more larger exercises, which have the goal to test what you have learned earlier. These will be more difficult and will require more independent work than the exercises in the first part.\n",
    "\n",
    "All exercises can be solved with the concepts that were introduced earlier. Since there are often more than one correct way to solve a programming problem, we try to accept various correct anwers. However, many of the automatic tests in Momotor (see _How to submit your work_ below) assume that your answers are constructed using the concepts introduced in these notebooks. If you look for answers on the Internet (e.g. if you import other libraries) you run the risk that your answers will be rejected.\n",
    "\n",
    "Some of the small exercises can be solved by copy-pasting code from the examples. However, it is up to you to try to solve the exercises yourself, which will help you learn, before copy-pasting the answers. The ease of looking up answers is meant to provide guidance when you get stuck, especially for those of you who are new to programming.\n",
    "\n",
    "For your convenience, in the `support` directory you will find a summary of the Python methods introduced in this notebook.\n"
   ]
  },
  {
   "cell_type": "markdown",
   "metadata": {},
   "source": [
    "\n",
    "# Introduction to This Template Notebook\n",
    "\n",
    "* This is a **personal** notebook.\n",
    "* Make sure you work in a **copy** of `...-template.ipynb`,\n",
    "**renamed** to `...-yourIDnr.ipynb`,\n",
    "where `yourIDnr` is your TU/e identification number.\n",
    "\n",
    "<div class=\"alert alert-danger\" role=\"danger\">\n",
    "<h3>Integrity</h3>\n",
    "<ul>\n",
    "    <li>In this course you must act according to the rules of the TU/e code of scientific conduct.</li>\n",
    "    <li>All the exercises and the graded assignments are to be executed individually and independently.</li>\n",
    "    <li>You must not copy from the Internet, your friends, books... If you represent other people's work as your own, then that constitutes fraud and will be reported to the Examination Committee.</li>\n",
    "    <li>Making your work available to others (complicity) also constitutes fraud.</li>\n",
    "</ul>\n",
    "</div>\n",
    "\n",
    "You are expected to work with Python code in this notebook.\n",
    "\n",
    "The locations where you should write your solutions can be recognized by\n",
    "**marker lines**,\n",
    "which look like this:\n",
    "\n",
    ">`#//`\n",
    ">    `BEGIN_TODO [Label]` `Description` `(n points)`\n",
    ">\n",
    ">`#//`\n",
    ">    `END_TODO [Label]`\n",
    "\n",
    "<div class=\"alert alert-warning\" role=\"alert\">Do NOT modify or delete these marker lines.  Keep them as they are.<br/>\n",
    "NEVER write code <i>outside</i> the marked blocks.\n",
    "Such code cannot be evaluated.\n",
    "</div>\n",
    "\n",
    "Proceed in this notebook as follows:\n",
    "* **Read** the text.\n",
    "* **Fill in** your solutions between `BEGIN_TODO` and `END_TODO` marker lines.\n",
    "* **Run** _all_ code cells (also the ones _without_ your code),\n",
    "    _in linear order_ from the first code cell.\n",
    "\n",
    "**Personalize your notebook**:\n",
    "1. Copy the following three lines of code:\n",
    "\n",
    "  ```python\n",
    "  AUTHOR_NAME = 'Your Full Name'\n",
    "  AUTHOR_ID_NR = '1234567'\n",
    "  AUTHOR_DATE = 'YYYY-MM-DD'\n",
    "  ```\n",
    "1. Paste them between the marker lines in the next code cell.\n",
    "1. Fill in your _full name_, _identification number_, and the current _date_ (i.e. when you first modified this notebook, e.g. '2023-11-01') as strings between the `Author` markers.\n",
    "1. Run the code cell by putting the cursor there and typing **Control-Enter**.\n"
   ]
  },
  {
   "cell_type": "code",
   "metadata": {
    "ExecuteTime": {
     "end_time": "2024-12-12T13:24:04.507691Z",
     "start_time": "2024-12-12T13:24:04.504853Z"
    }
   },
   "source": [
    "from matplotlib.pyplot import xlabel\n",
    "\n",
    "#// BEGIN_TODO [Author] Name, Id.nr., Date, as strings (1 point)\n",
    "\n",
    "AUTHOR_NAME = 'Ivan Sergeevich Mishin'\n",
    "AUTHOR_ID_NR = '2076209'\n",
    "AUTHOR_DATE = '2024-11-30'\n",
    "\n",
    "#// END_TODO [Author]"
   ],
   "outputs": [],
   "execution_count": 73
  },
  {
   "cell_type": "markdown",
   "metadata": {},
   "source": [
    "## Table of Contents\n",
    "\n",
    "- [Learning Objectives](#Learning-Objectives)\n",
    "- [Loading the Libraries](#Loading-the-Libraries)\n",
    "- [1. Filtering](#1.-Filtering)\n",
    "    - [Gaussian Filter](#Gaussian-Filter)\n",
    "    - [Rolling Windows](#Rolling-Windows)\n",
    "    - [Filtering Mouse Trajectories](#Filtering-Mouse-Trajectories)\n",
    "        - [Exercise 1.a](#Exercise-1.a)\n",
    "        - [Exercise 1.b](#Exercise-1.b)\n",
    "        - [Exercise 1.c](#Exercise-1.c)\n",
    "        - [Exercise 1.d](#Exercise-1.d)\n",
    "        - [Exercise 1.e](#Exercise-1.e)\n",
    "    - [Computing Changes and Finding Maxima](#Computing-Changes-and-Finding-Maxima)\n",
    "        - [Exercise 1.f](#Exercise-1.f)\n",
    "        - [Exercise 1.g](#Exercise-1.g)\n",
    "        - [Exercise 1.h](#Exercise-1.h)\n",
    "    - [Approximating Derivatives and Finding Trends](#Approximating-Derivatives-and-Finding-Trends)\n",
    "        - [Exercise 1.i](#Exercise-1.i)\n",
    "- [2. Data Aggregation](#2.-Data-Aggregation)\n",
    "    - [Data Preparation](#Data-Preparation)\n",
    "        - [Data: Mouse Trajectories](#Data:-Mouse-Trajectories)\n",
    "        - [Multi-level Indexing](#Multi-level-Indexing)\n",
    "        - [Data: User Properties](#Data:-User-Properties)\n",
    "        - [Conversion to Readable Table Entries](#Conversion-to-Readable-Table-Entries)\n",
    "        - [Data: User Trial Properties](#Data:-User-Trial-Properties)\n",
    "            - [Exercise 2.a](#Exercise-2.a)\n",
    "            - [Exercise 2.b](#Exercise-2.b)\n",
    "    - [Data Aggregation](#Data-Aggregation)\n",
    "        - [Computing Several Aggregated Quantities at Once](#Computing-Several-Aggregated-Quantities-at-Once)\n",
    "        - [Joining Two Dataframes](#Joining-Two-Dataframes)\n",
    "            - [Exercise 2.c](#Exercise-2.c)\n",
    "            - [Exercise 2.d](#Exercise-2.d)\n",
    "- [3. Empirical Cumulative Distribution Functions](#3.-Empirical-Cumulative-Distribution-Functions)\n",
    "    - [Exercises: Compare ECDFs for Mouse a Trackpad Trajectories](#Exercises:-Compare-ECDFs-for-Mouse-a-Trackpad-Trajectories)\n",
    "        - [Exercise 3.a](#Exercise-3.a)\n",
    "        - [Exercise 3.b](#Exercise-3.b)\n",
    "        - [Exercise 3.c](#Exercise-3.c)\n",
    "        - [Exercise 3.d](#Exercise-3.d)\n",
    "        - [Exercise 3.e](#Exercise-3.e)\n",
    "        - [Exercise 3.f](#Exercise-3.f)\n",
    "        - [Exercise 3.g](#Exercise-3.g)\n",
    "- [4. Exercise: Find Ballistic Motion](#4.-Exercise:-Find-Ballistic-Motion)\n",
    "    - [Exercise 4.a](#Exercise-4.a)\n",
    "    - [Exercise 4.b](#Exercise-4.b)\n",
    "    - [Exercise 4.c](#Exercise-4.c)\n",
    "    - [Exercise 4.d](#Exercise-4.d)\n",
    "    - [Exercise 4.e](#Exercise-4.e)"
   ]
  },
  {
   "cell_type": "markdown",
   "metadata": {},
   "source": [
    "## Learning Objectives\n",
    "\n",
    "In these lessons, we are going to extract features from the mouse trajectories recorded in the mouse experiment. We will first extract features by filtering signals, where a signal represents a quantity that changes with respect to another variable (e.g. time). For this, we will need to learn:\n",
    "\n",
    "* how to filter signals in _Python_\n",
    "* how to work with some new _Pandas_ functions\n",
    "\n",
    "Next, we will extract more features and perform aggregation over the recorded data and will learn\n",
    "\n",
    "* how to use the _Pandas_ **`agg()`** for convenient aggregation and computation of simple features\n",
    "* how to combine/join two _Pandas_ tables with the function **`join()`**\n",
    "* how to compute, use and plot empirical cumulative distribution functions"
   ]
  },
  {
   "cell_type": "markdown",
   "metadata": {},
   "source": [
    "## Loading the Libraries\n",
    "\n",
    "To show examples, we load some Data Analytics libraries first:"
   ]
  },
  {
   "cell_type": "code",
   "metadata": {
    "ExecuteTime": {
     "end_time": "2024-12-12T13:24:04.526004Z",
     "start_time": "2024-12-12T13:24:04.521697Z"
    }
   },
   "source": [
    "import numpy as np\n",
    "import pandas as pd\n",
    "import matplotlib.pyplot as plt\n",
    "import seaborn as sns                       # also improves the look of plots\n",
    "\n",
    "# Configure plots\n",
    "sns.set()                                   # set Seaborn defaults\n",
    "plt.rcParams['figure.figsize'] = 10, 5      # default hor./vert. size of plots, in inches\n",
    "\n",
    "from statsmodels.distributions.empirical_distribution import ECDF\n",
    "from scipy.interpolate import interp1d\n",
    "from scipy.ndimage import gaussian_filter1d\n",
    "from scipy import stats\n",
    "\n",
    "from mouse_experiment import MouseExperiment\n",
    "\n",
    "# Reveal a hint only while holding the mouse down\n",
    "from IPython.display import HTML\n",
    "HTML(\"<style>.h,.c{display:none}.t{color:#296eaa}.t:active+.h{display:block;}</style>\")"
   ],
   "outputs": [
    {
     "data": {
      "text/plain": [
       "<IPython.core.display.HTML object>"
      ],
      "text/html": [
       "<style>.h,.c{display:none}.t{color:#296eaa}.t:active+.h{display:block;}</style>"
      ]
     },
     "execution_count": 74,
     "metadata": {},
     "output_type": "execute_result"
    }
   ],
   "execution_count": 74
  },
  {
   "cell_type": "markdown",
   "metadata": {},
   "source": [
    "## 1. Filtering"
   ]
  },
  {
   "cell_type": "markdown",
   "metadata": {},
   "source": [
    "To illustrate how to filter signals, we will apply filtering to the (time series in the) _stocks_ data set that we have also seen in the visualization exercises. In the exercises at the end of the notebook, you will apply what you have learned to recorded mouse trajectories.\n",
    "\n",
    "This time, the _stocks_ data set contains the _daily_ (rather than the monthly) closing value of the <a href=\"https://en.wikipedia.org/wiki/Nasdaq_Composite\">NASDAQ Composite</a> index. We first load the data into a data frame `df_nasdaq`."
   ]
  },
  {
   "cell_type": "code",
   "metadata": {
    "ExecuteTime": {
     "end_time": "2024-12-12T13:24:04.545174Z",
     "start_time": "2024-12-12T13:24:04.535010Z"
    }
   },
   "source": [
    "df_nasdaq = pd.read_csv('datasets/NASDAQ.csv', parse_dates=[0])\n",
    "df_nasdaq = df_nasdaq.set_index('Date')[['Close']].rename(columns=str.lower)\n",
    "df_nasdaq.head()"
   ],
   "outputs": [
    {
     "data": {
      "text/plain": [
       "                  close\n",
       "Date                   \n",
       "2007-01-03  2423.159912\n",
       "2007-01-04  2453.429932\n",
       "2007-01-05  2434.250000\n",
       "2007-01-08  2438.199951\n",
       "2007-01-09  2443.830078"
      ],
      "text/html": [
       "<div>\n",
       "<style scoped>\n",
       "    .dataframe tbody tr th:only-of-type {\n",
       "        vertical-align: middle;\n",
       "    }\n",
       "\n",
       "    .dataframe tbody tr th {\n",
       "        vertical-align: top;\n",
       "    }\n",
       "\n",
       "    .dataframe thead th {\n",
       "        text-align: right;\n",
       "    }\n",
       "</style>\n",
       "<table border=\"1\" class=\"dataframe\">\n",
       "  <thead>\n",
       "    <tr style=\"text-align: right;\">\n",
       "      <th></th>\n",
       "      <th>close</th>\n",
       "    </tr>\n",
       "    <tr>\n",
       "      <th>Date</th>\n",
       "      <th></th>\n",
       "    </tr>\n",
       "  </thead>\n",
       "  <tbody>\n",
       "    <tr>\n",
       "      <th>2007-01-03</th>\n",
       "      <td>2423.159912</td>\n",
       "    </tr>\n",
       "    <tr>\n",
       "      <th>2007-01-04</th>\n",
       "      <td>2453.429932</td>\n",
       "    </tr>\n",
       "    <tr>\n",
       "      <th>2007-01-05</th>\n",
       "      <td>2434.250000</td>\n",
       "    </tr>\n",
       "    <tr>\n",
       "      <th>2007-01-08</th>\n",
       "      <td>2438.199951</td>\n",
       "    </tr>\n",
       "    <tr>\n",
       "      <th>2007-01-09</th>\n",
       "      <td>2443.830078</td>\n",
       "    </tr>\n",
       "  </tbody>\n",
       "</table>\n",
       "</div>"
      ]
     },
     "execution_count": 75,
     "metadata": {},
     "output_type": "execute_result"
    }
   ],
   "execution_count": 75
  },
  {
   "cell_type": "markdown",
   "metadata": {},
   "source": [
    "Let us plot the daily closing index."
   ]
  },
  {
   "cell_type": "code",
   "metadata": {
    "ExecuteTime": {
     "end_time": "2024-12-12T13:24:04.703233Z",
     "start_time": "2024-12-12T13:24:04.562181Z"
    }
   },
   "source": [
    "ax = df_nasdaq['close'].plot()\n",
    "ax.set_ylabel('Index')\n",
    "ax.set_title('Closing NASDAQ Composite index', size=16, weight='bold');"
   ],
   "outputs": [
    {
     "data": {
      "text/plain": [
       "<Figure size 1000x500 with 1 Axes>"
      ],
      "image/png": "[encoded data removed]"
     },
     "metadata": {},
     "output_type": "display_data"
    }
   ],
   "execution_count": 76
  },
  {
   "cell_type": "markdown",
   "metadata": {},
   "source": [
    "### Gaussian Filter\n",
    "\n",
    "As you can see, the closing price is very volatile. If we want to approximate the graph by a curve that is more smooth, we can do so by _filtering_. In this case, we apply a Gaussian filter. We store the filtered data in a column called `'close_filtered'`. The Gaussian filter needs a parameter `sigma`, the standard deviation, which gives an indication of the width of the applied filter. We choose a `sigma` value of `30` (days). \n",
    "\n",
    "(There are different ways to deal with the boundaries. We choose the mode `'nearest'`, since for the later exercises it is the most natural choice.)"
   ]
  },
  {
   "cell_type": "code",
   "metadata": {
    "ExecuteTime": {
     "end_time": "2024-12-12T13:24:04.713153Z",
     "start_time": "2024-12-12T13:24:04.708239Z"
    }
   },
   "source": [
    "df_nasdaq['close_filtered'] = gaussian_filter1d(df_nasdaq['close'], sigma=30, mode='nearest')\n",
    "df_nasdaq.head()"
   ],
   "outputs": [
    {
     "data": {
      "text/plain": [
       "                  close  close_filtered\n",
       "Date                                   \n",
       "2007-01-03  2423.159912     2438.967378\n",
       "2007-01-04  2453.429932     2439.354293\n",
       "2007-01-05  2434.250000     2439.740575\n",
       "2007-01-08  2438.199951     2440.126123\n",
       "2007-01-09  2443.830078     2440.511070"
      ],
      "text/html": [
       "<div>\n",
       "<style scoped>\n",
       "    .dataframe tbody tr th:only-of-type {\n",
       "        vertical-align: middle;\n",
       "    }\n",
       "\n",
       "    .dataframe tbody tr th {\n",
       "        vertical-align: top;\n",
       "    }\n",
       "\n",
       "    .dataframe thead th {\n",
       "        text-align: right;\n",
       "    }\n",
       "</style>\n",
       "<table border=\"1\" class=\"dataframe\">\n",
       "  <thead>\n",
       "    <tr style=\"text-align: right;\">\n",
       "      <th></th>\n",
       "      <th>close</th>\n",
       "      <th>close_filtered</th>\n",
       "    </tr>\n",
       "    <tr>\n",
       "      <th>Date</th>\n",
       "      <th></th>\n",
       "      <th></th>\n",
       "    </tr>\n",
       "  </thead>\n",
       "  <tbody>\n",
       "    <tr>\n",
       "      <th>2007-01-03</th>\n",
       "      <td>2423.159912</td>\n",
       "      <td>2438.967378</td>\n",
       "    </tr>\n",
       "    <tr>\n",
       "      <th>2007-01-04</th>\n",
       "      <td>2453.429932</td>\n",
       "      <td>2439.354293</td>\n",
       "    </tr>\n",
       "    <tr>\n",
       "      <th>2007-01-05</th>\n",
       "      <td>2434.250000</td>\n",
       "      <td>2439.740575</td>\n",
       "    </tr>\n",
       "    <tr>\n",
       "      <th>2007-01-08</th>\n",
       "      <td>2438.199951</td>\n",
       "      <td>2440.126123</td>\n",
       "    </tr>\n",
       "    <tr>\n",
       "      <th>2007-01-09</th>\n",
       "      <td>2443.830078</td>\n",
       "      <td>2440.511070</td>\n",
       "    </tr>\n",
       "  </tbody>\n",
       "</table>\n",
       "</div>"
      ]
     },
     "execution_count": 77,
     "metadata": {},
     "output_type": "execute_result"
    }
   ],
   "execution_count": 77
  },
  {
   "cell_type": "markdown",
   "metadata": {},
   "source": [
    "Let us plot the filtered data together with the original prices in one figure."
   ]
  },
  {
   "cell_type": "code",
   "metadata": {
    "ExecuteTime": {
     "end_time": "2024-12-12T13:24:04.899127Z",
     "start_time": "2024-12-12T13:24:04.733157Z"
    }
   },
   "source": [
    "ax_nasdaq = df_nasdaq['close'].plot(color='orange')\n",
    "df_nasdaq['close_filtered'].plot(color='black', ax=ax_nasdaq)\n",
    "ax_nasdaq.set_title('Closing NASDAQ Composite index', size=16, weight='bold')\n",
    "ax_nasdaq.set_ylabel('Index')\n",
    "ax_nasdaq.legend(['original', 'filtered']);"
   ],
   "outputs": [
    {
     "data": {
      "text/plain": [
       "<Figure size 1000x500 with 1 Axes>"
      ],
      "image/png": "[encoded data removed]"
     },
     "metadata": {},
     "output_type": "display_data"
    }
   ],
   "execution_count": 78
  },
  {
   "cell_type": "markdown",
   "metadata": {},
   "source": [
    "### Rolling Windows\n",
    "\n",
    "There are many more ways to filter signals, each with their own advantages and disadvantages. A **median filter** is not so sensitive to outliers as a Gaussian filter.\n",
    "\n",
    "The Pandas function **`rolling()`** lets you compute rolling window statistics, such as a rolling median. To use it, you need to specify the size of the window. In the following example, we used a window size of `5` (days). You can then apply a statistic to the result: in our median filter example, we calculate the `median`. "
   ]
  },
  {
   "cell_type": "code",
   "metadata": {
    "ExecuteTime": {
     "end_time": "2024-12-12T13:24:04.909602Z",
     "start_time": "2024-12-12T13:24:04.904131Z"
    }
   },
   "source": [
    "df_nasdaq['median_filtered'] = df_nasdaq['close'].rolling(5).median()\n",
    "df_nasdaq.head(10)"
   ],
   "outputs": [
    {
     "data": {
      "text/plain": [
       "                  close  close_filtered  median_filtered\n",
       "Date                                                    \n",
       "2007-01-03  2423.159912     2438.967378              NaN\n",
       "2007-01-04  2453.429932     2439.354293              NaN\n",
       "2007-01-05  2434.250000     2439.740575              NaN\n",
       "2007-01-08  2438.199951     2440.126123              NaN\n",
       "2007-01-09  2443.830078     2440.511070      2438.199951\n",
       "2007-01-10  2459.330078     2440.895398      2443.830078\n",
       "2007-01-11  2484.850098     2441.279204      2443.830078\n",
       "2007-01-12  2502.820068     2441.662644      2459.330078\n",
       "2007-01-16  2497.780029     2442.045911      2484.850098\n",
       "2007-01-17  2479.419922     2442.429137      2484.850098"
      ],
      "text/html": [
       "<div>\n",
       "<style scoped>\n",
       "    .dataframe tbody tr th:only-of-type {\n",
       "        vertical-align: middle;\n",
       "    }\n",
       "\n",
       "    .dataframe tbody tr th {\n",
       "        vertical-align: top;\n",
       "    }\n",
       "\n",
       "    .dataframe thead th {\n",
       "        text-align: right;\n",
       "    }\n",
       "</style>\n",
       "<table border=\"1\" class=\"dataframe\">\n",
       "  <thead>\n",
       "    <tr style=\"text-align: right;\">\n",
       "      <th></th>\n",
       "      <th>close</th>\n",
       "      <th>close_filtered</th>\n",
       "      <th>median_filtered</th>\n",
       "    </tr>\n",
       "    <tr>\n",
       "      <th>Date</th>\n",
       "      <th></th>\n",
       "      <th></th>\n",
       "      <th></th>\n",
       "    </tr>\n",
       "  </thead>\n",
       "  <tbody>\n",
       "    <tr>\n",
       "      <th>2007-01-03</th>\n",
       "      <td>2423.159912</td>\n",
       "      <td>2438.967378</td>\n",
       "      <td>NaN</td>\n",
       "    </tr>\n",
       "    <tr>\n",
       "      <th>2007-01-04</th>\n",
       "      <td>2453.429932</td>\n",
       "      <td>2439.354293</td>\n",
       "      <td>NaN</td>\n",
       "    </tr>\n",
       "    <tr>\n",
       "      <th>2007-01-05</th>\n",
       "      <td>2434.250000</td>\n",
       "      <td>2439.740575</td>\n",
       "      <td>NaN</td>\n",
       "    </tr>\n",
       "    <tr>\n",
       "      <th>2007-01-08</th>\n",
       "      <td>2438.199951</td>\n",
       "      <td>2440.126123</td>\n",
       "      <td>NaN</td>\n",
       "    </tr>\n",
       "    <tr>\n",
       "      <th>2007-01-09</th>\n",
       "      <td>2443.830078</td>\n",
       "      <td>2440.511070</td>\n",
       "      <td>2438.199951</td>\n",
       "    </tr>\n",
       "    <tr>\n",
       "      <th>2007-01-10</th>\n",
       "      <td>2459.330078</td>\n",
       "      <td>2440.895398</td>\n",
       "      <td>2443.830078</td>\n",
       "    </tr>\n",
       "    <tr>\n",
       "      <th>2007-01-11</th>\n",
       "      <td>2484.850098</td>\n",
       "      <td>2441.279204</td>\n",
       "      <td>2443.830078</td>\n",
       "    </tr>\n",
       "    <tr>\n",
       "      <th>2007-01-12</th>\n",
       "      <td>2502.820068</td>\n",
       "      <td>2441.662644</td>\n",
       "      <td>2459.330078</td>\n",
       "    </tr>\n",
       "    <tr>\n",
       "      <th>2007-01-16</th>\n",
       "      <td>2497.780029</td>\n",
       "      <td>2442.045911</td>\n",
       "      <td>2484.850098</td>\n",
       "    </tr>\n",
       "    <tr>\n",
       "      <th>2007-01-17</th>\n",
       "      <td>2479.419922</td>\n",
       "      <td>2442.429137</td>\n",
       "      <td>2484.850098</td>\n",
       "    </tr>\n",
       "  </tbody>\n",
       "</table>\n",
       "</div>"
      ]
     },
     "execution_count": 79,
     "metadata": {},
     "output_type": "execute_result"
    }
   ],
   "execution_count": 79
  },
  {
   "cell_type": "markdown",
   "metadata": {},
   "source": [
    "In every row of the resulting series, you get the median of the values in the window. If you have a window size of `k`, the result in the `n`th row is the median of the rows `n-k+1`, `n-k+2`, ... up to `n`. Note that for rows `0` to `k-1` the median of the window cannot be computed, resulting in `NaN` values in those rows."
   ]
  },
  {
   "cell_type": "markdown",
   "metadata": {},
   "source": [
    "Let us plot the filtered data together with the original prices in one figure."
   ]
  },
  {
   "cell_type": "code",
   "metadata": {
    "ExecuteTime": {
     "end_time": "2024-12-12T13:24:05.082837Z",
     "start_time": "2024-12-12T13:24:04.923609Z"
    }
   },
   "source": [
    "ax_nasdaq = df_nasdaq['close'].plot(color='orange')\n",
    "df_nasdaq['median_filtered'].plot(color='black', lw=0.8, ax=ax_nasdaq)\n",
    "ax_nasdaq.set_title('Closing NASDAQ Composite index', size=16, weight='bold')\n",
    "ax_nasdaq.set_ylabel('Index')\n",
    "ax_nasdaq.legend(['original', 'median filtered']);"
   ],
   "outputs": [
    {
     "data": {
      "text/plain": [
       "<Figure size 1000x500 with 1 Axes>"
      ],
      "image/png": "[encoded data removed]"
     },
     "metadata": {},
     "output_type": "display_data"
    }
   ],
   "execution_count": 80
  },
  {
   "cell_type": "markdown",
   "metadata": {},
   "source": [
    "### Filtering Mouse Trajectories\n",
    "\n",
    "Now we will apply the filtering to recorded mouse trajectories stored in the file `'datasets/paths.csv'`."
   ]
  },
  {
   "cell_type": "code",
   "metadata": {
    "ExecuteTime": {
     "end_time": "2024-12-12T13:24:05.088792Z",
     "start_time": "2024-12-12T13:24:05.084841Z"
    }
   },
   "source": [
    "df_paths = pd.read_csv('datasets/paths.csv') # [EV], parse_dates=[0])"
   ],
   "outputs": [],
   "execution_count": 81
  },
  {
   "cell_type": "markdown",
   "metadata": {},
   "source": [
    "<div class=\"alert-info alert\" role=\"alert-info\">\n",
    "\n",
    "You may also like to experiment on trajectories that you record yourself. The following code will launch the mouse experiment and store the recorded trajectories in the data frame <code>df_paths</code>:\n",
    "\n",
    "<code>\n",
    "experiment     = MouseExperiment()\n",
    "_, df_paths, _ = experiment.start()\n",
    "</code>\n",
    "\n",
    "When you execute this code (by uncommenting it in the code cell below) the application will start in a new window. Note, that it may be minimized, in which case you may need to find it in the task bar. Next, draw some trajectories. When you close the window, the trajectories will be stored in the data frame <code>df_paths</code>.\n",
    "\n",
    "<b>Before you submit your notebook, make sure that your code also works on the trajectories provided in <tt>datasets/paths.csv</tt>.</b>\n",
    "\n",
    "> <b>Hint:</b> It is easier to understand the exercises if you <b>make a drawing, such as a triangle or a square</b>, instead of drawing straight lines.\n",
    "\n",
    "</div>"
   ]
  },
  {
   "cell_type": "code",
   "metadata": {
    "ExecuteTime": {
     "end_time": "2024-12-12T13:24:05.103976Z",
     "start_time": "2024-12-12T13:24:05.101797Z"
    }
   },
   "source": [
    "# experiment = MouseExperiment()\n",
    "# _, df_paths, _ = experiment.start()"
   ],
   "outputs": [],
   "execution_count": 82
  },
  {
   "cell_type": "markdown",
   "metadata": {},
   "source": [
    "We print below the first five rows of `df_paths`."
   ]
  },
  {
   "cell_type": "code",
   "metadata": {
    "ExecuteTime": {
     "end_time": "2024-12-12T13:24:05.112706Z",
     "start_time": "2024-12-12T13:24:05.107980Z"
    }
   },
   "source": [
    "df_paths.head()"
   ],
   "outputs": [
    {
     "data": {
      "text/plain": [
       "   trial         t  x  y\n",
       "0     15  0.000000  1 -2\n",
       "1     15  1.436910  0 -2\n",
       "2     15  2.017927 -1 -2\n",
       "3     15  2.370731 -2 -2\n",
       "4     15  2.411801 -3 -2"
      ],
      "text/html": [
       "<div>\n",
       "<style scoped>\n",
       "    .dataframe tbody tr th:only-of-type {\n",
       "        vertical-align: middle;\n",
       "    }\n",
       "\n",
       "    .dataframe tbody tr th {\n",
       "        vertical-align: top;\n",
       "    }\n",
       "\n",
       "    .dataframe thead th {\n",
       "        text-align: right;\n",
       "    }\n",
       "</style>\n",
       "<table border=\"1\" class=\"dataframe\">\n",
       "  <thead>\n",
       "    <tr style=\"text-align: right;\">\n",
       "      <th></th>\n",
       "      <th>trial</th>\n",
       "      <th>t</th>\n",
       "      <th>x</th>\n",
       "      <th>y</th>\n",
       "    </tr>\n",
       "  </thead>\n",
       "  <tbody>\n",
       "    <tr>\n",
       "      <th>0</th>\n",
       "      <td>15</td>\n",
       "      <td>0.000000</td>\n",
       "      <td>1</td>\n",
       "      <td>-2</td>\n",
       "    </tr>\n",
       "    <tr>\n",
       "      <th>1</th>\n",
       "      <td>15</td>\n",
       "      <td>1.436910</td>\n",
       "      <td>0</td>\n",
       "      <td>-2</td>\n",
       "    </tr>\n",
       "    <tr>\n",
       "      <th>2</th>\n",
       "      <td>15</td>\n",
       "      <td>2.017927</td>\n",
       "      <td>-1</td>\n",
       "      <td>-2</td>\n",
       "    </tr>\n",
       "    <tr>\n",
       "      <th>3</th>\n",
       "      <td>15</td>\n",
       "      <td>2.370731</td>\n",
       "      <td>-2</td>\n",
       "      <td>-2</td>\n",
       "    </tr>\n",
       "    <tr>\n",
       "      <th>4</th>\n",
       "      <td>15</td>\n",
       "      <td>2.411801</td>\n",
       "      <td>-3</td>\n",
       "      <td>-2</td>\n",
       "    </tr>\n",
       "  </tbody>\n",
       "</table>\n",
       "</div>"
      ]
     },
     "execution_count": 83,
     "metadata": {},
     "output_type": "execute_result"
    }
   ],
   "execution_count": 83
  },
  {
   "cell_type": "markdown",
   "metadata": {},
   "source": [
    "> **Note:** We will use the term *trajectory* and *path* interchangeably.\n",
    "\n",
    "The meaning of the different columns is as follows:\n",
    "\n",
    "* The **`'trial'`** column contains a unique number per trajectory\n",
    "* The **`'t'`** column contains contains the time since the start of the trial in ms\n",
    "* The **`'x'`** column contains the $x$-coordinate on the trajectory at time `'t'` in pixels\n",
    "* The **`'y'`** column contains the $y$-coordinate on the trajectory at time `'t'` in pixels\n",
    "\n",
    "We make sure that the `'trial'` column is of integer type, which is needed for the later exercises:"
   ]
  },
  {
   "cell_type": "code",
   "metadata": {
    "ExecuteTime": {
     "end_time": "2024-12-12T13:24:05.135086Z",
     "start_time": "2024-12-12T13:24:05.131711Z"
    }
   },
   "source": [
    "df_paths['trial'] = df_paths['trial'].astype(int)"
   ],
   "outputs": [],
   "execution_count": 84
  },
  {
   "attachments": {
    "example-trajectories.png": {
     "image/png": "[encoded data removed]"
    }
   },
   "cell_type": "markdown",
   "metadata": {},
   "source": [
    "#### Exercise 1.a\n",
    "\n",
    "Plot the trajectories obtained from the experiment, i.e. those stored in `df_paths`, in one figure, with both axes ranging from -300 to 300. Recall that different trajectories have a different `'trial'` number.\n",
    "\n",
    "Here is an example of a possible result for two mouse trajectories:\n",
    "\n",
    "![example-trajectories.png](attachment:example-trajectories.png)\n",
    "\n",
    "> **Hint:** You can plot two columns labeled `'col_1'` and `'col_2'` from a data frame or a groupby object against each other by providing the arguments `x='col_1'` and `y='col_2'` to the plot function."
   ]
  },
  {
   "cell_type": "code",
   "metadata": {
    "ExecuteTime": {
     "end_time": "2024-12-12T13:24:05.274129Z",
     "start_time": "2024-12-12T13:24:05.196105Z"
    }
   },
   "source": [
    "#// BEGIN_TODO [DAS_1a] Visualize the paths (1 point)\n",
    "\n",
    "df_paths.plot(x='x', y='y', subplots=False, xlim=(-300, 300), ylim=(-300, 300), title='Trajectories', xlabel='x', ylabel='y');\n",
    "\n",
    "#// END_TODO [DAS_1a]"
   ],
   "outputs": [
    {
     "data": {
      "text/plain": [
       "<Figure size 1000x500 with 1 Axes>"
      ],
      "image/png": "[encoded data removed]"
     },
     "metadata": {},
     "output_type": "display_data"
    }
   ],
   "execution_count": 85
  },
  {
   "cell_type": "markdown",
   "metadata": {},
   "source": [
    "#### Exercise 1.b\n",
    "\n",
    "Select the data from the last recorded trajectory using a boolean mask, and store it in a data frame named `df_last_path`.\n",
    "\n",
    "> **Hint:** The `'trial'` numbers are increasing, i.e., later trajectories have larger `'trial'` numbers."
   ]
  },
  {
   "cell_type": "code",
   "metadata": {
    "ExecuteTime": {
     "end_time": "2024-12-12T13:24:05.284805Z",
     "start_time": "2024-12-12T13:24:05.279134Z"
    }
   },
   "source": [
    "#// BEGIN_TODO [DAS_1b] Select data (1 point)\n",
    "\n",
    "df_last_path = df_paths.copy()[df_paths['trial'] == df_paths['trial'].max()]\n",
    "\n",
    "#// END_TODO [DAS_1b]\n",
    "\n",
    "df_last_path.head()"
   ],
   "outputs": [
    {
     "data": {
      "text/plain": [
       "     trial         t  x  y\n",
       "885     17  0.000000  1  2\n",
       "886     17  0.771446  0  2\n",
       "887     17  0.779367 -1  3\n",
       "888     17  0.787307 -2  3\n",
       "889     17  0.795360 -3  4"
      ],
      "text/html": [
       "<div>\n",
       "<style scoped>\n",
       "    .dataframe tbody tr th:only-of-type {\n",
       "        vertical-align: middle;\n",
       "    }\n",
       "\n",
       "    .dataframe tbody tr th {\n",
       "        vertical-align: top;\n",
       "    }\n",
       "\n",
       "    .dataframe thead th {\n",
       "        text-align: right;\n",
       "    }\n",
       "</style>\n",
       "<table border=\"1\" class=\"dataframe\">\n",
       "  <thead>\n",
       "    <tr style=\"text-align: right;\">\n",
       "      <th></th>\n",
       "      <th>trial</th>\n",
       "      <th>t</th>\n",
       "      <th>x</th>\n",
       "      <th>y</th>\n",
       "    </tr>\n",
       "  </thead>\n",
       "  <tbody>\n",
       "    <tr>\n",
       "      <th>885</th>\n",
       "      <td>17</td>\n",
       "      <td>0.000000</td>\n",
       "      <td>1</td>\n",
       "      <td>2</td>\n",
       "    </tr>\n",
       "    <tr>\n",
       "      <th>886</th>\n",
       "      <td>17</td>\n",
       "      <td>0.771446</td>\n",
       "      <td>0</td>\n",
       "      <td>2</td>\n",
       "    </tr>\n",
       "    <tr>\n",
       "      <th>887</th>\n",
       "      <td>17</td>\n",
       "      <td>0.779367</td>\n",
       "      <td>-1</td>\n",
       "      <td>3</td>\n",
       "    </tr>\n",
       "    <tr>\n",
       "      <th>888</th>\n",
       "      <td>17</td>\n",
       "      <td>0.787307</td>\n",
       "      <td>-2</td>\n",
       "      <td>3</td>\n",
       "    </tr>\n",
       "    <tr>\n",
       "      <th>889</th>\n",
       "      <td>17</td>\n",
       "      <td>0.795360</td>\n",
       "      <td>-3</td>\n",
       "      <td>4</td>\n",
       "    </tr>\n",
       "  </tbody>\n",
       "</table>\n",
       "</div>"
      ]
     },
     "execution_count": 86,
     "metadata": {},
     "output_type": "execute_result"
    }
   ],
   "execution_count": 86
  },
  {
   "cell_type": "markdown",
   "metadata": {},
   "source": [
    "#### Exercise 1.c\n",
    "\n",
    "Plot the last recorded trajectory, which is now stored in the `df_last_path` data frame. Set the limits of both axes from -300 to 300."
   ]
  },
  {
   "cell_type": "code",
   "metadata": {
    "ExecuteTime": {
     "end_time": "2024-12-12T13:24:05.389172Z",
     "start_time": "2024-12-12T13:24:05.304811Z"
    }
   },
   "source": [
    "#// BEGIN_TODO [DAS_1c] Select data (1 point)\n",
    "\n",
    "df_last_path.plot(x='x', y='y', xlim=(-300, 300), ylim=(-300, 300), title='Trajectory', xlabel='x', ylabel='y');\n",
    "\n",
    "#// END_TODO [DAS_1c]"
   ],
   "outputs": [
    {
     "data": {
      "text/plain": [
       "<Figure size 1000x500 with 1 Axes>"
      ],
      "image/png": "[encoded data removed]"
     },
     "metadata": {},
     "output_type": "display_data"
    }
   ],
   "execution_count": 87
  },
  {
   "cell_type": "markdown",
   "metadata": {},
   "source": [
    "> **Hint:** After doing this exercise, go back and record some new mouse trajectories. Then, execute the code that you wrote for the previous exercises again, **without modifying it**. It should select the trajectory that you drew last."
   ]
  },
  {
   "cell_type": "markdown",
   "metadata": {},
   "source": [
    "#### Exercise 1.d\n",
    "\n",
    "Use a Gaussian filter with a standard deviation of $25$ ms, to approximate the $x$- and $y$-coordinates of the trajectory in `df_last_path`. Store the $x$- and $y$-coordinates of the filtered path in columns labeled `'filt_x'` and `'filt_y'` respectively (in `df_last_path`). Then use a Gaussian filter with standard deviation of $200$ ms, and store the filtered path in columns labeled `'filt_x_coarse'` and `'filt_y_coarse'`.\n",
    "\n",
    "Finally, plot the original and the two filtered paths in one figure, with both axes ranging from -300 to 300.\n",
    "\n",
    "> <span class=\"t\">**Hint<span class=\"c\">:**</span></span>\n",
    "<span class=\"h\">\n",
    "Consider setting the `figsize` argument of the `plot()` function to something larger (e.g. `figsize=(10, 10)`) make it easier to spot the differences between the filtering options.\n",
    "</span>"
   ]
  },
  {
   "cell_type": "code",
   "metadata": {
    "ExecuteTime": {
     "end_time": "2024-12-12T13:24:05.515321Z",
     "start_time": "2024-12-12T13:24:05.408177Z"
    }
   },
   "source": [
    "#// BEGIN_TODO [DAS_1d] Gaussian filter (1 point)\n",
    "\n",
    "filt_x = gaussian_filter1d(df_last_path['x'], sigma=25, mode='nearest')\n",
    "df_last_path['filt_x'] = filt_x\n",
    "\n",
    "filt_y = gaussian_filter1d(df_last_path['y'], sigma=25, mode='nearest')\n",
    "df_last_path['filt_y'] = filt_y\n",
    "\n",
    "filt_x_coarse = gaussian_filter1d(df_last_path['x'], sigma=200, mode='nearest')\n",
    "df_last_path['filt_x_coarse'] = filt_x_coarse\n",
    "\n",
    "filt_y_coarse = gaussian_filter1d(df_last_path['y'], sigma=200, mode='nearest')\n",
    "df_last_path['filt_y_coarse'] = filt_y_coarse\n",
    "\n",
    "ax = df_last_path.plot(x='x', y='y', xlim=(-300, 300), ylim=(-300, 300), figsize=(15, 10), title='Trajectories', xlabel='x', ylabel='y')\n",
    "df_last_path.plot(x='filt_x', y='filt_y', xlim=(-300, 300), ylim=(-300, 300), ax=ax)\n",
    "df_last_path.plot(x='filt_x_coarse', y='filt_y_coarse', xlim=(-300, 300), ylim=(-300, 300), ax=ax);\n"
   ],
   "outputs": [
    {
     "data": {
      "text/plain": [
       "<Figure size 1500x1000 with 1 Axes>"
      ],
      "image/png": "[encoded data removed]"
     },
     "metadata": {},
     "output_type": "display_data"
    }
   ],
   "execution_count": 88
  },
  {
   "cell_type": "code",
   "execution_count": null,
   "metadata": {},
   "outputs": [],
   "source": [
    "#// END_TODO [DAS_1d]"
   ]
  },
  {
   "cell_type": "markdown",
   "metadata": {},
   "source": [
    "Which filtered trajectory approximates the original curve best?"
   ]
  },
  {
   "cell_type": "markdown",
   "metadata": {},
   "source": [
    "#### Exercise 1.e\n",
    "\n",
    "Now use a median filter, with a window size of `80` to approximate the $x$- and $y$-coordinates of the trajectory in `df_last_path`. Store the $x$- and $y$-coordinates of the filtered path in columns labeled `'med_filt_x'` and `'med_filt_y'` respectively. Similarly, use a median filter with a window size of `200` and store the coordinates of the filtered path as columns `'med_filt_x_coarse'` and `'med_filt_y_coarse'`. \n",
    "\n",
    "Finally, plot the original and the two filtered paths in one figure, with both axes ranging from -300 to 300."
   ]
  },
  {
   "cell_type": "code",
   "metadata": {
    "ExecuteTime": {
     "end_time": "2024-12-12T13:29:24.270006Z",
     "start_time": "2024-12-12T13:29:24.162543Z"
    }
   },
   "source": [
    "#// BEGIN_TODO [DAS_1e] Median filter (1 point)\n",
    "\n",
    "med_filt_x = df_last_path['x'].rolling(80).median()\n",
    "df_last_path['med_filt_x'] = med_filt_x\n",
    "\n",
    "med_filt_y = df_last_path['y'].rolling(80).median()\n",
    "df_last_path['med_filt_y'] = med_filt_y\n",
    "\n",
    "med_filt_x_coarse = df_last_path['x'].rolling(200).median()\n",
    "df_last_path['med_filt_x_coarse'] = med_filt_x_coarse\n",
    "\n",
    "med_filt_y_coarse = df_last_path['y'].rolling(200).median()\n",
    "df_last_path['med_filt_y_coarse'] = med_filt_y_coarse\n",
    "\n",
    "ax = df_last_path.plot(x='x', y='y', xlim=(-300, 300), ylim=(-300, 300), figsize=(15, 10), title='Trajectories', xlabel='x', ylabel='y')\n",
    "df_last_path.plot(x='med_filt_x', y='med_filt_y', xlim=(-300, 300), ylim=(-300, 300), ax=ax)\n",
    "df_last_path.plot(x='med_filt_x_coarse', y='med_filt_y_coarse', xlim=(-300, 300), ylim=(-300, 300), ax=ax);\n",
    "\n",
    "#// END_TODO [DAS_1e]"
   ],
   "outputs": [
    {
     "data": {
      "text/plain": [
       "<Figure size 1500x1000 with 1 Axes>"
      ],
      "image/png": "[encoded data removed]"
     },
     "metadata": {},
     "output_type": "display_data"
    }
   ],
   "execution_count": 89
  },
  {
   "cell_type": "markdown",
   "metadata": {},
   "source": [
    "What differences do you see when compared to the Gaussian-filtered trajectories? You can experiment by drawing different trajectories."
   ]
  },
  {
   "cell_type": "markdown",
   "metadata": {},
   "source": [
    "### Computing Changes and Finding Maxima\n",
    "\n",
    "We will now introduce several new _Pandas_ functions. To illustrate their use, we consider the following example question:\n",
    "\n",
    "_At what day did the biggest drop in the NASDAQ Composite index occur?_\n",
    "\n",
    "We approach this as follows. First, we calculate the differences between consecutive rows in a _Series_ with the _Pandas_ function **`diff()`**. We use it to add a new column, labeled `'close_diff'`, to the data frame `df_nasdaq`."
   ]
  },
  {
   "cell_type": "code",
   "metadata": {
    "ExecuteTime": {
     "end_time": "2024-12-12T13:29:58.936705Z",
     "start_time": "2024-12-12T13:29:58.931137Z"
    }
   },
   "source": [
    "df_nasdaq['close_diff'] = df_nasdaq['close'].diff()\n",
    "df_nasdaq[['close', 'close_diff']].head()"
   ],
   "outputs": [
    {
     "data": {
      "text/plain": [
       "                  close  close_diff\n",
       "Date                               \n",
       "2007-01-03  2423.159912         NaN\n",
       "2007-01-04  2453.429932   30.270020\n",
       "2007-01-05  2434.250000  -19.179932\n",
       "2007-01-08  2438.199951    3.949951\n",
       "2007-01-09  2443.830078    5.630127"
      ],
      "text/html": [
       "<div>\n",
       "<style scoped>\n",
       "    .dataframe tbody tr th:only-of-type {\n",
       "        vertical-align: middle;\n",
       "    }\n",
       "\n",
       "    .dataframe tbody tr th {\n",
       "        vertical-align: top;\n",
       "    }\n",
       "\n",
       "    .dataframe thead th {\n",
       "        text-align: right;\n",
       "    }\n",
       "</style>\n",
       "<table border=\"1\" class=\"dataframe\">\n",
       "  <thead>\n",
       "    <tr style=\"text-align: right;\">\n",
       "      <th></th>\n",
       "      <th>close</th>\n",
       "      <th>close_diff</th>\n",
       "    </tr>\n",
       "    <tr>\n",
       "      <th>Date</th>\n",
       "      <th></th>\n",
       "      <th></th>\n",
       "    </tr>\n",
       "  </thead>\n",
       "  <tbody>\n",
       "    <tr>\n",
       "      <th>2007-01-03</th>\n",
       "      <td>2423.159912</td>\n",
       "      <td>NaN</td>\n",
       "    </tr>\n",
       "    <tr>\n",
       "      <th>2007-01-04</th>\n",
       "      <td>2453.429932</td>\n",
       "      <td>30.270020</td>\n",
       "    </tr>\n",
       "    <tr>\n",
       "      <th>2007-01-05</th>\n",
       "      <td>2434.250000</td>\n",
       "      <td>-19.179932</td>\n",
       "    </tr>\n",
       "    <tr>\n",
       "      <th>2007-01-08</th>\n",
       "      <td>2438.199951</td>\n",
       "      <td>3.949951</td>\n",
       "    </tr>\n",
       "    <tr>\n",
       "      <th>2007-01-09</th>\n",
       "      <td>2443.830078</td>\n",
       "      <td>5.630127</td>\n",
       "    </tr>\n",
       "  </tbody>\n",
       "</table>\n",
       "</div>"
      ]
     },
     "execution_count": 90,
     "metadata": {},
     "output_type": "execute_result"
    }
   ],
   "execution_count": 90
  },
  {
   "cell_type": "markdown",
   "metadata": {},
   "source": [
    "For all rows, except the first, you can check that the value in the `'close_diff'` column equals the value in the `'close'` column in the same row, minus the value in the `'close'` column in the previous row. In the first row, you see a `NaN`, because _Pandas_ cannot calculate the difference between the first row and the row before that, because the latter does not exist.\n",
    "\n",
    "Next, we want to know at which date the drop of NASDAQ Composite was the largest. In other words, we are interested for which `'Date'`, the change in closing value was the smallest (i.e. the most negative). We can find this date with the Pandas function **`idxmin()`**."
   ]
  },
  {
   "cell_type": "code",
   "metadata": {
    "ExecuteTime": {
     "end_time": "2024-12-12T13:30:09.136877Z",
     "start_time": "2024-12-12T13:30:09.131877Z"
    }
   },
   "source": [
    "date_min = df_nasdaq['close_diff'].idxmin()\n",
    "date_min"
   ],
   "outputs": [
    {
     "data": {
      "text/plain": [
       "Timestamp('2016-06-24 00:00:00')"
      ]
     },
     "execution_count": 91,
     "metadata": {},
     "output_type": "execute_result"
    }
   ],
   "execution_count": 91
  },
  {
   "cell_type": "markdown",
   "metadata": {},
   "source": [
    "Apparently, the value drop was the largest on the 24th of June in 2016. Let us see what the drop actually was."
   ]
  },
  {
   "cell_type": "code",
   "metadata": {
    "ExecuteTime": {
     "end_time": "2024-12-12T13:30:15.512040Z",
     "start_time": "2024-12-12T13:30:15.508628Z"
    }
   },
   "source": [
    "df_nasdaq.loc[date_min, 'close_diff']"
   ],
   "outputs": [
    {
     "data": {
      "text/plain": [
       "np.float64(-202.06005900000036)"
      ]
     },
     "execution_count": 92,
     "metadata": {},
     "output_type": "execute_result"
    }
   ],
   "execution_count": 92
  },
  {
   "cell_type": "markdown",
   "metadata": {},
   "source": [
    "Similarly, we can find the date with the largest increase of NASDAQ Composite by using the Pandas function **`idxmax()`**."
   ]
  },
  {
   "cell_type": "code",
   "metadata": {
    "ExecuteTime": {
     "end_time": "2024-12-12T13:30:37.091453Z",
     "start_time": "2024-12-12T13:30:37.088088Z"
    }
   },
   "source": [
    "date_max = df_nasdaq['close_diff'].idxmax()\n",
    "date_max"
   ],
   "outputs": [
    {
     "data": {
      "text/plain": [
       "Timestamp('2008-10-13 00:00:00')"
      ]
     },
     "execution_count": 93,
     "metadata": {},
     "output_type": "execute_result"
    }
   ],
   "execution_count": 93
  },
  {
   "cell_type": "markdown",
   "metadata": {},
   "source": [
    "If we sum all the differences up to a particular row starting from some initial row, we should get back the difference between the value in that row and the value in the initial row. We can compute such a _cumulative sum_ with the _Pandas_ function **`cumsum()`**. We add the column with cumulative sums to the data frame as a new column labeled `'close_diff_cumulative'`. We also add a column labeled `'change_since_beginning'` in which we manually calculate the difference between the current value and the first value. The last two columns should then have the same values."
   ]
  },
  {
   "cell_type": "code",
   "metadata": {
    "ExecuteTime": {
     "end_time": "2024-12-12T13:31:13.991303Z",
     "start_time": "2024-12-12T13:31:13.984828Z"
    }
   },
   "source": [
    "df_nasdaq['close_diff_cumulative'] = df_nasdaq['close_diff'].cumsum()\n",
    "df_nasdaq['change_since_beginning'] = df_nasdaq['close'] - df_nasdaq['close'].iloc[0]\n",
    "df_nasdaq[['close', 'close_diff', 'close_diff_cumulative', 'change_since_beginning']].head()"
   ],
   "outputs": [
    {
     "data": {
      "text/plain": [
       "                  close  close_diff  close_diff_cumulative  \\\n",
       "Date                                                         \n",
       "2007-01-03  2423.159912         NaN                    NaN   \n",
       "2007-01-04  2453.429932   30.270020              30.270020   \n",
       "2007-01-05  2434.250000  -19.179932              11.090088   \n",
       "2007-01-08  2438.199951    3.949951              15.040039   \n",
       "2007-01-09  2443.830078    5.630127              20.670166   \n",
       "\n",
       "            change_since_beginning  \n",
       "Date                                \n",
       "2007-01-03                0.000000  \n",
       "2007-01-04               30.270020  \n",
       "2007-01-05               11.090088  \n",
       "2007-01-08               15.040039  \n",
       "2007-01-09               20.670166  "
      ],
      "text/html": [
       "<div>\n",
       "<style scoped>\n",
       "    .dataframe tbody tr th:only-of-type {\n",
       "        vertical-align: middle;\n",
       "    }\n",
       "\n",
       "    .dataframe tbody tr th {\n",
       "        vertical-align: top;\n",
       "    }\n",
       "\n",
       "    .dataframe thead th {\n",
       "        text-align: right;\n",
       "    }\n",
       "</style>\n",
       "<table border=\"1\" class=\"dataframe\">\n",
       "  <thead>\n",
       "    <tr style=\"text-align: right;\">\n",
       "      <th></th>\n",
       "      <th>close</th>\n",
       "      <th>close_diff</th>\n",
       "      <th>close_diff_cumulative</th>\n",
       "      <th>change_since_beginning</th>\n",
       "    </tr>\n",
       "    <tr>\n",
       "      <th>Date</th>\n",
       "      <th></th>\n",
       "      <th></th>\n",
       "      <th></th>\n",
       "      <th></th>\n",
       "    </tr>\n",
       "  </thead>\n",
       "  <tbody>\n",
       "    <tr>\n",
       "      <th>2007-01-03</th>\n",
       "      <td>2423.159912</td>\n",
       "      <td>NaN</td>\n",
       "      <td>NaN</td>\n",
       "      <td>0.000000</td>\n",
       "    </tr>\n",
       "    <tr>\n",
       "      <th>2007-01-04</th>\n",
       "      <td>2453.429932</td>\n",
       "      <td>30.270020</td>\n",
       "      <td>30.270020</td>\n",
       "      <td>30.270020</td>\n",
       "    </tr>\n",
       "    <tr>\n",
       "      <th>2007-01-05</th>\n",
       "      <td>2434.250000</td>\n",
       "      <td>-19.179932</td>\n",
       "      <td>11.090088</td>\n",
       "      <td>11.090088</td>\n",
       "    </tr>\n",
       "    <tr>\n",
       "      <th>2007-01-08</th>\n",
       "      <td>2438.199951</td>\n",
       "      <td>3.949951</td>\n",
       "      <td>15.040039</td>\n",
       "      <td>15.040039</td>\n",
       "    </tr>\n",
       "    <tr>\n",
       "      <th>2007-01-09</th>\n",
       "      <td>2443.830078</td>\n",
       "      <td>5.630127</td>\n",
       "      <td>20.670166</td>\n",
       "      <td>20.670166</td>\n",
       "    </tr>\n",
       "  </tbody>\n",
       "</table>\n",
       "</div>"
      ]
     },
     "execution_count": 94,
     "metadata": {},
     "output_type": "execute_result"
    }
   ],
   "execution_count": 94
  },
  {
   "cell_type": "markdown",
   "metadata": {},
   "source": [
    "The values in the last two columns indeed coincide (except for the first row due to the `NaN`s). Note that we used `.iloc[0]` to retrieve the first row of `df_nasdaq`, which is equivalent to `.loc[df_nasdaq.index[0]]`."
   ]
  },
  {
   "cell_type": "markdown",
   "metadata": {},
   "source": [
    "To get an impression of how volatile the NASDAQ Composite is, we may also be interested in the total absolute change up to a particular date. To get the absolute change from `'close_diff'` we could use the _Pandas_ function `abs()`. However, for the later exercises it is instructive if we demonstrate an alternative method."
   ]
  },
  {
   "cell_type": "code",
   "metadata": {
    "ExecuteTime": {
     "end_time": "2024-12-12T13:31:49.172933Z",
     "start_time": "2024-12-12T13:31:49.166169Z"
    }
   },
   "source": [
    "df_nasdaq['abs_change'] = (df_nasdaq['close_diff'] ** 2) ** (1 / 2)\n",
    "df_nasdaq['total_abs_change'] = df_nasdaq['abs_change'].cumsum()\n",
    "df_nasdaq[['close', 'close_diff', 'abs_change', 'total_abs_change']].tail()"
   ],
   "outputs": [
    {
     "data": {
      "text/plain": [
       "                  close  close_diff  abs_change  total_abs_change\n",
       "Date                                                             \n",
       "2017-12-22  6959.959961   -5.399902    5.399902      76266.365519\n",
       "2017-12-26  6936.250000  -23.709961   23.709961      76290.075480\n",
       "2017-12-27  6939.339844    3.089844    3.089844      76293.165324\n",
       "2017-12-28  6950.160156   10.820312   10.820312      76303.985636\n",
       "2017-12-29  6903.390137  -46.770019   46.770019      76350.755655"
      ],
      "text/html": [
       "<div>\n",
       "<style scoped>\n",
       "    .dataframe tbody tr th:only-of-type {\n",
       "        vertical-align: middle;\n",
       "    }\n",
       "\n",
       "    .dataframe tbody tr th {\n",
       "        vertical-align: top;\n",
       "    }\n",
       "\n",
       "    .dataframe thead th {\n",
       "        text-align: right;\n",
       "    }\n",
       "</style>\n",
       "<table border=\"1\" class=\"dataframe\">\n",
       "  <thead>\n",
       "    <tr style=\"text-align: right;\">\n",
       "      <th></th>\n",
       "      <th>close</th>\n",
       "      <th>close_diff</th>\n",
       "      <th>abs_change</th>\n",
       "      <th>total_abs_change</th>\n",
       "    </tr>\n",
       "    <tr>\n",
       "      <th>Date</th>\n",
       "      <th></th>\n",
       "      <th></th>\n",
       "      <th></th>\n",
       "      <th></th>\n",
       "    </tr>\n",
       "  </thead>\n",
       "  <tbody>\n",
       "    <tr>\n",
       "      <th>2017-12-22</th>\n",
       "      <td>6959.959961</td>\n",
       "      <td>-5.399902</td>\n",
       "      <td>5.399902</td>\n",
       "      <td>76266.365519</td>\n",
       "    </tr>\n",
       "    <tr>\n",
       "      <th>2017-12-26</th>\n",
       "      <td>6936.250000</td>\n",
       "      <td>-23.709961</td>\n",
       "      <td>23.709961</td>\n",
       "      <td>76290.075480</td>\n",
       "    </tr>\n",
       "    <tr>\n",
       "      <th>2017-12-27</th>\n",
       "      <td>6939.339844</td>\n",
       "      <td>3.089844</td>\n",
       "      <td>3.089844</td>\n",
       "      <td>76293.165324</td>\n",
       "    </tr>\n",
       "    <tr>\n",
       "      <th>2017-12-28</th>\n",
       "      <td>6950.160156</td>\n",
       "      <td>10.820312</td>\n",
       "      <td>10.820312</td>\n",
       "      <td>76303.985636</td>\n",
       "    </tr>\n",
       "    <tr>\n",
       "      <th>2017-12-29</th>\n",
       "      <td>6903.390137</td>\n",
       "      <td>-46.770019</td>\n",
       "      <td>46.770019</td>\n",
       "      <td>76350.755655</td>\n",
       "    </tr>\n",
       "  </tbody>\n",
       "</table>\n",
       "</div>"
      ]
     },
     "execution_count": 95,
     "metadata": {},
     "output_type": "execute_result"
    }
   ],
   "execution_count": 95
  },
  {
   "cell_type": "markdown",
   "metadata": {},
   "source": [
    "Note that we used `.tail()` to show the last 5 rows of the data frame."
   ]
  },
  {
   "cell_type": "markdown",
   "metadata": {},
   "source": [
    "#### Exercise 1.f\n",
    "\n",
    "Add a new column to the data frame `df_last_path`, with the label `'segment_length'`, containing in every row the length of the line segment between the **unfiltered** $(x,y)$-coordinates of the current row and the previous row. In the first row, manually set the value of `'segment_length'` to `0`.\n",
    "\n",
    "> **Hint:** The first row in a data frame `df` is not necessarily the one at index = 0, but rather the one at index = `df.index[0]`."
   ]
  },
  {
   "cell_type": "code",
   "metadata": {
    "ExecuteTime": {
     "end_time": "2024-12-12T18:18:03.986627Z",
     "start_time": "2024-12-12T18:18:03.979518Z"
    }
   },
   "source": [
    "#// BEGIN_TODO [DAS_1f] Lengths of line segments (1 point)\n",
    "\n",
    "df_last_path['segment_length'] = (df_last_path['x'].diff() ** 2 + df_last_path['y'].diff() ** 2) ** 0.5\n",
    "df_last_path.loc[df_last_path.index[0], 'segment_length'] = 0\n",
    "\n",
    "#// END_TODO [DAS_1f]\n",
    "\n",
    "df_last_path.head()"
   ],
   "outputs": [
    {
     "data": {
      "text/plain": [
       "     trial         t  x  y  filt_x  filt_y  filt_x_coarse  filt_y_coarse  \\\n",
       "885     17  0.000000  1  2     -17      12             -5             59   \n",
       "886     17  0.771446  0  2     -18      12             -5             59   \n",
       "887     17  0.779367 -1  3     -19      13             -5             60   \n",
       "888     17  0.787307 -2  3     -20      14             -5             60   \n",
       "889     17  0.795360 -3  4     -21      14             -5             60   \n",
       "\n",
       "     med_filt_x  med_filt_y  med_filt_x_coarse  med_filt_y_coarse  \\\n",
       "885         NaN         NaN                NaN                NaN   \n",
       "886         NaN         NaN                NaN                NaN   \n",
       "887         NaN         NaN                NaN                NaN   \n",
       "888         NaN         NaN                NaN                NaN   \n",
       "889         NaN         NaN                NaN                NaN   \n",
       "\n",
       "     segment_length  \n",
       "885        0.000000  \n",
       "886        1.000000  \n",
       "887        1.414214  \n",
       "888        1.000000  \n",
       "889        1.414214  "
      ],
      "text/html": [
       "<div>\n",
       "<style scoped>\n",
       "    .dataframe tbody tr th:only-of-type {\n",
       "        vertical-align: middle;\n",
       "    }\n",
       "\n",
       "    .dataframe tbody tr th {\n",
       "        vertical-align: top;\n",
       "    }\n",
       "\n",
       "    .dataframe thead th {\n",
       "        text-align: right;\n",
       "    }\n",
       "</style>\n",
       "<table border=\"1\" class=\"dataframe\">\n",
       "  <thead>\n",
       "    <tr style=\"text-align: right;\">\n",
       "      <th></th>\n",
       "      <th>trial</th>\n",
       "      <th>t</th>\n",
       "      <th>x</th>\n",
       "      <th>y</th>\n",
       "      <th>filt_x</th>\n",
       "      <th>filt_y</th>\n",
       "      <th>filt_x_coarse</th>\n",
       "      <th>filt_y_coarse</th>\n",
       "      <th>med_filt_x</th>\n",
       "      <th>med_filt_y</th>\n",
       "      <th>med_filt_x_coarse</th>\n",
       "      <th>med_filt_y_coarse</th>\n",
       "      <th>segment_length</th>\n",
       "    </tr>\n",
       "  </thead>\n",
       "  <tbody>\n",
       "    <tr>\n",
       "      <th>885</th>\n",
       "      <td>17</td>\n",
       "      <td>0.000000</td>\n",
       "      <td>1</td>\n",
       "      <td>2</td>\n",
       "      <td>-17</td>\n",
       "      <td>12</td>\n",
       "      <td>-5</td>\n",
       "      <td>59</td>\n",
       "      <td>NaN</td>\n",
       "      <td>NaN</td>\n",
       "      <td>NaN</td>\n",
       "      <td>NaN</td>\n",
       "      <td>0.000000</td>\n",
       "    </tr>\n",
       "    <tr>\n",
       "      <th>886</th>\n",
       "      <td>17</td>\n",
       "      <td>0.771446</td>\n",
       "      <td>0</td>\n",
       "      <td>2</td>\n",
       "      <td>-18</td>\n",
       "      <td>12</td>\n",
       "      <td>-5</td>\n",
       "      <td>59</td>\n",
       "      <td>NaN</td>\n",
       "      <td>NaN</td>\n",
       "      <td>NaN</td>\n",
       "      <td>NaN</td>\n",
       "      <td>1.000000</td>\n",
       "    </tr>\n",
       "    <tr>\n",
       "      <th>887</th>\n",
       "      <td>17</td>\n",
       "      <td>0.779367</td>\n",
       "      <td>-1</td>\n",
       "      <td>3</td>\n",
       "      <td>-19</td>\n",
       "      <td>13</td>\n",
       "      <td>-5</td>\n",
       "      <td>60</td>\n",
       "      <td>NaN</td>\n",
       "      <td>NaN</td>\n",
       "      <td>NaN</td>\n",
       "      <td>NaN</td>\n",
       "      <td>1.414214</td>\n",
       "    </tr>\n",
       "    <tr>\n",
       "      <th>888</th>\n",
       "      <td>17</td>\n",
       "      <td>0.787307</td>\n",
       "      <td>-2</td>\n",
       "      <td>3</td>\n",
       "      <td>-20</td>\n",
       "      <td>14</td>\n",
       "      <td>-5</td>\n",
       "      <td>60</td>\n",
       "      <td>NaN</td>\n",
       "      <td>NaN</td>\n",
       "      <td>NaN</td>\n",
       "      <td>NaN</td>\n",
       "      <td>1.000000</td>\n",
       "    </tr>\n",
       "    <tr>\n",
       "      <th>889</th>\n",
       "      <td>17</td>\n",
       "      <td>0.795360</td>\n",
       "      <td>-3</td>\n",
       "      <td>4</td>\n",
       "      <td>-21</td>\n",
       "      <td>14</td>\n",
       "      <td>-5</td>\n",
       "      <td>60</td>\n",
       "      <td>NaN</td>\n",
       "      <td>NaN</td>\n",
       "      <td>NaN</td>\n",
       "      <td>NaN</td>\n",
       "      <td>1.414214</td>\n",
       "    </tr>\n",
       "  </tbody>\n",
       "</table>\n",
       "</div>"
      ]
     },
     "execution_count": 98,
     "metadata": {},
     "output_type": "execute_result"
    }
   ],
   "execution_count": 98
  },
  {
   "cell_type": "markdown",
   "metadata": {},
   "source": [
    "#### Exercise 1.g\n",
    "\n",
    "Find the index in `df_last_path` of the first row in which the `'segment_length'` was longest. Assign your answer to the variable `i_longest_segment`."
   ]
  },
  {
   "cell_type": "code",
   "metadata": {
    "ExecuteTime": {
     "end_time": "2024-12-12T19:12:00.402258Z",
     "start_time": "2024-12-12T19:12:00.398415Z"
    }
   },
   "source": [
    "#// BEGIN_TODO [DAS_1g] Longest segment (1 point)\n",
    "\n",
    "i_longest_segment = df_last_path['segment_length'].idxmax()\n",
    "\n",
    "#// END_TODO [DAS_1g]\n",
    "\n",
    "i_longest_segment"
   ],
   "outputs": [
    {
     "data": {
      "text/plain": [
       "np.int64(1033)"
      ]
     },
     "execution_count": 99,
     "metadata": {},
     "output_type": "execute_result"
    }
   ],
   "execution_count": 99
  },
  {
   "cell_type": "markdown",
   "metadata": {},
   "source": [
    "#### Exercise 1.h\n",
    "\n",
    "Add a new column named `'path_length'` to `df_last_path`, containing in every row the cumulative sum of the line segments so far."
   ]
  },
  {
   "cell_type": "code",
   "metadata": {
    "ExecuteTime": {
     "end_time": "2024-12-12T19:13:15.790022Z",
     "start_time": "2024-12-12T19:13:15.782794Z"
    }
   },
   "source": [
    "#// BEGIN_TODO [DAS_1h] Compute path length (1 point)\n",
    "\n",
    "df_last_path['path_length'] = df_last_path['segment_length'].cumsum()\n",
    "\n",
    "#// END_TODO [DAS_1h]\n",
    "\n",
    "df_last_path.head()"
   ],
   "outputs": [
    {
     "data": {
      "text/plain": [
       "     trial         t  x  y  filt_x  filt_y  filt_x_coarse  filt_y_coarse  \\\n",
       "885     17  0.000000  1  2     -17      12             -5             59   \n",
       "886     17  0.771446  0  2     -18      12             -5             59   \n",
       "887     17  0.779367 -1  3     -19      13             -5             60   \n",
       "888     17  0.787307 -2  3     -20      14             -5             60   \n",
       "889     17  0.795360 -3  4     -21      14             -5             60   \n",
       "\n",
       "     med_filt_x  med_filt_y  med_filt_x_coarse  med_filt_y_coarse  \\\n",
       "885         NaN         NaN                NaN                NaN   \n",
       "886         NaN         NaN                NaN                NaN   \n",
       "887         NaN         NaN                NaN                NaN   \n",
       "888         NaN         NaN                NaN                NaN   \n",
       "889         NaN         NaN                NaN                NaN   \n",
       "\n",
       "     segment_length  path_length  \n",
       "885        0.000000     0.000000  \n",
       "886        1.000000     1.000000  \n",
       "887        1.414214     2.414214  \n",
       "888        1.000000     3.414214  \n",
       "889        1.414214     4.828427  "
      ],
      "text/html": [
       "<div>\n",
       "<style scoped>\n",
       "    .dataframe tbody tr th:only-of-type {\n",
       "        vertical-align: middle;\n",
       "    }\n",
       "\n",
       "    .dataframe tbody tr th {\n",
       "        vertical-align: top;\n",
       "    }\n",
       "\n",
       "    .dataframe thead th {\n",
       "        text-align: right;\n",
       "    }\n",
       "</style>\n",
       "<table border=\"1\" class=\"dataframe\">\n",
       "  <thead>\n",
       "    <tr style=\"text-align: right;\">\n",
       "      <th></th>\n",
       "      <th>trial</th>\n",
       "      <th>t</th>\n",
       "      <th>x</th>\n",
       "      <th>y</th>\n",
       "      <th>filt_x</th>\n",
       "      <th>filt_y</th>\n",
       "      <th>filt_x_coarse</th>\n",
       "      <th>filt_y_coarse</th>\n",
       "      <th>med_filt_x</th>\n",
       "      <th>med_filt_y</th>\n",
       "      <th>med_filt_x_coarse</th>\n",
       "      <th>med_filt_y_coarse</th>\n",
       "      <th>segment_length</th>\n",
       "      <th>path_length</th>\n",
       "    </tr>\n",
       "  </thead>\n",
       "  <tbody>\n",
       "    <tr>\n",
       "      <th>885</th>\n",
       "      <td>17</td>\n",
       "      <td>0.000000</td>\n",
       "      <td>1</td>\n",
       "      <td>2</td>\n",
       "      <td>-17</td>\n",
       "      <td>12</td>\n",
       "      <td>-5</td>\n",
       "      <td>59</td>\n",
       "      <td>NaN</td>\n",
       "      <td>NaN</td>\n",
       "      <td>NaN</td>\n",
       "      <td>NaN</td>\n",
       "      <td>0.000000</td>\n",
       "      <td>0.000000</td>\n",
       "    </tr>\n",
       "    <tr>\n",
       "      <th>886</th>\n",
       "      <td>17</td>\n",
       "      <td>0.771446</td>\n",
       "      <td>0</td>\n",
       "      <td>2</td>\n",
       "      <td>-18</td>\n",
       "      <td>12</td>\n",
       "      <td>-5</td>\n",
       "      <td>59</td>\n",
       "      <td>NaN</td>\n",
       "      <td>NaN</td>\n",
       "      <td>NaN</td>\n",
       "      <td>NaN</td>\n",
       "      <td>1.000000</td>\n",
       "      <td>1.000000</td>\n",
       "    </tr>\n",
       "    <tr>\n",
       "      <th>887</th>\n",
       "      <td>17</td>\n",
       "      <td>0.779367</td>\n",
       "      <td>-1</td>\n",
       "      <td>3</td>\n",
       "      <td>-19</td>\n",
       "      <td>13</td>\n",
       "      <td>-5</td>\n",
       "      <td>60</td>\n",
       "      <td>NaN</td>\n",
       "      <td>NaN</td>\n",
       "      <td>NaN</td>\n",
       "      <td>NaN</td>\n",
       "      <td>1.414214</td>\n",
       "      <td>2.414214</td>\n",
       "    </tr>\n",
       "    <tr>\n",
       "      <th>888</th>\n",
       "      <td>17</td>\n",
       "      <td>0.787307</td>\n",
       "      <td>-2</td>\n",
       "      <td>3</td>\n",
       "      <td>-20</td>\n",
       "      <td>14</td>\n",
       "      <td>-5</td>\n",
       "      <td>60</td>\n",
       "      <td>NaN</td>\n",
       "      <td>NaN</td>\n",
       "      <td>NaN</td>\n",
       "      <td>NaN</td>\n",
       "      <td>1.000000</td>\n",
       "      <td>3.414214</td>\n",
       "    </tr>\n",
       "    <tr>\n",
       "      <th>889</th>\n",
       "      <td>17</td>\n",
       "      <td>0.795360</td>\n",
       "      <td>-3</td>\n",
       "      <td>4</td>\n",
       "      <td>-21</td>\n",
       "      <td>14</td>\n",
       "      <td>-5</td>\n",
       "      <td>60</td>\n",
       "      <td>NaN</td>\n",
       "      <td>NaN</td>\n",
       "      <td>NaN</td>\n",
       "      <td>NaN</td>\n",
       "      <td>1.414214</td>\n",
       "      <td>4.828427</td>\n",
       "    </tr>\n",
       "  </tbody>\n",
       "</table>\n",
       "</div>"
      ]
     },
     "execution_count": 100,
     "metadata": {},
     "output_type": "execute_result"
    }
   ],
   "execution_count": 100
  },
  {
   "cell_type": "markdown",
   "metadata": {},
   "source": [
    "The next step will be to estimate the speed of the trajectory at any given moment. For this, we need to know more about how to approximate derivatives."
   ]
  },
  {
   "cell_type": "markdown",
   "metadata": {},
   "source": [
    "### Approximating Derivatives and Finding Trends\n",
    "\n",
    "Suppose now that we are interested in finding some trends in the stock data. For instance, we want to find periods in which the NASDAQ index was generally increasing and periods in which it was decreasing. We could try to plot the differences between consecutive days in closing prices, but this signal is so volatile that it is impossible to discern any clear pattern:"
   ]
  },
  {
   "cell_type": "code",
   "execution_count": null,
   "metadata": {},
   "outputs": [],
   "source": [
    "ax_marg = df_nasdaq['close_diff'].plot()\n",
    "ax_marg.set_ylabel('Change in index')\n",
    "ax_marg.set_title('Change in index between consecutive days', size=16, weight='bold');"
   ]
  },
  {
   "cell_type": "markdown",
   "metadata": {},
   "source": [
    "You can use filtering to find an averaged numerical derivative of the signal over a certain time window. For this, we apply a higher-order Gaussian filter to the original time signal. We indicate that we want a first-order filter by specifying the keyword argument `order=1`. (In general, `order=n` gives an approximation of the `n`th derivatives. The default value is `order=0`, which just gives an approximation to the original function.) We choose a standard deviation `sigma=30` for the Gaussian filter to average the derivatives over a time period of approximately a month."
   ]
  },
  {
   "cell_type": "code",
   "execution_count": null,
   "metadata": {},
   "outputs": [],
   "source": [
    "df_nasdaq['close_filtered_deriv'] = gaussian_filter1d(df_nasdaq['close'], sigma=30, order=1, mode='nearest')\n",
    "df_nasdaq.head()"
   ]
  },
  {
   "cell_type": "markdown",
   "metadata": {},
   "source": [
    "We visualize the approximate derivative in the graph below."
   ]
  },
  {
   "cell_type": "code",
   "execution_count": null,
   "metadata": {},
   "outputs": [],
   "source": [
    "ax_deriv = df_nasdaq['close_filtered_deriv'].plot()\n",
    "ax_deriv.set_title('Approximate derivative of NASDAQ index', size=16, weight='bold')\n",
    "ax_deriv.set_ylabel('Change in index per day');"
   ]
  },
  {
   "cell_type": "markdown",
   "metadata": {},
   "source": [
    "#### Exercise 1.i\n",
    "\n",
    "Approximate the _speed_ (in pixels per ms) of the trajectory in `df_last_path` by applying a Gaussian filter of order $1$ to the path length. Store the result in a column `'approximate_speed'`. Use a standard deviation of $25$ ms.\n",
    "Plot this approximate speed of the mouse trajectory over time."
   ]
  },
  {
   "cell_type": "code",
   "metadata": {
    "ExecuteTime": {
     "end_time": "2024-12-12T19:22:54.548879Z",
     "start_time": "2024-12-12T19:22:54.462309Z"
    }
   },
   "source": [
    "#// BEGIN_TODO [DAS_1i] Compute approximate speed (1 point)\n",
    "\n",
    "df_last_path['approximate_speed'] = gaussian_filter1d(df_last_path['path_length'], sigma=25, order=1, mode='nearest')\n",
    "df_last_path.plot(x='t', y='approximate_speed', title='Speed over time', xlabel='time, sec', ylabel='speed, pps');\n",
    "\n",
    "#// END_TODO [DAS_1i]"
   ],
   "outputs": [
    {
     "data": {
      "text/plain": [
       "<Figure size 1000x500 with 1 Axes>"
      ],
      "image/png": "[encoded data removed]"
     },
     "metadata": {},
     "output_type": "display_data"
    }
   ],
   "execution_count": 102
  },
  {
   "cell_type": "markdown",
   "metadata": {},
   "source": [
    "## 2. Data Aggregation\n",
    "\n",
    "In this section, we will compute more features of the data and (re)introduce some very powerful _Pandas_ techniques:\n",
    "\n",
    "* **Multi-level indexing**\n",
    "* **Advanced data aggregation** with the function **`agg()`**\n",
    "* **Joining** two data frames with the function **`join()`**\n",
    "* **Applying** a function, Series or dictionary to another Series with the function **`map()`**\n",
    "\n",
    "Some of these techniques were already included in previous exercise sets, but we revisit them here for convenience. Master them, and you will be a truly skilled _Pandas_ user.\n",
    "\n",
    "We work with the mouse trajectory data that was collected during the mouse experiment, which we load and prepare first. "
   ]
  },
  {
   "cell_type": "markdown",
   "metadata": {},
   "source": [
    "## Data Preparation"
   ]
  },
  {
   "cell_type": "markdown",
   "metadata": {},
   "source": [
    "### Data: Mouse Trajectories\n",
    "\n",
    "The actual trajectories are stored in `'datasets/fitts.csv'`, which we read into the data frame `df_fitts`. To create this file, we have processed recorded trajectories as in the previous section."
   ]
  },
  {
   "cell_type": "code",
   "metadata": {
    "ExecuteTime": {
     "end_time": "2024-12-12T20:41:15.763903Z",
     "start_time": "2024-12-12T20:41:15.712461Z"
    }
   },
   "source": [
    "df_fitts = pd.read_csv('datasets/fitts.csv')\n",
    "df_fitts.head()"
   ],
   "outputs": [
    {
     "data": {
      "text/plain": [
       "   user  trial     t    x         y  path_length  approximate_speed\n",
       "0  1164      5  0.00 -2.0  1.000000     0.000000           0.001584\n",
       "1  1164      5  0.02 -2.0  0.936582     0.063418           0.002497\n",
       "2  1164      5  0.04 -2.0  0.873164     0.126836           0.002995\n",
       "3  1164      5  0.06 -2.0  0.809747     0.190253           0.003142\n",
       "4  1164      5  0.08 -2.0  0.746329     0.253671           0.003166"
      ],
      "text/html": [
       "<div>\n",
       "<style scoped>\n",
       "    .dataframe tbody tr th:only-of-type {\n",
       "        vertical-align: middle;\n",
       "    }\n",
       "\n",
       "    .dataframe tbody tr th {\n",
       "        vertical-align: top;\n",
       "    }\n",
       "\n",
       "    .dataframe thead th {\n",
       "        text-align: right;\n",
       "    }\n",
       "</style>\n",
       "<table border=\"1\" class=\"dataframe\">\n",
       "  <thead>\n",
       "    <tr style=\"text-align: right;\">\n",
       "      <th></th>\n",
       "      <th>user</th>\n",
       "      <th>trial</th>\n",
       "      <th>t</th>\n",
       "      <th>x</th>\n",
       "      <th>y</th>\n",
       "      <th>path_length</th>\n",
       "      <th>approximate_speed</th>\n",
       "    </tr>\n",
       "  </thead>\n",
       "  <tbody>\n",
       "    <tr>\n",
       "      <th>0</th>\n",
       "      <td>1164</td>\n",
       "      <td>5</td>\n",
       "      <td>0.00</td>\n",
       "      <td>-2.0</td>\n",
       "      <td>1.000000</td>\n",
       "      <td>0.000000</td>\n",
       "      <td>0.001584</td>\n",
       "    </tr>\n",
       "    <tr>\n",
       "      <th>1</th>\n",
       "      <td>1164</td>\n",
       "      <td>5</td>\n",
       "      <td>0.02</td>\n",
       "      <td>-2.0</td>\n",
       "      <td>0.936582</td>\n",
       "      <td>0.063418</td>\n",
       "      <td>0.002497</td>\n",
       "    </tr>\n",
       "    <tr>\n",
       "      <th>2</th>\n",
       "      <td>1164</td>\n",
       "      <td>5</td>\n",
       "      <td>0.04</td>\n",
       "      <td>-2.0</td>\n",
       "      <td>0.873164</td>\n",
       "      <td>0.126836</td>\n",
       "      <td>0.002995</td>\n",
       "    </tr>\n",
       "    <tr>\n",
       "      <th>3</th>\n",
       "      <td>1164</td>\n",
       "      <td>5</td>\n",
       "      <td>0.06</td>\n",
       "      <td>-2.0</td>\n",
       "      <td>0.809747</td>\n",
       "      <td>0.190253</td>\n",
       "      <td>0.003142</td>\n",
       "    </tr>\n",
       "    <tr>\n",
       "      <th>4</th>\n",
       "      <td>1164</td>\n",
       "      <td>5</td>\n",
       "      <td>0.08</td>\n",
       "      <td>-2.0</td>\n",
       "      <td>0.746329</td>\n",
       "      <td>0.253671</td>\n",
       "      <td>0.003166</td>\n",
       "    </tr>\n",
       "  </tbody>\n",
       "</table>\n",
       "</div>"
      ]
     },
     "execution_count": 103,
     "metadata": {},
     "output_type": "execute_result"
    }
   ],
   "execution_count": 103
  },
  {
   "cell_type": "markdown",
   "metadata": {},
   "source": [
    "The data frame is very similar to the one of the previous section. The biggest difference is that it contains paths recorded by more than one user. Each user is assigned a unique number, which is stored in the **`'user'`** column."
   ]
  },
  {
   "cell_type": "markdown",
   "metadata": {},
   "source": [
    "### Multi-level Indexing\n",
    "\n",
    "Every row is _uniquely_ identified by the **triple** of values in the `'user'`, `'trial'` and `'t'` column. The combination of this triple would make for an ideal index for the data frame. Such an index that is made out of multiple components is called a **multi-level index** (sometimes called a hierarchical index or MultiIndex). We make the triple of columns `'user'`, `'trial'` and `'t'` into a multi-level index, by providing their names as a list to the `set_index()` function. "
   ]
  },
  {
   "cell_type": "code",
   "metadata": {
    "ExecuteTime": {
     "end_time": "2024-12-12T20:41:24.861222Z",
     "start_time": "2024-12-12T20:41:24.849442Z"
    }
   },
   "source": [
    "df_fitts.set_index(['user', 'trial', 't'], inplace=True)\n",
    "df_fitts.head()"
   ],
   "outputs": [
    {
     "data": {
      "text/plain": [
       "                   x         y  path_length  approximate_speed\n",
       "user trial t                                                  \n",
       "1164 5     0.00 -2.0  1.000000     0.000000           0.001584\n",
       "           0.02 -2.0  0.936582     0.063418           0.002497\n",
       "           0.04 -2.0  0.873164     0.126836           0.002995\n",
       "           0.06 -2.0  0.809747     0.190253           0.003142\n",
       "           0.08 -2.0  0.746329     0.253671           0.003166"
      ],
      "text/html": [
       "<div>\n",
       "<style scoped>\n",
       "    .dataframe tbody tr th:only-of-type {\n",
       "        vertical-align: middle;\n",
       "    }\n",
       "\n",
       "    .dataframe tbody tr th {\n",
       "        vertical-align: top;\n",
       "    }\n",
       "\n",
       "    .dataframe thead th {\n",
       "        text-align: right;\n",
       "    }\n",
       "</style>\n",
       "<table border=\"1\" class=\"dataframe\">\n",
       "  <thead>\n",
       "    <tr style=\"text-align: right;\">\n",
       "      <th></th>\n",
       "      <th></th>\n",
       "      <th></th>\n",
       "      <th>x</th>\n",
       "      <th>y</th>\n",
       "      <th>path_length</th>\n",
       "      <th>approximate_speed</th>\n",
       "    </tr>\n",
       "    <tr>\n",
       "      <th>user</th>\n",
       "      <th>trial</th>\n",
       "      <th>t</th>\n",
       "      <th></th>\n",
       "      <th></th>\n",
       "      <th></th>\n",
       "      <th></th>\n",
       "    </tr>\n",
       "  </thead>\n",
       "  <tbody>\n",
       "    <tr>\n",
       "      <th rowspan=\"5\" valign=\"top\">1164</th>\n",
       "      <th rowspan=\"5\" valign=\"top\">5</th>\n",
       "      <th>0.00</th>\n",
       "      <td>-2.0</td>\n",
       "      <td>1.000000</td>\n",
       "      <td>0.000000</td>\n",
       "      <td>0.001584</td>\n",
       "    </tr>\n",
       "    <tr>\n",
       "      <th>0.02</th>\n",
       "      <td>-2.0</td>\n",
       "      <td>0.936582</td>\n",
       "      <td>0.063418</td>\n",
       "      <td>0.002497</td>\n",
       "    </tr>\n",
       "    <tr>\n",
       "      <th>0.04</th>\n",
       "      <td>-2.0</td>\n",
       "      <td>0.873164</td>\n",
       "      <td>0.126836</td>\n",
       "      <td>0.002995</td>\n",
       "    </tr>\n",
       "    <tr>\n",
       "      <th>0.06</th>\n",
       "      <td>-2.0</td>\n",
       "      <td>0.809747</td>\n",
       "      <td>0.190253</td>\n",
       "      <td>0.003142</td>\n",
       "    </tr>\n",
       "    <tr>\n",
       "      <th>0.08</th>\n",
       "      <td>-2.0</td>\n",
       "      <td>0.746329</td>\n",
       "      <td>0.253671</td>\n",
       "      <td>0.003166</td>\n",
       "    </tr>\n",
       "  </tbody>\n",
       "</table>\n",
       "</div>"
      ]
     },
     "execution_count": 104,
     "metadata": {},
     "output_type": "execute_result"
    }
   ],
   "execution_count": 104
  },
  {
   "cell_type": "markdown",
   "metadata": {},
   "source": [
    "Rows can be retrieved from a data frame with a multi-level index by supplying a value for all the index components to `.loc[]`. For example, the following will return the third row in the above data frame:"
   ]
  },
  {
   "cell_type": "code",
   "metadata": {
    "ExecuteTime": {
     "end_time": "2024-12-12T20:42:06.245107Z",
     "start_time": "2024-12-12T20:42:06.238292Z"
    }
   },
   "source": [
    "df_fitts.loc[1164, 5, 0.04]"
   ],
   "outputs": [
    {
     "data": {
      "text/plain": [
       "x                   -2.000000\n",
       "y                    0.873164\n",
       "path_length          0.126836\n",
       "approximate_speed    0.002995\n",
       "Name: (1164, 5, 0.04), dtype: float64"
      ]
     },
     "execution_count": 105,
     "metadata": {},
     "output_type": "execute_result"
    }
   ],
   "execution_count": 105
  },
  {
   "cell_type": "markdown",
   "metadata": {},
   "source": [
    "In the remainder of this notebook, we will use multi-level indexes mainly for joining data frames."
   ]
  },
  {
   "cell_type": "markdown",
   "metadata": {},
   "source": [
    "### Data: User Properties\n",
    "\n",
    "The file `'datasets/user_props.csv'` contains settings that are constant for each user. It contains a table with the following columns:\n",
    "\n",
    "* **`'user'`**: an integer number identifying each user;\n",
    "* **`'use_tue_laptop'`**: whether the user used a TU/e laptop;\n",
    "* **`'right_handed'`**: whether the user is right-handed or not;\n",
    "* **`'platform'`**: the operating system of the user;\n",
    "* **`'platform_version'`**: the version of the operating system of the user.\n",
    "\n",
    "We load it into the data frame `df_user_props`."
   ]
  },
  {
   "cell_type": "code",
   "metadata": {
    "ExecuteTime": {
     "end_time": "2024-12-12T20:42:17.034682Z",
     "start_time": "2024-12-12T20:42:17.028722Z"
    }
   },
   "source": [
    "df_user_props = pd.read_csv('datasets/user_props.csv')\n",
    "df_user_props.head()"
   ],
   "outputs": [
    {
     "data": {
      "text/plain": [
       "   user  use_tue_laptop  right_handed platform platform_version\n",
       "0     1               1             1  Windows               10\n",
       "1     2               1             1  Windows               10\n",
       "2     4               1             1  Windows               10\n",
       "3     6               1             1  Windows               10\n",
       "4     7               1             1  Windows               10"
      ],
      "text/html": [
       "<div>\n",
       "<style scoped>\n",
       "    .dataframe tbody tr th:only-of-type {\n",
       "        vertical-align: middle;\n",
       "    }\n",
       "\n",
       "    .dataframe tbody tr th {\n",
       "        vertical-align: top;\n",
       "    }\n",
       "\n",
       "    .dataframe thead th {\n",
       "        text-align: right;\n",
       "    }\n",
       "</style>\n",
       "<table border=\"1\" class=\"dataframe\">\n",
       "  <thead>\n",
       "    <tr style=\"text-align: right;\">\n",
       "      <th></th>\n",
       "      <th>user</th>\n",
       "      <th>use_tue_laptop</th>\n",
       "      <th>right_handed</th>\n",
       "      <th>platform</th>\n",
       "      <th>platform_version</th>\n",
       "    </tr>\n",
       "  </thead>\n",
       "  <tbody>\n",
       "    <tr>\n",
       "      <th>0</th>\n",
       "      <td>1</td>\n",
       "      <td>1</td>\n",
       "      <td>1</td>\n",
       "      <td>Windows</td>\n",
       "      <td>10</td>\n",
       "    </tr>\n",
       "    <tr>\n",
       "      <th>1</th>\n",
       "      <td>2</td>\n",
       "      <td>1</td>\n",
       "      <td>1</td>\n",
       "      <td>Windows</td>\n",
       "      <td>10</td>\n",
       "    </tr>\n",
       "    <tr>\n",
       "      <th>2</th>\n",
       "      <td>4</td>\n",
       "      <td>1</td>\n",
       "      <td>1</td>\n",
       "      <td>Windows</td>\n",
       "      <td>10</td>\n",
       "    </tr>\n",
       "    <tr>\n",
       "      <th>3</th>\n",
       "      <td>6</td>\n",
       "      <td>1</td>\n",
       "      <td>1</td>\n",
       "      <td>Windows</td>\n",
       "      <td>10</td>\n",
       "    </tr>\n",
       "    <tr>\n",
       "      <th>4</th>\n",
       "      <td>7</td>\n",
       "      <td>1</td>\n",
       "      <td>1</td>\n",
       "      <td>Windows</td>\n",
       "      <td>10</td>\n",
       "    </tr>\n",
       "  </tbody>\n",
       "</table>\n",
       "</div>"
      ]
     },
     "execution_count": 106,
     "metadata": {},
     "output_type": "execute_result"
    }
   ],
   "execution_count": 106
  },
  {
   "cell_type": "markdown",
   "metadata": {},
   "source": [
    "Every row in this table is uniquely identified by the integer in the `'user'` column. Therefore, we set this column as the index of the data frame."
   ]
  },
  {
   "cell_type": "code",
   "metadata": {
    "ExecuteTime": {
     "end_time": "2024-12-12T20:42:21.277716Z",
     "start_time": "2024-12-12T20:42:21.272637Z"
    }
   },
   "source": [
    "df_user_props.set_index('user', inplace=True)\n",
    "df_user_props.head()"
   ],
   "outputs": [
    {
     "data": {
      "text/plain": [
       "      use_tue_laptop  right_handed platform platform_version\n",
       "user                                                        \n",
       "1                  1             1  Windows               10\n",
       "2                  1             1  Windows               10\n",
       "4                  1             1  Windows               10\n",
       "6                  1             1  Windows               10\n",
       "7                  1             1  Windows               10"
      ],
      "text/html": [
       "<div>\n",
       "<style scoped>\n",
       "    .dataframe tbody tr th:only-of-type {\n",
       "        vertical-align: middle;\n",
       "    }\n",
       "\n",
       "    .dataframe tbody tr th {\n",
       "        vertical-align: top;\n",
       "    }\n",
       "\n",
       "    .dataframe thead th {\n",
       "        text-align: right;\n",
       "    }\n",
       "</style>\n",
       "<table border=\"1\" class=\"dataframe\">\n",
       "  <thead>\n",
       "    <tr style=\"text-align: right;\">\n",
       "      <th></th>\n",
       "      <th>use_tue_laptop</th>\n",
       "      <th>right_handed</th>\n",
       "      <th>platform</th>\n",
       "      <th>platform_version</th>\n",
       "    </tr>\n",
       "    <tr>\n",
       "      <th>user</th>\n",
       "      <th></th>\n",
       "      <th></th>\n",
       "      <th></th>\n",
       "      <th></th>\n",
       "    </tr>\n",
       "  </thead>\n",
       "  <tbody>\n",
       "    <tr>\n",
       "      <th>1</th>\n",
       "      <td>1</td>\n",
       "      <td>1</td>\n",
       "      <td>Windows</td>\n",
       "      <td>10</td>\n",
       "    </tr>\n",
       "    <tr>\n",
       "      <th>2</th>\n",
       "      <td>1</td>\n",
       "      <td>1</td>\n",
       "      <td>Windows</td>\n",
       "      <td>10</td>\n",
       "    </tr>\n",
       "    <tr>\n",
       "      <th>4</th>\n",
       "      <td>1</td>\n",
       "      <td>1</td>\n",
       "      <td>Windows</td>\n",
       "      <td>10</td>\n",
       "    </tr>\n",
       "    <tr>\n",
       "      <th>6</th>\n",
       "      <td>1</td>\n",
       "      <td>1</td>\n",
       "      <td>Windows</td>\n",
       "      <td>10</td>\n",
       "    </tr>\n",
       "    <tr>\n",
       "      <th>7</th>\n",
       "      <td>1</td>\n",
       "      <td>1</td>\n",
       "      <td>Windows</td>\n",
       "      <td>10</td>\n",
       "    </tr>\n",
       "  </tbody>\n",
       "</table>\n",
       "</div>"
      ]
     },
     "execution_count": 107,
     "metadata": {},
     "output_type": "execute_result"
    }
   ],
   "execution_count": 107
  },
  {
   "cell_type": "markdown",
   "metadata": {},
   "source": [
    "### Conversion to Readable Table Entries\n",
    "\n",
    "Two of the columns of `df_user_props` contain integers that do not have a clear meaning. The interpretation of these integers is encoded by the following dictionaries."
   ]
  },
  {
   "cell_type": "code",
   "metadata": {
    "ExecuteTime": {
     "end_time": "2024-12-12T20:42:31.625403Z",
     "start_time": "2024-12-12T20:42:31.623111Z"
    }
   },
   "source": [
    "dict_use_tue_laptop = {0: False, 1: True}\n",
    "dict_right_handed = {0: False, 1: True}"
   ],
   "outputs": [],
   "execution_count": 108
  },
  {
   "cell_type": "markdown",
   "metadata": {},
   "source": [
    "We can use these dictionaries to create more readable columns. But first there is a technical point that the values in for instance the column `'use_tue_laptop'` may be floats and not integers. So to make sure we can use the `dict_use_tue_laptop` dictionary, we have to cast this column to integer type."
   ]
  },
  {
   "cell_type": "code",
   "metadata": {
    "ExecuteTime": {
     "end_time": "2024-12-12T20:42:49.384124Z",
     "start_time": "2024-12-12T20:42:49.381012Z"
    }
   },
   "source": [
    "df_user_props['use_tue_laptop'] = df_user_props['use_tue_laptop'].astype(int)"
   ],
   "outputs": [],
   "execution_count": 109
  },
  {
   "cell_type": "markdown",
   "metadata": {},
   "source": [
    "#### The _Pandas_ Function **`map()`**\n",
    "\n",
    "We can now use the _Pandas_ function **`map()`** with the argument `dict_use_tue_laptop` to map every `0` to a `False` and every `1` to a `True`."
   ]
  },
  {
   "cell_type": "code",
   "metadata": {
    "ExecuteTime": {
     "end_time": "2024-12-12T20:43:02.613572Z",
     "start_time": "2024-12-12T20:43:02.608207Z"
    }
   },
   "source": [
    "df_user_props['use_tue_laptop'] = df_user_props['use_tue_laptop'].map(dict_use_tue_laptop)\n",
    "df_user_props.head()"
   ],
   "outputs": [
    {
     "data": {
      "text/plain": [
       "      use_tue_laptop  right_handed platform platform_version\n",
       "user                                                        \n",
       "1               True             1  Windows               10\n",
       "2               True             1  Windows               10\n",
       "4               True             1  Windows               10\n",
       "6               True             1  Windows               10\n",
       "7               True             1  Windows               10"
      ],
      "text/html": [
       "<div>\n",
       "<style scoped>\n",
       "    .dataframe tbody tr th:only-of-type {\n",
       "        vertical-align: middle;\n",
       "    }\n",
       "\n",
       "    .dataframe tbody tr th {\n",
       "        vertical-align: top;\n",
       "    }\n",
       "\n",
       "    .dataframe thead th {\n",
       "        text-align: right;\n",
       "    }\n",
       "</style>\n",
       "<table border=\"1\" class=\"dataframe\">\n",
       "  <thead>\n",
       "    <tr style=\"text-align: right;\">\n",
       "      <th></th>\n",
       "      <th>use_tue_laptop</th>\n",
       "      <th>right_handed</th>\n",
       "      <th>platform</th>\n",
       "      <th>platform_version</th>\n",
       "    </tr>\n",
       "    <tr>\n",
       "      <th>user</th>\n",
       "      <th></th>\n",
       "      <th></th>\n",
       "      <th></th>\n",
       "      <th></th>\n",
       "    </tr>\n",
       "  </thead>\n",
       "  <tbody>\n",
       "    <tr>\n",
       "      <th>1</th>\n",
       "      <td>True</td>\n",
       "      <td>1</td>\n",
       "      <td>Windows</td>\n",
       "      <td>10</td>\n",
       "    </tr>\n",
       "    <tr>\n",
       "      <th>2</th>\n",
       "      <td>True</td>\n",
       "      <td>1</td>\n",
       "      <td>Windows</td>\n",
       "      <td>10</td>\n",
       "    </tr>\n",
       "    <tr>\n",
       "      <th>4</th>\n",
       "      <td>True</td>\n",
       "      <td>1</td>\n",
       "      <td>Windows</td>\n",
       "      <td>10</td>\n",
       "    </tr>\n",
       "    <tr>\n",
       "      <th>6</th>\n",
       "      <td>True</td>\n",
       "      <td>1</td>\n",
       "      <td>Windows</td>\n",
       "      <td>10</td>\n",
       "    </tr>\n",
       "    <tr>\n",
       "      <th>7</th>\n",
       "      <td>True</td>\n",
       "      <td>1</td>\n",
       "      <td>Windows</td>\n",
       "      <td>10</td>\n",
       "    </tr>\n",
       "  </tbody>\n",
       "</table>\n",
       "</div>"
      ]
     },
     "execution_count": 110,
     "metadata": {},
     "output_type": "execute_result"
    }
   ],
   "execution_count": 110
  },
  {
   "cell_type": "markdown",
   "metadata": {},
   "source": [
    "### Data: User Trial Properties\n",
    "\n",
    "The file `'datasets/user_trial_props.csv'` contains settings that are specific to each user trial. It contains a table with the following columns:\n",
    "\n",
    "* **`'user'`**: an integer that identifies the user who drew the trajectory;\n",
    "* **`'trial'`**: an integer that identifies the trajectory;\n",
    "* **`'delay'`**: the time in seconds between the user moving the mouse on the red square in the origin and the target appearing;\n",
    "* **`'input_method'`**: whether the user used a trackpad or a mouse;\n",
    "* **`'target_radius'`**: the radius of the target in pixels;\n",
    "* **`'target_x'`**: the $x$-coordinate of the target in pixels;\n",
    "* **`'target_y'`**: the $y$-coordinate of the target in pixels;\n",
    "* **`'total_time'`**: the total time of the trial in seconds.\n",
    "\n",
    "The pair of `'user'` and `'trial'` identify a trajectory uniquely.\n",
    "\n",
    "The meaning of the values in the `'input_method'` columns is encoded by the following dictionary."
   ]
  },
  {
   "cell_type": "code",
   "metadata": {
    "ExecuteTime": {
     "end_time": "2024-12-12T20:45:11.204778Z",
     "start_time": "2024-12-12T20:45:11.202847Z"
    }
   },
   "source": [
    "dict_input_method = {0: 'trackpad', 1: 'mouse'}"
   ],
   "outputs": [],
   "execution_count": 111
  },
  {
   "cell_type": "markdown",
   "metadata": {},
   "source": [
    "We read those properties into the data frame `df_user_trial_props`."
   ]
  },
  {
   "cell_type": "code",
   "metadata": {
    "ExecuteTime": {
     "end_time": "2024-12-12T20:45:13.544471Z",
     "start_time": "2024-12-12T20:45:13.522716Z"
    }
   },
   "source": [
    "df_user_trial_props = pd.read_csv('datasets/user_trial_props.csv')\n",
    "df_user_trial_props.head()"
   ],
   "outputs": [
    {
     "data": {
      "text/plain": [
       "   user  trial     delay  input_method  target_radius  target_x  target_y  \\\n",
       "0  1226      5  2.136719             0              6       -84       -84   \n",
       "1  1226      6  3.540913             0              6         0       190   \n",
       "2  1226      7  3.688381             0              6      -158      -158   \n",
       "3  1226      8  2.823134             0              3        81       -81   \n",
       "4  1226      9  3.690253             0              9      -157       157   \n",
       "\n",
       "   total_time  \n",
       "0    3.607323  \n",
       "1    1.867664  \n",
       "2    1.645011  \n",
       "3    1.776010  \n",
       "4    1.567794  "
      ],
      "text/html": [
       "<div>\n",
       "<style scoped>\n",
       "    .dataframe tbody tr th:only-of-type {\n",
       "        vertical-align: middle;\n",
       "    }\n",
       "\n",
       "    .dataframe tbody tr th {\n",
       "        vertical-align: top;\n",
       "    }\n",
       "\n",
       "    .dataframe thead th {\n",
       "        text-align: right;\n",
       "    }\n",
       "</style>\n",
       "<table border=\"1\" class=\"dataframe\">\n",
       "  <thead>\n",
       "    <tr style=\"text-align: right;\">\n",
       "      <th></th>\n",
       "      <th>user</th>\n",
       "      <th>trial</th>\n",
       "      <th>delay</th>\n",
       "      <th>input_method</th>\n",
       "      <th>target_radius</th>\n",
       "      <th>target_x</th>\n",
       "      <th>target_y</th>\n",
       "      <th>total_time</th>\n",
       "    </tr>\n",
       "  </thead>\n",
       "  <tbody>\n",
       "    <tr>\n",
       "      <th>0</th>\n",
       "      <td>1226</td>\n",
       "      <td>5</td>\n",
       "      <td>2.136719</td>\n",
       "      <td>0</td>\n",
       "      <td>6</td>\n",
       "      <td>-84</td>\n",
       "      <td>-84</td>\n",
       "      <td>3.607323</td>\n",
       "    </tr>\n",
       "    <tr>\n",
       "      <th>1</th>\n",
       "      <td>1226</td>\n",
       "      <td>6</td>\n",
       "      <td>3.540913</td>\n",
       "      <td>0</td>\n",
       "      <td>6</td>\n",
       "      <td>0</td>\n",
       "      <td>190</td>\n",
       "      <td>1.867664</td>\n",
       "    </tr>\n",
       "    <tr>\n",
       "      <th>2</th>\n",
       "      <td>1226</td>\n",
       "      <td>7</td>\n",
       "      <td>3.688381</td>\n",
       "      <td>0</td>\n",
       "      <td>6</td>\n",
       "      <td>-158</td>\n",
       "      <td>-158</td>\n",
       "      <td>1.645011</td>\n",
       "    </tr>\n",
       "    <tr>\n",
       "      <th>3</th>\n",
       "      <td>1226</td>\n",
       "      <td>8</td>\n",
       "      <td>2.823134</td>\n",
       "      <td>0</td>\n",
       "      <td>3</td>\n",
       "      <td>81</td>\n",
       "      <td>-81</td>\n",
       "      <td>1.776010</td>\n",
       "    </tr>\n",
       "    <tr>\n",
       "      <th>4</th>\n",
       "      <td>1226</td>\n",
       "      <td>9</td>\n",
       "      <td>3.690253</td>\n",
       "      <td>0</td>\n",
       "      <td>9</td>\n",
       "      <td>-157</td>\n",
       "      <td>157</td>\n",
       "      <td>1.567794</td>\n",
       "    </tr>\n",
       "  </tbody>\n",
       "</table>\n",
       "</div>"
      ]
     },
     "execution_count": 112,
     "metadata": {},
     "output_type": "execute_result"
    }
   ],
   "execution_count": 112
  },
  {
   "cell_type": "markdown",
   "metadata": {},
   "source": [
    "Each row in the data frame `df_user_trial_props` is uniquely determined by the pair of values in the `'user'` and `'trial'` column. This pair of values would therefore make for an ideal **multi-level index** of the data frame."
   ]
  },
  {
   "cell_type": "markdown",
   "metadata": {},
   "source": [
    "#### Exercise 2.a\n",
    "\n",
    "Set the index of the data frame `df_user_trial_props` to a multi-level index consisting of the `'user'` and `'trial'` columns."
   ]
  },
  {
   "cell_type": "code",
   "metadata": {
    "ExecuteTime": {
     "end_time": "2024-12-12T20:46:00.506606Z",
     "start_time": "2024-12-12T20:46:00.500095Z"
    }
   },
   "source": [
    "#// BEGIN_TODO [DAS_2a] Multi-level index (1 point)\n",
    "\n",
    "df_user_trial_props.set_index(['user', 'trial'], inplace=True)\n",
    "\n",
    "#// END_TODO [DAS_2a]\n",
    "\n",
    "df_user_trial_props.head()"
   ],
   "outputs": [
    {
     "data": {
      "text/plain": [
       "               delay  input_method  target_radius  target_x  target_y  \\\n",
       "user trial                                                              \n",
       "1226 5      2.136719             0              6       -84       -84   \n",
       "     6      3.540913             0              6         0       190   \n",
       "     7      3.688381             0              6      -158      -158   \n",
       "     8      2.823134             0              3        81       -81   \n",
       "     9      3.690253             0              9      -157       157   \n",
       "\n",
       "            total_time  \n",
       "user trial              \n",
       "1226 5        3.607323  \n",
       "     6        1.867664  \n",
       "     7        1.645011  \n",
       "     8        1.776010  \n",
       "     9        1.567794  "
      ],
      "text/html": [
       "<div>\n",
       "<style scoped>\n",
       "    .dataframe tbody tr th:only-of-type {\n",
       "        vertical-align: middle;\n",
       "    }\n",
       "\n",
       "    .dataframe tbody tr th {\n",
       "        vertical-align: top;\n",
       "    }\n",
       "\n",
       "    .dataframe thead th {\n",
       "        text-align: right;\n",
       "    }\n",
       "</style>\n",
       "<table border=\"1\" class=\"dataframe\">\n",
       "  <thead>\n",
       "    <tr style=\"text-align: right;\">\n",
       "      <th></th>\n",
       "      <th></th>\n",
       "      <th>delay</th>\n",
       "      <th>input_method</th>\n",
       "      <th>target_radius</th>\n",
       "      <th>target_x</th>\n",
       "      <th>target_y</th>\n",
       "      <th>total_time</th>\n",
       "    </tr>\n",
       "    <tr>\n",
       "      <th>user</th>\n",
       "      <th>trial</th>\n",
       "      <th></th>\n",
       "      <th></th>\n",
       "      <th></th>\n",
       "      <th></th>\n",
       "      <th></th>\n",
       "      <th></th>\n",
       "    </tr>\n",
       "  </thead>\n",
       "  <tbody>\n",
       "    <tr>\n",
       "      <th rowspan=\"5\" valign=\"top\">1226</th>\n",
       "      <th>5</th>\n",
       "      <td>2.136719</td>\n",
       "      <td>0</td>\n",
       "      <td>6</td>\n",
       "      <td>-84</td>\n",
       "      <td>-84</td>\n",
       "      <td>3.607323</td>\n",
       "    </tr>\n",
       "    <tr>\n",
       "      <th>6</th>\n",
       "      <td>3.540913</td>\n",
       "      <td>0</td>\n",
       "      <td>6</td>\n",
       "      <td>0</td>\n",
       "      <td>190</td>\n",
       "      <td>1.867664</td>\n",
       "    </tr>\n",
       "    <tr>\n",
       "      <th>7</th>\n",
       "      <td>3.688381</td>\n",
       "      <td>0</td>\n",
       "      <td>6</td>\n",
       "      <td>-158</td>\n",
       "      <td>-158</td>\n",
       "      <td>1.645011</td>\n",
       "    </tr>\n",
       "    <tr>\n",
       "      <th>8</th>\n",
       "      <td>2.823134</td>\n",
       "      <td>0</td>\n",
       "      <td>3</td>\n",
       "      <td>81</td>\n",
       "      <td>-81</td>\n",
       "      <td>1.776010</td>\n",
       "    </tr>\n",
       "    <tr>\n",
       "      <th>9</th>\n",
       "      <td>3.690253</td>\n",
       "      <td>0</td>\n",
       "      <td>9</td>\n",
       "      <td>-157</td>\n",
       "      <td>157</td>\n",
       "      <td>1.567794</td>\n",
       "    </tr>\n",
       "  </tbody>\n",
       "</table>\n",
       "</div>"
      ]
     },
     "execution_count": 113,
     "metadata": {},
     "output_type": "execute_result"
    }
   ],
   "execution_count": 113
  },
  {
   "cell_type": "markdown",
   "metadata": {},
   "source": [
    "#### Exercise 2.b\n",
    "\n",
    "Use the dictionary `dict_right_handed` to convert the data in the column `'right_handed'` in `df_user_props` to more readable values. Similarly, use the dictionary `dict_input_method` to convert the data in the column `'input_method'` in the data frame `df_user_trial_props` to more readable values."
   ]
  },
  {
   "cell_type": "code",
   "metadata": {
    "ExecuteTime": {
     "end_time": "2024-12-12T20:48:43.073487Z",
     "start_time": "2024-12-12T20:48:43.067276Z"
    }
   },
   "source": [
    "#// BEGIN_TODO [DAS_2b] Convert columns in data frames (1 point)\n",
    "\n",
    "df_user_props['right_handed'] = df_user_props['right_handed'].map(dict_right_handed)\n",
    "df_user_trial_props['input_method'] = df_user_trial_props['input_method'].map(dict_input_method)\n",
    "\n",
    "#// END_TODO [DAS_2b]\n",
    "\n",
    "df_user_props.head()"
   ],
   "outputs": [
    {
     "data": {
      "text/plain": [
       "      use_tue_laptop  right_handed platform platform_version\n",
       "user                                                        \n",
       "1               True          True  Windows               10\n",
       "2               True          True  Windows               10\n",
       "4               True          True  Windows               10\n",
       "6               True          True  Windows               10\n",
       "7               True          True  Windows               10"
      ],
      "text/html": [
       "<div>\n",
       "<style scoped>\n",
       "    .dataframe tbody tr th:only-of-type {\n",
       "        vertical-align: middle;\n",
       "    }\n",
       "\n",
       "    .dataframe tbody tr th {\n",
       "        vertical-align: top;\n",
       "    }\n",
       "\n",
       "    .dataframe thead th {\n",
       "        text-align: right;\n",
       "    }\n",
       "</style>\n",
       "<table border=\"1\" class=\"dataframe\">\n",
       "  <thead>\n",
       "    <tr style=\"text-align: right;\">\n",
       "      <th></th>\n",
       "      <th>use_tue_laptop</th>\n",
       "      <th>right_handed</th>\n",
       "      <th>platform</th>\n",
       "      <th>platform_version</th>\n",
       "    </tr>\n",
       "    <tr>\n",
       "      <th>user</th>\n",
       "      <th></th>\n",
       "      <th></th>\n",
       "      <th></th>\n",
       "      <th></th>\n",
       "    </tr>\n",
       "  </thead>\n",
       "  <tbody>\n",
       "    <tr>\n",
       "      <th>1</th>\n",
       "      <td>True</td>\n",
       "      <td>True</td>\n",
       "      <td>Windows</td>\n",
       "      <td>10</td>\n",
       "    </tr>\n",
       "    <tr>\n",
       "      <th>2</th>\n",
       "      <td>True</td>\n",
       "      <td>True</td>\n",
       "      <td>Windows</td>\n",
       "      <td>10</td>\n",
       "    </tr>\n",
       "    <tr>\n",
       "      <th>4</th>\n",
       "      <td>True</td>\n",
       "      <td>True</td>\n",
       "      <td>Windows</td>\n",
       "      <td>10</td>\n",
       "    </tr>\n",
       "    <tr>\n",
       "      <th>6</th>\n",
       "      <td>True</td>\n",
       "      <td>True</td>\n",
       "      <td>Windows</td>\n",
       "      <td>10</td>\n",
       "    </tr>\n",
       "    <tr>\n",
       "      <th>7</th>\n",
       "      <td>True</td>\n",
       "      <td>True</td>\n",
       "      <td>Windows</td>\n",
       "      <td>10</td>\n",
       "    </tr>\n",
       "  </tbody>\n",
       "</table>\n",
       "</div>"
      ]
     },
     "execution_count": 114,
     "metadata": {},
     "output_type": "execute_result"
    }
   ],
   "execution_count": 114
  },
  {
   "cell_type": "code",
   "metadata": {
    "ExecuteTime": {
     "end_time": "2024-12-12T20:48:45.636738Z",
     "start_time": "2024-12-12T20:48:45.631692Z"
    }
   },
   "source": [
    "df_user_trial_props.head()"
   ],
   "outputs": [
    {
     "data": {
      "text/plain": [
       "               delay input_method  target_radius  target_x  target_y  \\\n",
       "user trial                                                             \n",
       "1226 5      2.136719     trackpad              6       -84       -84   \n",
       "     6      3.540913     trackpad              6         0       190   \n",
       "     7      3.688381     trackpad              6      -158      -158   \n",
       "     8      2.823134     trackpad              3        81       -81   \n",
       "     9      3.690253     trackpad              9      -157       157   \n",
       "\n",
       "            total_time  \n",
       "user trial              \n",
       "1226 5        3.607323  \n",
       "     6        1.867664  \n",
       "     7        1.645011  \n",
       "     8        1.776010  \n",
       "     9        1.567794  "
      ],
      "text/html": [
       "<div>\n",
       "<style scoped>\n",
       "    .dataframe tbody tr th:only-of-type {\n",
       "        vertical-align: middle;\n",
       "    }\n",
       "\n",
       "    .dataframe tbody tr th {\n",
       "        vertical-align: top;\n",
       "    }\n",
       "\n",
       "    .dataframe thead th {\n",
       "        text-align: right;\n",
       "    }\n",
       "</style>\n",
       "<table border=\"1\" class=\"dataframe\">\n",
       "  <thead>\n",
       "    <tr style=\"text-align: right;\">\n",
       "      <th></th>\n",
       "      <th></th>\n",
       "      <th>delay</th>\n",
       "      <th>input_method</th>\n",
       "      <th>target_radius</th>\n",
       "      <th>target_x</th>\n",
       "      <th>target_y</th>\n",
       "      <th>total_time</th>\n",
       "    </tr>\n",
       "    <tr>\n",
       "      <th>user</th>\n",
       "      <th>trial</th>\n",
       "      <th></th>\n",
       "      <th></th>\n",
       "      <th></th>\n",
       "      <th></th>\n",
       "      <th></th>\n",
       "      <th></th>\n",
       "    </tr>\n",
       "  </thead>\n",
       "  <tbody>\n",
       "    <tr>\n",
       "      <th rowspan=\"5\" valign=\"top\">1226</th>\n",
       "      <th>5</th>\n",
       "      <td>2.136719</td>\n",
       "      <td>trackpad</td>\n",
       "      <td>6</td>\n",
       "      <td>-84</td>\n",
       "      <td>-84</td>\n",
       "      <td>3.607323</td>\n",
       "    </tr>\n",
       "    <tr>\n",
       "      <th>6</th>\n",
       "      <td>3.540913</td>\n",
       "      <td>trackpad</td>\n",
       "      <td>6</td>\n",
       "      <td>0</td>\n",
       "      <td>190</td>\n",
       "      <td>1.867664</td>\n",
       "    </tr>\n",
       "    <tr>\n",
       "      <th>7</th>\n",
       "      <td>3.688381</td>\n",
       "      <td>trackpad</td>\n",
       "      <td>6</td>\n",
       "      <td>-158</td>\n",
       "      <td>-158</td>\n",
       "      <td>1.645011</td>\n",
       "    </tr>\n",
       "    <tr>\n",
       "      <th>8</th>\n",
       "      <td>2.823134</td>\n",
       "      <td>trackpad</td>\n",
       "      <td>3</td>\n",
       "      <td>81</td>\n",
       "      <td>-81</td>\n",
       "      <td>1.776010</td>\n",
       "    </tr>\n",
       "    <tr>\n",
       "      <th>9</th>\n",
       "      <td>3.690253</td>\n",
       "      <td>trackpad</td>\n",
       "      <td>9</td>\n",
       "      <td>-157</td>\n",
       "      <td>157</td>\n",
       "      <td>1.567794</td>\n",
       "    </tr>\n",
       "  </tbody>\n",
       "</table>\n",
       "</div>"
      ]
     },
     "execution_count": 115,
     "metadata": {},
     "output_type": "execute_result"
    }
   ],
   "execution_count": 115
  },
  {
   "cell_type": "markdown",
   "metadata": {},
   "source": [
    "## Data Aggregation"
   ]
  },
  {
   "cell_type": "markdown",
   "metadata": {},
   "source": [
    "In the EDA exercises you have already encountered various ways to aggregate data. One very useful method was to _group_ the data. For instance, if we want to compute the average approximate speed in every trial, we can do this by first grouping by `'user'` and `'trial'`, selecting the `'approximate_speed'` column and computing the mean."
   ]
  },
  {
   "cell_type": "code",
   "metadata": {
    "ExecuteTime": {
     "end_time": "2024-12-12T20:48:55.967606Z",
     "start_time": "2024-12-12T20:48:55.956714Z"
    }
   },
   "source": [
    "df_speeds = df_fitts.groupby(['user', 'trial'])[['approximate_speed']].mean()\n",
    "df_speeds.head()"
   ],
   "outputs": [
    {
     "data": {
      "text/plain": [
       "            approximate_speed\n",
       "user trial                   \n",
       "54   5               0.175054\n",
       "     6               0.172605\n",
       "     7               0.143626\n",
       "     8               0.143971\n",
       "     9               0.096142"
      ],
      "text/html": [
       "<div>\n",
       "<style scoped>\n",
       "    .dataframe tbody tr th:only-of-type {\n",
       "        vertical-align: middle;\n",
       "    }\n",
       "\n",
       "    .dataframe tbody tr th {\n",
       "        vertical-align: top;\n",
       "    }\n",
       "\n",
       "    .dataframe thead th {\n",
       "        text-align: right;\n",
       "    }\n",
       "</style>\n",
       "<table border=\"1\" class=\"dataframe\">\n",
       "  <thead>\n",
       "    <tr style=\"text-align: right;\">\n",
       "      <th></th>\n",
       "      <th></th>\n",
       "      <th>approximate_speed</th>\n",
       "    </tr>\n",
       "    <tr>\n",
       "      <th>user</th>\n",
       "      <th>trial</th>\n",
       "      <th></th>\n",
       "    </tr>\n",
       "  </thead>\n",
       "  <tbody>\n",
       "    <tr>\n",
       "      <th rowspan=\"5\" valign=\"top\">54</th>\n",
       "      <th>5</th>\n",
       "      <td>0.175054</td>\n",
       "    </tr>\n",
       "    <tr>\n",
       "      <th>6</th>\n",
       "      <td>0.172605</td>\n",
       "    </tr>\n",
       "    <tr>\n",
       "      <th>7</th>\n",
       "      <td>0.143626</td>\n",
       "    </tr>\n",
       "    <tr>\n",
       "      <th>8</th>\n",
       "      <td>0.143971</td>\n",
       "    </tr>\n",
       "    <tr>\n",
       "      <th>9</th>\n",
       "      <td>0.096142</td>\n",
       "    </tr>\n",
       "  </tbody>\n",
       "</table>\n",
       "</div>"
      ]
     },
     "execution_count": 116,
     "metadata": {},
     "output_type": "execute_result"
    }
   ],
   "execution_count": 116
  },
  {
   "cell_type": "markdown",
   "metadata": {},
   "source": [
    "Note that the resulting data frame is indexed by the `'user'` and `'trial'` pair, as a multi-level index."
   ]
  },
  {
   "cell_type": "markdown",
   "metadata": {},
   "source": [
    "### Computing Several Aggregated Quantities at Once\n",
    "\n",
    "The _Pandas_ library provides a very convenient function **`agg()`**, which can compute several aggregated quantities on grouped data at once. As an argument, you can supply a dictionary, which maps column names to either\n",
    "\n",
    "* a name of a function (string), e.g. `'mean'`, `'median'`, `'sum'`, or `'count'`\n",
    "* a function\n",
    "* a list of names of functions, e.g. `['sum', 'count']`\n",
    "\n",
    "We present an example of the first and last usage. We compute both the **mean** and the **median** of `'approximate_speed'` and the **max** value of `'x'`"
   ]
  },
  {
   "cell_type": "code",
   "metadata": {
    "ExecuteTime": {
     "end_time": "2024-12-12T20:50:22.459353Z",
     "start_time": "2024-12-12T20:50:22.446740Z"
    }
   },
   "source": [
    "df_features = df_fitts.groupby(['user', 'trial']).agg({'approximate_speed': ['mean', 'median'], 'x': 'max'})\n",
    "df_features.head()"
   ],
   "outputs": [
    {
     "data": {
      "text/plain": [
       "           approximate_speed                     x\n",
       "                        mean    median         max\n",
       "user trial                                        \n",
       "54   5              0.175054  0.042922   12.502372\n",
       "     6              0.172605  0.063461  137.000000\n",
       "     7              0.143626  0.040945    2.000000\n",
       "     8              0.143971  0.036264    0.000000\n",
       "     9              0.096142  0.009530   96.000000"
      ],
      "text/html": [
       "<div>\n",
       "<style scoped>\n",
       "    .dataframe tbody tr th:only-of-type {\n",
       "        vertical-align: middle;\n",
       "    }\n",
       "\n",
       "    .dataframe tbody tr th {\n",
       "        vertical-align: top;\n",
       "    }\n",
       "\n",
       "    .dataframe thead tr th {\n",
       "        text-align: left;\n",
       "    }\n",
       "\n",
       "    .dataframe thead tr:last-of-type th {\n",
       "        text-align: right;\n",
       "    }\n",
       "</style>\n",
       "<table border=\"1\" class=\"dataframe\">\n",
       "  <thead>\n",
       "    <tr>\n",
       "      <th></th>\n",
       "      <th></th>\n",
       "      <th colspan=\"2\" halign=\"left\">approximate_speed</th>\n",
       "      <th>x</th>\n",
       "    </tr>\n",
       "    <tr>\n",
       "      <th></th>\n",
       "      <th></th>\n",
       "      <th>mean</th>\n",
       "      <th>median</th>\n",
       "      <th>max</th>\n",
       "    </tr>\n",
       "    <tr>\n",
       "      <th>user</th>\n",
       "      <th>trial</th>\n",
       "      <th></th>\n",
       "      <th></th>\n",
       "      <th></th>\n",
       "    </tr>\n",
       "  </thead>\n",
       "  <tbody>\n",
       "    <tr>\n",
       "      <th rowspan=\"5\" valign=\"top\">54</th>\n",
       "      <th>5</th>\n",
       "      <td>0.175054</td>\n",
       "      <td>0.042922</td>\n",
       "      <td>12.502372</td>\n",
       "    </tr>\n",
       "    <tr>\n",
       "      <th>6</th>\n",
       "      <td>0.172605</td>\n",
       "      <td>0.063461</td>\n",
       "      <td>137.000000</td>\n",
       "    </tr>\n",
       "    <tr>\n",
       "      <th>7</th>\n",
       "      <td>0.143626</td>\n",
       "      <td>0.040945</td>\n",
       "      <td>2.000000</td>\n",
       "    </tr>\n",
       "    <tr>\n",
       "      <th>8</th>\n",
       "      <td>0.143971</td>\n",
       "      <td>0.036264</td>\n",
       "      <td>0.000000</td>\n",
       "    </tr>\n",
       "    <tr>\n",
       "      <th>9</th>\n",
       "      <td>0.096142</td>\n",
       "      <td>0.009530</td>\n",
       "      <td>96.000000</td>\n",
       "    </tr>\n",
       "  </tbody>\n",
       "</table>\n",
       "</div>"
      ]
     },
     "execution_count": 117,
     "metadata": {},
     "output_type": "execute_result"
    }
   ],
   "execution_count": 117
  },
  {
   "cell_type": "markdown",
   "metadata": {},
   "source": [
    "In the result, not only do the rows have a multi-level index, but also the columns. For our next step this is not useful, so we first rename the columns."
   ]
  },
  {
   "cell_type": "code",
   "metadata": {
    "ExecuteTime": {
     "end_time": "2024-12-12T20:50:24.761924Z",
     "start_time": "2024-12-12T20:50:24.756716Z"
    }
   },
   "source": [
    "df_features.columns = ['appr_speed_mean', 'appr_speed_median', 'x_max']\n",
    "df_features.head()"
   ],
   "outputs": [
    {
     "data": {
      "text/plain": [
       "            appr_speed_mean  appr_speed_median       x_max\n",
       "user trial                                                \n",
       "54   5             0.175054           0.042922   12.502372\n",
       "     6             0.172605           0.063461  137.000000\n",
       "     7             0.143626           0.040945    2.000000\n",
       "     8             0.143971           0.036264    0.000000\n",
       "     9             0.096142           0.009530   96.000000"
      ],
      "text/html": [
       "<div>\n",
       "<style scoped>\n",
       "    .dataframe tbody tr th:only-of-type {\n",
       "        vertical-align: middle;\n",
       "    }\n",
       "\n",
       "    .dataframe tbody tr th {\n",
       "        vertical-align: top;\n",
       "    }\n",
       "\n",
       "    .dataframe thead th {\n",
       "        text-align: right;\n",
       "    }\n",
       "</style>\n",
       "<table border=\"1\" class=\"dataframe\">\n",
       "  <thead>\n",
       "    <tr style=\"text-align: right;\">\n",
       "      <th></th>\n",
       "      <th></th>\n",
       "      <th>appr_speed_mean</th>\n",
       "      <th>appr_speed_median</th>\n",
       "      <th>x_max</th>\n",
       "    </tr>\n",
       "    <tr>\n",
       "      <th>user</th>\n",
       "      <th>trial</th>\n",
       "      <th></th>\n",
       "      <th></th>\n",
       "      <th></th>\n",
       "    </tr>\n",
       "  </thead>\n",
       "  <tbody>\n",
       "    <tr>\n",
       "      <th rowspan=\"5\" valign=\"top\">54</th>\n",
       "      <th>5</th>\n",
       "      <td>0.175054</td>\n",
       "      <td>0.042922</td>\n",
       "      <td>12.502372</td>\n",
       "    </tr>\n",
       "    <tr>\n",
       "      <th>6</th>\n",
       "      <td>0.172605</td>\n",
       "      <td>0.063461</td>\n",
       "      <td>137.000000</td>\n",
       "    </tr>\n",
       "    <tr>\n",
       "      <th>7</th>\n",
       "      <td>0.143626</td>\n",
       "      <td>0.040945</td>\n",
       "      <td>2.000000</td>\n",
       "    </tr>\n",
       "    <tr>\n",
       "      <th>8</th>\n",
       "      <td>0.143971</td>\n",
       "      <td>0.036264</td>\n",
       "      <td>0.000000</td>\n",
       "    </tr>\n",
       "    <tr>\n",
       "      <th>9</th>\n",
       "      <td>0.096142</td>\n",
       "      <td>0.009530</td>\n",
       "      <td>96.000000</td>\n",
       "    </tr>\n",
       "  </tbody>\n",
       "</table>\n",
       "</div>"
      ]
     },
     "execution_count": 118,
     "metadata": {},
     "output_type": "execute_result"
    }
   ],
   "execution_count": 118
  },
  {
   "cell_type": "markdown",
   "metadata": {},
   "source": [
    "### Joining Two Data Frames\n",
    "\n",
    "We now want to add the computed features as columns to the old data frame with properties `df_user_trial_props`. We can do this by _joining_ two data frames with the _Pandas_ function **`join()`**. We store the result in a data frame `df_results`. "
   ]
  },
  {
   "cell_type": "code",
   "metadata": {
    "ExecuteTime": {
     "end_time": "2024-12-12T20:51:15.407616Z",
     "start_time": "2024-12-12T20:51:15.398006Z"
    }
   },
   "source": [
    "df_results = df_user_trial_props.join(df_features)\n",
    "df_results.head()"
   ],
   "outputs": [
    {
     "data": {
      "text/plain": [
       "               delay input_method  target_radius  target_x  target_y  \\\n",
       "user trial                                                             \n",
       "1226 5      2.136719     trackpad              6       -84       -84   \n",
       "     6      3.540913     trackpad              6         0       190   \n",
       "     7      3.688381     trackpad              6      -158      -158   \n",
       "     8      2.823134     trackpad              3        81       -81   \n",
       "     9      3.690253     trackpad              9      -157       157   \n",
       "\n",
       "            total_time  appr_speed_mean  appr_speed_median  x_max  \n",
       "user trial                                                         \n",
       "1226 5        3.607323              NaN                NaN    NaN  \n",
       "     6        1.867664              NaN                NaN    NaN  \n",
       "     7        1.645011              NaN                NaN    NaN  \n",
       "     8        1.776010              NaN                NaN    NaN  \n",
       "     9        1.567794              NaN                NaN    NaN  "
      ],
      "text/html": [
       "<div>\n",
       "<style scoped>\n",
       "    .dataframe tbody tr th:only-of-type {\n",
       "        vertical-align: middle;\n",
       "    }\n",
       "\n",
       "    .dataframe tbody tr th {\n",
       "        vertical-align: top;\n",
       "    }\n",
       "\n",
       "    .dataframe thead th {\n",
       "        text-align: right;\n",
       "    }\n",
       "</style>\n",
       "<table border=\"1\" class=\"dataframe\">\n",
       "  <thead>\n",
       "    <tr style=\"text-align: right;\">\n",
       "      <th></th>\n",
       "      <th></th>\n",
       "      <th>delay</th>\n",
       "      <th>input_method</th>\n",
       "      <th>target_radius</th>\n",
       "      <th>target_x</th>\n",
       "      <th>target_y</th>\n",
       "      <th>total_time</th>\n",
       "      <th>appr_speed_mean</th>\n",
       "      <th>appr_speed_median</th>\n",
       "      <th>x_max</th>\n",
       "    </tr>\n",
       "    <tr>\n",
       "      <th>user</th>\n",
       "      <th>trial</th>\n",
       "      <th></th>\n",
       "      <th></th>\n",
       "      <th></th>\n",
       "      <th></th>\n",
       "      <th></th>\n",
       "      <th></th>\n",
       "      <th></th>\n",
       "      <th></th>\n",
       "      <th></th>\n",
       "    </tr>\n",
       "  </thead>\n",
       "  <tbody>\n",
       "    <tr>\n",
       "      <th rowspan=\"5\" valign=\"top\">1226</th>\n",
       "      <th>5</th>\n",
       "      <td>2.136719</td>\n",
       "      <td>trackpad</td>\n",
       "      <td>6</td>\n",
       "      <td>-84</td>\n",
       "      <td>-84</td>\n",
       "      <td>3.607323</td>\n",
       "      <td>NaN</td>\n",
       "      <td>NaN</td>\n",
       "      <td>NaN</td>\n",
       "    </tr>\n",
       "    <tr>\n",
       "      <th>6</th>\n",
       "      <td>3.540913</td>\n",
       "      <td>trackpad</td>\n",
       "      <td>6</td>\n",
       "      <td>0</td>\n",
       "      <td>190</td>\n",
       "      <td>1.867664</td>\n",
       "      <td>NaN</td>\n",
       "      <td>NaN</td>\n",
       "      <td>NaN</td>\n",
       "    </tr>\n",
       "    <tr>\n",
       "      <th>7</th>\n",
       "      <td>3.688381</td>\n",
       "      <td>trackpad</td>\n",
       "      <td>6</td>\n",
       "      <td>-158</td>\n",
       "      <td>-158</td>\n",
       "      <td>1.645011</td>\n",
       "      <td>NaN</td>\n",
       "      <td>NaN</td>\n",
       "      <td>NaN</td>\n",
       "    </tr>\n",
       "    <tr>\n",
       "      <th>8</th>\n",
       "      <td>2.823134</td>\n",
       "      <td>trackpad</td>\n",
       "      <td>3</td>\n",
       "      <td>81</td>\n",
       "      <td>-81</td>\n",
       "      <td>1.776010</td>\n",
       "      <td>NaN</td>\n",
       "      <td>NaN</td>\n",
       "      <td>NaN</td>\n",
       "    </tr>\n",
       "    <tr>\n",
       "      <th>9</th>\n",
       "      <td>3.690253</td>\n",
       "      <td>trackpad</td>\n",
       "      <td>9</td>\n",
       "      <td>-157</td>\n",
       "      <td>157</td>\n",
       "      <td>1.567794</td>\n",
       "      <td>NaN</td>\n",
       "      <td>NaN</td>\n",
       "      <td>NaN</td>\n",
       "    </tr>\n",
       "  </tbody>\n",
       "</table>\n",
       "</div>"
      ]
     },
     "execution_count": 119,
     "metadata": {},
     "output_type": "execute_result"
    }
   ],
   "execution_count": 119
  },
  {
   "cell_type": "markdown",
   "metadata": {},
   "source": [
    "> **Important:** For the **`join()`** function to behave properly, it is important that the two data frames are indexed in the same way. For example, it was essential for joining `df_user_trial_props` with `df_features` that we used the same multi-level index with (`user`, `trial`)-pairs for both data frames.\n",
    "\n",
    "Because only the paths of a few users are stored in `df_fitts`, for most users we could not compute the features, and they appear as `NaN`s in the table above. However, if we remove those, we can see that the features were indeed added."
   ]
  },
  {
   "cell_type": "code",
   "metadata": {
    "ExecuteTime": {
     "end_time": "2024-12-12T20:51:33.689043Z",
     "start_time": "2024-12-12T20:51:33.680993Z"
    }
   },
   "source": [
    "df_results.dropna().head()"
   ],
   "outputs": [
    {
     "data": {
      "text/plain": [
       "               delay input_method  target_radius  target_x  target_y  \\\n",
       "user trial                                                             \n",
       "1164 5      2.387640        mouse              9       103      -103   \n",
       "     6      3.133959        mouse              9       169       169   \n",
       "     7      3.481099        mouse              3         0      -147   \n",
       "     8      2.680347        mouse              3         0       170   \n",
       "     9      2.447131        mouse              6      -199      -199   \n",
       "\n",
       "            total_time  appr_speed_mean  appr_speed_median  x_max  \n",
       "user trial                                                         \n",
       "1164 5        0.690162         0.274753           0.160916  111.0  \n",
       "     6        0.987574         0.311535           0.062526  180.0  \n",
       "     7        1.054624         0.150710           0.001744   13.0  \n",
       "     8        0.884709         0.195260           0.006782    1.0  \n",
       "     9        1.440885         0.252423           0.060087    0.0  "
      ],
      "text/html": [
       "<div>\n",
       "<style scoped>\n",
       "    .dataframe tbody tr th:only-of-type {\n",
       "        vertical-align: middle;\n",
       "    }\n",
       "\n",
       "    .dataframe tbody tr th {\n",
       "        vertical-align: top;\n",
       "    }\n",
       "\n",
       "    .dataframe thead th {\n",
       "        text-align: right;\n",
       "    }\n",
       "</style>\n",
       "<table border=\"1\" class=\"dataframe\">\n",
       "  <thead>\n",
       "    <tr style=\"text-align: right;\">\n",
       "      <th></th>\n",
       "      <th></th>\n",
       "      <th>delay</th>\n",
       "      <th>input_method</th>\n",
       "      <th>target_radius</th>\n",
       "      <th>target_x</th>\n",
       "      <th>target_y</th>\n",
       "      <th>total_time</th>\n",
       "      <th>appr_speed_mean</th>\n",
       "      <th>appr_speed_median</th>\n",
       "      <th>x_max</th>\n",
       "    </tr>\n",
       "    <tr>\n",
       "      <th>user</th>\n",
       "      <th>trial</th>\n",
       "      <th></th>\n",
       "      <th></th>\n",
       "      <th></th>\n",
       "      <th></th>\n",
       "      <th></th>\n",
       "      <th></th>\n",
       "      <th></th>\n",
       "      <th></th>\n",
       "      <th></th>\n",
       "    </tr>\n",
       "  </thead>\n",
       "  <tbody>\n",
       "    <tr>\n",
       "      <th rowspan=\"5\" valign=\"top\">1164</th>\n",
       "      <th>5</th>\n",
       "      <td>2.387640</td>\n",
       "      <td>mouse</td>\n",
       "      <td>9</td>\n",
       "      <td>103</td>\n",
       "      <td>-103</td>\n",
       "      <td>0.690162</td>\n",
       "      <td>0.274753</td>\n",
       "      <td>0.160916</td>\n",
       "      <td>111.0</td>\n",
       "    </tr>\n",
       "    <tr>\n",
       "      <th>6</th>\n",
       "      <td>3.133959</td>\n",
       "      <td>mouse</td>\n",
       "      <td>9</td>\n",
       "      <td>169</td>\n",
       "      <td>169</td>\n",
       "      <td>0.987574</td>\n",
       "      <td>0.311535</td>\n",
       "      <td>0.062526</td>\n",
       "      <td>180.0</td>\n",
       "    </tr>\n",
       "    <tr>\n",
       "      <th>7</th>\n",
       "      <td>3.481099</td>\n",
       "      <td>mouse</td>\n",
       "      <td>3</td>\n",
       "      <td>0</td>\n",
       "      <td>-147</td>\n",
       "      <td>1.054624</td>\n",
       "      <td>0.150710</td>\n",
       "      <td>0.001744</td>\n",
       "      <td>13.0</td>\n",
       "    </tr>\n",
       "    <tr>\n",
       "      <th>8</th>\n",
       "      <td>2.680347</td>\n",
       "      <td>mouse</td>\n",
       "      <td>3</td>\n",
       "      <td>0</td>\n",
       "      <td>170</td>\n",
       "      <td>0.884709</td>\n",
       "      <td>0.195260</td>\n",
       "      <td>0.006782</td>\n",
       "      <td>1.0</td>\n",
       "    </tr>\n",
       "    <tr>\n",
       "      <th>9</th>\n",
       "      <td>2.447131</td>\n",
       "      <td>mouse</td>\n",
       "      <td>6</td>\n",
       "      <td>-199</td>\n",
       "      <td>-199</td>\n",
       "      <td>1.440885</td>\n",
       "      <td>0.252423</td>\n",
       "      <td>0.060087</td>\n",
       "      <td>0.0</td>\n",
       "    </tr>\n",
       "  </tbody>\n",
       "</table>\n",
       "</div>"
      ]
     },
     "execution_count": 120,
     "metadata": {},
     "output_type": "execute_result"
    }
   ],
   "execution_count": 120
  },
  {
   "cell_type": "markdown",
   "metadata": {},
   "source": [
    "#### Exercise 2.c\n",
    "\n",
    "Compute the length for each trajectory in `df_fitts` and add the results to the data frame `df_results` by joining these results to this dataframe. Call the resulting data frame `df_fitts_results`. Make sure that the column containing the total lengths is called `'length'`.\n",
    "\n",
    "> **Hint:** Recall that the value for 'path_length' is the sum of all values for 'segment_length' so far."
   ]
  },
  {
   "cell_type": "code",
   "metadata": {
    "ExecuteTime": {
     "end_time": "2024-12-12T20:53:35.936419Z",
     "start_time": "2024-12-12T20:53:35.930611Z"
    }
   },
   "source": [
    "df_fitts.head()"
   ],
   "outputs": [
    {
     "data": {
      "text/plain": [
       "                   x         y  path_length  approximate_speed\n",
       "user trial t                                                  \n",
       "1164 5     0.00 -2.0  1.000000     0.000000           0.001584\n",
       "           0.02 -2.0  0.936582     0.063418           0.002497\n",
       "           0.04 -2.0  0.873164     0.126836           0.002995\n",
       "           0.06 -2.0  0.809747     0.190253           0.003142\n",
       "           0.08 -2.0  0.746329     0.253671           0.003166"
      ],
      "text/html": [
       "<div>\n",
       "<style scoped>\n",
       "    .dataframe tbody tr th:only-of-type {\n",
       "        vertical-align: middle;\n",
       "    }\n",
       "\n",
       "    .dataframe tbody tr th {\n",
       "        vertical-align: top;\n",
       "    }\n",
       "\n",
       "    .dataframe thead th {\n",
       "        text-align: right;\n",
       "    }\n",
       "</style>\n",
       "<table border=\"1\" class=\"dataframe\">\n",
       "  <thead>\n",
       "    <tr style=\"text-align: right;\">\n",
       "      <th></th>\n",
       "      <th></th>\n",
       "      <th></th>\n",
       "      <th>x</th>\n",
       "      <th>y</th>\n",
       "      <th>path_length</th>\n",
       "      <th>approximate_speed</th>\n",
       "    </tr>\n",
       "    <tr>\n",
       "      <th>user</th>\n",
       "      <th>trial</th>\n",
       "      <th>t</th>\n",
       "      <th></th>\n",
       "      <th></th>\n",
       "      <th></th>\n",
       "      <th></th>\n",
       "    </tr>\n",
       "  </thead>\n",
       "  <tbody>\n",
       "    <tr>\n",
       "      <th rowspan=\"5\" valign=\"top\">1164</th>\n",
       "      <th rowspan=\"5\" valign=\"top\">5</th>\n",
       "      <th>0.00</th>\n",
       "      <td>-2.0</td>\n",
       "      <td>1.000000</td>\n",
       "      <td>0.000000</td>\n",
       "      <td>0.001584</td>\n",
       "    </tr>\n",
       "    <tr>\n",
       "      <th>0.02</th>\n",
       "      <td>-2.0</td>\n",
       "      <td>0.936582</td>\n",
       "      <td>0.063418</td>\n",
       "      <td>0.002497</td>\n",
       "    </tr>\n",
       "    <tr>\n",
       "      <th>0.04</th>\n",
       "      <td>-2.0</td>\n",
       "      <td>0.873164</td>\n",
       "      <td>0.126836</td>\n",
       "      <td>0.002995</td>\n",
       "    </tr>\n",
       "    <tr>\n",
       "      <th>0.06</th>\n",
       "      <td>-2.0</td>\n",
       "      <td>0.809747</td>\n",
       "      <td>0.190253</td>\n",
       "      <td>0.003142</td>\n",
       "    </tr>\n",
       "    <tr>\n",
       "      <th>0.08</th>\n",
       "      <td>-2.0</td>\n",
       "      <td>0.746329</td>\n",
       "      <td>0.253671</td>\n",
       "      <td>0.003166</td>\n",
       "    </tr>\n",
       "  </tbody>\n",
       "</table>\n",
       "</div>"
      ]
     },
     "execution_count": 121,
     "metadata": {},
     "output_type": "execute_result"
    }
   ],
   "execution_count": 121
  },
  {
   "cell_type": "code",
   "metadata": {
    "ExecuteTime": {
     "end_time": "2024-12-12T21:00:52.788053Z",
     "start_time": "2024-12-12T21:00:52.773619Z"
    }
   },
   "source": [
    "#// BEGIN_TODO [DAS_2c] Compute the length per trajectory (1 point)\n",
    "\n",
    "df_fitts_results = df_results.join(df_fitts.groupby(['user', 'trial']).agg({'path_length': 'max'}).rename(columns={'path_length': 'length'}))\n",
    "\n",
    "#// END_TODO [DAS_2c]\n",
    "\n",
    "df_fitts_results.dropna().head()"
   ],
   "outputs": [
    {
     "data": {
      "text/plain": [
       "               delay input_method  target_radius  target_x  target_y  \\\n",
       "user trial                                                             \n",
       "1164 5      2.387640        mouse              9       103      -103   \n",
       "     6      3.133959        mouse              9       169       169   \n",
       "     7      3.481099        mouse              3         0      -147   \n",
       "     8      2.680347        mouse              3         0       170   \n",
       "     9      2.447131        mouse              6      -199      -199   \n",
       "\n",
       "            total_time  appr_speed_mean  appr_speed_median  x_max      length  \n",
       "user trial                                                                     \n",
       "1164 5        0.690162         0.274753           0.160916  111.0  197.870190  \n",
       "     6        0.987574         0.311535           0.062526  180.0  317.971787  \n",
       "     7        1.054624         0.150710           0.001744   13.0  162.938277  \n",
       "     8        0.884709         0.195260           0.006782    1.0  179.716716  \n",
       "     9        1.440885         0.252423           0.060087    0.0  368.915922  "
      ],
      "text/html": [
       "<div>\n",
       "<style scoped>\n",
       "    .dataframe tbody tr th:only-of-type {\n",
       "        vertical-align: middle;\n",
       "    }\n",
       "\n",
       "    .dataframe tbody tr th {\n",
       "        vertical-align: top;\n",
       "    }\n",
       "\n",
       "    .dataframe thead th {\n",
       "        text-align: right;\n",
       "    }\n",
       "</style>\n",
       "<table border=\"1\" class=\"dataframe\">\n",
       "  <thead>\n",
       "    <tr style=\"text-align: right;\">\n",
       "      <th></th>\n",
       "      <th></th>\n",
       "      <th>delay</th>\n",
       "      <th>input_method</th>\n",
       "      <th>target_radius</th>\n",
       "      <th>target_x</th>\n",
       "      <th>target_y</th>\n",
       "      <th>total_time</th>\n",
       "      <th>appr_speed_mean</th>\n",
       "      <th>appr_speed_median</th>\n",
       "      <th>x_max</th>\n",
       "      <th>length</th>\n",
       "    </tr>\n",
       "    <tr>\n",
       "      <th>user</th>\n",
       "      <th>trial</th>\n",
       "      <th></th>\n",
       "      <th></th>\n",
       "      <th></th>\n",
       "      <th></th>\n",
       "      <th></th>\n",
       "      <th></th>\n",
       "      <th></th>\n",
       "      <th></th>\n",
       "      <th></th>\n",
       "      <th></th>\n",
       "    </tr>\n",
       "  </thead>\n",
       "  <tbody>\n",
       "    <tr>\n",
       "      <th rowspan=\"5\" valign=\"top\">1164</th>\n",
       "      <th>5</th>\n",
       "      <td>2.387640</td>\n",
       "      <td>mouse</td>\n",
       "      <td>9</td>\n",
       "      <td>103</td>\n",
       "      <td>-103</td>\n",
       "      <td>0.690162</td>\n",
       "      <td>0.274753</td>\n",
       "      <td>0.160916</td>\n",
       "      <td>111.0</td>\n",
       "      <td>197.870190</td>\n",
       "    </tr>\n",
       "    <tr>\n",
       "      <th>6</th>\n",
       "      <td>3.133959</td>\n",
       "      <td>mouse</td>\n",
       "      <td>9</td>\n",
       "      <td>169</td>\n",
       "      <td>169</td>\n",
       "      <td>0.987574</td>\n",
       "      <td>0.311535</td>\n",
       "      <td>0.062526</td>\n",
       "      <td>180.0</td>\n",
       "      <td>317.971787</td>\n",
       "    </tr>\n",
       "    <tr>\n",
       "      <th>7</th>\n",
       "      <td>3.481099</td>\n",
       "      <td>mouse</td>\n",
       "      <td>3</td>\n",
       "      <td>0</td>\n",
       "      <td>-147</td>\n",
       "      <td>1.054624</td>\n",
       "      <td>0.150710</td>\n",
       "      <td>0.001744</td>\n",
       "      <td>13.0</td>\n",
       "      <td>162.938277</td>\n",
       "    </tr>\n",
       "    <tr>\n",
       "      <th>8</th>\n",
       "      <td>2.680347</td>\n",
       "      <td>mouse</td>\n",
       "      <td>3</td>\n",
       "      <td>0</td>\n",
       "      <td>170</td>\n",
       "      <td>0.884709</td>\n",
       "      <td>0.195260</td>\n",
       "      <td>0.006782</td>\n",
       "      <td>1.0</td>\n",
       "      <td>179.716716</td>\n",
       "    </tr>\n",
       "    <tr>\n",
       "      <th>9</th>\n",
       "      <td>2.447131</td>\n",
       "      <td>mouse</td>\n",
       "      <td>6</td>\n",
       "      <td>-199</td>\n",
       "      <td>-199</td>\n",
       "      <td>1.440885</td>\n",
       "      <td>0.252423</td>\n",
       "      <td>0.060087</td>\n",
       "      <td>0.0</td>\n",
       "      <td>368.915922</td>\n",
       "    </tr>\n",
       "  </tbody>\n",
       "</table>\n",
       "</div>"
      ]
     },
     "execution_count": 129,
     "metadata": {},
     "output_type": "execute_result"
    }
   ],
   "execution_count": 129
  },
  {
   "cell_type": "markdown",
   "metadata": {},
   "source": [
    "#### Exercise 2.d\n",
    "\n",
    "Compare the mean and median trajectory length per input method. The result (cell output) should be a data frame indexed by input method and have columns containing the mean and the median total length.\n",
    "\n",
    "> **Hint:** Use the `df_fitts_results` data frame."
   ]
  },
  {
   "cell_type": "code",
   "metadata": {
    "ExecuteTime": {
     "end_time": "2024-12-12T21:03:04.439088Z",
     "start_time": "2024-12-12T21:03:04.431149Z"
    }
   },
   "source": [
    "#// BEGIN_TODO [DAS_2d] Mean and median per input method (1 point)\n",
    "\n",
    "df_fitts_results.reset_index().groupby('input_method').agg({'length': ['mean', 'median']})\n",
    "\n",
    "#// END_TODO [DAS_2d]"
   ],
   "outputs": [
    {
     "data": {
      "text/plain": [
       "                  length            \n",
       "                    mean      median\n",
       "input_method                        \n",
       "mouse         223.799623  218.504832\n",
       "trackpad      223.590177  221.760541"
      ],
      "text/html": [
       "<div>\n",
       "<style scoped>\n",
       "    .dataframe tbody tr th:only-of-type {\n",
       "        vertical-align: middle;\n",
       "    }\n",
       "\n",
       "    .dataframe tbody tr th {\n",
       "        vertical-align: top;\n",
       "    }\n",
       "\n",
       "    .dataframe thead tr th {\n",
       "        text-align: left;\n",
       "    }\n",
       "\n",
       "    .dataframe thead tr:last-of-type th {\n",
       "        text-align: right;\n",
       "    }\n",
       "</style>\n",
       "<table border=\"1\" class=\"dataframe\">\n",
       "  <thead>\n",
       "    <tr>\n",
       "      <th></th>\n",
       "      <th colspan=\"2\" halign=\"left\">length</th>\n",
       "    </tr>\n",
       "    <tr>\n",
       "      <th></th>\n",
       "      <th>mean</th>\n",
       "      <th>median</th>\n",
       "    </tr>\n",
       "    <tr>\n",
       "      <th>input_method</th>\n",
       "      <th></th>\n",
       "      <th></th>\n",
       "    </tr>\n",
       "  </thead>\n",
       "  <tbody>\n",
       "    <tr>\n",
       "      <th>mouse</th>\n",
       "      <td>223.799623</td>\n",
       "      <td>218.504832</td>\n",
       "    </tr>\n",
       "    <tr>\n",
       "      <th>trackpad</th>\n",
       "      <td>223.590177</td>\n",
       "      <td>221.760541</td>\n",
       "    </tr>\n",
       "  </tbody>\n",
       "</table>\n",
       "</div>"
      ]
     },
     "execution_count": 133,
     "metadata": {},
     "output_type": "execute_result"
    }
   ],
   "execution_count": 133
  },
  {
   "cell_type": "markdown",
   "metadata": {},
   "source": [
    "Do you see any differences in path lengths between mouse trajectories and trackpad trajectories? \n",
    "\n",
    "Let us now compare total times instead. We will not only compute two statistics of the data, the median and the mean, but instead look at the *distributions* of the total times."
   ]
  },
  {
   "attachments": {
    "ecdf.png": {
     "image/png": "[encoded data removed]"
    }
   },
   "cell_type": "markdown",
   "metadata": {},
   "source": [
    "## 3. Empirical Cumulative Distribution Functions\n",
    "\n",
    "To better compare the total times for mouse and trackpad trajectories, we will now look at their empirical cumulative distribution functions (ECDFs).\n",
    "\n",
    "Intuitively, the $\\mathrm{ECDF}$ is a function of $x$ that for a given value of $x$ returns the fraction of observations that are *lower or equal* to $x$.\n",
    "\n",
    "More precisely, if $x_1, \\dots, x_N$ are the $N$ outcomes of an experiment, the ECDF, evaluated in $x$, is defined as the number $N_x$ of indices $i$ such that $x_i \\leq x$, divided by $N$:\n",
    "\n",
    "$$\n",
    "\\mathrm{ECDF}(x) = \\frac{N_x}{N}= \\frac{1}{N} \\# \\{ i \\mid x_i \\leq x \\}. \n",
    "$$\n",
    "\n",
    "The following figure shows an example of an ECDF for an experiment where the outcomes ranged between 0 and 50 and were sampled from a normal distribution:\n",
    "\n",
    "![ecdf.png](attachment:ecdf.png)"
   ]
  },
  {
   "cell_type": "markdown",
   "metadata": {},
   "source": [
    "We will show how to compute and plot the ECDF. \n",
    "\n",
    "Although the Python library _statsmodels_ provides a function `ECDF()` that can compute the ECDF for you, we present how to compute the ECDF by hand. This way we will get to know and practice with the useful _Pandas_ functions **`value_counts()`** and **`sort_index()`**, and we will get more insight in what the ECDF actually is. Moreover, plotting an ECDF remains somewhat tricky: using the library function provides almost no advantage.\n",
    "\n",
    "Let us consider a made-up experiment sampling integer numbers between 0 and 10 with outcomes `[5, 3, 5, 7, 1]`."
   ]
  },
  {
   "cell_type": "code",
   "metadata": {
    "ExecuteTime": {
     "end_time": "2024-12-12T21:15:11.972376Z",
     "start_time": "2024-12-12T21:15:11.967464Z"
    }
   },
   "source": [
    "df_experiment = pd.DataFrame([5, 3, 5, 7, 1], columns=['outcome'])\n",
    "df_experiment"
   ],
   "outputs": [
    {
     "data": {
      "text/plain": [
       "   outcome\n",
       "0        5\n",
       "1        3\n",
       "2        5\n",
       "3        7\n",
       "4        1"
      ],
      "text/html": [
       "<div>\n",
       "<style scoped>\n",
       "    .dataframe tbody tr th:only-of-type {\n",
       "        vertical-align: middle;\n",
       "    }\n",
       "\n",
       "    .dataframe tbody tr th {\n",
       "        vertical-align: top;\n",
       "    }\n",
       "\n",
       "    .dataframe thead th {\n",
       "        text-align: right;\n",
       "    }\n",
       "</style>\n",
       "<table border=\"1\" class=\"dataframe\">\n",
       "  <thead>\n",
       "    <tr style=\"text-align: right;\">\n",
       "      <th></th>\n",
       "      <th>outcome</th>\n",
       "    </tr>\n",
       "  </thead>\n",
       "  <tbody>\n",
       "    <tr>\n",
       "      <th>0</th>\n",
       "      <td>5</td>\n",
       "    </tr>\n",
       "    <tr>\n",
       "      <th>1</th>\n",
       "      <td>3</td>\n",
       "    </tr>\n",
       "    <tr>\n",
       "      <th>2</th>\n",
       "      <td>5</td>\n",
       "    </tr>\n",
       "    <tr>\n",
       "      <th>3</th>\n",
       "      <td>7</td>\n",
       "    </tr>\n",
       "    <tr>\n",
       "      <th>4</th>\n",
       "      <td>1</td>\n",
       "    </tr>\n",
       "  </tbody>\n",
       "</table>\n",
       "</div>"
      ]
     },
     "execution_count": 134,
     "metadata": {},
     "output_type": "execute_result"
    }
   ],
   "execution_count": 134
  },
  {
   "cell_type": "markdown",
   "metadata": {},
   "source": [
    "To determine the ECDF, we first want to know, for every value appearing in the `'outcome'` column, how often it occurs. For this, we use the _Pandas_ function **`value_counts()`**."
   ]
  },
  {
   "cell_type": "code",
   "metadata": {
    "ExecuteTime": {
     "end_time": "2024-12-12T21:15:25.584395Z",
     "start_time": "2024-12-12T21:15:25.580210Z"
    }
   },
   "source": [
    "df_experiment['outcome'].value_counts()"
   ],
   "outputs": [
    {
     "data": {
      "text/plain": [
       "outcome\n",
       "5    2\n",
       "3    1\n",
       "7    1\n",
       "1    1\n",
       "Name: count, dtype: int64"
      ]
     },
     "execution_count": 135,
     "metadata": {},
     "output_type": "execute_result"
    }
   ],
   "execution_count": 135
  },
  {
   "cell_type": "markdown",
   "metadata": {},
   "source": [
    "The result of `value_counts()` should be interpreted as follows: the value `5` appears `2` times in the `'outcome'` column, the value `7` appears `1` time, as do the values `3` and `1`. We rename this Series to `'counts'`, and convert it to a data frame `df_counts`."
   ]
  },
  {
   "cell_type": "code",
   "metadata": {
    "ExecuteTime": {
     "end_time": "2024-12-12T21:15:34.159533Z",
     "start_time": "2024-12-12T21:15:34.154762Z"
    }
   },
   "source": [
    "df_counts = pd.DataFrame(df_experiment['outcome'].value_counts().rename('counts'))\n",
    "df_counts"
   ],
   "outputs": [
    {
     "data": {
      "text/plain": [
       "         counts\n",
       "outcome        \n",
       "5             2\n",
       "3             1\n",
       "7             1\n",
       "1             1"
      ],
      "text/html": [
       "<div>\n",
       "<style scoped>\n",
       "    .dataframe tbody tr th:only-of-type {\n",
       "        vertical-align: middle;\n",
       "    }\n",
       "\n",
       "    .dataframe tbody tr th {\n",
       "        vertical-align: top;\n",
       "    }\n",
       "\n",
       "    .dataframe thead th {\n",
       "        text-align: right;\n",
       "    }\n",
       "</style>\n",
       "<table border=\"1\" class=\"dataframe\">\n",
       "  <thead>\n",
       "    <tr style=\"text-align: right;\">\n",
       "      <th></th>\n",
       "      <th>counts</th>\n",
       "    </tr>\n",
       "    <tr>\n",
       "      <th>outcome</th>\n",
       "      <th></th>\n",
       "    </tr>\n",
       "  </thead>\n",
       "  <tbody>\n",
       "    <tr>\n",
       "      <th>5</th>\n",
       "      <td>2</td>\n",
       "    </tr>\n",
       "    <tr>\n",
       "      <th>3</th>\n",
       "      <td>1</td>\n",
       "    </tr>\n",
       "    <tr>\n",
       "      <th>7</th>\n",
       "      <td>1</td>\n",
       "    </tr>\n",
       "    <tr>\n",
       "      <th>1</th>\n",
       "      <td>1</td>\n",
       "    </tr>\n",
       "  </tbody>\n",
       "</table>\n",
       "</div>"
      ]
     },
     "execution_count": 136,
     "metadata": {},
     "output_type": "execute_result"
    }
   ],
   "execution_count": 136
  },
  {
   "cell_type": "markdown",
   "metadata": {},
   "source": [
    "Next, we sort the index of this data frame. This will allow us to compute the ECDF efficiently later on."
   ]
  },
  {
   "cell_type": "code",
   "metadata": {
    "ExecuteTime": {
     "end_time": "2024-12-12T21:18:27.745371Z",
     "start_time": "2024-12-12T21:18:27.741504Z"
    }
   },
   "source": [
    "df_counts.sort_index(inplace=True)\n",
    "df_counts"
   ],
   "outputs": [
    {
     "data": {
      "text/plain": [
       "         counts\n",
       "outcome        \n",
       "1             1\n",
       "3             1\n",
       "5             2\n",
       "7             1"
      ],
      "text/html": [
       "<div>\n",
       "<style scoped>\n",
       "    .dataframe tbody tr th:only-of-type {\n",
       "        vertical-align: middle;\n",
       "    }\n",
       "\n",
       "    .dataframe tbody tr th {\n",
       "        vertical-align: top;\n",
       "    }\n",
       "\n",
       "    .dataframe thead th {\n",
       "        text-align: right;\n",
       "    }\n",
       "</style>\n",
       "<table border=\"1\" class=\"dataframe\">\n",
       "  <thead>\n",
       "    <tr style=\"text-align: right;\">\n",
       "      <th></th>\n",
       "      <th>counts</th>\n",
       "    </tr>\n",
       "    <tr>\n",
       "      <th>outcome</th>\n",
       "      <th></th>\n",
       "    </tr>\n",
       "  </thead>\n",
       "  <tbody>\n",
       "    <tr>\n",
       "      <th>1</th>\n",
       "      <td>1</td>\n",
       "    </tr>\n",
       "    <tr>\n",
       "      <th>3</th>\n",
       "      <td>1</td>\n",
       "    </tr>\n",
       "    <tr>\n",
       "      <th>5</th>\n",
       "      <td>2</td>\n",
       "    </tr>\n",
       "    <tr>\n",
       "      <th>7</th>\n",
       "      <td>1</td>\n",
       "    </tr>\n",
       "  </tbody>\n",
       "</table>\n",
       "</div>"
      ]
     },
     "execution_count": 137,
     "metadata": {},
     "output_type": "execute_result"
    }
   ],
   "execution_count": 137
  },
  {
   "cell_type": "markdown",
   "metadata": {},
   "source": [
    "The ECDF can now be computed easily. To find the ECDF evaluated in a point $x$, we need two pieces of information\n",
    "* The number $N_x$ of outcomes smaller than or equal to $x$\n",
    "* The total number of outcomes $N$\n",
    "\n",
    "Then $\\mathrm{ECDF}(x) = N_x/ N$.\n",
    "Therefore, the ECDF evaluated at the `index` in the data frame above, is equal to the cumulative sum of the `'counts'` column, divided by $N$."
   ]
  },
  {
   "cell_type": "code",
   "metadata": {
    "ExecuteTime": {
     "end_time": "2024-12-12T21:18:41.390174Z",
     "start_time": "2024-12-12T21:18:41.385713Z"
    }
   },
   "source": [
    "df_counts['ecdf'] = df_counts['counts'].cumsum() / df_counts['counts'].sum()\n",
    "df_counts"
   ],
   "outputs": [
    {
     "data": {
      "text/plain": [
       "         counts  ecdf\n",
       "outcome              \n",
       "1             1   0.2\n",
       "3             1   0.4\n",
       "5             2   0.8\n",
       "7             1   1.0"
      ],
      "text/html": [
       "<div>\n",
       "<style scoped>\n",
       "    .dataframe tbody tr th:only-of-type {\n",
       "        vertical-align: middle;\n",
       "    }\n",
       "\n",
       "    .dataframe tbody tr th {\n",
       "        vertical-align: top;\n",
       "    }\n",
       "\n",
       "    .dataframe thead th {\n",
       "        text-align: right;\n",
       "    }\n",
       "</style>\n",
       "<table border=\"1\" class=\"dataframe\">\n",
       "  <thead>\n",
       "    <tr style=\"text-align: right;\">\n",
       "      <th></th>\n",
       "      <th>counts</th>\n",
       "      <th>ecdf</th>\n",
       "    </tr>\n",
       "    <tr>\n",
       "      <th>outcome</th>\n",
       "      <th></th>\n",
       "      <th></th>\n",
       "    </tr>\n",
       "  </thead>\n",
       "  <tbody>\n",
       "    <tr>\n",
       "      <th>1</th>\n",
       "      <td>1</td>\n",
       "      <td>0.2</td>\n",
       "    </tr>\n",
       "    <tr>\n",
       "      <th>3</th>\n",
       "      <td>1</td>\n",
       "      <td>0.4</td>\n",
       "    </tr>\n",
       "    <tr>\n",
       "      <th>5</th>\n",
       "      <td>2</td>\n",
       "      <td>0.8</td>\n",
       "    </tr>\n",
       "    <tr>\n",
       "      <th>7</th>\n",
       "      <td>1</td>\n",
       "      <td>1.0</td>\n",
       "    </tr>\n",
       "  </tbody>\n",
       "</table>\n",
       "</div>"
      ]
     },
     "execution_count": 138,
     "metadata": {},
     "output_type": "execute_result"
    }
   ],
   "execution_count": 138
  },
  {
   "cell_type": "markdown",
   "metadata": {},
   "source": [
    "Plotting the ECDF is in fact quite tricky. A graph of an ECDF is a step function, i.e. piecewise flat. To achieve this, we provide the keyword argument `drawstyle ='steps-post'`. "
   ]
  },
  {
   "cell_type": "code",
   "metadata": {
    "ExecuteTime": {
     "end_time": "2024-12-12T21:20:36.311512Z",
     "start_time": "2024-12-12T21:20:36.223930Z"
    }
   },
   "source": [
    "ax = df_counts[['ecdf']].plot(drawstyle='steps-post')\n",
    "ax.set_xlim(0, 10)\n",
    "ax.set_xlabel(\"Outcome\")\n",
    "ax.set_title(\"Flawed ECDF\", size=16, weight='bold');"
   ],
   "outputs": [
    {
     "data": {
      "text/plain": [
       "<Figure size 1000x500 with 1 Axes>"
      ],
      "image/png": "[encoded data removed]"
     },
     "metadata": {},
     "output_type": "display_data"
    }
   ],
   "execution_count": 139
  },
  {
   "cell_type": "markdown",
   "metadata": {},
   "source": [
    "The graph has a major flaw: it suddenly starts at the smallest recorded outcome, and stops at the largest recorded outcome, even though the ECDF is actually defined on the whole real line. We want to draw the graph for the whole plot range, which for our example above means that we want to plot the ECDF from `x=0` to `x=10`.\n",
    "\n",
    "To do so, we copy the `'ecdf'` column of the data frame `df_counts` to a data frame `df_ecdf` and add two more $x$-values to the data frame `df_ecdf` together with the corresponding value of the ECDF: \n",
    "* one value of $x$ much smaller than the smallest recorded outcome, e.g. $x = -2000$, so the ECDF in that point is $\\mathrm{ECDF}(-2000) = 0$. \n",
    "* one value of $x$ much larger than the largest recorded outcome, e.g. $x = 2000$, so the ECDF in that point is $\\mathrm{ECDF}(2000) = 1$.\n",
    "\n",
    "> **Note:** The precise values $x=-2000$ and $x=2000$ are not important. For the plotting it only matters that the first value is smaller than the left boundary of the plot, and the second is larger than the right boundary. We choose our values _much_ smaller and _much_ larger respectively, so that we don't have to change the values if we change our mind about our desired plot range."
   ]
  },
  {
   "cell_type": "code",
   "metadata": {
    "ExecuteTime": {
     "end_time": "2024-12-12T21:20:43.541239Z",
     "start_time": "2024-12-12T21:20:43.535469Z"
    }
   },
   "source": [
    "df_ecdf = df_counts[['ecdf']].copy()\n",
    "df_ecdf.loc[-2000, 'ecdf'] = 0\n",
    "df_ecdf.loc[2000, 'ecdf'] = 1\n",
    "df_ecdf"
   ],
   "outputs": [
    {
     "data": {
      "text/plain": [
       "         ecdf\n",
       "outcome      \n",
       " 1        0.2\n",
       " 3        0.4\n",
       " 5        0.8\n",
       " 7        1.0\n",
       "-2000     0.0\n",
       " 2000     1.0"
      ],
      "text/html": [
       "<div>\n",
       "<style scoped>\n",
       "    .dataframe tbody tr th:only-of-type {\n",
       "        vertical-align: middle;\n",
       "    }\n",
       "\n",
       "    .dataframe tbody tr th {\n",
       "        vertical-align: top;\n",
       "    }\n",
       "\n",
       "    .dataframe thead th {\n",
       "        text-align: right;\n",
       "    }\n",
       "</style>\n",
       "<table border=\"1\" class=\"dataframe\">\n",
       "  <thead>\n",
       "    <tr style=\"text-align: right;\">\n",
       "      <th></th>\n",
       "      <th>ecdf</th>\n",
       "    </tr>\n",
       "    <tr>\n",
       "      <th>outcome</th>\n",
       "      <th></th>\n",
       "    </tr>\n",
       "  </thead>\n",
       "  <tbody>\n",
       "    <tr>\n",
       "      <th>1</th>\n",
       "      <td>0.2</td>\n",
       "    </tr>\n",
       "    <tr>\n",
       "      <th>3</th>\n",
       "      <td>0.4</td>\n",
       "    </tr>\n",
       "    <tr>\n",
       "      <th>5</th>\n",
       "      <td>0.8</td>\n",
       "    </tr>\n",
       "    <tr>\n",
       "      <th>7</th>\n",
       "      <td>1.0</td>\n",
       "    </tr>\n",
       "    <tr>\n",
       "      <th>-2000</th>\n",
       "      <td>0.0</td>\n",
       "    </tr>\n",
       "    <tr>\n",
       "      <th>2000</th>\n",
       "      <td>1.0</td>\n",
       "    </tr>\n",
       "  </tbody>\n",
       "</table>\n",
       "</div>"
      ]
     },
     "execution_count": 140,
     "metadata": {},
     "output_type": "execute_result"
    }
   ],
   "execution_count": 140
  },
  {
   "cell_type": "markdown",
   "metadata": {},
   "source": [
    "We sort once more the data frame by the index."
   ]
  },
  {
   "cell_type": "code",
   "metadata": {
    "ExecuteTime": {
     "end_time": "2024-12-12T21:20:55.343688Z",
     "start_time": "2024-12-12T21:20:55.339004Z"
    }
   },
   "source": [
    "df_ecdf.sort_index(inplace=True)\n",
    "df_ecdf"
   ],
   "outputs": [
    {
     "data": {
      "text/plain": [
       "         ecdf\n",
       "outcome      \n",
       "-2000     0.0\n",
       " 1        0.2\n",
       " 3        0.4\n",
       " 5        0.8\n",
       " 7        1.0\n",
       " 2000     1.0"
      ],
      "text/html": [
       "<div>\n",
       "<style scoped>\n",
       "    .dataframe tbody tr th:only-of-type {\n",
       "        vertical-align: middle;\n",
       "    }\n",
       "\n",
       "    .dataframe tbody tr th {\n",
       "        vertical-align: top;\n",
       "    }\n",
       "\n",
       "    .dataframe thead th {\n",
       "        text-align: right;\n",
       "    }\n",
       "</style>\n",
       "<table border=\"1\" class=\"dataframe\">\n",
       "  <thead>\n",
       "    <tr style=\"text-align: right;\">\n",
       "      <th></th>\n",
       "      <th>ecdf</th>\n",
       "    </tr>\n",
       "    <tr>\n",
       "      <th>outcome</th>\n",
       "      <th></th>\n",
       "    </tr>\n",
       "  </thead>\n",
       "  <tbody>\n",
       "    <tr>\n",
       "      <th>-2000</th>\n",
       "      <td>0.0</td>\n",
       "    </tr>\n",
       "    <tr>\n",
       "      <th>1</th>\n",
       "      <td>0.2</td>\n",
       "    </tr>\n",
       "    <tr>\n",
       "      <th>3</th>\n",
       "      <td>0.4</td>\n",
       "    </tr>\n",
       "    <tr>\n",
       "      <th>5</th>\n",
       "      <td>0.8</td>\n",
       "    </tr>\n",
       "    <tr>\n",
       "      <th>7</th>\n",
       "      <td>1.0</td>\n",
       "    </tr>\n",
       "    <tr>\n",
       "      <th>2000</th>\n",
       "      <td>1.0</td>\n",
       "    </tr>\n",
       "  </tbody>\n",
       "</table>\n",
       "</div>"
      ]
     },
     "execution_count": 141,
     "metadata": {},
     "output_type": "execute_result"
    }
   ],
   "execution_count": 141
  },
  {
   "cell_type": "markdown",
   "metadata": {},
   "source": [
    "Now we are finally ready to plot the ECDF. "
   ]
  },
  {
   "cell_type": "code",
   "metadata": {
    "ExecuteTime": {
     "end_time": "2024-12-12T21:21:01.123190Z",
     "start_time": "2024-12-12T21:21:01.046021Z"
    }
   },
   "source": [
    "ax = df_ecdf['ecdf'].plot(drawstyle='steps-post')\n",
    "ax.set_xlim(0, 10)\n",
    "ax.set_xlabel(\"Outcome\")\n",
    "ax.set_title(\"ECDF\", size=16, weight='bold');"
   ],
   "outputs": [
    {
     "data": {
      "text/plain": [
       "<Figure size 1000x500 with 1 Axes>"
      ],
      "image/png": "[encoded data removed]"
     },
     "metadata": {},
     "output_type": "display_data"
    }
   ],
   "execution_count": 142
  },
  {
   "cell_type": "markdown",
   "metadata": {},
   "source": [
    "### Exercises: Compare ECDFs for Mouse a Trackpad Trajectories\n",
    "\n",
    "To get more insight into the differences in total times needed to reach a target by using a mouse vs. a trackpad, we aim to plot both the ECDF for the total times for the *mouse* trajectories and the ECDF for the *trackpad* trajectories in one figure. This is a rather big task, so we split it up in several exercises for the mouse trajectories. Afterwards, you can apply the same steps for the trackpad trajectories."
   ]
  },
  {
   "cell_type": "markdown",
   "metadata": {},
   "source": [
    "#### Exercise 3.a\n",
    "\n",
    "Use the data frame `df_user_trial_props` to create a data frame `df_mouse`. The data frame `df_mouse` should contain only one column, labeled `'total_time'`, with the total time for each trajectory that was recorded with a **mouse**."
   ]
  },
  {
   "cell_type": "code",
   "metadata": {
    "ExecuteTime": {
     "end_time": "2024-12-12T21:57:43.485906Z",
     "start_time": "2024-12-12T21:57:43.478469Z"
    }
   },
   "source": [
    "#// BEGIN_TODO [DAS_3a] Total times mouse trajectories (1 point)\n",
    "\n",
    "df_mouse = df_user_trial_props[df_user_trial_props['input_method'] == 'mouse'][['total_time']].copy()\n",
    "\n",
    "#// END_TODO [DAS_3a]\n",
    "\n",
    "df_mouse.head()"
   ],
   "outputs": [
    {
     "data": {
      "text/plain": [
       "   total_time\n",
       "0    1.045089\n",
       "1    1.078394\n",
       "2    1.866229\n",
       "3    0.959770\n",
       "4    1.022803"
      ],
      "text/html": [
       "<div>\n",
       "<style scoped>\n",
       "    .dataframe tbody tr th:only-of-type {\n",
       "        vertical-align: middle;\n",
       "    }\n",
       "\n",
       "    .dataframe tbody tr th {\n",
       "        vertical-align: top;\n",
       "    }\n",
       "\n",
       "    .dataframe thead th {\n",
       "        text-align: right;\n",
       "    }\n",
       "</style>\n",
       "<table border=\"1\" class=\"dataframe\">\n",
       "  <thead>\n",
       "    <tr style=\"text-align: right;\">\n",
       "      <th></th>\n",
       "      <th>total_time</th>\n",
       "    </tr>\n",
       "  </thead>\n",
       "  <tbody>\n",
       "    <tr>\n",
       "      <th>0</th>\n",
       "      <td>1.045089</td>\n",
       "    </tr>\n",
       "    <tr>\n",
       "      <th>1</th>\n",
       "      <td>1.078394</td>\n",
       "    </tr>\n",
       "    <tr>\n",
       "      <th>2</th>\n",
       "      <td>1.866229</td>\n",
       "    </tr>\n",
       "    <tr>\n",
       "      <th>3</th>\n",
       "      <td>0.959770</td>\n",
       "    </tr>\n",
       "    <tr>\n",
       "      <th>4</th>\n",
       "      <td>1.022803</td>\n",
       "    </tr>\n",
       "  </tbody>\n",
       "</table>\n",
       "</div>"
      ]
     },
     "execution_count": 184,
     "metadata": {},
     "output_type": "execute_result"
    }
   ],
   "execution_count": 184
  },
  {
   "cell_type": "markdown",
   "metadata": {},
   "source": [
    "#### Exercise 3.b\n",
    "\n",
    "Create a data frame `df_mouse_counts` indexed by all total times occurring in the data frame `df_mouse`. The data frame `df_mouse_counts` should contain one column, labeled `'counts'`, which contains how often that total time occurs in `df_mouse`. Make sure that the indices are sorted."
   ]
  },
  {
   "cell_type": "code",
   "metadata": {
    "ExecuteTime": {
     "end_time": "2024-12-12T21:32:49.896618Z",
     "start_time": "2024-12-12T21:32:49.888596Z"
    }
   },
   "source": [
    "#// BEGIN_TODO [DAS_3b] Count occurences total times (1 point)\n",
    "\n",
    "df_mouse_counts = pd.DataFrame(df_mouse.reset_index()['total_time'].value_counts().rename('counts')).sort_index()\n",
    "\n",
    "#// END_TODO [DAS_3b]\n",
    "\n",
    "df_mouse_counts.head()"
   ],
   "outputs": [
    {
     "data": {
      "text/plain": [
       "            counts\n",
       "total_time        \n",
       "0.517859         1\n",
       "0.546003         1\n",
       "0.581902         1\n",
       "0.593452         1\n",
       "0.607618         1"
      ],
      "text/html": [
       "<div>\n",
       "<style scoped>\n",
       "    .dataframe tbody tr th:only-of-type {\n",
       "        vertical-align: middle;\n",
       "    }\n",
       "\n",
       "    .dataframe tbody tr th {\n",
       "        vertical-align: top;\n",
       "    }\n",
       "\n",
       "    .dataframe thead th {\n",
       "        text-align: right;\n",
       "    }\n",
       "</style>\n",
       "<table border=\"1\" class=\"dataframe\">\n",
       "  <thead>\n",
       "    <tr style=\"text-align: right;\">\n",
       "      <th></th>\n",
       "      <th>counts</th>\n",
       "    </tr>\n",
       "    <tr>\n",
       "      <th>total_time</th>\n",
       "      <th></th>\n",
       "    </tr>\n",
       "  </thead>\n",
       "  <tbody>\n",
       "    <tr>\n",
       "      <th>0.517859</th>\n",
       "      <td>1</td>\n",
       "    </tr>\n",
       "    <tr>\n",
       "      <th>0.546003</th>\n",
       "      <td>1</td>\n",
       "    </tr>\n",
       "    <tr>\n",
       "      <th>0.581902</th>\n",
       "      <td>1</td>\n",
       "    </tr>\n",
       "    <tr>\n",
       "      <th>0.593452</th>\n",
       "      <td>1</td>\n",
       "    </tr>\n",
       "    <tr>\n",
       "      <th>0.607618</th>\n",
       "      <td>1</td>\n",
       "    </tr>\n",
       "  </tbody>\n",
       "</table>\n",
       "</div>"
      ]
     },
     "execution_count": 165,
     "metadata": {},
     "output_type": "execute_result"
    }
   ],
   "execution_count": 165
  },
  {
   "cell_type": "markdown",
   "metadata": {},
   "source": [
    "#### Exercise 3.c\n",
    "\n",
    "Add a column labeled `'ecdf'` to the data frame `df_mouse_counts`, containing the value of the ECDF evaluated at the time in the index."
   ]
  },
  {
   "cell_type": "code",
   "metadata": {
    "ExecuteTime": {
     "end_time": "2024-12-12T21:32:52.219453Z",
     "start_time": "2024-12-12T21:32:52.213709Z"
    }
   },
   "source": [
    "#// BEGIN_TODO [DAS_3c] Add column with ECDF (1 point)\n",
    "\n",
    "df_mouse_counts['ecdf'] = df_mouse_counts['counts'].cumsum() / df_mouse_counts['counts'].sum()\n",
    "\n",
    "#// END_TODO [DAS_3c]\n",
    "\n",
    "df_mouse_counts.head()"
   ],
   "outputs": [
    {
     "data": {
      "text/plain": [
       "            counts      ecdf\n",
       "total_time                  \n",
       "0.517859         1  0.000061\n",
       "0.546003         1  0.000121\n",
       "0.581902         1  0.000182\n",
       "0.593452         1  0.000242\n",
       "0.607618         1  0.000303"
      ],
      "text/html": [
       "<div>\n",
       "<style scoped>\n",
       "    .dataframe tbody tr th:only-of-type {\n",
       "        vertical-align: middle;\n",
       "    }\n",
       "\n",
       "    .dataframe tbody tr th {\n",
       "        vertical-align: top;\n",
       "    }\n",
       "\n",
       "    .dataframe thead th {\n",
       "        text-align: right;\n",
       "    }\n",
       "</style>\n",
       "<table border=\"1\" class=\"dataframe\">\n",
       "  <thead>\n",
       "    <tr style=\"text-align: right;\">\n",
       "      <th></th>\n",
       "      <th>counts</th>\n",
       "      <th>ecdf</th>\n",
       "    </tr>\n",
       "    <tr>\n",
       "      <th>total_time</th>\n",
       "      <th></th>\n",
       "      <th></th>\n",
       "    </tr>\n",
       "  </thead>\n",
       "  <tbody>\n",
       "    <tr>\n",
       "      <th>0.517859</th>\n",
       "      <td>1</td>\n",
       "      <td>0.000061</td>\n",
       "    </tr>\n",
       "    <tr>\n",
       "      <th>0.546003</th>\n",
       "      <td>1</td>\n",
       "      <td>0.000121</td>\n",
       "    </tr>\n",
       "    <tr>\n",
       "      <th>0.581902</th>\n",
       "      <td>1</td>\n",
       "      <td>0.000182</td>\n",
       "    </tr>\n",
       "    <tr>\n",
       "      <th>0.593452</th>\n",
       "      <td>1</td>\n",
       "      <td>0.000242</td>\n",
       "    </tr>\n",
       "    <tr>\n",
       "      <th>0.607618</th>\n",
       "      <td>1</td>\n",
       "      <td>0.000303</td>\n",
       "    </tr>\n",
       "  </tbody>\n",
       "</table>\n",
       "</div>"
      ]
     },
     "execution_count": 166,
     "metadata": {},
     "output_type": "execute_result"
    }
   ],
   "execution_count": 166
  },
  {
   "cell_type": "markdown",
   "metadata": {},
   "source": [
    "#### Exercise 3.d\n",
    "\n",
    "Copy the `'ecdf'` column of the data frame `df_mouse_counts` to a new data frame `df_mouse_ecdf`. Add two appropriate new values of the ECDF to this data frame, one at a very large negative time, and one at a very large positive time, let's say at time $-2000$ s and $2000$ s. Make sure that the index of the data frame is sorted."
   ]
  },
  {
   "cell_type": "code",
   "metadata": {
    "ExecuteTime": {
     "end_time": "2024-12-12T21:32:55.040520Z",
     "start_time": "2024-12-12T21:32:55.033221Z"
    }
   },
   "source": [
    "#// BEGIN_TODO [DAS_3d] Add new values to ECDF data frame (1 point)\n",
    "\n",
    "df_mouse_ecdf = df_mouse_counts[['ecdf']].copy()\n",
    "df_mouse_ecdf.loc[-2000, 'ecdf'] = 0\n",
    "df_mouse_ecdf.loc[2000, 'ecdf'] = 1\n",
    "df_mouse_ecdf.sort_index(inplace=True)\n",
    "\n",
    "#// END_TODO [DAS_3d]\n",
    "\n",
    "df_mouse_ecdf.head()"
   ],
   "outputs": [
    {
     "data": {
      "text/plain": [
       "                  ecdf\n",
       "total_time            \n",
       "-2000.000000  0.000000\n",
       " 0.517859     0.000061\n",
       " 0.546003     0.000121\n",
       " 0.581902     0.000182\n",
       " 0.593452     0.000242"
      ],
      "text/html": [
       "<div>\n",
       "<style scoped>\n",
       "    .dataframe tbody tr th:only-of-type {\n",
       "        vertical-align: middle;\n",
       "    }\n",
       "\n",
       "    .dataframe tbody tr th {\n",
       "        vertical-align: top;\n",
       "    }\n",
       "\n",
       "    .dataframe thead th {\n",
       "        text-align: right;\n",
       "    }\n",
       "</style>\n",
       "<table border=\"1\" class=\"dataframe\">\n",
       "  <thead>\n",
       "    <tr style=\"text-align: right;\">\n",
       "      <th></th>\n",
       "      <th>ecdf</th>\n",
       "    </tr>\n",
       "    <tr>\n",
       "      <th>total_time</th>\n",
       "      <th></th>\n",
       "    </tr>\n",
       "  </thead>\n",
       "  <tbody>\n",
       "    <tr>\n",
       "      <th>-2000.000000</th>\n",
       "      <td>0.000000</td>\n",
       "    </tr>\n",
       "    <tr>\n",
       "      <th>0.517859</th>\n",
       "      <td>0.000061</td>\n",
       "    </tr>\n",
       "    <tr>\n",
       "      <th>0.546003</th>\n",
       "      <td>0.000121</td>\n",
       "    </tr>\n",
       "    <tr>\n",
       "      <th>0.581902</th>\n",
       "      <td>0.000182</td>\n",
       "    </tr>\n",
       "    <tr>\n",
       "      <th>0.593452</th>\n",
       "      <td>0.000242</td>\n",
       "    </tr>\n",
       "  </tbody>\n",
       "</table>\n",
       "</div>"
      ]
     },
     "execution_count": 167,
     "metadata": {},
     "output_type": "execute_result"
    }
   ],
   "execution_count": 167
  },
  {
   "cell_type": "markdown",
   "metadata": {},
   "source": [
    "> **Note:** When you are working towards a goal (such as plotting an ECDF) and you need to make multiple steps, it is good to regularly display some intermediate results to see whether everything looks as expected. Exactly for this reason, we have called the `head()` function at the end of each code cell. However, after this exercise, we would also like to know whether the value of the ECDF at time $2000$ s is inserted correctly."
   ]
  },
  {
   "cell_type": "markdown",
   "metadata": {},
   "source": [
    "#### Exercise 3.e\n",
    "\n",
    "Display the last five rows of the data frame `df_mouse_ecdf`. \n",
    "\n",
    "> **Hint:** Just like the function `head()` displays the first five rows of a data frame, the function `tail()` displays the last five rows."
   ]
  },
  {
   "cell_type": "code",
   "metadata": {
    "ExecuteTime": {
     "end_time": "2024-12-12T21:32:59.936355Z",
     "start_time": "2024-12-12T21:32:59.932603Z"
    }
   },
   "source": [
    "#// BEGIN_TODO [DAS_3e] Display last five rows ECDF data frame (1 point)\n",
    "\n",
    "df_mouse_ecdf.tail()\n",
    "\n",
    "#// END_TODO [DAS_3e]"
   ],
   "outputs": [
    {
     "data": {
      "text/plain": [
       "                 ecdf\n",
       "total_time           \n",
       "53.499519    0.999818\n",
       "65.155427    0.999879\n",
       "76.857272    0.999939\n",
       "131.273690   1.000000\n",
       "2000.000000  1.000000"
      ],
      "text/html": [
       "<div>\n",
       "<style scoped>\n",
       "    .dataframe tbody tr th:only-of-type {\n",
       "        vertical-align: middle;\n",
       "    }\n",
       "\n",
       "    .dataframe tbody tr th {\n",
       "        vertical-align: top;\n",
       "    }\n",
       "\n",
       "    .dataframe thead th {\n",
       "        text-align: right;\n",
       "    }\n",
       "</style>\n",
       "<table border=\"1\" class=\"dataframe\">\n",
       "  <thead>\n",
       "    <tr style=\"text-align: right;\">\n",
       "      <th></th>\n",
       "      <th>ecdf</th>\n",
       "    </tr>\n",
       "    <tr>\n",
       "      <th>total_time</th>\n",
       "      <th></th>\n",
       "    </tr>\n",
       "  </thead>\n",
       "  <tbody>\n",
       "    <tr>\n",
       "      <th>53.499519</th>\n",
       "      <td>0.999818</td>\n",
       "    </tr>\n",
       "    <tr>\n",
       "      <th>65.155427</th>\n",
       "      <td>0.999879</td>\n",
       "    </tr>\n",
       "    <tr>\n",
       "      <th>76.857272</th>\n",
       "      <td>0.999939</td>\n",
       "    </tr>\n",
       "    <tr>\n",
       "      <th>131.273690</th>\n",
       "      <td>1.000000</td>\n",
       "    </tr>\n",
       "    <tr>\n",
       "      <th>2000.000000</th>\n",
       "      <td>1.000000</td>\n",
       "    </tr>\n",
       "  </tbody>\n",
       "</table>\n",
       "</div>"
      ]
     },
     "execution_count": 168,
     "metadata": {},
     "output_type": "execute_result"
    }
   ],
   "execution_count": 168
  },
  {
   "cell_type": "markdown",
   "metadata": {},
   "source": [
    "Does everything look okay? Then let's execute the same steps for the trackpad trials."
   ]
  },
  {
   "cell_type": "markdown",
   "metadata": {},
   "source": [
    "#### Exercise 3.f\n",
    "    \n",
    "Create a data frame `df_trackpad_ecdf` indexed by all total times occurring in **trackpad** trajectories, an additional very large negative time and a very large positive time, and with a column `'ecdf'` containing the value of the ECDF at these times. We advise you to use multiple code cells (between the marker lines) and regularly display output to check whether everything looks as expected."
   ]
  },
  {
   "cell_type": "code",
   "metadata": {
    "ExecuteTime": {
     "end_time": "2024-12-12T21:51:08.389759Z",
     "start_time": "2024-12-12T21:51:08.379508Z"
    }
   },
   "source": [
    "#// BEGIN_TODO [DAS_3f] Create ECDF for trackpkad trajectories (2 points)\n",
    "\n",
    "df_trackpad_counts = pd.DataFrame(\n",
    "    df_user_trial_props[df_user_trial_props['input_method'] == 'trackpad']\n",
    "    .reset_index()['total_time']\n",
    "    .value_counts()\n",
    "    .rename('counts')).sort_index()\n",
    "\n",
    "df_trackpad_counts['ecdf'] = df_trackpad_counts['counts'].cumsum() / df_trackpad_counts['counts'].sum()\n",
    "\n",
    "df_trackpad_ecdf = df_trackpad_counts[['ecdf']].copy()\n",
    "df_trackpad_ecdf.loc[-2000, 'ecdf'] = 0\n",
    "df_trackpad_ecdf.loc[2000, 'ecdf'] = 1\n",
    "df_trackpad_ecdf.sort_index(inplace=True)\n"
   ],
   "outputs": [],
   "execution_count": 176
  },
  {
   "cell_type": "code",
   "metadata": {
    "ExecuteTime": {
     "end_time": "2024-12-12T21:51:10.844162Z",
     "start_time": "2024-12-12T21:51:10.839536Z"
    }
   },
   "source": [
    "#// END_TODO [DAS_3f]\n",
    "\n",
    "df_trackpad_ecdf.head()"
   ],
   "outputs": [
    {
     "data": {
      "text/plain": [
       "                  ecdf\n",
       "total_time            \n",
       "-2000.000000  0.000000\n",
       " 0.631266     0.000059\n",
       " 0.635076     0.000119\n",
       " 0.656173     0.000178\n",
       " 0.667644     0.000238"
      ],
      "text/html": [
       "<div>\n",
       "<style scoped>\n",
       "    .dataframe tbody tr th:only-of-type {\n",
       "        vertical-align: middle;\n",
       "    }\n",
       "\n",
       "    .dataframe tbody tr th {\n",
       "        vertical-align: top;\n",
       "    }\n",
       "\n",
       "    .dataframe thead th {\n",
       "        text-align: right;\n",
       "    }\n",
       "</style>\n",
       "<table border=\"1\" class=\"dataframe\">\n",
       "  <thead>\n",
       "    <tr style=\"text-align: right;\">\n",
       "      <th></th>\n",
       "      <th>ecdf</th>\n",
       "    </tr>\n",
       "    <tr>\n",
       "      <th>total_time</th>\n",
       "      <th></th>\n",
       "    </tr>\n",
       "  </thead>\n",
       "  <tbody>\n",
       "    <tr>\n",
       "      <th>-2000.000000</th>\n",
       "      <td>0.000000</td>\n",
       "    </tr>\n",
       "    <tr>\n",
       "      <th>0.631266</th>\n",
       "      <td>0.000059</td>\n",
       "    </tr>\n",
       "    <tr>\n",
       "      <th>0.635076</th>\n",
       "      <td>0.000119</td>\n",
       "    </tr>\n",
       "    <tr>\n",
       "      <th>0.656173</th>\n",
       "      <td>0.000178</td>\n",
       "    </tr>\n",
       "    <tr>\n",
       "      <th>0.667644</th>\n",
       "      <td>0.000238</td>\n",
       "    </tr>\n",
       "  </tbody>\n",
       "</table>\n",
       "</div>"
      ]
     },
     "execution_count": 177,
     "metadata": {},
     "output_type": "execute_result"
    }
   ],
   "execution_count": 177
  },
  {
   "cell_type": "markdown",
   "metadata": {},
   "source": [
    "Time to see the results... "
   ]
  },
  {
   "cell_type": "markdown",
   "metadata": {},
   "source": [
    "#### Exercise 3.g\n",
    "\n",
    "Plot in one figure:\n",
    "\n",
    "* the ECDF of the total time used for the **mouse** trials\n",
    "* the ECDF of the total time used for the **trackpad** trials\n",
    "\n",
    "Make sure the $x$-axis runs from $0$ to $4$ (s), and include a legend explaining which graph corresponds to the mouse, and which corresponds to the trackpad.\n",
    "\n",
    "> <span class=\"t\">**Hint<span class=\"c\">:**</span></span>\n",
    "<span class=\"h\">\n",
    "Use the data frames `df_mouse_ecdf` and `df_trackpad_ecdf` defined above.\n",
    "</span>"
   ]
  },
  {
   "cell_type": "code",
   "metadata": {
    "ExecuteTime": {
     "end_time": "2024-12-12T21:52:27.393148Z",
     "start_time": "2024-12-12T21:52:27.266964Z"
    }
   },
   "source": [
    "#// BEGIN_TODO [DAS_3g] Plot ECDFs (1 point)\n",
    "\n",
    "ax = df_mouse_ecdf['ecdf'].plot(xlim=(0, 4), label='mouse', xlabel='Time', ylabel='ECDF', title='ECDF over time')\n",
    "df_trackpad_ecdf['ecdf'].plot(ax=ax, label='trackpad')\n",
    "ax.legend();\n",
    "\n",
    "#// END_TODO [DAS_3g]"
   ],
   "outputs": [
    {
     "data": {
      "text/plain": [
       "<Figure size 1000x500 with 1 Axes>"
      ],
      "image/png": "[encoded data removed]"
     },
     "metadata": {},
     "output_type": "display_data"
    }
   ],
   "execution_count": 182
  },
  {
   "cell_type": "markdown",
   "metadata": {},
   "source": [
    "What do these ECDFs tell us about the distribution of the total times for the mouse trials versus the trackpad trials?"
   ]
  },
  {
   "cell_type": "markdown",
   "metadata": {},
   "source": [
    "## 4. Exercise: Find Ballistic Motion\n",
    "\n",
    "\n",
    "In the earlier exercises you were closely guided. In the following exercises we will put your knowledge to the test.\n",
    "\n",
    "Note that these exercises may seem more difficult as you will need to work more indepedently. When you struggle with an exercise then go back to the corresponding earlier section and make sure you really understand the introduced concepts. Do not hesitate to experiment with your own code!\n",
    "\n",
    "\n",
    "In this exercise, we will use the data in `'datasets/path.csv'`, loaded into the data frame `df_path`:"
   ]
  },
  {
   "cell_type": "code",
   "metadata": {
    "ExecuteTime": {
     "end_time": "2024-12-12T22:15:26.805600Z",
     "start_time": "2024-12-12T22:15:26.798092Z"
    }
   },
   "source": [
    "df_path = pd.read_csv('datasets/path.csv')\n",
    "df_path.head()"
   ],
   "outputs": [
    {
     "data": {
      "text/plain": [
       "       t    filt_x    filt_y  approximate_speed\n",
       "0  0.000  5.017501  1.052502           0.002773\n",
       "1  0.001  5.018392  1.055177           0.002861\n",
       "2  0.002  5.019312  1.057936           0.002950\n",
       "3  0.003  5.020260  1.060779           0.003038\n",
       "4  0.004  5.021235  1.063705           0.003126"
      ],
      "text/html": [
       "<div>\n",
       "<style scoped>\n",
       "    .dataframe tbody tr th:only-of-type {\n",
       "        vertical-align: middle;\n",
       "    }\n",
       "\n",
       "    .dataframe tbody tr th {\n",
       "        vertical-align: top;\n",
       "    }\n",
       "\n",
       "    .dataframe thead th {\n",
       "        text-align: right;\n",
       "    }\n",
       "</style>\n",
       "<table border=\"1\" class=\"dataframe\">\n",
       "  <thead>\n",
       "    <tr style=\"text-align: right;\">\n",
       "      <th></th>\n",
       "      <th>t</th>\n",
       "      <th>filt_x</th>\n",
       "      <th>filt_y</th>\n",
       "      <th>approximate_speed</th>\n",
       "    </tr>\n",
       "  </thead>\n",
       "  <tbody>\n",
       "    <tr>\n",
       "      <th>0</th>\n",
       "      <td>0.000</td>\n",
       "      <td>5.017501</td>\n",
       "      <td>1.052502</td>\n",
       "      <td>0.002773</td>\n",
       "    </tr>\n",
       "    <tr>\n",
       "      <th>1</th>\n",
       "      <td>0.001</td>\n",
       "      <td>5.018392</td>\n",
       "      <td>1.055177</td>\n",
       "      <td>0.002861</td>\n",
       "    </tr>\n",
       "    <tr>\n",
       "      <th>2</th>\n",
       "      <td>0.002</td>\n",
       "      <td>5.019312</td>\n",
       "      <td>1.057936</td>\n",
       "      <td>0.002950</td>\n",
       "    </tr>\n",
       "    <tr>\n",
       "      <th>3</th>\n",
       "      <td>0.003</td>\n",
       "      <td>5.020260</td>\n",
       "      <td>1.060779</td>\n",
       "      <td>0.003038</td>\n",
       "    </tr>\n",
       "    <tr>\n",
       "      <th>4</th>\n",
       "      <td>0.004</td>\n",
       "      <td>5.021235</td>\n",
       "      <td>1.063705</td>\n",
       "      <td>0.003126</td>\n",
       "    </tr>\n",
       "  </tbody>\n",
       "</table>\n",
       "</div>"
      ]
     },
     "execution_count": 185,
     "metadata": {},
     "output_type": "execute_result"
    }
   ],
   "execution_count": 185
  },
  {
   "cell_type": "markdown",
   "metadata": {},
   "source": [
    "It contains several features that were derived from the raw data of a single mouse trajectory, similar to what was done in the exercises in Section 1. The `'filt_x'` and `'filt_y'` columns contain the approximate $x$- and  $y$-coordinates computed by applying a Gaussian filter to the raw coordinates, and the  `'approximate_speed'` column contains the approximate speed (in pixels per ms) computed by applying a Gaussian filter of order 1 to the path length.\n",
    "\n",
    "In this exercise we will extract one more feature: we are going to extract the _ballistic part_ of the mouse trajectory. This is quite challenging, so do not hesitate to ask your tutor for hints."
   ]
  },
  {
   "attachments": {
    "ballistic-illustration.png": {
     "image/png": "[encoded data removed]"
    },
    "ballistic-superimposed.png": {
     "image/png": "[encoded data removed]"
    }
   },
   "cell_type": "markdown",
   "metadata": {},
   "source": [
    "The ballistic part of the motion is the motion restricted to a certain time-interval (from `i_left` to `i_right`) around the time `i_max` at which the speed is maximal, as illustrated by the following picture.\n",
    "\n",
    "![ballistic-illustration.png](attachment:ballistic-illustration.png)\n",
    "\n",
    "Here is a picture of the corresponding path, where the ballistic part of the motion is indicated in black.\n",
    "\n",
    "![ballistic-superimposed.png](attachment:ballistic-superimposed.png)"
   ]
  },
  {
   "cell_type": "markdown",
   "metadata": {},
   "source": [
    "We want to use _Pandas_ to extract this ballistic part of the trajectory. For that, we need a _very precise definition_. The precise definition of the _ballistic_ part of the mouse trajectory is as follows: we first find the index `i_max` for which the (approximate) _speed_ is maximal (if there are multiple such indices, we take the smallest). Then, we define the range of indices from `i_left` to `i_right` as the largest range of indices containing `i_max` such that the speed is _increasing_ from `i_left` to `i_max` and _decreasing_ from `i_max` to `i_right`. The _ballistic_ part of the mouse trajectory is defined as the mouse trajectory restricted to the range from `i_left` to `i_right`.\n",
    "\n",
    "In other words, `i_left` is the smallest index such that for every index `i` between `i_left`  and `i_max` the approximate speed at `i` is _larger than or equal to_ the approximate speed at `i-1`. Similarly, `i_right` is the largest index such that for every `i` between `i_max + 1` and `i_right`, the approximate speed at `i` is _smaller than or equal to_ the approximate speed at `i-1`.\n",
    "\n",
    "Our goal will be to find `i_left` and `i_right` for the trajectory in `df_path`. We will afterwards define the data frame `df_ballistic` as `df_path[i_left:i_right]`."
   ]
  },
  {
   "cell_type": "markdown",
   "metadata": {},
   "source": [
    "### Exercise 4.a\n",
    "\n",
    "Find the index in `df_path` for which the `'approximate_speed'` is maximal. Assign your answer to the variable `i_max`."
   ]
  },
  {
   "cell_type": "code",
   "metadata": {
    "ExecuteTime": {
     "end_time": "2024-12-12T22:19:15.185142Z",
     "start_time": "2024-12-12T22:19:15.179682Z"
    }
   },
   "source": [
    "#// BEGIN_TODO [DAS_4a] Find i_max (1 point)\n",
    "\n",
    "i_max = df_path['approximate_speed'].idxmax()\n",
    "\n",
    "#// END_TODO [DAS_4a]\n",
    "\n",
    "df_path[i_max - 2 : i_max + 3]"
   ],
   "outputs": [
    {
     "data": {
      "text/plain": [
       "         t     filt_x     filt_y  approximate_speed\n",
       "614  0.614  20.619599  21.110295           0.444860\n",
       "615  0.615  20.952353  21.346210           0.444985\n",
       "616  0.616  21.287991  21.577220           0.445038\n",
       "617  0.617  21.626465  21.803212           0.445023\n",
       "618  0.618  21.967726  22.024081           0.444943"
      ],
      "text/html": [
       "<div>\n",
       "<style scoped>\n",
       "    .dataframe tbody tr th:only-of-type {\n",
       "        vertical-align: middle;\n",
       "    }\n",
       "\n",
       "    .dataframe tbody tr th {\n",
       "        vertical-align: top;\n",
       "    }\n",
       "\n",
       "    .dataframe thead th {\n",
       "        text-align: right;\n",
       "    }\n",
       "</style>\n",
       "<table border=\"1\" class=\"dataframe\">\n",
       "  <thead>\n",
       "    <tr style=\"text-align: right;\">\n",
       "      <th></th>\n",
       "      <th>t</th>\n",
       "      <th>filt_x</th>\n",
       "      <th>filt_y</th>\n",
       "      <th>approximate_speed</th>\n",
       "    </tr>\n",
       "  </thead>\n",
       "  <tbody>\n",
       "    <tr>\n",
       "      <th>614</th>\n",
       "      <td>0.614</td>\n",
       "      <td>20.619599</td>\n",
       "      <td>21.110295</td>\n",
       "      <td>0.444860</td>\n",
       "    </tr>\n",
       "    <tr>\n",
       "      <th>615</th>\n",
       "      <td>0.615</td>\n",
       "      <td>20.952353</td>\n",
       "      <td>21.346210</td>\n",
       "      <td>0.444985</td>\n",
       "    </tr>\n",
       "    <tr>\n",
       "      <th>616</th>\n",
       "      <td>0.616</td>\n",
       "      <td>21.287991</td>\n",
       "      <td>21.577220</td>\n",
       "      <td>0.445038</td>\n",
       "    </tr>\n",
       "    <tr>\n",
       "      <th>617</th>\n",
       "      <td>0.617</td>\n",
       "      <td>21.626465</td>\n",
       "      <td>21.803212</td>\n",
       "      <td>0.445023</td>\n",
       "    </tr>\n",
       "    <tr>\n",
       "      <th>618</th>\n",
       "      <td>0.618</td>\n",
       "      <td>21.967726</td>\n",
       "      <td>22.024081</td>\n",
       "      <td>0.444943</td>\n",
       "    </tr>\n",
       "  </tbody>\n",
       "</table>\n",
       "</div>"
      ]
     },
     "execution_count": 187,
     "metadata": {},
     "output_type": "execute_result"
    }
   ],
   "execution_count": 187
  },
  {
   "cell_type": "markdown",
   "metadata": {},
   "source": [
    "In the above data frame slice, the approximate speed should be maximal for the row in the middle, with index equal to `i_max`:"
   ]
  },
  {
   "cell_type": "code",
   "metadata": {
    "ExecuteTime": {
     "end_time": "2024-12-12T22:19:36.299419Z",
     "start_time": "2024-12-12T22:19:36.296370Z"
    }
   },
   "source": [
    "i_max"
   ],
   "outputs": [
    {
     "data": {
      "text/plain": [
       "616"
      ]
     },
     "execution_count": 188,
     "metadata": {},
     "output_type": "execute_result"
    }
   ],
   "execution_count": 188
  },
  {
   "cell_type": "markdown",
   "metadata": {},
   "source": [
    "### Exercise 4.b\n",
    "\n",
    "Add a column labeled `'speed_diff'` to the data frame `df_path`, containing in every row the difference between the approximate speed in that row and the approximate speed in the previous row.\n",
    "\n",
    "> **Note:** The first entry of this column should be `NaN` (as there is no previous speed)."
   ]
  },
  {
   "cell_type": "code",
   "metadata": {
    "ExecuteTime": {
     "end_time": "2024-12-12T23:04:26.721061Z",
     "start_time": "2024-12-12T23:04:26.715015Z"
    }
   },
   "source": [
    "#// BEGIN_TODO [DAS_4b] Add speed_diff (1 point)\n",
    "\n",
    "df_path['speed_diff'] = df_path['approximate_speed'].diff()\n",
    "\n",
    "#// END_TODO [DAS_4b]\n",
    "\n",
    "df_path.head()"
   ],
   "outputs": [
    {
     "data": {
      "text/plain": [
       "       t    filt_x    filt_y  approximate_speed  speed_diff\n",
       "0  0.000  5.017501  1.052502           0.002773         NaN\n",
       "1  0.001  5.018392  1.055177           0.002861    0.000089\n",
       "2  0.002  5.019312  1.057936           0.002950    0.000088\n",
       "3  0.003  5.020260  1.060779           0.003038    0.000088\n",
       "4  0.004  5.021235  1.063705           0.003126    0.000088"
      ],
      "text/html": [
       "<div>\n",
       "<style scoped>\n",
       "    .dataframe tbody tr th:only-of-type {\n",
       "        vertical-align: middle;\n",
       "    }\n",
       "\n",
       "    .dataframe tbody tr th {\n",
       "        vertical-align: top;\n",
       "    }\n",
       "\n",
       "    .dataframe thead th {\n",
       "        text-align: right;\n",
       "    }\n",
       "</style>\n",
       "<table border=\"1\" class=\"dataframe\">\n",
       "  <thead>\n",
       "    <tr style=\"text-align: right;\">\n",
       "      <th></th>\n",
       "      <th>t</th>\n",
       "      <th>filt_x</th>\n",
       "      <th>filt_y</th>\n",
       "      <th>approximate_speed</th>\n",
       "      <th>speed_diff</th>\n",
       "    </tr>\n",
       "  </thead>\n",
       "  <tbody>\n",
       "    <tr>\n",
       "      <th>0</th>\n",
       "      <td>0.000</td>\n",
       "      <td>5.017501</td>\n",
       "      <td>1.052502</td>\n",
       "      <td>0.002773</td>\n",
       "      <td>NaN</td>\n",
       "    </tr>\n",
       "    <tr>\n",
       "      <th>1</th>\n",
       "      <td>0.001</td>\n",
       "      <td>5.018392</td>\n",
       "      <td>1.055177</td>\n",
       "      <td>0.002861</td>\n",
       "      <td>0.000089</td>\n",
       "    </tr>\n",
       "    <tr>\n",
       "      <th>2</th>\n",
       "      <td>0.002</td>\n",
       "      <td>5.019312</td>\n",
       "      <td>1.057936</td>\n",
       "      <td>0.002950</td>\n",
       "      <td>0.000088</td>\n",
       "    </tr>\n",
       "    <tr>\n",
       "      <th>3</th>\n",
       "      <td>0.003</td>\n",
       "      <td>5.020260</td>\n",
       "      <td>1.060779</td>\n",
       "      <td>0.003038</td>\n",
       "      <td>0.000088</td>\n",
       "    </tr>\n",
       "    <tr>\n",
       "      <th>4</th>\n",
       "      <td>0.004</td>\n",
       "      <td>5.021235</td>\n",
       "      <td>1.063705</td>\n",
       "      <td>0.003126</td>\n",
       "      <td>0.000088</td>\n",
       "    </tr>\n",
       "  </tbody>\n",
       "</table>\n",
       "</div>"
      ]
     },
     "execution_count": 189,
     "metadata": {},
     "output_type": "execute_result"
    }
   ],
   "execution_count": 189
  },
  {
   "cell_type": "markdown",
   "metadata": {
    "jp-MarkdownHeadingCollapsed": true,
    "tags": []
   },
   "source": [
    "### Exercise 4.c\n",
    "\n",
    "Find `i_left`, the smallest index in `df_path` such that for every index `i` between `i_left` and `i_max` (i.e. `i_left` $\\leq$ `i` $\\leq$ `i_max`) the approximate speed at `i` is _larger than or equal to_ the approximate speed at `i-1`.\n",
    "\n",
    "> <span class=\"t\">**Hint<span class=\"c\">:**</span></span>\n",
    "<span class=\"h\">\n",
    "Note that a trajectory consists of alternating chunks for which the approximate speed at `i` is _larger than or equal to_ the approximate speed at `i-1`, and those for which its opposite holds. We can get `i_left` by finding the last chunk for which the opposite holds (i.e. where speed at `i` is _strictly less than_ the speed at `i-1`).\n",
    "</span>\n",
    "\n",
    "> <span class=\"t\">**Hint<span class=\"c\">:**</span></span>\n",
    "<span class=\"h\">\n",
    "First use slicing and the index `i_max` to make a new data frame `df_first_part` which only contains the rows up to (and including) the index `i_max`. Next, use the column `'speed_diff'` created before to select only those rows `i` for which the speed at `i` is *strictly less than* the speed at `i-1`. You can use this last data frame to find out what `i_left` should be.\n",
    "</span>"
   ]
  },
  {
   "cell_type": "code",
   "metadata": {
    "ExecuteTime": {
     "end_time": "2024-12-12T23:22:26.076721Z",
     "start_time": "2024-12-12T23:22:26.074073Z"
    }
   },
   "source": [
    "#// BEGIN_TODO [DAS_4c] Find i_left (1 point)\n",
    "\n",
    "df_left = df_path.loc[0:i_max]\n",
    "i_left = df_left[df_left['speed_diff'] <= 0].index[-1] + 1\n"
   ],
   "outputs": [],
   "execution_count": 219
  },
  {
   "cell_type": "code",
   "metadata": {
    "ExecuteTime": {
     "end_time": "2024-12-12T23:22:27.820643Z",
     "start_time": "2024-12-12T23:22:27.818073Z"
    }
   },
   "source": [
    "#// END_TODO [DAS_4c]\n",
    "\n",
    "i_left"
   ],
   "outputs": [
    {
     "data": {
      "text/plain": [
       "np.int64(425)"
      ]
     },
     "execution_count": 220,
     "metadata": {},
     "output_type": "execute_result"
    }
   ],
   "execution_count": 220
  },
  {
   "cell_type": "markdown",
   "metadata": {},
   "source": [
    "The following code cell can give you a quick (although not a full) check of your work. If everything worked out, the value in the column `'speed_diff'` should be less than zero in the first row, and larger than or equal to zero in the other rows."
   ]
  },
  {
   "cell_type": "code",
   "metadata": {
    "ExecuteTime": {
     "end_time": "2024-12-12T23:22:29.795393Z",
     "start_time": "2024-12-12T23:22:29.789540Z"
    }
   },
   "source": [
    "df_path.loc[i_left - 1 : i_left + 3]"
   ],
   "outputs": [
    {
     "data": {
      "text/plain": [
       "         t    filt_x    filt_y  approximate_speed    speed_diff\n",
       "424  0.424  5.744283  3.232849           0.005546 -9.003215e-16\n",
       "425  0.425  5.746038  3.238115           0.005546  9.003215e-16\n",
       "426  0.426  5.747794  3.243381           0.005546  2.599483e-15\n",
       "427  0.427  5.749549  3.248647           0.005546  5.600555e-15\n",
       "428  0.428  5.751304  3.253913           0.005546  7.299716e-15"
      ],
      "text/html": [
       "<div>\n",
       "<style scoped>\n",
       "    .dataframe tbody tr th:only-of-type {\n",
       "        vertical-align: middle;\n",
       "    }\n",
       "\n",
       "    .dataframe tbody tr th {\n",
       "        vertical-align: top;\n",
       "    }\n",
       "\n",
       "    .dataframe thead th {\n",
       "        text-align: right;\n",
       "    }\n",
       "</style>\n",
       "<table border=\"1\" class=\"dataframe\">\n",
       "  <thead>\n",
       "    <tr style=\"text-align: right;\">\n",
       "      <th></th>\n",
       "      <th>t</th>\n",
       "      <th>filt_x</th>\n",
       "      <th>filt_y</th>\n",
       "      <th>approximate_speed</th>\n",
       "      <th>speed_diff</th>\n",
       "    </tr>\n",
       "  </thead>\n",
       "  <tbody>\n",
       "    <tr>\n",
       "      <th>424</th>\n",
       "      <td>0.424</td>\n",
       "      <td>5.744283</td>\n",
       "      <td>3.232849</td>\n",
       "      <td>0.005546</td>\n",
       "      <td>-9.003215e-16</td>\n",
       "    </tr>\n",
       "    <tr>\n",
       "      <th>425</th>\n",
       "      <td>0.425</td>\n",
       "      <td>5.746038</td>\n",
       "      <td>3.238115</td>\n",
       "      <td>0.005546</td>\n",
       "      <td>9.003215e-16</td>\n",
       "    </tr>\n",
       "    <tr>\n",
       "      <th>426</th>\n",
       "      <td>0.426</td>\n",
       "      <td>5.747794</td>\n",
       "      <td>3.243381</td>\n",
       "      <td>0.005546</td>\n",
       "      <td>2.599483e-15</td>\n",
       "    </tr>\n",
       "    <tr>\n",
       "      <th>427</th>\n",
       "      <td>0.427</td>\n",
       "      <td>5.749549</td>\n",
       "      <td>3.248647</td>\n",
       "      <td>0.005546</td>\n",
       "      <td>5.600555e-15</td>\n",
       "    </tr>\n",
       "    <tr>\n",
       "      <th>428</th>\n",
       "      <td>0.428</td>\n",
       "      <td>5.751304</td>\n",
       "      <td>3.253913</td>\n",
       "      <td>0.005546</td>\n",
       "      <td>7.299716e-15</td>\n",
       "    </tr>\n",
       "  </tbody>\n",
       "</table>\n",
       "</div>"
      ]
     },
     "execution_count": 221,
     "metadata": {},
     "output_type": "execute_result"
    }
   ],
   "execution_count": 221
  },
  {
   "cell_type": "markdown",
   "metadata": {},
   "source": [
    "Note that an interval `.loc[a:b]` includes both `a` and `b`."
   ]
  },
  {
   "cell_type": "markdown",
   "metadata": {},
   "source": [
    "### Exercise 4.d\n",
    "\n",
    "Find `i_right`, the largest index such that for every index `i` between `i_max + 1` and `i_right` (`i_max + 1` $\\leq$ `i` $\\leq$ `i_right`) the approximate speed at `i` is _smaller than or equal to_ the approximate speed at `i-1`."
   ]
  },
  {
   "cell_type": "code",
   "metadata": {
    "ExecuteTime": {
     "end_time": "2024-12-12T23:23:37.914799Z",
     "start_time": "2024-12-12T23:23:37.911085Z"
    }
   },
   "source": [
    "#// BEGIN_TODO [DAS_4d] Find i_right (1 point)\n",
    "\n",
    "df_right = df_path.loc[i_max + 1:]\n",
    "i_right = df_right[df_right['speed_diff'] >= 0].index[0] - 1\n",
    "\n",
    "#// END_TODO [DAS_4d]\n",
    "\n",
    "i_right"
   ],
   "outputs": [
    {
     "data": {
      "text/plain": [
       "np.int64(671)"
      ]
     },
     "execution_count": 227,
     "metadata": {},
     "output_type": "execute_result"
    }
   ],
   "execution_count": 227
  },
  {
   "cell_type": "markdown",
   "metadata": {},
   "source": [
    "The next code cell can give you a quick (although not a full) check of your work. If everything worked out, the value in the column `'speed_diff'` should be larger than zero in the last row, and less than or equal to zero in the other rows."
   ]
  },
  {
   "cell_type": "code",
   "metadata": {
    "ExecuteTime": {
     "end_time": "2024-12-12T23:23:39.545532Z",
     "start_time": "2024-12-12T23:23:39.540958Z"
    }
   },
   "source": [
    "df_path.loc[i_right - 3 : i_right + 1]"
   ],
   "outputs": [
    {
     "data": {
      "text/plain": [
       "         t     filt_x     filt_y  approximate_speed  speed_diff\n",
       "668  0.668  40.960562  26.234840           0.408743   -0.000214\n",
       "669  0.669  41.350809  26.202330           0.408594   -0.000149\n",
       "670  0.670  41.741041  26.166425           0.408510   -0.000083\n",
       "671  0.671  42.131274  26.127180           0.408492   -0.000019\n",
       "672  0.672  42.521525  26.084652           0.408537    0.000045"
      ],
      "text/html": [
       "<div>\n",
       "<style scoped>\n",
       "    .dataframe tbody tr th:only-of-type {\n",
       "        vertical-align: middle;\n",
       "    }\n",
       "\n",
       "    .dataframe tbody tr th {\n",
       "        vertical-align: top;\n",
       "    }\n",
       "\n",
       "    .dataframe thead th {\n",
       "        text-align: right;\n",
       "    }\n",
       "</style>\n",
       "<table border=\"1\" class=\"dataframe\">\n",
       "  <thead>\n",
       "    <tr style=\"text-align: right;\">\n",
       "      <th></th>\n",
       "      <th>t</th>\n",
       "      <th>filt_x</th>\n",
       "      <th>filt_y</th>\n",
       "      <th>approximate_speed</th>\n",
       "      <th>speed_diff</th>\n",
       "    </tr>\n",
       "  </thead>\n",
       "  <tbody>\n",
       "    <tr>\n",
       "      <th>668</th>\n",
       "      <td>0.668</td>\n",
       "      <td>40.960562</td>\n",
       "      <td>26.234840</td>\n",
       "      <td>0.408743</td>\n",
       "      <td>-0.000214</td>\n",
       "    </tr>\n",
       "    <tr>\n",
       "      <th>669</th>\n",
       "      <td>0.669</td>\n",
       "      <td>41.350809</td>\n",
       "      <td>26.202330</td>\n",
       "      <td>0.408594</td>\n",
       "      <td>-0.000149</td>\n",
       "    </tr>\n",
       "    <tr>\n",
       "      <th>670</th>\n",
       "      <td>0.670</td>\n",
       "      <td>41.741041</td>\n",
       "      <td>26.166425</td>\n",
       "      <td>0.408510</td>\n",
       "      <td>-0.000083</td>\n",
       "    </tr>\n",
       "    <tr>\n",
       "      <th>671</th>\n",
       "      <td>0.671</td>\n",
       "      <td>42.131274</td>\n",
       "      <td>26.127180</td>\n",
       "      <td>0.408492</td>\n",
       "      <td>-0.000019</td>\n",
       "    </tr>\n",
       "    <tr>\n",
       "      <th>672</th>\n",
       "      <td>0.672</td>\n",
       "      <td>42.521525</td>\n",
       "      <td>26.084652</td>\n",
       "      <td>0.408537</td>\n",
       "      <td>0.000045</td>\n",
       "    </tr>\n",
       "  </tbody>\n",
       "</table>\n",
       "</div>"
      ]
     },
     "execution_count": 228,
     "metadata": {},
     "output_type": "execute_result"
    }
   ],
   "execution_count": 228
  },
  {
   "cell_type": "markdown",
   "metadata": {},
   "source": [
    "Now we are ready to define `df_ballistic`:"
   ]
  },
  {
   "cell_type": "code",
   "metadata": {
    "ExecuteTime": {
     "end_time": "2024-12-12T23:23:45.913908Z",
     "start_time": "2024-12-12T23:23:45.908887Z"
    }
   },
   "source": [
    "df_ballistic = df_path.loc[i_left:i_right]\n",
    "df_ballistic.head()"
   ],
   "outputs": [
    {
     "data": {
      "text/plain": [
       "         t    filt_x    filt_y  approximate_speed    speed_diff\n",
       "425  0.425  5.746038  3.238115           0.005546  9.003215e-16\n",
       "426  0.426  5.747794  3.243381           0.005546  2.599483e-15\n",
       "427  0.427  5.749549  3.248647           0.005546  5.600555e-15\n",
       "428  0.428  5.751304  3.253913           0.005546  7.299716e-15\n",
       "429  0.429  5.753060  3.259179           0.005546  8.999745e-15"
      ],
      "text/html": [
       "<div>\n",
       "<style scoped>\n",
       "    .dataframe tbody tr th:only-of-type {\n",
       "        vertical-align: middle;\n",
       "    }\n",
       "\n",
       "    .dataframe tbody tr th {\n",
       "        vertical-align: top;\n",
       "    }\n",
       "\n",
       "    .dataframe thead th {\n",
       "        text-align: right;\n",
       "    }\n",
       "</style>\n",
       "<table border=\"1\" class=\"dataframe\">\n",
       "  <thead>\n",
       "    <tr style=\"text-align: right;\">\n",
       "      <th></th>\n",
       "      <th>t</th>\n",
       "      <th>filt_x</th>\n",
       "      <th>filt_y</th>\n",
       "      <th>approximate_speed</th>\n",
       "      <th>speed_diff</th>\n",
       "    </tr>\n",
       "  </thead>\n",
       "  <tbody>\n",
       "    <tr>\n",
       "      <th>425</th>\n",
       "      <td>0.425</td>\n",
       "      <td>5.746038</td>\n",
       "      <td>3.238115</td>\n",
       "      <td>0.005546</td>\n",
       "      <td>9.003215e-16</td>\n",
       "    </tr>\n",
       "    <tr>\n",
       "      <th>426</th>\n",
       "      <td>0.426</td>\n",
       "      <td>5.747794</td>\n",
       "      <td>3.243381</td>\n",
       "      <td>0.005546</td>\n",
       "      <td>2.599483e-15</td>\n",
       "    </tr>\n",
       "    <tr>\n",
       "      <th>427</th>\n",
       "      <td>0.427</td>\n",
       "      <td>5.749549</td>\n",
       "      <td>3.248647</td>\n",
       "      <td>0.005546</td>\n",
       "      <td>5.600555e-15</td>\n",
       "    </tr>\n",
       "    <tr>\n",
       "      <th>428</th>\n",
       "      <td>0.428</td>\n",
       "      <td>5.751304</td>\n",
       "      <td>3.253913</td>\n",
       "      <td>0.005546</td>\n",
       "      <td>7.299716e-15</td>\n",
       "    </tr>\n",
       "    <tr>\n",
       "      <th>429</th>\n",
       "      <td>0.429</td>\n",
       "      <td>5.753060</td>\n",
       "      <td>3.259179</td>\n",
       "      <td>0.005546</td>\n",
       "      <td>8.999745e-15</td>\n",
       "    </tr>\n",
       "  </tbody>\n",
       "</table>\n",
       "</div>"
      ]
     },
     "execution_count": 229,
     "metadata": {},
     "output_type": "execute_result"
    }
   ],
   "execution_count": 229
  },
  {
   "cell_type": "code",
   "metadata": {
    "ExecuteTime": {
     "end_time": "2024-12-12T23:23:48.849027Z",
     "start_time": "2024-12-12T23:23:48.843468Z"
    }
   },
   "source": [
    "df_ballistic.tail()"
   ],
   "outputs": [
    {
     "data": {
      "text/plain": [
       "         t     filt_x     filt_y  approximate_speed  speed_diff\n",
       "667  0.667  40.570283  26.263892           0.408957   -0.000280\n",
       "668  0.668  40.960562  26.234840           0.408743   -0.000214\n",
       "669  0.669  41.350809  26.202330           0.408594   -0.000149\n",
       "670  0.670  41.741041  26.166425           0.408510   -0.000083\n",
       "671  0.671  42.131274  26.127180           0.408492   -0.000019"
      ],
      "text/html": [
       "<div>\n",
       "<style scoped>\n",
       "    .dataframe tbody tr th:only-of-type {\n",
       "        vertical-align: middle;\n",
       "    }\n",
       "\n",
       "    .dataframe tbody tr th {\n",
       "        vertical-align: top;\n",
       "    }\n",
       "\n",
       "    .dataframe thead th {\n",
       "        text-align: right;\n",
       "    }\n",
       "</style>\n",
       "<table border=\"1\" class=\"dataframe\">\n",
       "  <thead>\n",
       "    <tr style=\"text-align: right;\">\n",
       "      <th></th>\n",
       "      <th>t</th>\n",
       "      <th>filt_x</th>\n",
       "      <th>filt_y</th>\n",
       "      <th>approximate_speed</th>\n",
       "      <th>speed_diff</th>\n",
       "    </tr>\n",
       "  </thead>\n",
       "  <tbody>\n",
       "    <tr>\n",
       "      <th>667</th>\n",
       "      <td>0.667</td>\n",
       "      <td>40.570283</td>\n",
       "      <td>26.263892</td>\n",
       "      <td>0.408957</td>\n",
       "      <td>-0.000280</td>\n",
       "    </tr>\n",
       "    <tr>\n",
       "      <th>668</th>\n",
       "      <td>0.668</td>\n",
       "      <td>40.960562</td>\n",
       "      <td>26.234840</td>\n",
       "      <td>0.408743</td>\n",
       "      <td>-0.000214</td>\n",
       "    </tr>\n",
       "    <tr>\n",
       "      <th>669</th>\n",
       "      <td>0.669</td>\n",
       "      <td>41.350809</td>\n",
       "      <td>26.202330</td>\n",
       "      <td>0.408594</td>\n",
       "      <td>-0.000149</td>\n",
       "    </tr>\n",
       "    <tr>\n",
       "      <th>670</th>\n",
       "      <td>0.670</td>\n",
       "      <td>41.741041</td>\n",
       "      <td>26.166425</td>\n",
       "      <td>0.408510</td>\n",
       "      <td>-0.000083</td>\n",
       "    </tr>\n",
       "    <tr>\n",
       "      <th>671</th>\n",
       "      <td>0.671</td>\n",
       "      <td>42.131274</td>\n",
       "      <td>26.127180</td>\n",
       "      <td>0.408492</td>\n",
       "      <td>-0.000019</td>\n",
       "    </tr>\n",
       "  </tbody>\n",
       "</table>\n",
       "</div>"
      ]
     },
     "execution_count": 230,
     "metadata": {},
     "output_type": "execute_result"
    }
   ],
   "execution_count": 230
  },
  {
   "cell_type": "markdown",
   "metadata": {},
   "source": [
    "### Exercise 4.e\n",
    "\n",
    "Plot the full, filtered, mouse trajectory (with coordinates `'filt_x'` and `'filt_y'`) in `df_path` in blue, and on top of it indicate the ballistic motion with a thick, black curve (set the linewidth equal to `3`). As before, make sure that both axes range from -300 to 300."
   ]
  },
  {
   "cell_type": "code",
   "metadata": {
    "ExecuteTime": {
     "end_time": "2024-12-12T23:26:46.469200Z",
     "start_time": "2024-12-12T23:26:46.389256Z"
    }
   },
   "source": [
    "#// BEGIN_TODO [DAS_4e] Plot ballistic motion (1 point)\n",
    "\n",
    "ax = df_path.plot(x='filt_x', y='filt_y', xlim=(-300, 300), ylim=(-300, 300), c='blue')\n",
    "df_ballistic.plot(x='filt_x', y='filt_y', ax=ax, color='black', linewidth=3);\n",
    "\n",
    "#// END_TODO [DAS_4e]"
   ],
   "outputs": [
    {
     "data": {
      "text/plain": [
       "<Figure size 1000x500 with 1 Axes>"
      ],
      "image/png": "[encoded data removed]"
     },
     "metadata": {},
     "output_type": "display_data"
    }
   ],
   "execution_count": 235
  },
  {
   "cell_type": "markdown",
   "metadata": {},
   "source": [
    "# Feedback\n",
    "\n",
    "Please fill in this questionaire to help us improve this course for the next year. Your feedback will be anonymized and will not affect your grade in any way!"
   ]
  },
  {
   "cell_type": "markdown",
   "metadata": {},
   "source": [
    "### How many hours did you spend on these Exercises?\n",
    "\n",
    "Assign a number to `feedback_time`."
   ]
  },
  {
   "cell_type": "code",
   "execution_count": null,
   "metadata": {},
   "outputs": [],
   "source": [
    "#// BEGIN_FEEDBACK [Feedback_1] (0 point)\n",
    "\n",
    "feedback_time = 4\n",
    "\n",
    "#// END_FEEDBACK [Feedback_1] (0 point)\n",
    "\n",
    "import numbers\n",
    "assert isinstance(feedback_time, numbers.Number), \"Please assign a number to feedback_time\"\n",
    "feedback_time"
   ]
  },
  {
   "cell_type": "markdown",
   "metadata": {},
   "source": [
    "### How difficult did you find these Exercises?\n",
    "\n",
    "Assign an integer to `feedback_difficulty`, on a scale 0 - 10, with 0 being very easy, 5 being just right, and 10 being very difficult."
   ]
  },
  {
   "cell_type": "code",
   "execution_count": null,
   "metadata": {},
   "outputs": [],
   "source": [
    "#// BEGIN_FEEDBACK [Feedback_2] (0 point)\n",
    "\n",
    "feedback_difficulty = 2\n",
    "\n",
    "#// END_FEEDBACK [Feedback_2] (0 point)\n",
    "\n",
    "import numbers\n",
    "assert isinstance(feedback_difficulty, numbers.Number), \"Please assign a number to feedback_difficulty\"\n",
    "feedback_difficulty"
   ]
  },
  {
   "cell_type": "markdown",
   "metadata": {},
   "source": [
    "### (Optional) What did you like?\n",
    "\n",
    "Assign a string to `feedback_like`."
   ]
  },
  {
   "cell_type": "code",
   "execution_count": null,
   "metadata": {},
   "outputs": [],
   "source": [
    "#// BEGIN_FEEDBACK [Feedback_3] (0 point)\n",
    "\n",
    "#// END_FEEDBACK [Feedback_3] (0 point)"
   ]
  },
  {
   "cell_type": "markdown",
   "metadata": {},
   "source": [
    "### (Optional) What can be improved?\n",
    "\n",
    "Assign a string to `feedback_improve`. Please be specific, so that we can act on your feedback. For example, mention the specific exercises and what was unclear."
   ]
  },
  {
   "cell_type": "code",
   "execution_count": null,
   "metadata": {},
   "outputs": [],
   "source": [
    "#// BEGIN_FEEDBACK [Feedback_4] (0 point)\n",
    "\n",
    "#// END_FEEDBACK [Feedback_4] (0 point)"
   ]
  },
  {
   "cell_type": "markdown",
   "metadata": {},
   "source": [
    "\n",
    "\n",
    "\n",
    "## How to Submit Your Work\n",
    "\n",
    "1. **Before submitting**, you must run your notebook by doing **Kernel > Restart & Run All**.  \n",
    "   Make sure that your notebook runs without errors **in linear order**.\n",
    "1. Remember to rename the notebook, replacing `...-template.ipynb` with `...-yourIDnr.ipynb`, where `yourIDnr` is your TU/e identification number.\n",
    "1. Submit the executed notebook with your work\n",
    "   for the appropriate assignment in **Canvas**.\n",
    "1. In the **Momotor** tab in Canvas,\n",
    "  you can select that assignment again to find some feedback on your submitted work.\n",
    "  If there are any problems reported by _Momotor_,\n",
    "  then you need to fix those,\n",
    "  and **resubmit the fixed notebook**.\n",
    "\n",
    "In case of a high workload on our server\n",
    "(because many students submit close to the deadline),\n",
    "it may take longer to receive the feedback.\n",
    "\n",
    "\n"
   ]
  },
  {
   "cell_type": "markdown",
   "metadata": {},
   "source": [
    "---"
   ]
  },
  {
   "cell_type": "code",
   "execution_count": null,
   "metadata": {},
   "outputs": [],
   "source": [
    "# List all defined names\n",
    "%whos"
   ]
  },
  {
   "cell_type": "markdown",
   "metadata": {},
   "source": [
    "---\n",
    "\n",
    "# (End of Notebook) <span class=\"tocSkip\"></span>\n",
    "\n",
    "&copy; 2017-2024 - **TU/e** - Eindhoven University of Technology"
   ]
  }
 ],
 "metadata": {
  "hide_input": false,
  "kernelspec": {
   "display_name": "Python 3",
   "language": "python",
   "name": "python3"
  },
  "language_info": {
   "codemirror_mode": {
    "name": "ipython",
    "version": 3
   },
   "file_extension": ".py",
   "mimetype": "text/x-python",
   "name": "python",
   "nbconvert_exporter": "python",
   "pygments_lexer": "ipython3",
   "version": "3.11.7"
  },
  "toc": {
   "base_numbering": 1,
   "nav_menu": {
    "height": "174px",
    "width": "252px"
   },
   "number_sections": false,
   "sideBar": true,
   "skip_h1_title": false,
   "title_cell": "Table of Contents",
   "title_sidebar": "Contents",
   "toc_cell": true,
   "toc_position": {
    "height": "calc(100% - 180px)",
    "left": "10px",
    "top": "150px",
    "width": "267px"
   },
   "toc_section_display": "block",
   "toc_window_display": true
  }
 },
 "nbformat": 4,
 "nbformat_minor": 4
}
