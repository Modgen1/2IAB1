{
 "cells": [
  {
   "cell_type": "markdown",
   "metadata": {},
   "source": [
    "# Graded Assignment 1 - Energy Consumption Analysis Across Household Types"
   ]
  },
  {
   "cell_type": "markdown",
   "metadata": {},
   "source": [
    "\n",
    "# Introduction to This Template Notebook\n",
    "\n",
    "* This is a **personal** notebook.\n",
    "* Make a **copy** of `...-template.ipynb` and\n",
    "**rename** it to `...-yourIDnr.ipynb`,\n",
    "where `yourIDnr` is your TU/e identification number.\n",
    "\n",
    "<div class=\"alert alert-danger\" role=\"danger\">\n",
    "<h3>Integrity</h3>\n",
    "<ul>\n",
    "    <li>In this course you must act according to the rules of the TU/e code of scientific conduct.</li>\n",
    "    <li>All the exercises and the graded assignments are to be executed individually and independently.</li>\n",
    "    <li>You must not copy from the Internet, your friends, books... If you represent other people's work as your own, then that constitutes fraud and will be reported to the Examination Committee.</li>\n",
    "    <li>Making your work available to others (complicity) also constitutes fraud.</li>\n",
    "</ul>\n",
    "</div>\n",
    "\n",
    "You are expected to work with Python code in this notebook.\n",
    "\n",
    "The locations where you should write your solutions can be recognized by\n",
    "**marker lines**,\n",
    "which look like this:\n",
    "\n",
    ">`#//`\n",
    ">    `BEGIN_TODO [Label]` `Description` `(n points)`\n",
    ">\n",
    ">`#//`\n",
    ">    `END_TODO [Label]`\n",
    "\n",
    "<div class=\"alert alert-warning\" role=\"alert\">Do NOT modify or delete these marker lines.  Keep them as they are.<br/>\n",
    "NEVER write code <i>outside</i> the marked blocks.\n",
    "Such code cannot be evaluated.\n",
    "</div>\n",
    "\n",
    "Proceed in this notebook as follows:\n",
    "* **Read** the text.\n",
    "* **Fill in** your solutions in the cells that are between the cells with `BEGIN_TODO` and `END_TODO` marker lines.\n",
    "* **Run** _all_ code cells (also the ones _without_ your code),\n",
    "    _in linear order_ from the first code cell.\n",
    "\n",
    "# Personalize your notebook:\n",
    "1. Copy the following three lines of code:\n",
    "\n",
    "  ```python\n",
    "  AUTHOR_NAME = 'Your Full Name'\n",
    "  AUTHOR_ID_NR = '1234567'\n",
    "  AUTHOR_DATE = 'YYYY-MM-DD'\n",
    "  ```\n",
    "1. Paste them between the marker lines in the next code cell.\n",
    "1. Fill in your _full name_, _identification number_, and the current _date_ (i.e. when you first modified this notebook, e.g. '2024-11-15') as strings between the `Author` markers.\n",
    "1. Run the code cell by putting the cursor there and typing **Control-Enter**.\n"
   ]
  },
  {
   "cell_type": "code",
   "execution_count": null,
   "metadata": {},
   "outputs": [],
   "source": [
    "from matplotlib.pyplot import xlabel\n",
    "\n",
    "#// BEGIN_TODO [Author] (author, 0 points)\n",
    "\n",
    "AUTHOR_NAME = 'Ivan Sergeevich Mishin'\n",
    "AUTHOR_ID_NR = '2076209'\n",
    "AUTHOR_DATE = '2024-11-27'\n"
   ]
  },
  {
   "cell_type": "code",
   "execution_count": null,
   "metadata": {},
   "outputs": [],
   "source": [
    "#// END_TODO [Author]"
   ]
  },
  {
   "cell_type": "markdown",
   "metadata": {},
   "source": [
    "## <a id='toc0_'></a>[Table of Contents](#toc0_)\n",
    "\n",
    "- Graded Assignment 1 - Energy Consumption Analysis Across Household Types   \n",
    "  - [Table of Contents](#toc0_)\n",
    "  - [Organizational Matters](#toc1_1_)    \n",
    "  - [Introduction](#toc1_2_)    \n",
    "    - [Origin of the Data](#toc1_2_1_)    \n",
    "    - [Problem Statement](#toc1_2_2_)    \n",
    "    - [Development of a Hypothesis](#toc1_2_3_)    \n",
    "    - [Personalization of the Assignment](#toc1_2_4_)    \n",
    "  - [Dataset](#toc1_3_)    \n",
    "    - [The `df_energy` DataFrame](#toc1_3_1_)    \n",
    "    - [The `df_population` DataFrame](#toc1_3_2_)    \n",
    "    - [The `df_edu` DataFrame](#toc1_3_3_)    \n",
    "    - [The `df_weather` DataFrame](#toc1_3_4_)    \n",
    "  - [Preparation](#toc1_4_)    \n",
    "    - [Load the Libraries](#toc1_4_1_)    \n",
    "    - [Load the Data](#toc1_4_2_)    \n",
    "  - [Part 1](#toc1_5_)    \n",
    "    - [Task 1a: Municipality characteristics](#toc1_5_1_)    \n",
    "    - [Task 1b: Natural gas consumption](#toc1_5_2_)    \n",
    "    - [Task 1c: Trends in natural gas consumption](#toc1_5_3_)    \n",
    "    - [Task 1d: Temperature distribution](#toc1_5_4_)    \n",
    "    - [Degree days](#toc1_5_5_)    \n",
    "    - [Task 2a: Computing the degree days](#toc1_5_6_)    \n",
    "    - [Task 2b: Compare degree days to energy consumption](#toc1_5_7_)    \n",
    "  - [Part 2](#toc1_6_)    \n",
    "      - [Task 3a: Choose variables for the prediction model](#toc1_6_1_1_)    \n",
    "      - [Task 3b: Split data into training and test data](#toc1_6_1_2_)    \n",
    "      - [Task 3c: Create your prediction model](#toc1_6_1_3_)    \n",
    "  - [Part 3](#toc1_7_)    \n",
    "    - [Task 4: Concluding Hypothesis](#toc1_7_1_)    \n",
    "    - [Task 5: Create Your Poster](#toc1_7_2_)    \n",
    "  - [Footnotes](#toc1_8_)    \n",
    "  - [References](#toc1_9_)    \n",
    "- [Feedback](#toc2_)    \n",
    "    - [How many hours did you spend on these Exercises?](#toc2_1_1_)    \n",
    "    - [How difficult did you find these Exercises?](#toc2_1_2_)    \n",
    "    - [(Optional) What did you like?](#toc2_1_3_)    \n",
    "    - [(Optional) What can be improved?](#toc2_1_4_)    \n",
    "  - [How to Submit Your Work](#toc2_2_)    \n",
    "- [(End of Notebook) <span class=\"tocSkip\"></span>](#toc3_)    \n",
    "\n",
    "<!-- vscode-jupyter-toc-config\n",
    "\tnumbering=false\n",
    "\tanchor=true\n",
    "\tflat=false\n",
    "\tminLevel=1\n",
    "\tmaxLevel=6\n",
    "\t/vscode-jupyter-toc-config -->\n",
    "<!-- THIS CELL WILL BE REPLACED ON TOC UPDATE. DO NOT WRITE YOUR TEXT IN THIS CELL -->"
   ]
  },
  {
   "cell_type": "markdown",
   "metadata": {},
   "source": [
    "<div class=\"alert-danger alert\" role=\"alert\">\n",
    "    <b>Important:</b> The use of external libraries, packages, or modules that have not been explicitly imported in the <a href=#Preparation>Preparation</a> part of this assignment is <b>forbidden</b>, except in the final poster task (cf. <a href=#Step-5.-Create-Your-Poster>Step 5. Create Your Poster</a>).\n",
    "</div>"
   ]
  },
  {
   "cell_type": "markdown",
   "metadata": {},
   "source": [
    "---\n",
    "## <a id='toc1_1_'></a>[Organizational Matters](#toc0_)\n",
    "\n",
    "Welcome to the first graded assignment of the course Foundations of Data Analytics (2IAB1)! This assignment consists of three parts:\n",
    "\n",
    "- **Part 1.** *Data exploration*: You are to get familiar with the dataset and come up with ideas to investigate in Part 2.\n",
    "\n",
    "- **Part 2.** *Data mining*: Here you will investigate the relationship between the variables of interest using data mining techniques.\n",
    "\n",
    "- **Part 3.** *Presenting insights*: You are to use the insights that you have obtained from *Part 1* and *Part 2* to create a **poster** on which you report and discuss your findings.\n",
    "\n",
    "The deadline for the graded assignment, including both this notebook and your poster, is **Friday December 6, 2024, at 21:00**.\n",
    "\n",
    "Your assignment will be graded on two components: \n",
    "1. the work in this notebook, graded by Momotor, and\n",
    "2. your poster.\n",
    "\n",
    "For the precise assessment criteria, see the [study guide on Canvas](https://canvas.tue.nl/courses/28674/pages/study-guide-2iab1-foundations-of-data-analytics).\n",
    "\n",
    "<div class=\"alert alert-block alert-danger\">\n",
    "<b>Three very important remarks:</b> <br>\n",
    "    \n",
    "1. Ensure that the **visualizations that you include in your poster** are also produced by your notebook and that they follow best practices. The Visualization section of the [poster guidelines](https://canvas.tue.nl/courses/28674/files/5628655/download?wrap=1) provides the minimal requirements for the visualizations. **Double-check** if the visualizations are produced correctly on Momotor under the **Running submitted notebook** tab.\n",
    "2. Submit your notebook regularly before the deadline and make sure **Momotor does not give any errors in any tab**. If it does, it might happen that the rest of the assignment is negatively impacted, meaning extra points might be deducted.\n",
    "3. **Do not write anything _outside_ marker lines `BEGIN_TODO ... END_TODO`**, otherwise Momotor won't be able to detect your code.\n",
    "</div>"
   ]
  },
  {
   "cell_type": "markdown",
   "metadata": {},
   "source": [
    "---\n",
    "\n",
    "## <a id='toc1_2_'></a>[Introduction](#toc0_)\n",
    "\n",
    "Over the past three years, the Netherlands and much of Europe faced an energy crisis not seen since the 1970s. The price of natural gas skyrocketed from around &euro; 20 per MWh to over &euro; 200 per MWh in [less than a year](https://allecijfers.nl/gas/).\n",
    "\n",
    "In 2021, [20%](https://www.energie-nederland.nl/onderwerpen/energiesysteem/feiten-en-cijfers/) of the gas in the Netherlands was used to produce electricity, while [33%](https://www.energie-nederland.nl/onderwerpen/energiesysteem/feiten-en-cijfers/) of it was consumed by households for heating, cooking and warming water. [90%](https://opendata.cbs.nl/#/CBS/nl/dataset/84948NED/table) of households still rely on gas for heating, and the price increase significantly affected many families. People responded by lowering their thermostats, taking shorter showers, improving home insulation, and finding other ways to save energy. Although energy prices have since decreased, this period highlighted the significant impact of energy consumption on everyday life. This issue is also critical in the context of the climate goals and the reduction targets set by the [European Energy Efficiency Directive](https://energy.ec.europa.eu/topics/energy-efficiency/energy-efficiency-targets-directive-and-rules/energy-efficiency-directive_en).\n",
    "\n",
    "To set realistic targets in governmental policies, it is essential to understand how various factors influence household energy consumption. In this assignment we will examine the impact of weather, primarily temperature, and basic socioeconomic factors on the average natural gas consumption of different types of households in Dutch municipalities. \n",
    "\n",
    "### <a id='toc1_2_1_'></a>[Origin of the Data](#toc0_)\n",
    "We will use socioeconomic and energy consumption data from [Statistics Netherlands](https://www.cbs.nl/en-gb), known as CBS (Centraal Bureau voor de Statistiek) in the Netherlands.\n",
    "This data can be accessed as Open Data through the [StatLine data portal](https://opendata.cbs.nl/statline/portal.html?_la=en&_catalog=CBS).\n",
    "CBS obtains the energy consumption data from [C-AR](https://www.edsn.nl/marktpartijen/), the central registry of the energy companies in the Netherlands.\n",
    "\n",
    "To explore the relationship between the energy consumption and weather, we will also analyze [climatologic data](https://www.knmi.nl/nederland-nu/klimatologie/uurgegevens) collected by the Royal Netherlands Meteorological Institute (Koninklijk Nederlands Meteorologisch Instituut, KNMI).\n",
    "The data comes from 50 meteorological stations recording various weather measurements.\n",
    "\n",
    "The weather stations considered in this assignment are shown in Figure 1 below. \n",
    "\n",
    "<div style=\"text-align: center\">\n",
    "  <img src=\"./GA1_files/weather_stations_map.png\">\n",
    "  <p>Figure 1. Map of the Netherlands showing weather stations as orange dots.</p>\n",
    "</div>"
   ]
  },
  {
   "cell_type": "markdown",
   "metadata": {},
   "source": [
    "### <a id='toc1_2_2_'></a>[Problem Statement](#toc0_)\n",
    "\n",
    "What are the relationships between natural gas consumption and weather, and between natural gas consumption and socioeconomic factors?"
   ]
  },
  {
   "cell_type": "markdown",
   "metadata": {},
   "source": [
    "### <a id='toc1_2_3_'></a>[Development of a Hypothesis](#toc0_)\n",
    "\n",
    "In this assignment you will first conduct exploratory data analytics using different visualization techniques. Examples of subquestions that will come by are:\n",
    " * What are the trends in natural gas consumption over time?\n",
    " * Is there a correlation between gas consumption and temperature averages?\n",
    " * What are the differences in gas consumption between house types?\n",
    "Then you will mine a model for natural gas consumption.\n",
    "\n",
    "At the end of the assignment, you are to formulate a hypothesis about the relationship between gas consumption and one or more variables based on your observations."
   ]
  },
  {
   "cell_type": "markdown",
   "metadata": {},
   "source": [
    "### <a id='toc1_2_4_'></a>[Personalization of the Assignment](#toc0_)\n",
    "\n",
    "This assignment is personalized. \n",
    "You should have received an **e-mail** containing:\n",
    "- the names of **two house types**, which you investigate in the assignment, and;\n",
    "- the names of **four municipalities**.\n",
    "\n",
    "**Select the fifth municipality** from the list below based on your interest. This could be the municipality where you currently live, one you aspire  to live in, or simply one you find intriguing. Please, note that the names are in Dutch. Ensure you type the municipality name **exactly** as it appears below. \n",
    "<details>\n",
    "  <summary>Available municipalities, click to expand.</summary>\n",
    "  \n",
    "  - 's-Gravenhage\n",
    "  - 's-Hertogenbosch\n",
    "  - Aa en Hunze\n",
    "  - Aalsmeer\n",
    "  - Aalten\n",
    "  - Achtkarspelen\n",
    "  - Alblasserdam\n",
    "  - Albrandswaard\n",
    "  - Alkmaar\n",
    "  - Almelo\n",
    "  - Almere\n",
    "  - Alphen aan den Rijn\n",
    "  - Alphen-Chaam\n",
    "  - Ameland\n",
    "  - Amersfoort\n",
    "  - Amstelveen\n",
    "  - Amsterdam\n",
    "  - Apeldoorn\n",
    "  - Arnhem\n",
    "  - Assen\n",
    "  - Asten\n",
    "  - Baarle-Nassau\n",
    "  - Baarn\n",
    "  - Barendrecht\n",
    "  - Barneveld\n",
    "  - Beek\n",
    "  - Beesel\n",
    "  - Bergeijk\n",
    "  - Bergen (L.)\n",
    "  - Bergen (NH.)\n",
    "  - Bergen op Zoom\n",
    "  - Berkelland\n",
    "  - Bernheze\n",
    "  - Best\n",
    "  - Beuningen\n",
    "  - Beverwijk\n",
    "  - Bladel\n",
    "  - Blaricum\n",
    "  - Bloemendaal\n",
    "  - Boekel\n",
    "  - Borger-Odoorn\n",
    "  - Borne\n",
    "  - Borsele\n",
    "  - Boxtel\n",
    "  - Breda\n",
    "  - Bronckhorst\n",
    "  - Brummen\n",
    "  - Brunssum\n",
    "  - Bunnik\n",
    "  - Bunschoten\n",
    "  - Buren\n",
    "  - Capelle aan den IJssel\n",
    "  - Castricum\n",
    "  - Coevorden\n",
    "  - Cranendonck\n",
    "  - Culemborg\n",
    "  - Dalfsen\n",
    "  - Dantumadiel\n",
    "  - De Bilt\n",
    "  - De Ronde Venen\n",
    "  - De Wolden\n",
    "  - Delft\n",
    "  - Den Helder\n",
    "  - Deurne\n",
    "  - Deventer\n",
    "  - Diemen\n",
    "  - Dinkelland\n",
    "  - Doesburg\n",
    "  - Doetinchem\n",
    "  - Dongen\n",
    "  - Dordrecht\n",
    "  - Drechterland\n",
    "  - Drimmelen\n",
    "  - Dronten\n",
    "  - Druten\n",
    "  - Duiven\n",
    "  - Echt-Susteren\n",
    "  - Edam-Volendam\n",
    "  - Ede\n",
    "  - Eemnes\n",
    "  - Eersel\n",
    "  - Eindhoven\n",
    "  - Elburg\n",
    "  - Emmen\n",
    "  - Enkhuizen\n",
    "  - Enschede\n",
    "  - Epe\n",
    "  - Ermelo\n",
    "  - Etten-Leur\n",
    "  - Geertruidenberg\n",
    "  - Geldrop-Mierlo\n",
    "  - Gemert-Bakel\n",
    "  - Gennep\n",
    "  - Gilze en Rijen\n",
    "  - Goes\n",
    "  - Goirle\n",
    "  - Gorinchem\n",
    "  - Gouda\n",
    "  - Groningen\n",
    "  - Gulpen-Wittem\n",
    "  - Haaksbergen\n",
    "  - Haarlem\n",
    "  - Haarlemmermeer\n",
    "  - Halderberge\n",
    "  - Hardenberg\n",
    "  - Harderwijk\n",
    "  - Hardinxveld-Giessendam\n",
    "  - Harlingen\n",
    "  - Hattem\n",
    "  - Heemskerk\n",
    "  - Heemstede\n",
    "  - Heerde\n",
    "  - Heerenveen\n",
    "  - Heerlen\n",
    "  - Heeze-Leende\n",
    "  - Heiloo\n",
    "  - Hellendoorn\n",
    "  - Helmond\n",
    "  - Hendrik-Ido-Ambacht\n",
    "  - Hengelo\n",
    "  - Heumen\n",
    "  - Heusden\n",
    "  - Hillegom\n",
    "  - Hilvarenbeek\n",
    "  - Hilversum\n",
    "  - Hof van Twente\n",
    "  - Hoogeveen\n",
    "  - Hoorn\n",
    "  - Horst aan de Maas\n",
    "  - Houten\n",
    "  - Huizen\n",
    "  - Hulst\n",
    "  - IJsselstein\n",
    "  - Kaag en Braassem\n",
    "  - Kampen\n",
    "  - Kapelle\n",
    "  - Katwijk\n",
    "  - Kerkrade\n",
    "  - Koggenland\n",
    "  - Krimpen aan den IJssel\n",
    "  - Laarbeek\n",
    "  - Landgraaf\n",
    "  - Landsmeer\n",
    "  - Lansingerland\n",
    "  - Laren\n",
    "  - Leeuwarden\n",
    "  - Leiden\n",
    "  - Leiderdorp\n",
    "  - Leidschendam-Voorburg\n",
    "  - Lelystad\n",
    "  - Leudal\n",
    "  - Leusden\n",
    "  - Lingewaard\n",
    "  - Lisse\n",
    "  - Lochem\n",
    "  - Loon op Zand\n",
    "  - Lopik\n",
    "  - Losser\n",
    "  - Maasdriel\n",
    "  - Maasgouw\n",
    "  - Maassluis\n",
    "  - Maastricht\n",
    "  - Medemblik\n",
    "  - Meerssen\n",
    "  - Meppel\n",
    "  - Middelburg\n",
    "  - Midden-Delfland\n",
    "  - Midden-Drenthe\n",
    "  - Moerdijk\n",
    "  - Montferland\n",
    "  - Montfoort\n",
    "  - Mook en Middelaar\n",
    "  - Neder-Betuwe\n",
    "  - Nederweert\n",
    "  - Nieuwegein\n",
    "  - Nieuwkoop\n",
    "  - Nijkerk\n",
    "  - Nijmegen\n",
    "  - Noord-Beveland\n",
    "  - Noordenveld\n",
    "  - Noordoostpolder\n",
    "  - Noordwijk\n",
    "  - Nuenen, Gerwen en Nederwetten\n",
    "  - Nunspeet\n",
    "  - Oegstgeest\n",
    "  - Oirschot\n",
    "  - Oisterwijk\n",
    "  - Oldambt\n",
    "  - Oldebroek\n",
    "  - Oldenzaal\n",
    "  - Olst-Wijhe\n",
    "  - Ommen\n",
    "  - Oost Gelre\n",
    "  - Oosterhout\n",
    "  - Ooststellingwerf\n",
    "  - Oostzaan\n",
    "  - Opmeer\n",
    "  - Opsterland\n",
    "  - Oss\n",
    "  - Oude IJsselstreek\n",
    "  - Ouder-Amstel\n",
    "  - Oudewater\n",
    "  - Overbetuwe\n",
    "  - Papendrecht\n",
    "  - Peel en Maas\n",
    "  - Pekela\n",
    "  - Pijnacker-Nootdorp\n",
    "  - Purmerend\n",
    "  - Putten\n",
    "  - Raalte\n",
    "  - Reimerswaal\n",
    "  - Renkum\n",
    "  - Renswoude\n",
    "  - Reusel-De Mierden\n",
    "  - Rheden\n",
    "  - Rhenen\n",
    "  - Ridderkerk\n",
    "  - Rijssen-Holten\n",
    "  - Rijswijk\n",
    "  - Roerdalen\n",
    "  - Roermond\n",
    "  - Roosendaal\n",
    "  - Rotterdam\n",
    "  - Rucphen\n",
    "  - Schagen\n",
    "  - Scherpenzeel\n",
    "  - Schiedam\n",
    "  - Schouwen-Duiveland\n",
    "  - Simpelveld\n",
    "  - Sint-Michielsgestel\n",
    "  - Sittard-Geleen\n",
    "  - Sliedrecht\n",
    "  - Sluis\n",
    "  - Smallingerland\n",
    "  - Soest\n",
    "  - Someren\n",
    "  - Son en Breugel\n",
    "  - Stadskanaal\n",
    "  - Staphorst\n",
    "  - Stede Broec\n",
    "  - Steenbergen\n",
    "  - Steenwijkerland\n",
    "  - Stein\n",
    "  - Terneuzen\n",
    "  - Terschelling\n",
    "  - Texel\n",
    "  - Teylingen\n",
    "  - Tholen\n",
    "  - Tiel\n",
    "  - Tilburg\n",
    "  - Tubbergen\n",
    "  - Twenterand\n",
    "  - Tynaarlo\n",
    "  - Tytsjerksteradiel\n",
    "  - Uitgeest\n",
    "  - Uithoorn\n",
    "  - Urk\n",
    "  - Utrecht\n",
    "  - Utrechtse Heuvelrug\n",
    "  - Vaals\n",
    "  - Valkenburg aan de Geul\n",
    "  - Valkenswaard\n",
    "  - Veendam\n",
    "  - Veenendaal\n",
    "  - Veere\n",
    "  - Veldhoven\n",
    "  - Velsen\n",
    "  - Venlo\n",
    "  - Venray\n",
    "  - Vlaardingen\n",
    "  - Vlieland\n",
    "  - Vlissingen\n",
    "  - Voerendaal\n",
    "  - Voorschoten\n",
    "  - Voorst\n",
    "  - Vught\n",
    "  - Waalre\n",
    "  - Waalwijk\n",
    "  - Waddinxveen\n",
    "  - Wageningen\n",
    "  - Wassenaar\n",
    "  - Waterland\n",
    "  - Weert\n",
    "  - West Maas en Waal\n",
    "  - Westerveld\n",
    "  - Westervoort\n",
    "  - Westland\n",
    "  - Weststellingwerf\n",
    "  - Wierden\n",
    "  - Wijchen\n",
    "  - Wijdemeren\n",
    "  - Wijk bij Duurstede\n",
    "  - Winterswijk\n",
    "  - Woensdrecht\n",
    "  - Woerden\n",
    "  - Wormerland\n",
    "  - Woudenberg\n",
    "  - Zaanstad\n",
    "  - Zaltbommel\n",
    "  - Zandvoort\n",
    "  - Zeewolde\n",
    "  - Zeist\n",
    "  - Zevenaar\n",
    "  - Zoetermeer\n",
    "  - Zoeterwoude\n",
    "  - Zuidplas\n",
    "  - Zundert\n",
    "  - Zutphen\n",
    "  - Zwartewaterland\n",
    "  - Zwijndrecht\n",
    "  - Zwolle\n",
    "</details>\n",
    "\n",
    "\n",
    "\n",
    "Throughout the first part of the assignment you will perform exploratory data analysis for **five** municipalities.\n",
    "\n",
    "The house types are explained in the following table:\n",
    "\n",
    "| House type              | Dutch name | Description  |\n",
    "|:--------------------|:-------------|:----------|\n",
    "| Apartment           | Appartement | A set of rooms forming a single residence within a larger building, typically includes a kitchen, bathroom, living room, and bedrooms. |\n",
    "| Terraced house      | Rijtjeswoning | A house in a row of houses sharing sidewalls with a continuous roof structure.   |\n",
    "| Corner house | Hoekhuis | A corner house in a row of terraced houses. |                                         \n",
    "| Semi-detached house | Twee-onder-één-kap woning | One of a pair of houses that share a common wall and roof. |\n",
    "| Detached house      | Vrijstaande woning | A house not directly connected to other buildings. |\n",
    "\n",
    "**Store your two house types in the variable `house_types` and these five municipalites in the variable `municipalities`.**\n",
    "Both variables should be lists of strings. The order in which you list house types and municipalities when defining variable values does not matter."
   ]
  },
  {
   "cell_type": "code",
   "metadata": {
    "ExecuteTime": {
     "end_time": "2024-11-28T15:40:07.932772Z",
     "start_time": "2024-11-28T15:40:07.930447Z"
    }
   },
   "source": [
    "#// BEGIN_TODO [Personalization] (1 point)\n",
    "\n",
    "house_types = ['Apartment', 'Detached house']\n",
    "municipalities = ['Brummen', 'Noordenveld', 'Helmond', 'Nijmegen', 'Breda']\n"
   ],
   "outputs": [],
   "execution_count": 1
  },
  {
   "cell_type": "code",
   "execution_count": null,
   "metadata": {},
   "outputs": [],
   "source": [
    "#// END_TODO [Personalization]"
   ]
  },
  {
   "cell_type": "markdown",
   "metadata": {},
   "source": [
    "---\n",
    "\n",
    "## <a id='toc1_3_'></a>[Dataset](#toc0_)\n",
    "This section contains a description of the data contained in the data frames used in this assignment.\n",
    "\n",
    "### <a id='toc1_3_1_'></a>[The `df_energy` DataFrame](#toc0_)\n",
    "\n",
    "| Column | Type | Unit | Description |\n",
    "|:-------|------|------|--------------|\n",
    "| housing_characteristics | str | - | A type of house, see the table above. |\n",
    "| municipality | str | - | A municipality name. |\n",
    "| year | int | - | The year of measurements. |\n",
    "| avg_gas_consumption | float | m<sup>3</sup> | The average annual natural gas consumption of private homes, rounded to the nearest ten cubic meters. |\n",
    "| baseline_gas_consumption | float | m<sup>3</sup> |  A baseline value for the gas consumption, calculated as the average of the consumptions from the two years preceding this data frame (2010 and 2011). This value remains constant for all subsequent years. |\n",
    "| avg_electricity_consumption | float | kWh | The average annual electricity supply to individual private homes connected to the public electricity grid, rounded to the nearest twenty-five kilowatt-hours. |\n",
    "| baseline_electricity_consumption | float | kWh | A baseline value for electricity consumption, calculated as the average of the consumptions from the two years before this data frame starts (2010 and 2011). This value remains constant for all subsequent years. |\n",
    "\n",
    "\n",
    "### <a id='toc1_3_2_'></a>[The `df_population` DataFrame](#toc0_)\n",
    "\n",
    "**Note** that this data frame also contains population size information.\n",
    "\n",
    "| Column | Type | Unit | Description |\n",
    "|:-------|------|------|--------------|\n",
    "| municipality | str | - | A municipality name. |\n",
    "| year | int | - | The year of measurements. |\n",
    "| num_households | float | 1000 households | The number of households in the municipality. 50 indicates 50000 households. |\n",
    "| median_income | float | 1000 EUR | The median standardized disposable income, i.e. the disposable income adjusted for household size and composition, making it possible to compare the prosperity of different households. |\n",
    "\n",
    "\n",
    "### <a id='toc1_3_3_'></a>[The `df_edu` DataFrame](#toc0_)\n",
    "| Column | Type | Unit | Description |\n",
    "|:-------|------|------|--------------|\n",
    "| municipality | str | - | One of the municipalities in the (expandable) list given above. |\n",
    "| low | float | people | The number of people aged 15 to 75 in a given municipality on October 1, 2022, with  basic secondary education (VMBO, unfinished HAVO/VWO, and possibly some basic vocational training). |\n",
    "| medium | float | people | The number of people aged 15 to 75 years in a given municipality on October 1, 2022, and whose highest level of education is higher secondary education (HAVO/VWO) and/or vocational training (MBO2, MBO3, MBO4). |\n",
    "| high | float | people | The number of people aged 15 to 75 years in a given municipality on October 1, 2022, with a college degree (HBO or university). |\n",
    "\n",
    "\n",
    "### <a id='toc1_3_4_'></a>[The `df_weather` DataFrame](#toc0_)\n",
    "| Column | Type | Unit | Description |\n",
    "|:-------|------|------|--------------|\n",
    "| municipality | str | - | One of the municipalities in the (expandable) list given above. |\n",
    "| year | int | - | The year of measurement. |\n",
    "| day_of_year | int | - | The day of the year, starting from January 1, represented by a number ranging from 1 to 365 (or 366 in a leap year) when the measurement was taken. |\n",
    "| temperature | float | °C | Daily average temperature at the measurement station closest to the corresponding municipality, at an altitude of 1.50 m. |\n",
    "| wind_speed | float | m/s | Daily average wind speed at the measurement station closest to the corresponding municipality. |"
   ]
  },
  {
   "cell_type": "markdown",
   "metadata": {},
   "source": [
    "---\n",
    "\n",
    "## <a id='toc1_4_'></a>[Preparation](#toc0_)\n",
    "\n",
    "In this section we load the libraries and data frames that are required throughout the assignment. In this assignment, the datasets will be read in for you. You will likely need to write similar code yourself in the future.\n",
    "\n",
    "### <a id='toc1_4_1_'></a>[Load the Libraries](#toc0_)\n",
    "\n",
    "We first load the necessary libraries."
   ]
  },
  {
   "cell_type": "code",
   "metadata": {
    "ExecuteTime": {
     "end_time": "2024-11-28T15:40:14.317594Z",
     "start_time": "2024-11-28T15:40:14.214784Z"
    }
   },
   "source": [
    "import numpy as np\n",
    "import pandas as pd\n",
    "\n",
    "from sklearn.model_selection import train_test_split\n",
    "from sklearn.linear_model import LinearRegression  # for linear regression\n",
    "from sklearn.metrics import mean_squared_error, mean_absolute_error\n",
    "\n",
    "import matplotlib.pyplot as plt\n",
    "import seaborn as sns                              # also improves the look of plots\n",
    "sns.set_theme()\n",
    "plt.rcParams['figure.figsize'] = 10, 5             # default hor./vert. size of plots, in inches\n",
    "\n",
    "import warnings\n",
    "warnings.filterwarnings(\"ignore\", \"use_inf_as_na\") # prevent a FutureWarning that might arise due to an outdated version of seaborn"
   ],
   "outputs": [],
   "execution_count": 2
  },
  {
   "cell_type": "markdown",
   "metadata": {},
   "source": [
    "### <a id='toc1_4_2_'></a>[Load the Data](#toc0_)\n",
    "\n",
    "We now read in the data, and create the data frames."
   ]
  },
  {
   "cell_type": "code",
   "metadata": {
    "ExecuteTime": {
     "end_time": "2024-11-28T15:40:23.349938Z",
     "start_time": "2024-11-28T15:40:22.987738Z"
    }
   },
   "source": [
    "path = './GA1_files/'\n",
    "\n",
    "df_energy = pd.read_csv(path + 'df_energy.csv')\n",
    "df_energy = df_energy[df_energy['municipality'].isin(municipalities) & df_energy['housing_characteristics'].isin(house_types)].reset_index(drop=True)\n",
    "\n",
    "df_population = pd.read_csv(path + 'df_population.csv')\n",
    "df_population = df_population[df_population['municipality'].isin(municipalities)].reset_index(drop=True)\n",
    "\n",
    "df_edu = pd.read_csv(path + 'df_edu.csv', index_col='municipality')\n",
    "df_edu = df_edu[df_edu.index.isin(municipalities)]\n",
    "\n",
    "df_weather = pd.read_csv(path + 'df_weather.csv')\n",
    "df_weather = df_weather[df_weather['municipality'].isin(municipalities)].reset_index(drop=True)"
   ],
   "outputs": [],
   "execution_count": 3
  },
  {
   "cell_type": "code",
   "metadata": {
    "ExecuteTime": {
     "end_time": "2024-11-28T15:44:06.695354Z",
     "start_time": "2024-11-28T15:44:06.689377Z"
    }
   },
   "source": [
    "df_energy.head()"
   ],
   "outputs": [
    {
     "data": {
      "text/plain": [
       "  housing_characteristics municipality  year  avg_gas_consumption  \\\n",
       "0               Apartment        Breda  2012                  900   \n",
       "1               Apartment        Breda  2013                  900   \n",
       "2               Apartment        Breda  2014                  650   \n",
       "3               Apartment        Breda  2015                  620   \n",
       "4               Apartment        Breda  2016                  660   \n",
       "\n",
       "   avg_electricity_consumption  baseline_gas_consumption  \\\n",
       "0                         2300                      1000   \n",
       "1                         2300                      1000   \n",
       "2                         2200                      1000   \n",
       "3                         2180                      1000   \n",
       "4                         2150                      1000   \n",
       "\n",
       "   baseline_electricity_consumption  \n",
       "0                              2325  \n",
       "1                              2325  \n",
       "2                              2325  \n",
       "3                              2325  \n",
       "4                              2325  "
      ],
      "text/html": [
       "<div>\n",
       "<style scoped>\n",
       "    .dataframe tbody tr th:only-of-type {\n",
       "        vertical-align: middle;\n",
       "    }\n",
       "\n",
       "    .dataframe tbody tr th {\n",
       "        vertical-align: top;\n",
       "    }\n",
       "\n",
       "    .dataframe thead th {\n",
       "        text-align: right;\n",
       "    }\n",
       "</style>\n",
       "<table border=\"1\" class=\"dataframe\">\n",
       "  <thead>\n",
       "    <tr style=\"text-align: right;\">\n",
       "      <th></th>\n",
       "      <th>housing_characteristics</th>\n",
       "      <th>municipality</th>\n",
       "      <th>year</th>\n",
       "      <th>avg_gas_consumption</th>\n",
       "      <th>avg_electricity_consumption</th>\n",
       "      <th>baseline_gas_consumption</th>\n",
       "      <th>baseline_electricity_consumption</th>\n",
       "    </tr>\n",
       "  </thead>\n",
       "  <tbody>\n",
       "    <tr>\n",
       "      <th>0</th>\n",
       "      <td>Apartment</td>\n",
       "      <td>Breda</td>\n",
       "      <td>2012</td>\n",
       "      <td>900</td>\n",
       "      <td>2300</td>\n",
       "      <td>1000</td>\n",
       "      <td>2325</td>\n",
       "    </tr>\n",
       "    <tr>\n",
       "      <th>1</th>\n",
       "      <td>Apartment</td>\n",
       "      <td>Breda</td>\n",
       "      <td>2013</td>\n",
       "      <td>900</td>\n",
       "      <td>2300</td>\n",
       "      <td>1000</td>\n",
       "      <td>2325</td>\n",
       "    </tr>\n",
       "    <tr>\n",
       "      <th>2</th>\n",
       "      <td>Apartment</td>\n",
       "      <td>Breda</td>\n",
       "      <td>2014</td>\n",
       "      <td>650</td>\n",
       "      <td>2200</td>\n",
       "      <td>1000</td>\n",
       "      <td>2325</td>\n",
       "    </tr>\n",
       "    <tr>\n",
       "      <th>3</th>\n",
       "      <td>Apartment</td>\n",
       "      <td>Breda</td>\n",
       "      <td>2015</td>\n",
       "      <td>620</td>\n",
       "      <td>2180</td>\n",
       "      <td>1000</td>\n",
       "      <td>2325</td>\n",
       "    </tr>\n",
       "    <tr>\n",
       "      <th>4</th>\n",
       "      <td>Apartment</td>\n",
       "      <td>Breda</td>\n",
       "      <td>2016</td>\n",
       "      <td>660</td>\n",
       "      <td>2150</td>\n",
       "      <td>1000</td>\n",
       "      <td>2325</td>\n",
       "    </tr>\n",
       "  </tbody>\n",
       "</table>\n",
       "</div>"
      ]
     },
     "execution_count": 4,
     "metadata": {},
     "output_type": "execute_result"
    }
   ],
   "execution_count": 4
  },
  {
   "cell_type": "code",
   "metadata": {
    "ExecuteTime": {
     "end_time": "2024-11-28T15:44:07.706666Z",
     "start_time": "2024-11-28T15:44:07.702217Z"
    }
   },
   "source": [
    "df_population.head()"
   ],
   "outputs": [
    {
     "data": {
      "text/plain": [
       "  municipality  year  num_households  median_income\n",
       "0        Breda  2012            82.3           23.1\n",
       "1        Breda  2013            83.4           23.3\n",
       "2        Breda  2014            84.2           24.0\n",
       "3        Breda  2015            85.1           24.3\n",
       "4        Breda  2016            85.3           25.3"
      ],
      "text/html": [
       "<div>\n",
       "<style scoped>\n",
       "    .dataframe tbody tr th:only-of-type {\n",
       "        vertical-align: middle;\n",
       "    }\n",
       "\n",
       "    .dataframe tbody tr th {\n",
       "        vertical-align: top;\n",
       "    }\n",
       "\n",
       "    .dataframe thead th {\n",
       "        text-align: right;\n",
       "    }\n",
       "</style>\n",
       "<table border=\"1\" class=\"dataframe\">\n",
       "  <thead>\n",
       "    <tr style=\"text-align: right;\">\n",
       "      <th></th>\n",
       "      <th>municipality</th>\n",
       "      <th>year</th>\n",
       "      <th>num_households</th>\n",
       "      <th>median_income</th>\n",
       "    </tr>\n",
       "  </thead>\n",
       "  <tbody>\n",
       "    <tr>\n",
       "      <th>0</th>\n",
       "      <td>Breda</td>\n",
       "      <td>2012</td>\n",
       "      <td>82.3</td>\n",
       "      <td>23.1</td>\n",
       "    </tr>\n",
       "    <tr>\n",
       "      <th>1</th>\n",
       "      <td>Breda</td>\n",
       "      <td>2013</td>\n",
       "      <td>83.4</td>\n",
       "      <td>23.3</td>\n",
       "    </tr>\n",
       "    <tr>\n",
       "      <th>2</th>\n",
       "      <td>Breda</td>\n",
       "      <td>2014</td>\n",
       "      <td>84.2</td>\n",
       "      <td>24.0</td>\n",
       "    </tr>\n",
       "    <tr>\n",
       "      <th>3</th>\n",
       "      <td>Breda</td>\n",
       "      <td>2015</td>\n",
       "      <td>85.1</td>\n",
       "      <td>24.3</td>\n",
       "    </tr>\n",
       "    <tr>\n",
       "      <th>4</th>\n",
       "      <td>Breda</td>\n",
       "      <td>2016</td>\n",
       "      <td>85.3</td>\n",
       "      <td>25.3</td>\n",
       "    </tr>\n",
       "  </tbody>\n",
       "</table>\n",
       "</div>"
      ]
     },
     "execution_count": 5,
     "metadata": {},
     "output_type": "execute_result"
    }
   ],
   "execution_count": 5
  },
  {
   "cell_type": "code",
   "metadata": {
    "ExecuteTime": {
     "end_time": "2024-11-28T15:44:08.670372Z",
     "start_time": "2024-11-28T15:44:08.665378Z"
    }
   },
   "source": [
    "df_edu"
   ],
   "outputs": [
    {
     "data": {
      "text/plain": [
       "                  low   medium     high\n",
       "municipality                           \n",
       "Breda         31330.0  53900.0  56350.0\n",
       "Brummen        4440.0   7070.0   4110.0\n",
       "Helmond       24030.0  30650.0  17720.0\n",
       "Nijmegen      28870.0  49150.0  66490.0\n",
       "Noordenveld    5150.0   9980.0   7530.0"
      ],
      "text/html": [
       "<div>\n",
       "<style scoped>\n",
       "    .dataframe tbody tr th:only-of-type {\n",
       "        vertical-align: middle;\n",
       "    }\n",
       "\n",
       "    .dataframe tbody tr th {\n",
       "        vertical-align: top;\n",
       "    }\n",
       "\n",
       "    .dataframe thead th {\n",
       "        text-align: right;\n",
       "    }\n",
       "</style>\n",
       "<table border=\"1\" class=\"dataframe\">\n",
       "  <thead>\n",
       "    <tr style=\"text-align: right;\">\n",
       "      <th></th>\n",
       "      <th>low</th>\n",
       "      <th>medium</th>\n",
       "      <th>high</th>\n",
       "    </tr>\n",
       "    <tr>\n",
       "      <th>municipality</th>\n",
       "      <th></th>\n",
       "      <th></th>\n",
       "      <th></th>\n",
       "    </tr>\n",
       "  </thead>\n",
       "  <tbody>\n",
       "    <tr>\n",
       "      <th>Breda</th>\n",
       "      <td>31330.0</td>\n",
       "      <td>53900.0</td>\n",
       "      <td>56350.0</td>\n",
       "    </tr>\n",
       "    <tr>\n",
       "      <th>Brummen</th>\n",
       "      <td>4440.0</td>\n",
       "      <td>7070.0</td>\n",
       "      <td>4110.0</td>\n",
       "    </tr>\n",
       "    <tr>\n",
       "      <th>Helmond</th>\n",
       "      <td>24030.0</td>\n",
       "      <td>30650.0</td>\n",
       "      <td>17720.0</td>\n",
       "    </tr>\n",
       "    <tr>\n",
       "      <th>Nijmegen</th>\n",
       "      <td>28870.0</td>\n",
       "      <td>49150.0</td>\n",
       "      <td>66490.0</td>\n",
       "    </tr>\n",
       "    <tr>\n",
       "      <th>Noordenveld</th>\n",
       "      <td>5150.0</td>\n",
       "      <td>9980.0</td>\n",
       "      <td>7530.0</td>\n",
       "    </tr>\n",
       "  </tbody>\n",
       "</table>\n",
       "</div>"
      ]
     },
     "execution_count": 6,
     "metadata": {},
     "output_type": "execute_result"
    }
   ],
   "execution_count": 6
  },
  {
   "cell_type": "code",
   "metadata": {
    "ExecuteTime": {
     "end_time": "2024-11-28T15:44:09.638303Z",
     "start_time": "2024-11-28T15:44:09.633426Z"
    }
   },
   "source": [
    "df_weather.head()"
   ],
   "outputs": [
    {
     "data": {
      "text/plain": [
       "  municipality  year  day_of_year  temperature  wind_speed\n",
       "0  Noordenveld  2012            1    10.758333    6.291667\n",
       "1  Noordenveld  2012            2     6.387500    5.125000\n",
       "2  Noordenveld  2012            3     6.379167   11.000000\n",
       "3  Noordenveld  2012            4     6.170833    9.625000\n",
       "4  Noordenveld  2012            5     6.695833   11.000000"
      ],
      "text/html": [
       "<div>\n",
       "<style scoped>\n",
       "    .dataframe tbody tr th:only-of-type {\n",
       "        vertical-align: middle;\n",
       "    }\n",
       "\n",
       "    .dataframe tbody tr th {\n",
       "        vertical-align: top;\n",
       "    }\n",
       "\n",
       "    .dataframe thead th {\n",
       "        text-align: right;\n",
       "    }\n",
       "</style>\n",
       "<table border=\"1\" class=\"dataframe\">\n",
       "  <thead>\n",
       "    <tr style=\"text-align: right;\">\n",
       "      <th></th>\n",
       "      <th>municipality</th>\n",
       "      <th>year</th>\n",
       "      <th>day_of_year</th>\n",
       "      <th>temperature</th>\n",
       "      <th>wind_speed</th>\n",
       "    </tr>\n",
       "  </thead>\n",
       "  <tbody>\n",
       "    <tr>\n",
       "      <th>0</th>\n",
       "      <td>Noordenveld</td>\n",
       "      <td>2012</td>\n",
       "      <td>1</td>\n",
       "      <td>10.758333</td>\n",
       "      <td>6.291667</td>\n",
       "    </tr>\n",
       "    <tr>\n",
       "      <th>1</th>\n",
       "      <td>Noordenveld</td>\n",
       "      <td>2012</td>\n",
       "      <td>2</td>\n",
       "      <td>6.387500</td>\n",
       "      <td>5.125000</td>\n",
       "    </tr>\n",
       "    <tr>\n",
       "      <th>2</th>\n",
       "      <td>Noordenveld</td>\n",
       "      <td>2012</td>\n",
       "      <td>3</td>\n",
       "      <td>6.379167</td>\n",
       "      <td>11.000000</td>\n",
       "    </tr>\n",
       "    <tr>\n",
       "      <th>3</th>\n",
       "      <td>Noordenveld</td>\n",
       "      <td>2012</td>\n",
       "      <td>4</td>\n",
       "      <td>6.170833</td>\n",
       "      <td>9.625000</td>\n",
       "    </tr>\n",
       "    <tr>\n",
       "      <th>4</th>\n",
       "      <td>Noordenveld</td>\n",
       "      <td>2012</td>\n",
       "      <td>5</td>\n",
       "      <td>6.695833</td>\n",
       "      <td>11.000000</td>\n",
       "    </tr>\n",
       "  </tbody>\n",
       "</table>\n",
       "</div>"
      ]
     },
     "execution_count": 7,
     "metadata": {},
     "output_type": "execute_result"
    }
   ],
   "execution_count": 7
  },
  {
   "cell_type": "markdown",
   "metadata": {},
   "source": [
    "---\n",
    "\n",
    "## <a id='toc1_5_'></a>[Part 1](#toc0_)\n",
    "\n",
    "To get first insights into the energy consumption data you will perform exploratory data analysis for the municipalities, which you stored in the variable `municipalities` in the personalization step above."
   ]
  },
  {
   "cell_type": "markdown",
   "metadata": {},
   "source": [
    "### <a id='toc1_5_1_'></a>[Task 1a: Municipality characteristics](#toc0_)\n",
    "\n",
    "<style>\n",
    "li {\n",
    "    margin-bottom: 5px;  /* Adjust this value for space between numbered items */\n",
    "}\n",
    "</style>\n",
    "\n",
    "To place energy consumption of the municipality into their the socioeconomic context, you first analyze characteristics of the five municipalities and compare them.\n",
    "\n",
    "\n",
    "> **Note:** Do not forget to follow the best practices for visualizations.\n",
    "  **This applies to all coming tasks requiring visualizations.**\n",
    "  You must:\n",
    "> - Include a descriptive **title**.\n",
    "> - Add **labels** to the **axes** and include the **units** of the quantities on the axes if applicable.\n",
    "> - Ensure that the plot is **readable** and **understandable** (also for somebody who is color-blind).\n",
    "> - Choose appropriate **ranges** for the plot **axes**.\n",
    "> - Include a **legend** when appropriate.\n",
    "\n",
    "Generate indicated plots to answer the following four questions and then formulate your observations based on these plots:\n",
    "1. Were there significant differences in the size of the municipalities in terms of the number of households at the beginning of the analyzed period? \n",
    "    - Generate a bar plot showing the number of households per municipality in 2012. Use the corresponding column from `df_population` to obtain the data. The x-axis should show the names of the five municipalities (categorical data), while the number of households (numerical data) should be on the y-axis. Take into account the unit of the `'num_households'` column in the label of your y-axis.\n",
    "\n"
   ]
  },
  {
   "cell_type": "code",
   "metadata": {
    "ExecuteTime": {
     "end_time": "2024-11-28T16:23:59.669983Z",
     "start_time": "2024-11-28T16:23:59.593371Z"
    }
   },
   "source": [
    "#// BEGIN_TODO [GA1_1a1] (1 point)\n",
    "\n",
    "ax = sns.barplot(x=df_population[df_population['year'] == 2012]['municipality'], y=df_population[df_population['year'] == 2012]['num_households'])\n",
    "ax.set_xlabel('Municipality')\n",
    "ax.set_ylabel('Number of households in thousands')\n",
    "ax.set_title('Number of households per municipality');\n"
   ],
   "outputs": [
    {
     "data": {
      "text/plain": [
       "<Figure size 1000x500 with 1 Axes>"
      ],
      "image/png": "[encoded data removed]"
     },
     "metadata": {},
     "output_type": "display_data"
    }
   ],
   "execution_count": 15
  },
  {
   "cell_type": "code",
   "execution_count": null,
   "metadata": {},
   "outputs": [],
   "source": [
    "#// END_TODO [GA1_1a1]"
   ]
  },
  {
   "cell_type": "markdown",
   "metadata": {},
   "source": [
    "\n",
    "2. Did the number of households in these municipalities remain stable through the years? Was it growing or decreasing? In case some municipalities are significantly smaller than others, comparing the changes in the numbers of the households will not be an appropriate option to answer the question. Therefore you will look at the relative changes.\n",
    "   - Add a column called 'diff_num_households(%)' to df_population.\n",
    "   - For each ('municipality', 'year')-pair, compute the relative difference in the number of households compared to 2012, expressed as a percentage (positive in the case of growth) and store it in the added column. Since 2012 is taken as a baseline, all rows of the year 2012 will get a 0.\n",
    "   - Generate a line plot with 5 lines representing these relative changes. The value of 'diff_num_households(%)' should be on the y-axis, and the year on the x-axis."
   ]
  },
  {
   "cell_type": "code",
   "execution_count": null,
   "metadata": {},
   "outputs": [],
   "source": [
    "#// BEGIN_TODO [GA1_1a2] (3 points)\n",
    "\n",
    "# ===== =====> Replace this line by your code. <===== ===== #\n"
   ]
  },
  {
   "cell_type": "code",
   "execution_count": null,
   "metadata": {},
   "outputs": [],
   "source": [
    "#// END_TODO [GA1_1a2]"
   ]
  },
  {
   "cell_type": "markdown",
   "metadata": {},
   "source": [
    "\n",
    "3. Are there significant differences in the median income of the households? These differences might be relevant in the context of energy consumption for various reasons, such as the correlation between income and house insulation quality, house size, and living style. Unlike the previous question, we focus on absolute numbers here since we want to compare median incomes themselves, not just their changes, and we expect the median incomes of municipalities to be close to each other.\n",
    "   - Generate a line plot containing five lines, one for each municipality, showing the median income over the analyzed period. Use `df_population`.\n",
    "The median income should be on the y-axis, and the year on the x-axis.  Take into account the unit of the `'median_income'` column in the label of your y-axis."
   ]
  },
  {
   "cell_type": "code",
   "execution_count": null,
   "metadata": {},
   "outputs": [],
   "source": [
    "#// BEGIN_TODO [GA1_1a3] (2 points)\n",
    "\n",
    "# ===== =====> Replace this line by your code. <===== ===== #\n"
   ]
  },
  {
   "cell_type": "code",
   "execution_count": null,
   "metadata": {},
   "outputs": [],
   "source": [
    "#// END_TODO [GA1_1a3]"
   ]
  },
  {
   "cell_type": "markdown",
   "metadata": {},
   "source": [
    "\n",
    "4. Are there differences in the education level of people living in the municipalities? These differences might be relevant since they might be linked to differences in awareness of environmental issues and benefits of energy-efficient appliances, but they might also be linked to a correlation between education level and income, and using energy-consuming features like swimming pools.\n",
    "Therefore it might be relevant to know that the population of municipality A has only 5% of people with higher education level, while municipality B has 25%.\n",
    "    - Create a DataFrame called `df_edu_normalized` with the same shape as `df_edu`.\n",
    "    - For each municipality, compute the relative share of each education level (so the values should range from 0 to 1) and store it in `df_edu_normalized`.\n",
    "    - Generate a normalized heat map of the relative number of people with a certain education level per municipality, using `df_edu_normalized`. The education level should be on the horizontal axis and your municipalities on the vertical one."
   ]
  },
  {
   "cell_type": "code",
   "execution_count": null,
   "metadata": {},
   "outputs": [],
   "source": [
    "#// BEGIN_TODO [GA1_1a4] (2 points)\n",
    "\n",
    "# ===== =====> Replace this line by your code. <===== ===== #\n"
   ]
  },
  {
   "cell_type": "code",
   "execution_count": null,
   "metadata": {},
   "outputs": [],
   "source": [
    "#// END_TODO [GA1_1a4]"
   ]
  },
  {
   "cell_type": "markdown",
   "metadata": {},
   "source": [
    "\n",
    "5. What do you observe in the plots you generated in Task 1a(1-4)?\n",
    "Are the municipalities very similar, or are there large differences?\n",
    "Could the differences affect the average energy consumption in these municipalities? Why so?\n",
    "Store your observations as a string in the variable `observations_municipalities`."
   ]
  },
  {
   "cell_type": "code",
   "execution_count": null,
   "metadata": {},
   "outputs": [],
   "source": [
    "#// BEGIN_TODO [GA1_1a5] (1 point)\n",
    "\n",
    "# ===== =====> Replace this line by your code. <===== ===== #\n"
   ]
  },
  {
   "cell_type": "code",
   "execution_count": null,
   "metadata": {},
   "outputs": [],
   "source": [
    "#// END_TODO [GA1_1a5]"
   ]
  },
  {
   "cell_type": "markdown",
   "metadata": {},
   "source": [
    "### <a id='toc1_5_2_'></a>[Task 1b: Natural gas consumption](#toc0_)\n",
    "The next task is to find differences between municipalities in the natural gas consumption and in the trends over time for each of the two house types (housing characteristics).\n",
    "Create a visualization of the average annual natural gas consumption over time for your municipalities and housing characteristics.\n",
    "Choose the most appropriate visualization from:\n",
    "\n",
    "  A. Two separate bar plots, corresponding to your two housing characteristics, with each plot containing five bars per year corresponding to your five municipalities.\n",
    "  The average annual natural gas consumption should be on the y-axis, and the year on the x-axis.\n",
    "  \n",
    "  B. Two separate line plots, corresponding to your two housing characteristics, with each plot containing five lines corresponding to your five municipalities.\n",
    "  The average annual natural gas consumption should be on the y-axis, and the year on the x-axis.\n",
    "\n",
    "  C. Five separate bar plots, corresponding to your five municipalities, with each plot containing two bars per year corresponding to your two housing characteristics.\n",
    "  The average annual natural gas consumption should be on the y-axis, and the year on the x-axis.\n",
    "  \n",
    "  D. Five separate line plots, corresponding to your five municipalities, with each plot containing two lines corresponding to your two housing characteristics.\n",
    "  The average annual natural gas consumption should be on the y-axis, and the year on the x-axis.\n",
    "\n",
    "Assign the letter corresponding to the visualization of your choice to the variable `choice_1b` as a string (i.e. `'A'`, `'B'`, `'C'` or `'D'`), and create the visualization.\n",
    "\n",
    "What do you observe in the visualization? Are there differences in gas consumption between municipalities? Are the differences similar for both house types? Is there any pattern in changes over time for all municipalities?\n",
    "Are there differences in gas consumption between house types?\n",
    "Store your observations as a string in the variable `observations_gas_consumption`."
   ]
  },
  {
   "cell_type": "code",
   "execution_count": null,
   "metadata": {},
   "outputs": [],
   "source": [
    "#// BEGIN_TODO [GA1_1b] (4 points)\n",
    "\n",
    "# ===== =====> Replace this line by your code. <===== ===== #\n"
   ]
  },
  {
   "cell_type": "code",
   "execution_count": null,
   "metadata": {},
   "outputs": [],
   "source": [
    "#// END_TODO [GA1_1b]"
   ]
  },
  {
   "cell_type": "markdown",
   "metadata": {},
   "source": [
    "\n",
    "### <a id='toc1_5_3_'></a>[Task 1c: Trends in natural gas consumption](#toc0_)\n",
    "\n",
    "Аnnual natural gas consumption by households depends on multiple factors. For example, a cold winter might result in an increase in annual gas consumption for each house type in each municipality. Conversly, if many semi-detached houses are built/renovated in one of the municipalities in the past year, the annual average might remain stable despite the cold winter due to improved average energy efficiency for semi-detached houses there. \n",
    "\n",
    "The `df_energy` dataframe contains a column called `baseline_gas_consumption`, containing the means of the average annual consumptions of 2010 and 2011 for houses with the housing characteristics and municipality indicated in that row. You are to explore how the gas consumption was changing compared to the baseline.\n",
    "\n",
    "Add a new column called `rel_gas_consumption(%)` to this dataframe. Fill the new column with the relative annual gas consumption as the percentage compared to the baseline.\n",
    "\n",
    "> **Example:** Suppose the average annual gas consumption of semi-detached houses in municipality A was 2000 m<sup>3</sup> in 2016 and the baseline for these houses in this municipality is 2500 m<sup>3</sup>. The `rel_gas_consumption(%) should get value 80.\n",
    "\n",
    "Recreate your plot(s) from Task 1b for the relative gas consumption instead of the absolute gas consumption. \n",
    "Does this provide new insights? Does it confirm the previous ones?\n",
    "Store your observations as a string in the variable `observations_rel_gas_consumption`."
   ]
  },
  {
   "cell_type": "code",
   "execution_count": null,
   "metadata": {},
   "outputs": [],
   "source": [
    "#// BEGIN_TODO [GA1_1c] (4 points)\n",
    "\n",
    "# ===== =====> Replace this line by your code. <===== ===== #\n"
   ]
  },
  {
   "cell_type": "code",
   "execution_count": null,
   "metadata": {},
   "outputs": [],
   "source": [
    "#// END_TODO [GA1_1c]"
   ]
  },
  {
   "cell_type": "markdown",
   "metadata": {},
   "source": [
    "### <a id='toc1_5_4_'></a>[Task 1d: Temperature distribution](#toc0_)\n",
    "The Netherlands is a relatively small country, but there are still differences in air temperatures between different regions. These differences might have impact on the annual gas consumption. Compare the distributions of daily temperature averages in the analyzed period for the five municipalities.\n",
    "Choose the most appropriate visualization from:\n",
    "\n",
    "  A. Normalized histograms for each (municipality, year)-pair, representing the distribution of the daily temperature averages of the muncipality and year in question.\n",
    "  The daily average temperature should be on the x-axis, and the (normalized) frequency on the y-axis.\n",
    "\n",
    "  B. Violin plots, one per municipality, each containing ten violins depicting corresponding distributions of the daily temperature averages for each of the ten years in the dataset.\n",
    "  The daily average temperature should be on the y-axis, and the year on the x-axis.\n",
    "\n",
    "  C. Five separate strip plots (with `jitter=True`), corresponding to your five municipalities, with each plot containing all daily temperature averages of that municipality against the year.\n",
    "  In other words, the dots in each strip plot are all (year, daily average temperature)-pairs of the municipality.\n",
    "  The daily average temperature should be on the y-axis, and year on the x-axis.\n",
    "\n",
    "  D. One scatterplot of daily average temperature against year using all the data, in which the municipalities are distinguished using a color scheme (with a legend).\n",
    "  The daily average temperature should be on the y-axis, and year on the x-axis.\n",
    "\n",
    "Assign the letter corresponding to the visualization of your choice to the variable `choice_1d` as a string (so `'A'`, `'B'`, `'C'` or `'D'`), and create the visualization.\n",
    "Only one of the choices will award full points for this task."
   ]
  },
  {
   "cell_type": "code",
   "execution_count": null,
   "metadata": {},
   "outputs": [],
   "source": [
    "#// BEGIN_TODO [GA1_1d] (6 points)\n",
    "\n",
    "# ===== =====> Replace this line by your code. <===== ===== #\n"
   ]
  },
  {
   "cell_type": "code",
   "execution_count": null,
   "metadata": {},
   "outputs": [],
   "source": [
    "#// END_TODO [GA1_1d]"
   ]
  },
  {
   "cell_type": "markdown",
   "metadata": {},
   "source": [
    "### <a id='toc1_5_5_'></a>[Degree days](#toc0_)\n",
    "\n",
    "Outside air temperature significantly affects household natural gas usage, particularly for heating, which consumes more gas than cooking or heating water for showers. During summer, heating systems are mostly idle, while in winter they work hard to keep houses warm. Wind can further increase gas consumption by making it harder to maintain indoor warmth.\n",
    "\n",
    "However, the current temperature and wind speed are not reliable predictors of whether the heating is on or how hard it is working right now. For example, a summer night might see temperatures drop to 10°C, but the heating system remains off because the house retains warmth from the day. Conversely, the heating system might be active on a winter afternoon with the same 10°C outside temperature even if it is not windy.\n",
    "Therefore, average daily temperatures adjusted for average daily wind speed are often used as predictors for daily gas consumption. \n",
    "\n",
    "**Effective temperature**\n",
    "\n",
    "The **average *effective* temperature of the day** is typically used as predictor for daily gas consumption (see the [KNMI webpage](https://www.knmi.nl/over-het-knmi/nieuws/graaddagen-in-gasjaar-2021) for a more detailed explanation). It is obtained by decreasing the daily average temperature with a value proportional to the daily average wind speed as follows:\n",
    "$$\n",
    "    T_\\mathrm{eff} = T_\\mathrm{avg} - \\frac{2}{3} v_\\mathrm{avg},\n",
    "$$\n",
    "where $T_\\mathrm{avg}$ is the daily average temperature ($^\\circ\\mathrm{C}$) and $v_\\mathrm{avg}$ is the average wind speed (m/s) for that day. \n",
    "\n",
    "A common assumption in the Netherlands is that heating is switched on when the average effective temperature of the day is below 14°C and off otherwise. To capture this assumption, we define a threshold value as $T_\\mathrm{threshold} = 14 ^\\circ\\mathrm{C}$.\n",
    "Under this assumption, that is no difference in gas consumption for heating between days with the effective temperature of 16°C and those with 18°C. \n",
    "A positive difference between the threshold and the effective temperature correlates with gas consumption, while a negative difference should be ignored. This leads to an improved predictor for gas consumption, defined as $\\max\\{0, T_\\mathrm{threshold} - T_\\mathrm{eff}\\}$.\n",
    "\n",
    "**Degree days**\n",
    "\n",
    "KNMI uses an aggregated measure based on the average effective temperatures to estimate the impact of temperature on annual gas consumption. This measure is called **degree days** (\"graaddagen\" in Dutch). The number of degree days $D(y)$ in year $y$ is the sum of the improved predictors for all days of the year[<sup>1</sup>](#fn1):\n",
    "$$\n",
    "    D(y) = \\sum_{n=1}^{365} \\max\\{0, T_\\mathrm{threshold} - T_\\mathrm{eff}(n)\\},\n",
    "$$\n",
    "where $T_\\mathrm{eff}(n)$ denotes the average effective temperature of the $n$-th day of the year.\n",
    "\n",
    "\n",
    "> **Note**: Degree days $D(y)$ do not refer to a number of days but to the measure for the temperature effect in that year. Therefore, it is (usually) not an integer, despite what the name may suggest. For a day with $T_\\mathrm{eff}= 4.6$, $\\max\\{0, 14 - T_\\mathrm{eff}\\}=9.4$, and for  $T_\\mathrm{eff}= 20.5$, $\\max\\{0, 14 - T_\\mathrm{eff}\\}=0$.\n",
    "> Furthermore, **the summation must be adjusted for *leap years***, which contain 366 days."
   ]
  },
  {
   "cell_type": "code",
   "execution_count": null,
   "metadata": {},
   "outputs": [],
   "source": [
    "T_threshold = 14         # setting the threshold for the average effective temperature of a day"
   ]
  },
  {
   "cell_type": "markdown",
   "metadata": {},
   "source": [
    "### <a id='toc1_5_6_'></a>[Task 2a: Computing the degree days](#toc0_)\n",
    "\n",
    "First, add a new column called `effective_temp` to `df_weather`, computing its values with the formula for $T_\\mathrm{eff}$ shown above.\n",
    "Then add a column `degree_day`, computing the values as $\\max\\{0, T_\\mathrm{threshold} - T_\\mathrm{eff}\\}$. \n",
    "\n",
    "**Hint**: Use the [.clip method](https://pandas.pydata.org/docs/reference/api/pandas.DataFrame.clip.html#pand) to set a lower bound of 0 for the degree day values. For example, \n",
    "`df_scores['score'] = df_scores['score'].clip(lower=0)` modifies negative scores to 0, while leaving other values unchanged.\n",
    "\n",
    "Finally, create a dataframe `df_degree_days` with columns `municipality`, `year` and `degree_days` (similar in structure to `df_population`), in which you store the annual degree days $D(y)$ computed as defined above for each (municipality, year)-pair.\n",
    "\n",
    "**Hint**: Because `municipality` and `year` need to be columns, they cannot appear in a MultiIndex. But you could first create a version of `df_degree_days` with only the `degree_days` column indexed by both `municipality` and `year` (in a MultiIndex) and then use the [.reset_index method](https://pandas.pydata.org/pandas-docs/stable/reference/api/pandas.DataFrame.reset_index.html) to turn `municipality` and `year` into columns."
   ]
  },
  {
   "cell_type": "code",
   "execution_count": null,
   "metadata": {},
   "outputs": [],
   "source": [
    "#// BEGIN_TODO [GA1_2a] (6 points)\n",
    "\n",
    "# ===== =====> Replace this line by your code. <===== ===== #\n"
   ]
  },
  {
   "cell_type": "code",
   "execution_count": null,
   "metadata": {},
   "outputs": [],
   "source": [
    "#// END_TODO [GA1_2a]"
   ]
  },
  {
   "cell_type": "markdown",
   "metadata": {},
   "source": [
    "### <a id='toc1_5_7_'></a>[Task 2b: Compare degree days to energy consumption](#toc0_)\n",
    "\n",
    "Investigate the relationship between degree days and annual natural gas consumption.\n",
    "To do this, create two scatter plots of the relative natural gas consumption (on the x-axis) against the degree days (on the y-axis), one for each house type. \n",
    "Use the combined data from different municipalities and all years to explore the relationship. "
   ]
  },
  {
   "cell_type": "code",
   "execution_count": null,
   "metadata": {},
   "outputs": [],
   "source": [
    "df_energy = df_energy.merge(df_degree_days, on=['municipality', 'year']) \n",
    "# The merge function in pandas is used to combine two DataFrames based on common columns.\n",
    "\n",
    "df_energy.head()"
   ]
  },
  {
   "cell_type": "code",
   "execution_count": null,
   "metadata": {},
   "outputs": [],
   "source": [
    "#// BEGIN_TODO [GA1_2b] (4 points)\n",
    "\n",
    "# ===== =====> Replace this line by your code. <===== ===== #\n"
   ]
  },
  {
   "cell_type": "code",
   "execution_count": null,
   "metadata": {},
   "outputs": [],
   "source": [
    "#// END_TODO [GA1_2b]"
   ]
  },
  {
   "cell_type": "markdown",
   "metadata": {},
   "source": [
    "## <a id='toc1_6_'></a>[Part 2](#toc0_)"
   ]
  },
  {
   "cell_type": "markdown",
   "metadata": {},
   "source": [
    "In the second part of this assignment you are to mine a prediction model for natural gas consumption for one of the two house types.\n",
    "The code below creates a new table that shows energy usage, municipality size and median income for each municipality and year, combining corresponding rows from df_energy and df_population. \n",
    "Please, read the comments to the code in the cell below."
   ]
  },
  {
   "cell_type": "code",
   "execution_count": null,
   "metadata": {},
   "outputs": [],
   "source": [
    "\"\"\"\n",
    "The merge function combines two tables into one, based on common columns, which are ‘municipality’ and ‘year’ in this case. \n",
    "The function looks for rows in both tables where these columns have the same values and combines them into a single row in the new table, df_all.\n",
    "\"\"\"\n",
    "df_all = df_energy.merge(df_population, on=['municipality', 'year'])"
   ]
  },
  {
   "cell_type": "code",
   "execution_count": null,
   "metadata": {},
   "outputs": [],
   "source": [
    "\"\"\"\n",
    "As you learned in the EDA Programming exercises, the head() methods returns the column names and the first 5 rows of the df_all dataframe, \n",
    "if the number of rows is not specified. \n",
    "Check what the combined data looks like. You will work with the df_all dataframe in Part 2.\n",
    "\"\"\"\n",
    "df_all.head()"
   ]
  },
  {
   "cell_type": "markdown",
   "metadata": {},
   "source": [
    "<div class=\"alert-danger alert\" role=\"alert\">\n",
    "    <b>Note:</b> The municipality size and median income are given for a municipality as a whole, not for specific house type. The median income of people living in certain type of houses could significantly deviate from the median income of their municipality. Keep this in mind when mining your prediction model.\n",
    "</div>"
   ]
  },
  {
   "cell_type": "markdown",
   "metadata": {},
   "source": [
    "#### <a id='toc1_6_1_1_'></a>[Task 3a: Choose variables for the prediction model](#toc0_)\n",
    "Look through the results of the exploratory data analysis performed in Part 1 and think what variables might be good predictors for natural gas consumption. Choose **at least two** numeric variables recorded in `df_all` which you will use to (effectively) predict natural gas consumption. These will be the *independent variables* of your model. For evident reasons, you may not choose columns `avg_gas_consumption` and `rel_gas_consumption(%)`.\n",
    "\n",
    "Choose one (of the two) housing characteristics for which you will mine a prediction model. This choice may be based on your findings in Part 1, but it may also be curiosity driven. \n",
    "\n",
    "Choose whether you will predict **relative gas consumption** or **absolute gas consumption**.\n",
    "The natural gas consumption of the chosen house type will be the *dependent variable* in your model. \n",
    "\n",
    "1. Assign the housing type (housing characteristics) of your choice to the variable `chosen_housing_char`.\n",
    "   \n",
    "1. Assign the name of your dependent variable (`avg_gas_consumption` or `rel_gas_consumption(%)`) to the variable `dependent_var`.\n",
    "\n",
    "1. Store the names of the independent variables of your choice in a **list variable** named `independent_vars`.\n",
    "Each name should be one of the column names of `df_all`, typed in exactly the same way.\n",
    "\n",
    "> **Note:** You are also allowed to use the `year` column if you think that there are temporal trends in the data."
   ]
  },
  {
   "cell_type": "code",
   "execution_count": null,
   "metadata": {},
   "outputs": [],
   "source": [
    "#// BEGIN_TODO [GA1_3a] (1 point)\n",
    "\n",
    "# ===== =====> Replace this line by your code. <===== ===== #\n"
   ]
  },
  {
   "cell_type": "code",
   "execution_count": null,
   "metadata": {},
   "outputs": [],
   "source": [
    "#// END_TODO [GA1_3a]"
   ]
  },
  {
   "cell_type": "markdown",
   "metadata": {},
   "source": [
    "#### <a id='toc1_6_1_2_'></a>[Task 3b: Split data into training and test data](#toc0_)\n",
    "Before creating a prediction model, **split the data into training and test data**.\n",
    "For this, use the `df_all` data frame.\n",
    "\n",
    "1. First, split the entire data frame into two data frames: assign the **training data** to the `df_train` data frame and the **test data** to the `df_test` data frame (do not drop any columns).\n",
    "\n",
    "1. From these two data frames, extract the training and the test data of your independent and dependent variables, selecting only the relevant columns.\n",
    "The **data frames** for your **independent variables** must be stored in the variables `X_train` and `X_test`, while the **series** for your **dependent variable** must be stored in the variables `y_train` and `y_test`.[<sup>2</sup>](#fn2)\n",
    "\n",
    "In both steps, it is good practice to **make copies** of the data frame excerpts you create. This prevents unintended modifications of the original data frame.\n",
    "\n",
    "> **Hints:**\n",
    "> * Remember to restrict to the house type you selected in `chosen_housing_char`.\n",
    "> * You can either split into training and test data randomly, or use a cutoff year."
   ]
  },
  {
   "cell_type": "code",
   "execution_count": null,
   "metadata": {},
   "outputs": [],
   "source": [
    "#// BEGIN_TODO [GA1_3b] (4 points)\n",
    "\n",
    "# ===== =====> Replace this line by your code. <===== ===== #\n"
   ]
  },
  {
   "cell_type": "code",
   "execution_count": null,
   "metadata": {},
   "outputs": [],
   "source": [
    "#// END_TODO [GA1_3b]"
   ]
  },
  {
   "cell_type": "markdown",
   "metadata": {},
   "source": [
    "#### <a id='toc1_6_1_3_'></a>[Task 3c: Create your prediction model](#toc0_)\n",
    "Now that the model variables have been chosen and the data has been divided, it is time to create the model itself.\n",
    "\n",
    "1. Create a **linear regression model** that predicts the annual gas consumption of `chosen_housing_char` using `independent_vars`. Store the *linear regression* object in a variable called `model`.\n",
    "\n",
    "1. Create (at least) two **residual plots** to visualize your model's performance on both the training and the test data. You may choose which  variable to use on the x-axis. Label your axes indicating the variable and the units of measurement for each axis. One of the two plots should use the training data and the other one should use the test data.\n",
    "\n",
    "1. To evaluate the performance of your model quantitatively, compute the **mean absolute error** of its predictions on the **test data**, and store the result in the variable `evaluation`.\n",
    "\n",
    "1. Experiment with your model to see whether the model performs better if you introduce a quadratic term. In the submitted notebook, only show the model that is the most appropriate for this prediction task.\n",
    "\n",
    "1. What do you observe? Write a summary of your observations and store it as a string in the variable `observations_predictions`."
   ]
  },
  {
   "cell_type": "code",
   "execution_count": null,
   "metadata": {},
   "outputs": [],
   "source": [
    "#// BEGIN_TODO [GA1_3c] (10 points)\n",
    "\n",
    "# ===== =====> Replace this line by your code. <===== ===== #\n"
   ]
  },
  {
   "cell_type": "code",
   "execution_count": null,
   "metadata": {},
   "outputs": [],
   "source": [
    "#// END_TODO [GA1_3c]"
   ]
  },
  {
   "cell_type": "markdown",
   "metadata": {},
   "source": [
    "---\n",
    "\n",
    "## <a id='toc1_7_'></a>[Part 3](#toc0_)"
   ]
  },
  {
   "cell_type": "markdown",
   "metadata": {},
   "source": [
    "### <a id='toc1_7_1_'></a>[Task 4: Concluding Hypothesis](#toc0_)\n",
    "\n",
    "What is the most important takeaway message concerning the relationship between natural gas consumption and the factors you explored? \n",
    "Based on your discoveries, come up with a hypothesis that indicates a possible direction for future research. \n",
    "Formulate your hypothesis in one sentence, and store it as a string in a variable named `hypothesis`.\n",
    "\n",
    "Use this hypothesis as the basis for the conclusion of your poster. \n",
    "Make sure that you include supporting empirical evidence for your hypothesis in your poster. \n",
    "This evidence should come from the first two parts of this assignment, the exploratory part and/or the prediction part.\n",
    "\n",
    "Note that the hypothesis may be negative, e.g., that there is no relationship between the gas consumption and the analyzed variable(s)."
   ]
  },
  {
   "cell_type": "code",
   "execution_count": null,
   "metadata": {},
   "outputs": [],
   "source": [
    "#// BEGIN_TODO [Hypothesis] (1 point)\n",
    "\n",
    "# ===== =====> Replace this line by your code. <===== ===== #\n"
   ]
  },
  {
   "cell_type": "code",
   "execution_count": null,
   "metadata": {},
   "outputs": [],
   "source": [
    "#// END_TODO [Hypothesis]"
   ]
  },
  {
   "cell_type": "markdown",
   "metadata": {},
   "source": [
    "### <a id='toc1_7_2_'></a>[Task 5: Create Your Poster](#toc0_)\n",
    "\n",
    "Finally, create a poster on which you present and discuss your results. \n",
    "To this aim, you **must use the template of the poster available on Canvas**.\n",
    "There, you can also find more information on how to create your poster.\n",
    "\n",
    "Your poster should contain one visualisation generated for a question you formulate yourself. \n",
    "Use the cells below to create extra visualizations and possibly perform extra computations for your poster.\n",
    "For example, you can:\n",
    "- Investigate the house type that you did not choose in Part 2 and compare the results for the house types.\n",
    "- Try a different value for $T_\\mathrm{threshold}$ or vary the contribution of the wind speed in the definition of the degree days and see how it influences the mined model.\n",
    "  \n",
    "The best option: Come up with a **new analysis** that **you** find relevant and interesting!\n",
    "\n",
    "<div class=\"alert alert-block alert-danger\">\n",
    "Also:\n",
    "    <ol>\n",
    "        <li>Include supporting empirical evidence for choosing your hypothesis in your poster.</li>\n",
    "        <li><b>Ensure the visualizations that you include in your poster, are also produced by your notebook.</b>\n",
    "        </li> Note that the visualizations displayed on Momotor might differ from the ones produced on your computer! This is due to the use of a testing database. After the deadline the full database will be used, so at that point the visualizations should be the same.\n",
    "        <li>Double-check if the visualizations are produced correctly on Momotor under the <b>Running submitted notebook</b> tab.</li>\n",
    "    </ol>\n",
    "</div>\n",
    "\n",
    "> **Note:** You are allowed to import additional libraries for this task, but make sure they do not cause errors in Momotor."
   ]
  },
  {
   "cell_type": "code",
   "execution_count": null,
   "metadata": {},
   "outputs": [],
   "source": [
    "#// BEGIN_TODO [Poster]\n",
    "\n",
    "# ===== =====> Replace this line by your code. <===== ===== #\n"
   ]
  },
  {
   "cell_type": "code",
   "execution_count": null,
   "metadata": {},
   "outputs": [],
   "source": [
    "#// END_TODO [Poster]"
   ]
  },
  {
   "cell_type": "markdown",
   "metadata": {},
   "source": [
    "## <a id='toc1_8_'></a>[Footnotes](#toc0_)\n",
    "\n",
    "$^1$ <span id=\"fn1\"> Slightly different definitions are used throughout the literature. Sometimes the sum runs only over a subset of the year, some countries use different temperature thresholds, different notions of (effective) temperature exist, and sometimes the degree days are weighted based on their month to account for differences in solar radiation.\n",
    "\n",
    "$^2$ <span id=\"fn2\"> The capitalization of the `X` indicates that it refers to a matrix (2-dimensional), whereas the lowercase `y` indicates that it refers to a vector (1-dimensional). </span>"
   ]
  },
  {
   "cell_type": "markdown",
   "metadata": {},
   "source": [
    "## <a id='toc1_9_'></a>[References](#toc0_)\n",
    "\n",
    "[1] N. Wever, “Effectieve temperatuur en graaddagen,” KNMI, Feb. 2008.  \n",
    "[2] R. J. M. Niessink, “Temperature correction – A Sensitivity Analysis,” ECN, Dec. 2017."
   ]
  },
  {
   "cell_type": "markdown",
   "metadata": {},
   "source": [
    "# Feedback\n",
    "\n",
    "Please fill in this questionaire to help us improve this course for the next year. Your feedback will be anonymized and will not affect your grade in any way!"
   ]
  },
  {
   "cell_type": "markdown",
   "metadata": {},
   "source": [
    "### How many hours did you spend on these Exercises?\n",
    "\n",
    "Assign a number to `feedback_time`."
   ]
  },
  {
   "cell_type": "code",
   "execution_count": null,
   "metadata": {},
   "outputs": [],
   "source": [
    "#// BEGIN_FEEDBACK [Feedback_1] (0 point)\n",
    "\n",
    "#// END_FEEDBACK [Feedback_1] (0 point)\n",
    "\n",
    "import numbers\n",
    "assert isinstance(feedback_time, numbers.Number), \"Please assign a number to feedback_time\"\n",
    "feedback_time"
   ]
  },
  {
   "cell_type": "markdown",
   "metadata": {},
   "source": [
    "### How difficult did you find these Exercises?\n",
    "\n",
    "Assign an integer to `feedback_difficulty`, on a scale 0 - 10, with 0 being very easy, 5 being just right, and 10 being very difficult."
   ]
  },
  {
   "cell_type": "code",
   "execution_count": null,
   "metadata": {},
   "outputs": [],
   "source": [
    "#// BEGIN_FEEDBACK [Feedback_2] (0 point)\n",
    "\n",
    "#// END_FEEDBACK [Feedback_2] (0 point)\n",
    "\n",
    "import numbers\n",
    "assert isinstance(feedback_difficulty, numbers.Number), \"Please assign a number to feedback_difficulty\"\n",
    "feedback_difficulty"
   ]
  },
  {
   "cell_type": "markdown",
   "metadata": {},
   "source": [
    "### (Optional) What did you like?\n",
    "\n",
    "Assign a string to `feedback_like`."
   ]
  },
  {
   "cell_type": "code",
   "execution_count": null,
   "metadata": {},
   "outputs": [],
   "source": [
    "#// BEGIN_FEEDBACK [Feedback_3] (0 point)\n",
    "\n",
    "#// END_FEEDBACK [Feedback_3] (0 point)"
   ]
  },
  {
   "cell_type": "markdown",
   "metadata": {},
   "source": [
    "### (Optional) What can be improved?\n",
    "\n",
    "Assign a string to `feedback_improve`. Please be specific, so that we can act on your feedback. For example, mention the specific exercises and what was unclear."
   ]
  },
  {
   "cell_type": "code",
   "execution_count": null,
   "metadata": {},
   "outputs": [],
   "source": [
    "#// BEGIN_FEEDBACK [Feedback_4] (0 point)\n",
    "\n",
    "#// END_FEEDBACK [Feedback_4] (0 point)"
   ]
  },
  {
   "cell_type": "markdown",
   "metadata": {},
   "source": [
    "\n",
    "\n",
    "\n",
    "## How to Submit Your Work\n",
    "\n",
    "1. **Before submitting**, you must run your notebook by doing **Kernel > Restart & Run All**.  \n",
    "   Make sure that your notebook runs without errors **in linear order**.\n",
    "1. Remember to rename the notebook, replacing `...-template.ipynb` with `...-yourIDnr.ipynb`, where `yourIDnr` is your TU/e identification number.\n",
    "1. Submit the executed notebook with your work\n",
    "   for the appropriate assignment in **Canvas**.\n",
    "1. In the **Momotor** tab in Canvas,\n",
    "  you can select that assignment again to find some feedback on your submitted work.\n",
    "  If there are any problems reported by _Momotor_,\n",
    "  then you need to fix those,\n",
    "  and **resubmit the fixed notebook**.\n",
    "\n",
    "In case of a high workload on our server\n",
    "(because many students submit close to the deadline),\n",
    "it may take longer to receive the feedback.\n"
   ]
  },
  {
   "cell_type": "markdown",
   "metadata": {},
   "source": [
    "---"
   ]
  },
  {
   "cell_type": "code",
   "execution_count": null,
   "metadata": {},
   "outputs": [],
   "source": [
    "# List all defined names\n",
    "%whos"
   ]
  },
  {
   "cell_type": "markdown",
   "metadata": {},
   "source": [
    "---\n",
    "\n",
    "# (End of Notebook) <span class=\"tocSkip\"></span>\n",
    "\n",
    "&copy; 2024-2025 - **TU/e** - Eindhoven University of Technology"
   ]
  }
 ],
 "metadata": {
  "kernelspec": {
   "display_name": "Python 3",
   "language": "python",
   "name": "python3"
  },
  "language_info": {
   "codemirror_mode": {
    "name": "ipython",
    "version": 3
   },
   "file_extension": ".py",
   "mimetype": "text/x-python",
   "name": "python",
   "nbconvert_exporter": "python",
   "pygments_lexer": "ipython3",
   "version": "3.11.7"
  }
 },
 "nbformat": 4,
 "nbformat_minor": 4
}
