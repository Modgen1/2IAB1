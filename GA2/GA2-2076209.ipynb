{
 "cells": [
  {
   "cell_type": "markdown",
   "metadata": {},
   "source": [
    "# Graded Assignment 2 - Household Consumption of Electricity and Gas"
   ]
  },
  {
   "cell_type": "markdown",
   "metadata": {},
   "source": [
    "\n",
    "# Introduction to This Template Notebook\n",
    "\n",
    "* This is a **personal** notebook.\n",
    "* Make a **copy** of `...-template.ipynb` and\n",
    "**rename** it to `...-yourIDnr.ipynb`,\n",
    "where `yourIDnr` is your TU/e identification number.\n",
    "\n",
    "<div class=\"alert alert-danger\" role=\"danger\">\n",
    "<h3>Integrity</h3>\n",
    "<ul>\n",
    "    <li>In this course you must act according to the rules of the TU/e code of scientific conduct.</li>\n",
    "    <li>All the exercises and the graded assignments are to be executed individually and independently.</li>\n",
    "    <li>You must not copy from the Internet, your friends, books... If you represent other people's work as your own, then that constitutes fraud and will be reported to the Examination Committee.</li>\n",
    "    <li>Making your work available to others (complicity) also constitutes fraud.</li>\n",
    "</ul>\n",
    "</div>\n",
    "\n",
    "You are expected to work with Python code in this notebook.\n",
    "\n",
    "The locations where you should write your solutions can be recognized by\n",
    "**marker lines**,\n",
    "which look like this:\n",
    "\n",
    ">`#//`\n",
    ">    `BEGIN_TODO [Label]` `Description` `(n points)`\n",
    ">\n",
    ">`#//`\n",
    ">    `END_TODO [Label]`\n",
    "\n",
    "<div class=\"alert alert-warning\" role=\"alert\">Do NOT modify or delete these marker lines.  Keep them as they are.<br/>\n",
    "NEVER write code <i>outside</i> the marked blocks.\n",
    "Such code cannot be evaluated.\n",
    "</div>\n",
    "\n",
    "Proceed in this notebook as follows:\n",
    "* **Read** the text.\n",
    "* **Fill in** your solutions in the cells that are between the cells with `BEGIN_TODO` and `END_TODO` marker lines.\n",
    "* **Run** _all_ code cells (also the ones _without_ your code),\n",
    "    _in linear order_ from the first code cell.\n",
    "\n",
    "# Personalize your notebook:\n",
    "1. Copy the following three lines of code:\n",
    "\n",
    "  ```python\n",
    "  AUTHOR_NAME = 'Your Full Name'\n",
    "  AUTHOR_ID_NR = '1234567'\n",
    "  AUTHOR_DATE = 'YYYY-MM-DD'\n",
    "  ```\n",
    "2. Paste them between the marker lines in the next code cell.\n",
    "1. Fill in your _full name_, _identification number_, and the current _date_ (i.e. when you first modified this notebook, e.g. '2024-11-15') as strings between the `Author` markers.\n",
    "1. Run the code cell by putting the cursor there and typing **Control-Enter**.\n"
   ]
  },
  {
   "cell_type": "code",
   "execution_count": null,
   "metadata": {},
   "outputs": [],
   "source": [
    "#// BEGIN_TODO [Author] (0 points)\n",
    "\n",
    "AUTHOR_NAME = 'Ivan Sergeevich Mishin'\n",
    "AUTHOR_ID_NR = '2076209'\n",
    "AUTHOR_DATE = '2024-12-30'\n"
   ]
  },
  {
   "cell_type": "code",
   "execution_count": null,
   "metadata": {},
   "outputs": [],
   "source": [
    "#// END_TODO [Author]"
   ]
  },
  {
   "cell_type": "markdown",
   "metadata": {},
   "source": [
    "<div class=\"alert alert-block alert-danger\">\n",
    "<b>Warning:</b>\n",
    "\n",
    "To complete this assignment, only use the techniques covered in the programming exercises. Do not use techniques found online or through tools like ChatGPT.\n",
    "</div>"
   ]
  },
  {
   "cell_type": "markdown",
   "metadata": {},
   "source": [
    "# Organizational matters"
   ]
  },
  {
   "cell_type": "markdown",
   "metadata": {},
   "source": [
    "Welcome to the second graded assignment of the course Foundations of Data Analytics! This assignment consists of four parts:\n",
    "\n",
    "1. Data retrieval and preprocessing.\n",
    "2. Formulating and testing a hypothesis.\n",
    "3. Creating a **poster** on which you report and discuss your findings.\n",
    "4. A pitch in which you try to motivate others to read your poster.\n",
    "\n",
    "> **Note:** you are required to use the template provided on Canvas for the poster.\n",
    "\n",
    "The deadline for the graded assignment, involving both the submission of this notebook and your poster, is **Friday January 10 at 21:00**. Then, on **Monday January 13** during the lab session, you will give your pitch.\n",
    "\n",
    "Your assignment will be graded on three components: the work in this notebook, graded by Momotor, your poster, and the pitches. You can get up to 40 points for the part of this notebook graded by Momotor, 50 points for the poster part, including the results obtained in the part of this notebook not graded by Momotor, and 10 points for the pitch part. Additionally, you can get up to 10 bonus points for originality, creativity, or depth of your analysis.\n",
    "\n",
    "<div class=\"alert alert-block alert-danger\">\n",
    "<b>Three very important remarks:</b>\n",
    "\n",
    "1. Make sure that the **visualizations that you include in your poster** are also produced by your notebook. **Double-check** if the visualizations are produced correctly on Momotor under the **Running submitted notebook** tab, i.e., make sure that every visualization on your poster can also be seen under that tab.\n",
    "2. Submit your notebook before the deadline and make sure **Momotor does not give any errors in any tab**.\n",
    "3. **Do not write anything _outside_ marker lines `BEGIN_TODO ... END_TODO`**.\n",
    "</div>"
   ]
  },
  {
   "cell_type": "markdown",
   "metadata": {},
   "source": [
    "# Introduction"
   ]
  },
  {
   "cell_type": "markdown",
   "metadata": {},
   "source": [
    "In GA1, you studied the impact of the weather and socioeconomic factors on gas consumption in Dutch municipalities. In this graded assignment, you will investigate and compare the consumption of gas and electricity of two individual Dutch households in the Netherlands for one year.\n",
    "\n",
    "* First, you will retrieve the necessary data from a database, clean it, and prepare it for the analysis.\n",
    "* Second, you will formulate your own problem statement related to the gas and/or electricity consumption of individual households.\n",
    "* Third, you will formulate a hypothesis and an appropriate hypothesis test and perform this test for each of the two households.\n",
    "* Then, after you finish the notebook:\n",
    "    * On the poster, you will explain the choices you made during the assignment, present your findings, and discuss the limitations of your study.\n",
    "    * In the pitch, you will tell your peers about your study in one minute with the goal to get your audience interested in your study, trying to improve your presentation skills based on the attention points you identified after the first pitch."
   ]
  },
  {
   "cell_type": "markdown",
   "metadata": {},
   "source": [
    "**Critical thinking** is one of the key skills you are expected to develop during your Bachelor studies. As this assignment is part of the CBL (challenge-based learning) line of the Bachelor program, you are not only to analyze data, but also to reflect on the limitations of your analysis coming from the choice of methods used in the data analysis, data quality, data quantity, etc. Some risks of overgeneralization become visible when comparing data from two households. Keep that in mind when conducting the analysis. You will present the most important findings related to the limitations of your study on your poster."
   ]
  },
  {
   "cell_type": "markdown",
   "metadata": {},
   "source": [
    "## Origin of the data"
   ]
  },
  {
   "cell_type": "markdown",
   "metadata": {},
   "source": [
    "**Gas and electricity consumption**\n",
    "\n",
    "You will use a data set collected by [Liander](https://www.liander.nl/over-ons/open-data), a Dutch energy grid operator. The data comes from smart meters from households that gave permission to record their gas and electricity consumption for research purposes. Some data cleaning was already performed, for example, unrealistic values were removed.\n",
    "\n",
    "The data was collected in 2013. Gas consumption was recorded per hour and electricity consumption per 15 minutes and then aggregated per hour. For some households, the records also include the type of household, the type of house, and the age of the house. The locations of the households are unknown.\n",
    "\n",
    "**Weather data**\n",
    "\n",
    "You will also use weather data collected by the Royal Netherlands Meteorological Institute (KNMI) in 2013, at the Bilt weather station. This weather station is located centrally in the Netherlands and considered to be the best approximation for the weather when no location data is available."
   ]
  },
  {
   "cell_type": "markdown",
   "metadata": {},
   "source": [
    "## Personalization"
   ]
  },
  {
   "attachments": {},
   "cell_type": "markdown",
   "metadata": {},
   "source": [
    "This assignment is personalized. You should have received an e-mail containing a string that encodes the households.\n",
    "\n",
    "1. Copy the following two lines of code:\n",
    "\n",
    "  ```python\n",
    "household_1 = \"Customer X\"\n",
    "household_2 = \"Customer Y\"\n",
    "  ```\n",
    "\n",
    "2. Paste them between the marker lines in the next code cell.\n",
    "3. Replace Customer X and Customer Y with the households you received in your email as strings between quotes.\n",
    "4. Run the code cell."
   ]
  },
  {
   "cell_type": "code",
   "metadata": {
    "ExecuteTime": {
     "end_time": "2024-12-30T19:05:08.051728Z",
     "start_time": "2024-12-30T19:05:08.049598Z"
    }
   },
   "source": [
    "#// BEGIN_TODO [Personalization] (1 point)\n",
    "\n",
    "household_1 = \"Customer 20\"\n",
    "household_2 = \"Customer 44\"\n"
   ],
   "outputs": [],
   "execution_count": 4
  },
  {
   "cell_type": "code",
   "execution_count": null,
   "metadata": {},
   "outputs": [],
   "source": [
    "#// END_TODO [Personalization]"
   ]
  },
  {
   "cell_type": "markdown",
   "metadata": {},
   "source": [
    "# Description of the dataset"
   ]
  },
  {
   "cell_type": "markdown",
   "metadata": {
    "jp-MarkdownHeadingCollapsed": true
   },
   "source": [
    "The data for this assignment is stored in a database in `GA2_files/data.db`. The database contains five tables. These tables have been translated from Dutch to English where necessary."
   ]
  },
  {
   "cell_type": "markdown",
   "metadata": {},
   "source": [
    "## The `customer` table\n",
    "\n",
    "| Column  | Type | Description |\n",
    "|:-------|:----|:----|\n",
    "| customer | str | A unique label identifying this customer. |\n",
    "| house_type | str | The type of house, if known. Possible non-null values: Semi-detached house, Terraced house, Detached house, Apartment. |\n",
    "| build_era | str | The period in which the house was built, if known. Possible non-null values: Before 1940, 1940 - 1979, 1980 - present. |\n",
    "| household_type | str | The type of family that lives in the house, if known. Possible non-null values: Single, Family with children, Couple without children. |\n",
    "\n",
    "The first few rows/columns of the customer table look like this:\n",
    "\n",
    "<div>\n",
    "<style scoped=\"\">\n",
    "    .dataframe tbody tr th:only-of-type {\n",
    "        vertical-align: middle;\n",
    "    }\n",
    "\n",
    "    .dataframe tbody tr th {\n",
    "        vertical-align: top;\n",
    "    }\n",
    "\n",
    "    .dataframe thead th {\n",
    "        text-align: right;\n",
    "    }\n",
    "</style>\n",
    "<table border=\"1\" class=\"dataframe\">\n",
    "  <thead>\n",
    "    <tr style=\"text-align: right;\">\n",
    "      <th></th>\n",
    "      <th>customer</th>\n",
    "      <th>house_type</th>\n",
    "      <th>build_era</th>\n",
    "      <th>household_type</th>\n",
    "    </tr>\n",
    "  </thead>\n",
    "  <tbody>\n",
    "    <tr>\n",
    "      <th>0</th>\n",
    "      <td>Customer 2</td>\n",
    "      <td>None</td>\n",
    "      <td>None</td>\n",
    "      <td>None</td>\n",
    "    </tr>\n",
    "    <tr>\n",
    "      <th>1</th>\n",
    "      <td>Customer 4</td>\n",
    "      <td>None</td>\n",
    "      <td>None</td>\n",
    "      <td>None</td>\n",
    "    </tr>\n",
    "    <tr>\n",
    "      <th>2</th>\n",
    "      <td>Customer 5</td>\n",
    "      <td>None</td>\n",
    "      <td>None</td>\n",
    "      <td>None</td>\n",
    "    </tr>\n",
    "    <tr>\n",
    "      <th>3</th>\n",
    "      <td>Customer 6</td>\n",
    "      <td>Semi-detached house</td>\n",
    "      <td>Before 1940</td>\n",
    "      <td>Couple without children</td>\n",
    "    </tr>\n",
    "    <tr>\n",
    "      <th>4</th>\n",
    "      <td>Customer 7</td>\n",
    "      <td>None</td>\n",
    "      <td>None</td>\n",
    "      <td>None</td>\n",
    "    </tr>\n",
    "    <tr>\n",
    "      <th>...</th>\n",
    "      <td>...</td>\n",
    "      <td>...</td>\n",
    "      <td>...</td>\n",
    "      <td>...</td>\n",
    "    </tr>\n",
    "  </tbody>\n",
    "</table>\n",
    "</div>"
   ]
  },
  {
   "cell_type": "markdown",
   "metadata": {},
   "source": [
    "## The `gas` table\n",
    "\n",
    "This table contains gas consumption for each hour of the year in columns \"Customer `n`\" for each customer. The column name is thus the label Customer from the `customer` table.\n",
    "\n",
    "|Column | Type | Unit | Description |\n",
    "|:------|:-----|:-----|:------------|\n",
    "| datetime | datetime | - | The local time at the end of the measurement period of one hour. |\n",
    "| date | date | - | The date that this measurement period belongs to. |\n",
    "| Customer `n` | float | $m^3$ | The amount of gas used in this period by this customer. |\n",
    "\n",
    "The first few rows/columns of the gas table look like this:\n",
    "\n",
    "<div>\n",
    "<style scoped=\"\">\n",
    "    .dataframe tbody tr th:only-of-type {\n",
    "        vertical-align: middle;\n",
    "    }\n",
    "\n",
    "    .dataframe tbody tr th {\n",
    "        vertical-align: top;\n",
    "    }\n",
    "\n",
    "    .dataframe thead th {\n",
    "        text-align: right;\n",
    "    }\n",
    "</style>\n",
    "<table border=\"1\" class=\"dataframe\">\n",
    "  <thead>\n",
    "    <tr style=\"text-align: right;\">\n",
    "      <th></th>\n",
    "      <th>datetime</th>\n",
    "      <th>date</th>\n",
    "      <th>Customer 2</th>\n",
    "      <th>Customer 4</th>\n",
    "      <th>Customer 5</th>\n",
    "      <th>Customer 6</th>\n",
    "      <th>Customer 8</th>\n",
    "      <th>Customer 10</th>\n",
    "      <th>Customer 11</th>\n",
    "      <th>Customer 14</th>\n",
    "      <th>...</th>\n",
    "    </tr>\n",
    "  </thead>\n",
    "  <tbody>\n",
    "    <tr>\n",
    "      <th>0</th>\n",
    "      <td>2013-01-01 01:00:00</td>\n",
    "      <td>2013-01-01</td>\n",
    "      <td>0.578286</td>\n",
    "      <td>0.000000</td>\n",
    "      <td>0.166643</td>\n",
    "      <td>0.000000</td>\n",
    "      <td>0.293928</td>\n",
    "      <td>0.000000</td>\n",
    "      <td>0.219519</td>\n",
    "      <td>0.050962</td>\n",
    "      <td>...</td>\n",
    "    </tr>\n",
    "    <tr>\n",
    "      <th>1</th>\n",
    "      <td>2013-01-01 02:00:00</td>\n",
    "      <td>2013-01-01</td>\n",
    "      <td>0.090742</td>\n",
    "      <td>0.000000</td>\n",
    "      <td>0.151401</td>\n",
    "      <td>0.168662</td>\n",
    "      <td>0.269638</td>\n",
    "      <td>0.000000</td>\n",
    "      <td>0.000000</td>\n",
    "      <td>0.000000</td>\n",
    "      <td>...</td>\n",
    "    </tr>\n",
    "    <tr>\n",
    "      <th>2</th>\n",
    "      <td>2013-01-01 03:00:00</td>\n",
    "      <td>2013-01-01</td>\n",
    "      <td>0.000000</td>\n",
    "      <td>0.000000</td>\n",
    "      <td>0.149491</td>\n",
    "      <td>0.000000</td>\n",
    "      <td>0.040605</td>\n",
    "      <td>0.000000</td>\n",
    "      <td>0.000000</td>\n",
    "      <td>0.192151</td>\n",
    "      <td>...</td>\n",
    "    </tr>\n",
    "    <tr>\n",
    "      <th>3</th>\n",
    "      <td>2013-01-01 04:00:00</td>\n",
    "      <td>2013-01-01</td>\n",
    "      <td>0.000000</td>\n",
    "      <td>0.000000</td>\n",
    "      <td>0.121399</td>\n",
    "      <td>0.000000</td>\n",
    "      <td>0.001121</td>\n",
    "      <td>0.000000</td>\n",
    "      <td>0.000000</td>\n",
    "      <td>0.024404</td>\n",
    "      <td>...</td>\n",
    "    </tr>\n",
    "    <tr>\n",
    "      <th>4</th>\n",
    "      <td>2013-01-01 05:00:00</td>\n",
    "      <td>2013-01-01</td>\n",
    "      <td>0.000000</td>\n",
    "      <td>0.000000</td>\n",
    "      <td>0.158747</td>\n",
    "      <td>0.000000</td>\n",
    "      <td>0.000000</td>\n",
    "      <td>0.000000</td>\n",
    "      <td>0.000000</td>\n",
    "      <td>0.088286</td>\n",
    "      <td>...</td>\n",
    "    </tr>\n",
    "    <tr>\n",
    "      <th>...</th>\n",
    "      <td>...</td>\n",
    "      <td>...</td>\n",
    "      <td>...</td>\n",
    "      <td>...</td>\n",
    "      <td>...</td>\n",
    "      <td>...</td>\n",
    "      <td>...</td>\n",
    "      <td>...</td>\n",
    "      <td>...</td>\n",
    "      <td>...</td>\n",
    "      <td>...</td>\n",
    "    </tr>\n",
    "  </tbody>\n",
    "</table>\n",
    "</div>\n",
    "\n",
    "The `datetime` column represents the **end** time of a measuring period, but at midnight the date changes while the measurement concerns the last hour of the previous day. Therefore, the column `date` was added to simplify the programming part for you. The values correspond to the date **during** the measuring period, i.e., the hour preceding the value in `datetime`.\n",
    "\n",
    "For example: in the table below, the row with `datetime` = `2013-06-20 00:00` concerns measurements taken between `2013-06-19 23:00` and `2013-06-20 00:00` and therefore these measurements belong to `date` = `2013-06-19`.\n",
    "\n",
    "<div>\n",
    "<style scoped=\"\">\n",
    "    .dataframe tbody tr th:only-of-type {\n",
    "        vertical-align: middle;\n",
    "    }\n",
    "\n",
    "    .dataframe tbody tr th {\n",
    "        vertical-align: top;\n",
    "    }\n",
    "\n",
    "    .dataframe thead th {\n",
    "        text-align: right;\n",
    "    }\n",
    "</style>\n",
    "<table border=\"1\" class=\"dataframe\">\n",
    "  <thead>\n",
    "    <tr style=\"text-align: right;\">\n",
    "      <th></th>\n",
    "      <th>datetime</th>\n",
    "      <th>date</th>\n",
    "      <th>...</th>\n",
    "    </tr>\n",
    "  </thead>\n",
    "  <tbody>\n",
    "    <tr>\n",
    "      <th>...</th>\n",
    "      <td>...</td>\n",
    "      <td>...</td>\n",
    "      <td>...</td>\n",
    "    </tr>\n",
    "    <tr>\n",
    "      <th>4077</th>\n",
    "      <td>2013-06-19 22:00:00</td>\n",
    "      <td>2013-06-19</td>\n",
    "      <td>...</td>\n",
    "    </tr>\n",
    "    <tr>\n",
    "      <th>4078</th>\n",
    "      <td>2013-06-19 23:00:00</td>\n",
    "      <td>2013-06-19</td>\n",
    "      <td>...</td>\n",
    "    </tr>\n",
    "    <tr>\n",
    "      <th>4079</th>\n",
    "      <td>2013-06-20 00:00:00</td>\n",
    "      <td>2013-06-19</td>\n",
    "      <td>...</td>\n",
    "    </tr>\n",
    "    <tr>\n",
    "      <th>4080</th>\n",
    "      <td>2013-06-20 01:00:00</td>\n",
    "      <td>2013-06-20</td>\n",
    "      <td>...</td>\n",
    "    </tr>\n",
    "    <tr>\n",
    "      <th>4081</th>\n",
    "      <td>2013-06-20 02:00:00</td>\n",
    "      <td>2013-06-20</td>\n",
    "      <td>...</td>\n",
    "    </tr>\n",
    "    <tr>\n",
    "      <th>4082</th>\n",
    "      <td>2013-06-20 03:00:00</td>\n",
    "      <td>2013-06-20</td>\n",
    "      <td>...</td>\n",
    "    </tr>\n",
    "    <tr>\n",
    "      <th>...</th>\n",
    "      <td>...</td>\n",
    "      <td>...</td>\n",
    "      <td>...</td>\n",
    "    </tr>\n",
    "  </tbody>\n",
    "</table>\n",
    "</div>"
   ]
  },
  {
   "cell_type": "markdown",
   "metadata": {},
   "source": [
    "## The `electricity` table\n",
    "\n",
    "This table contains electricity consumption for each hour of the year in columns \"Customer `n`\" for each customer. The column name is thus the label Customer from the `customer` table.\n",
    "\n",
    "|Column | Type | Unit | Description |\n",
    "|:------|:-----|:-----|:------------|\n",
    "| datetime | datetime | - | The local time at the end of the measurement period of one hour. |\n",
    "| date | date | - | The date that this measurement period belongs to. |\n",
    "| Customer `n` | float | $Wh$ | The amount of electricity used in this period by this customer. |\n",
    "\n",
    "The column `date` was added to simplify the programming part for you. Please see the explanation with the `gas` table.\n",
    "\n",
    "The first few rows/columns of the electricity table look like this:\n",
    "\n",
    "<div>\n",
    "<style scoped=\"\">\n",
    "    .dataframe tbody tr th:only-of-type {\n",
    "        vertical-align: middle;\n",
    "    }\n",
    "\n",
    "    .dataframe tbody tr th {\n",
    "        vertical-align: top;\n",
    "    }\n",
    "\n",
    "    .dataframe thead th {\n",
    "        text-align: right;\n",
    "    }\n",
    "</style>\n",
    "<table border=\"1\" class=\"dataframe\">\n",
    "  <thead>\n",
    "    <tr style=\"text-align: right;\">\n",
    "      <th></th>\n",
    "      <th>datetime</th>\n",
    "      <th>date</th>\n",
    "      <th>Customer 2</th>\n",
    "      <th>Customer 4</th>\n",
    "      <th>Customer 5</th>\n",
    "      <th>Customer 6</th>\n",
    "      <th>Customer 8</th>\n",
    "      <th>Customer 10</th>\n",
    "      <th>Customer 11</th>\n",
    "      <th>Customer 14</th>\n",
    "      <th>...</th>\n",
    "    </tr>\n",
    "  </thead>\n",
    "  <tbody>\n",
    "    <tr>\n",
    "      <th>0</th>\n",
    "      <td>2013-01-01 01:00:00</td>\n",
    "      <td>2013-01-01</td>\n",
    "      <td>791.0</td>\n",
    "      <td>60.0</td>\n",
    "      <td>166.0</td>\n",
    "      <td>563.0</td>\n",
    "      <td>744.0</td>\n",
    "      <td>80.0</td>\n",
    "      <td>261.0</td>\n",
    "      <td>148.0</td>\n",
    "      <td>...</td>\n",
    "    </tr>\n",
    "    <tr>\n",
    "      <th>1</th>\n",
    "      <td>2013-01-01 02:00:00</td>\n",
    "      <td>2013-01-01</td>\n",
    "      <td>479.0</td>\n",
    "      <td>59.0</td>\n",
    "      <td>197.0</td>\n",
    "      <td>382.0</td>\n",
    "      <td>688.0</td>\n",
    "      <td>107.0</td>\n",
    "      <td>114.0</td>\n",
    "      <td>180.0</td>\n",
    "      <td>...</td>\n",
    "    </tr>\n",
    "    <tr>\n",
    "      <th>2</th>\n",
    "      <td>2013-01-01 03:00:00</td>\n",
    "      <td>2013-01-01</td>\n",
    "      <td>286.0</td>\n",
    "      <td>79.0</td>\n",
    "      <td>131.0</td>\n",
    "      <td>112.0</td>\n",
    "      <td>486.0</td>\n",
    "      <td>59.0</td>\n",
    "      <td>104.0</td>\n",
    "      <td>154.0</td>\n",
    "      <td>...</td>\n",
    "    </tr>\n",
    "    <tr>\n",
    "      <th>3</th>\n",
    "      <td>2013-01-01 04:00:00</td>\n",
    "      <td>2013-01-01</td>\n",
    "      <td>199.0</td>\n",
    "      <td>125.0</td>\n",
    "      <td>192.0</td>\n",
    "      <td>96.0</td>\n",
    "      <td>353.0</td>\n",
    "      <td>102.0</td>\n",
    "      <td>123.0</td>\n",
    "      <td>147.0</td>\n",
    "      <td>...</td>\n",
    "    </tr>\n",
    "    <tr>\n",
    "      <th>4</th>\n",
    "      <td>2013-01-01 05:00:00</td>\n",
    "      <td>2013-01-01</td>\n",
    "      <td>112.0</td>\n",
    "      <td>84.0</td>\n",
    "      <td>153.0</td>\n",
    "      <td>110.0</td>\n",
    "      <td>348.0</td>\n",
    "      <td>67.0</td>\n",
    "      <td>112.0</td>\n",
    "      <td>174.0</td>\n",
    "      <td>...</td>\n",
    "    </tr>\n",
    "    <tr>\n",
    "      <th>...</th>\n",
    "      <td>...</td>\n",
    "      <td>...</td>\n",
    "      <td>...</td>\n",
    "      <td>...</td>\n",
    "      <td>...</td>\n",
    "      <td>...</td>\n",
    "      <td>...</td>\n",
    "      <td>...</td>\n",
    "      <td>...</td>\n",
    "      <td>...</td>\n",
    "      <td>...</td>\n",
    "    </tr>\n",
    "  </tbody>\n",
    "</table>\n",
    "</div>"
   ]
  },
  {
   "cell_type": "markdown",
   "metadata": {},
   "source": [
    "## The `weather` table\n",
    "\n",
    "| Column | Type | Unit | Description |\n",
    "|:-------|------|------|--------------|\n",
    "| datetime | datetime | - | The local time at the end of the measurement period of one hour. |\n",
    "| date | date | - | The date that this measurement period belongs to. |\n",
    "| temperature | float | $°C$ | Average temperature during the measuring period, at an altitude of 1.50 m. |\n",
    "| wind_speed | float | $m/s$ | Average wind speed during the measuring period. |\n",
    "\n",
    "The column `date` was added to simplify the programming part for you. Please see the explanation with the `gas` table.\n",
    "\n",
    "The first few rows/columns of the weather table look like this:\n",
    "\n",
    "<div>\n",
    "<style scoped=\"\">\n",
    "    .dataframe tbody tr th:only-of-type {\n",
    "        vertical-align: middle;\n",
    "    }\n",
    "\n",
    "    .dataframe tbody tr th {\n",
    "        vertical-align: top;\n",
    "    }\n",
    "\n",
    "    .dataframe thead th {\n",
    "        text-align: right;\n",
    "    }\n",
    "</style>\n",
    "<table border=\"1\" class=\"dataframe\">\n",
    "  <thead>\n",
    "    <tr style=\"text-align: right;\">\n",
    "      <th></th>\n",
    "      <th>datetime</th>\n",
    "      <th>date</th>\n",
    "      <th>temperature</th>\n",
    "      <th>wind_speed</th>\n",
    "    </tr>\n",
    "  </thead>\n",
    "  <tbody>\n",
    "    <tr>\n",
    "      <th>0</th>\n",
    "      <td>2013-01-01 01:00:00</td>\n",
    "      <td>2013-01-01</td>\n",
    "      <td>8.6</td>\n",
    "      <td>8.0</td>\n",
    "    </tr>\n",
    "    <tr>\n",
    "      <th>1</th>\n",
    "      <td>2013-01-01 02:00:00</td>\n",
    "      <td>2013-01-01</td>\n",
    "      <td>8.5</td>\n",
    "      <td>6.0</td>\n",
    "    </tr>\n",
    "    <tr>\n",
    "      <th>2</th>\n",
    "      <td>2013-01-01 03:00:00</td>\n",
    "      <td>2013-01-01</td>\n",
    "      <td>8.6</td>\n",
    "      <td>5.0</td>\n",
    "    </tr>\n",
    "    <tr>\n",
    "      <th>3</th>\n",
    "      <td>2013-01-01 04:00:00</td>\n",
    "      <td>2013-01-01</td>\n",
    "      <td>8.6</td>\n",
    "      <td>6.0</td>\n",
    "    </tr>\n",
    "    <tr>\n",
    "      <th>4</th>\n",
    "      <td>2013-01-01 05:00:00</td>\n",
    "      <td>2013-01-01</td>\n",
    "      <td>8.6</td>\n",
    "      <td>4.0</td>\n",
    "    </tr>\n",
    "    <tr>\n",
    "      <th>...</th>\n",
    "      <td>...</td>\n",
    "      <td>...</td>\n",
    "      <td>...</td>\n",
    "      <td>...</td>\n",
    "    </tr>\n",
    "  </tbody>\n",
    "</table>\n",
    "</div>"
   ]
  },
  {
   "cell_type": "markdown",
   "metadata": {},
   "source": [
    "## The `weather_extra` table\n",
    "\n",
    "| Column | Type | Unit | Description |\n",
    "|:-------|------|------|--------------|\n",
    "| datetime | datetime | - | The local time at the end of the measurement period of one hour. |\n",
    "| date | date | - | The date that this measurement period belongs to. |\n",
    "| wind_direction | int | $°$ | Mean wind direction (in degrees) during the measuring period (360=north, 90=east, 180=south, 270=west, 0=calm, 990=unstable). |\n",
    "| wind_gust | float | $m/s$ | Maximum wind gust during the measuring period. |\n",
    "| sunshine_duration | float | $hours$ | Sunshine duration during the measuring period, calculated from global radiation (-1 for <0.05 hour). |\n",
    "| global_radiation | float | $J/cm^2$ | Global radiation during the measuring period. |\n",
    "| precipitation | float | $mm$ | Total precipitation amount during the measuring period (-1 for <0.05 mm). |\n",
    "| air_pressure | float | $hPa$ | Air pressure reduced to mean sea level, at the time of observation. |\n",
    "| cloud_cover | float | $octants$ | Cloud cover (in octants), at the time of observation (0=sky completely clear, ..., 4=sky half cloudy, ..., 8=sky completely cloudy, 9=sky invisible). |\n",
    "| humidity | float | $\\%$ | Relative atmospheric humidity at 1.50 m above the ground at the time of observation. |\n",
    "| fog | int | - | Fog (0=no occurrence, 1=occurred during the preceding hour and/or at the time of observation). |\n",
    "| rainfall | int | - | Rainfall (0=no occurrence, 1=occurred during the preceding hour and/or at the time of observation). |\n",
    "| snow | int | - | Snow (0=no occurrence, 1=occurred during the preceding hour and/or at the time of observation). |\n",
    "| thunder | int | - | Thunder (0=no occurrence, 1=occurred during the preceding hour and/or at the time of observation). |\n",
    "| ice_formation | int | - | Ice formation (0=no occurrence, 1=occurred during the preceding hour and/or at the time of observation). |\n",
    "\n",
    "The column `date` was added to simplify the programming part for you. Please see the explanation with the `gas` table.\n",
    "\n",
    "The first few rows/columns of the weather_extra table look like this:\n",
    "\n",
    "<div>\n",
    "<style scoped=\"\">\n",
    "    .dataframe tbody tr th:only-of-type {\n",
    "        vertical-align: middle;\n",
    "    }\n",
    "\n",
    "    .dataframe tbody tr th {\n",
    "        vertical-align: top;\n",
    "    }\n",
    "\n",
    "    .dataframe thead th {\n",
    "        text-align: right;\n",
    "    }\n",
    "</style>\n",
    "<table border=\"1\" class=\"dataframe\">\n",
    "  <thead>\n",
    "    <tr style=\"text-align: right;\">\n",
    "      <th></th>\n",
    "      <th>datetime</th>\n",
    "      <th>date</th>\n",
    "      <th>wind_direction</th>\n",
    "      <th>wind_gust</th>\n",
    "      <th>sunshine_duration</th>\n",
    "      <th>global_radiation</th>\n",
    "      <th>precipitation</th>\n",
    "      <th>air_pressure</th>\n",
    "      <th>cloud_cover</th>\n",
    "      <th>humidity</th>\n",
    "      <th>fog</th>\n",
    "      <th>rainfall</th>\n",
    "      <th>snow</th>\n",
    "      <th>thunder</th>\n",
    "      <th>ice_formation</th>\n",
    "    </tr>\n",
    "  </thead>\n",
    "  <tbody>\n",
    "    <tr>\n",
    "      <th>0</th>\n",
    "      <td>2013-01-01 01:00:00</td>\n",
    "      <td>2013-01-01</td>\n",
    "      <td>210</td>\n",
    "      <td>12.0</td>\n",
    "      <td>0.0</td>\n",
    "      <td>0.0</td>\n",
    "      <td>0.6</td>\n",
    "      <td>999.3</td>\n",
    "      <td>8.0</td>\n",
    "      <td>93.0</td>\n",
    "      <td>0</td>\n",
    "      <td>1</td>\n",
    "      <td>0</td>\n",
    "      <td>0</td>\n",
    "      <td>0</td>\n",
    "    </tr>\n",
    "    <tr>\n",
    "      <th>1</th>\n",
    "      <td>2013-01-01 02:00:00</td>\n",
    "      <td>2013-01-01</td>\n",
    "      <td>220</td>\n",
    "      <td>12.0</td>\n",
    "      <td>0.0</td>\n",
    "      <td>0.0</td>\n",
    "      <td>1.8</td>\n",
    "      <td>999.0</td>\n",
    "      <td>8.0</td>\n",
    "      <td>95.0</td>\n",
    "      <td>0</td>\n",
    "      <td>1</td>\n",
    "      <td>0</td>\n",
    "      <td>0</td>\n",
    "      <td>0</td>\n",
    "    </tr>\n",
    "    <tr>\n",
    "      <th>2</th>\n",
    "      <td>2013-01-01 03:00:00</td>\n",
    "      <td>2013-01-01</td>\n",
    "      <td>230</td>\n",
    "      <td>11.0</td>\n",
    "      <td>0.0</td>\n",
    "      <td>0.0</td>\n",
    "      <td>1.3</td>\n",
    "      <td>998.9</td>\n",
    "      <td>8.0</td>\n",
    "      <td>95.0</td>\n",
    "      <td>0</td>\n",
    "      <td>1</td>\n",
    "      <td>0</td>\n",
    "      <td>0</td>\n",
    "      <td>0</td>\n",
    "    </tr>\n",
    "    <tr>\n",
    "      <th>3</th>\n",
    "      <td>2013-01-01 04:00:00</td>\n",
    "      <td>2013-01-01</td>\n",
    "      <td>230</td>\n",
    "      <td>9.0</td>\n",
    "      <td>0.0</td>\n",
    "      <td>0.0</td>\n",
    "      <td>0.4</td>\n",
    "      <td>998.9</td>\n",
    "      <td>8.0</td>\n",
    "      <td>95.0</td>\n",
    "      <td>0</td>\n",
    "      <td>1</td>\n",
    "      <td>0</td>\n",
    "      <td>0</td>\n",
    "      <td>0</td>\n",
    "    </tr>\n",
    "    <tr>\n",
    "      <th>4</th>\n",
    "      <td>2013-01-01 05:00:00</td>\n",
    "      <td>2013-01-01</td>\n",
    "      <td>220</td>\n",
    "      <td>8.0</td>\n",
    "      <td>0.0</td>\n",
    "      <td>0.0</td>\n",
    "      <td>0.1</td>\n",
    "      <td>998.8</td>\n",
    "      <td>8.0</td>\n",
    "      <td>96.0</td>\n",
    "      <td>0</td>\n",
    "      <td>1</td>\n",
    "      <td>0</td>\n",
    "      <td>0</td>\n",
    "      <td>0</td>\n",
    "    </tr>\n",
    "    <tr>\n",
    "      <th>...</th>\n",
    "      <td>...</td>\n",
    "      <td>...</td>\n",
    "      <td>...</td>\n",
    "      <td>...</td>\n",
    "      <td>...</td>\n",
    "      <td>...</td>\n",
    "      <td>...</td>\n",
    "      <td>...</td>\n",
    "      <td>...</td>\n",
    "      <td>...</td>\n",
    "      <td>...</td>\n",
    "      <td>...</td>\n",
    "      <td>...</td>\n",
    "      <td>...</td>\n",
    "      <td>...</td>\n",
    "    </tr>\n",
    "  </tbody>\n",
    "</table>\n",
    "</div>"
   ]
  },
  {
   "cell_type": "markdown",
   "metadata": {},
   "source": [
    "# Preparation"
   ]
  },
  {
   "cell_type": "markdown",
   "metadata": {},
   "source": [
    "## Loading the libraries"
   ]
  },
  {
   "cell_type": "code",
   "metadata": {
    "ExecuteTime": {
     "end_time": "2024-12-30T18:55:07.165213Z",
     "start_time": "2024-12-30T18:55:06.826659Z"
    }
   },
   "source": [
    "import numpy as np\n",
    "import pandas as pd\n",
    "import sqlite3\n",
    "\n",
    "import statsmodels.api as sm\n",
    "\n",
    "from sklearn.linear_model import LinearRegression\n",
    "from sklearn.metrics import mean_absolute_error, confusion_matrix\n",
    "from sklearn.model_selection import train_test_split\n",
    "\n",
    "from scipy.ndimage import gaussian_filter1d\n",
    "\n",
    "import matplotlib.pyplot as plt\n",
    "import seaborn as sns  # also improves the look of plots\n",
    "sns.set_theme()\n",
    "plt.rcParams['figure.figsize'] = 16, 9  # default hor./vert. size of plots, in inches"
   ],
   "outputs": [],
   "execution_count": 1
  },
  {
   "cell_type": "markdown",
   "metadata": {},
   "source": [
    "## Loading the data"
   ]
  },
  {
   "cell_type": "markdown",
   "metadata": {},
   "source": [
    "1. Connect to the SQLite database in the `'GA2_files/data.db'` file. Use a **single SQL query** to retrieve from the `customer` table a dataframe with the households assigned to you. Store the query in the variable `query_customer`. Store the dataframe in the variable `df_customer`. Make sure the table is indexed by the customer column. Check the contents of `df_customer` to see if there is any additional information about either of the two households.\n",
    "\n",
    "   **Hint:** pass for instance the keyword argument `index_col='customer'` to the `read_sql_query` function."
   ]
  },
  {
   "cell_type": "code",
   "metadata": {
    "ExecuteTime": {
     "end_time": "2024-12-30T18:58:48.878766Z",
     "start_time": "2024-12-30T18:58:48.875299Z"
    }
   },
   "source": [
    "#// BEGIN_TODO [Extract-customers] (2 points)\n",
    "\n",
    "conn = sqlite3.connect('GA2_files/data.db')\n"
   ],
   "outputs": [],
   "execution_count": 2
  },
  {
   "metadata": {
    "ExecuteTime": {
     "end_time": "2024-12-30T19:05:58.300925Z",
     "start_time": "2024-12-30T19:05:58.250730Z"
    }
   },
   "cell_type": "code",
   "source": [
    "query_customer = f'SELECT * FROM customer WHERE customer = \"{household_1}\" OR customer = \"{household_2}\";'\n",
    "\n",
    "df_customer = pd.read_sql_query(query_customer, conn, index_col='customer')\n",
    "df_customer"
   ],
   "outputs": [
    {
     "data": {
      "text/plain": [
       "                 house_type    build_era           household_type\n",
       "customer                                                         \n",
       "Customer 20  Terraced house  1940 - 1979  Couple without children\n",
       "Customer 44            None         None                     None"
      ],
      "text/html": [
       "<div>\n",
       "<style scoped>\n",
       "    .dataframe tbody tr th:only-of-type {\n",
       "        vertical-align: middle;\n",
       "    }\n",
       "\n",
       "    .dataframe tbody tr th {\n",
       "        vertical-align: top;\n",
       "    }\n",
       "\n",
       "    .dataframe thead th {\n",
       "        text-align: right;\n",
       "    }\n",
       "</style>\n",
       "<table border=\"1\" class=\"dataframe\">\n",
       "  <thead>\n",
       "    <tr style=\"text-align: right;\">\n",
       "      <th></th>\n",
       "      <th>house_type</th>\n",
       "      <th>build_era</th>\n",
       "      <th>household_type</th>\n",
       "    </tr>\n",
       "    <tr>\n",
       "      <th>customer</th>\n",
       "      <th></th>\n",
       "      <th></th>\n",
       "      <th></th>\n",
       "    </tr>\n",
       "  </thead>\n",
       "  <tbody>\n",
       "    <tr>\n",
       "      <th>Customer 20</th>\n",
       "      <td>Terraced house</td>\n",
       "      <td>1940 - 1979</td>\n",
       "      <td>Couple without children</td>\n",
       "    </tr>\n",
       "    <tr>\n",
       "      <th>Customer 44</th>\n",
       "      <td>None</td>\n",
       "      <td>None</td>\n",
       "      <td>None</td>\n",
       "    </tr>\n",
       "  </tbody>\n",
       "</table>\n",
       "</div>"
      ]
     },
     "execution_count": 6,
     "metadata": {},
     "output_type": "execute_result"
    }
   ],
   "execution_count": 6
  },
  {
   "cell_type": "code",
   "execution_count": null,
   "metadata": {},
   "outputs": [],
   "source": [
    "#// END_TODO [Extract-customers]"
   ]
  },
  {
   "cell_type": "markdown",
   "metadata": {
    "jp-MarkdownHeadingCollapsed": true
   },
   "source": [
    "2. Use a **single SQL query** to retrieve `gas`, `electricity`, and `weather` data from the corresponding tables. Create a dataframe for `household_1` containing columns `date`, `gas`, `electricity`, `temperature`, and `wind_speed` with a row for every hour in 2013. For the index, use the `datetime`. Store the query in the variable `query_household_1`. Store the dataframe in the variable `df_household_1`. Make sure the table is indexed by the datetime column. Also make sure that both `datetime` and `date` are parsed correctly.\n",
    "\n",
    "   **Hint:** pass for instance the keyword argument `parse_dates=['datetime', 'date']` to the `read_sql_query` function.\n",
    "\n",
    "> It is important to note that the `datetime` column represents the **end** time of a measuring period while the `date` column represents the date **during** the measuring period. For example: the row with `datetime` = `2013-06-19 00:00` concerns measurements taken between `2013-06-18 23:00` and `2013-06-19 00:00` and therefore these measurements belong to `date` = `2013-06-18`.\n",
    "\n",
    "Your output should look similar to the following:\n",
    "\n",
    "<div>\n",
    "<style scoped=\"\">\n",
    "    .dataframe tbody tr th:only-of-type {\n",
    "        vertical-align: middle;\n",
    "    }\n",
    "\n",
    "    .dataframe tbody tr th {\n",
    "        vertical-align: top;\n",
    "    }\n",
    "\n",
    "    .dataframe thead th {\n",
    "        text-align: right;\n",
    "    }\n",
    "</style>\n",
    "<table border=\"1\" class=\"dataframe\">\n",
    "  <thead>\n",
    "    <tr style=\"text-align: right;\">\n",
    "      <th></th>\n",
    "      <th>date</th>\n",
    "      <th>gas</th>\n",
    "      <th>electricity</th>\n",
    "      <th>temperature</th>\n",
    "      <th>wind_speed</th>\n",
    "    </tr>\n",
    "    <tr>\n",
    "      <th>datetime</th>\n",
    "      <th></th>\n",
    "      <th></th>\n",
    "      <th></th>\n",
    "      <th></th>\n",
    "      <th></th>\n",
    "    </tr>\n",
    "  </thead>\n",
    "  <tbody>\n",
    "    <tr>\n",
    "      <th>2013-01-01 01:00:00</th>\n",
    "      <td>2013-01-01</td>\n",
    "      <td>0.000000</td>\n",
    "      <td>563.0</td>\n",
    "      <td>8.6</td>\n",
    "      <td>8.0</td>\n",
    "    </tr>\n",
    "    <tr>\n",
    "      <th>2013-01-01 02:00:00</th>\n",
    "      <td>2013-01-01</td>\n",
    "      <td>0.168662</td>\n",
    "      <td>382.0</td>\n",
    "      <td>8.5</td>\n",
    "      <td>6.0</td>\n",
    "    </tr>\n",
    "    <tr>\n",
    "      <th>2013-01-01 03:00:00</th>\n",
    "      <td>2013-01-01</td>\n",
    "      <td>0.000000</td>\n",
    "      <td>112.0</td>\n",
    "      <td>8.6</td>\n",
    "      <td>5.0</td>\n",
    "    </tr>\n",
    "    <tr>\n",
    "      <th>2013-01-01 04:00:00</th>\n",
    "      <td>2013-01-01</td>\n",
    "      <td>0.000000</td>\n",
    "      <td>96.0</td>\n",
    "      <td>8.6</td>\n",
    "      <td>6.0</td>\n",
    "    </tr>\n",
    "    <tr>\n",
    "      <th>2013-01-01 05:00:00</th>\n",
    "      <td>2013-01-01</td>\n",
    "      <td>0.000000</td>\n",
    "      <td>110.0</td>\n",
    "      <td>8.6</td>\n",
    "      <td>4.0</td>\n",
    "    </tr>\n",
    "    <tr>\n",
    "      <th>...</th>\n",
    "      <td>...</td>\n",
    "      <td>...</td>\n",
    "      <td>...</td>\n",
    "      <td>...</td>\n",
    "      <td>...</td>\n",
    "    </tr>\n",
    "    <tr>\n",
    "      <th>2013-12-31 20:00:00</th>\n",
    "      <td>2013-12-31</td>\n",
    "      <td>0.000000</td>\n",
    "      <td>843.0</td>\n",
    "      <td>6.6</td>\n",
    "      <td>6.0</td>\n",
    "    </tr>\n",
    "    <tr>\n",
    "      <th>2013-12-31 21:00:00</th>\n",
    "      <td>2013-12-31</td>\n",
    "      <td>0.037085</td>\n",
    "      <td>860.0</td>\n",
    "      <td>6.1</td>\n",
    "      <td>4.0</td>\n",
    "    </tr>\n",
    "    <tr>\n",
    "      <th>2013-12-31 22:00:00</th>\n",
    "      <td>2013-12-31</td>\n",
    "      <td>0.000000</td>\n",
    "      <td>682.0</td>\n",
    "      <td>5.9</td>\n",
    "      <td>5.0</td>\n",
    "    </tr>\n",
    "    <tr>\n",
    "      <th>2013-12-31 23:00:00</th>\n",
    "      <td>2013-12-31</td>\n",
    "      <td>0.000000</td>\n",
    "      <td>747.0</td>\n",
    "      <td>5.9</td>\n",
    "      <td>5.0</td>\n",
    "    </tr>\n",
    "    <tr>\n",
    "      <th>2014-01-01 00:00:00</th>\n",
    "      <td>2013-12-31</td>\n",
    "      <td>NaN</td>\n",
    "      <td>NaN</td>\n",
    "      <td>6.0</td>\n",
    "      <td>5.0</td>\n",
    "    </tr>\n",
    "  </tbody>\n",
    "</table>\n",
    "<p>8760 rows × 5 columns</p>\n",
    "</div>"
   ]
  },
  {
   "cell_type": "code",
   "metadata": {
    "ExecuteTime": {
     "end_time": "2024-12-30T19:31:58.675978Z",
     "start_time": "2024-12-30T19:31:58.642001Z"
    }
   },
   "source": [
    "#// BEGIN_TODO [Extract-household-1] (5 points)\n",
    "\n",
    "query_household_1 = (f'SELECT g.datetime, g.date, g.\"{household_1}\" AS gas, e.\"{household_1}\" AS electricity, w.temperature, w.wind_speed '\n",
    "                      f'FROM gas AS g, electricity AS e, weather AS w '\n",
    "                      f'WHERE g.datetime = e.datetime AND g.datetime = w.datetime;')\n",
    "\n",
    "df_household_1 = pd.read_sql_query(query_household_1, conn, index_col='datetime', parse_dates=['datetime', 'date'])\n",
    "df_household_1"
   ],
   "outputs": [
    {
     "data": {
      "text/plain": [
       "                          date  gas  electricity  temperature  wind_speed\n",
       "datetime                                                                 \n",
       "2013-01-01 01:00:00 2013-01-01  0.0        505.0          8.6         8.0\n",
       "2013-01-01 02:00:00 2013-01-01  0.0        288.0          8.5         6.0\n",
       "2013-01-01 03:00:00 2013-01-01  0.0        226.0          8.6         5.0\n",
       "2013-01-01 04:00:00 2013-01-01  0.0        153.0          8.6         6.0\n",
       "2013-01-01 05:00:00 2013-01-01  0.0        341.0          8.6         4.0\n",
       "...                        ...  ...          ...          ...         ...\n",
       "2013-12-31 20:00:00 2013-12-31  0.0        415.0          6.6         6.0\n",
       "2013-12-31 21:00:00 2013-12-31  0.0        488.0          6.1         4.0\n",
       "2013-12-31 22:00:00 2013-12-31  0.0        523.0          5.9         5.0\n",
       "2013-12-31 23:00:00 2013-12-31  0.0        438.0          5.9         5.0\n",
       "2014-01-01 00:00:00 2013-12-31  NaN          NaN          6.0         5.0\n",
       "\n",
       "[8760 rows x 5 columns]"
      ],
      "text/html": [
       "<div>\n",
       "<style scoped>\n",
       "    .dataframe tbody tr th:only-of-type {\n",
       "        vertical-align: middle;\n",
       "    }\n",
       "\n",
       "    .dataframe tbody tr th {\n",
       "        vertical-align: top;\n",
       "    }\n",
       "\n",
       "    .dataframe thead th {\n",
       "        text-align: right;\n",
       "    }\n",
       "</style>\n",
       "<table border=\"1\" class=\"dataframe\">\n",
       "  <thead>\n",
       "    <tr style=\"text-align: right;\">\n",
       "      <th></th>\n",
       "      <th>date</th>\n",
       "      <th>gas</th>\n",
       "      <th>electricity</th>\n",
       "      <th>temperature</th>\n",
       "      <th>wind_speed</th>\n",
       "    </tr>\n",
       "    <tr>\n",
       "      <th>datetime</th>\n",
       "      <th></th>\n",
       "      <th></th>\n",
       "      <th></th>\n",
       "      <th></th>\n",
       "      <th></th>\n",
       "    </tr>\n",
       "  </thead>\n",
       "  <tbody>\n",
       "    <tr>\n",
       "      <th>2013-01-01 01:00:00</th>\n",
       "      <td>2013-01-01</td>\n",
       "      <td>0.0</td>\n",
       "      <td>505.0</td>\n",
       "      <td>8.6</td>\n",
       "      <td>8.0</td>\n",
       "    </tr>\n",
       "    <tr>\n",
       "      <th>2013-01-01 02:00:00</th>\n",
       "      <td>2013-01-01</td>\n",
       "      <td>0.0</td>\n",
       "      <td>288.0</td>\n",
       "      <td>8.5</td>\n",
       "      <td>6.0</td>\n",
       "    </tr>\n",
       "    <tr>\n",
       "      <th>2013-01-01 03:00:00</th>\n",
       "      <td>2013-01-01</td>\n",
       "      <td>0.0</td>\n",
       "      <td>226.0</td>\n",
       "      <td>8.6</td>\n",
       "      <td>5.0</td>\n",
       "    </tr>\n",
       "    <tr>\n",
       "      <th>2013-01-01 04:00:00</th>\n",
       "      <td>2013-01-01</td>\n",
       "      <td>0.0</td>\n",
       "      <td>153.0</td>\n",
       "      <td>8.6</td>\n",
       "      <td>6.0</td>\n",
       "    </tr>\n",
       "    <tr>\n",
       "      <th>2013-01-01 05:00:00</th>\n",
       "      <td>2013-01-01</td>\n",
       "      <td>0.0</td>\n",
       "      <td>341.0</td>\n",
       "      <td>8.6</td>\n",
       "      <td>4.0</td>\n",
       "    </tr>\n",
       "    <tr>\n",
       "      <th>...</th>\n",
       "      <td>...</td>\n",
       "      <td>...</td>\n",
       "      <td>...</td>\n",
       "      <td>...</td>\n",
       "      <td>...</td>\n",
       "    </tr>\n",
       "    <tr>\n",
       "      <th>2013-12-31 20:00:00</th>\n",
       "      <td>2013-12-31</td>\n",
       "      <td>0.0</td>\n",
       "      <td>415.0</td>\n",
       "      <td>6.6</td>\n",
       "      <td>6.0</td>\n",
       "    </tr>\n",
       "    <tr>\n",
       "      <th>2013-12-31 21:00:00</th>\n",
       "      <td>2013-12-31</td>\n",
       "      <td>0.0</td>\n",
       "      <td>488.0</td>\n",
       "      <td>6.1</td>\n",
       "      <td>4.0</td>\n",
       "    </tr>\n",
       "    <tr>\n",
       "      <th>2013-12-31 22:00:00</th>\n",
       "      <td>2013-12-31</td>\n",
       "      <td>0.0</td>\n",
       "      <td>523.0</td>\n",
       "      <td>5.9</td>\n",
       "      <td>5.0</td>\n",
       "    </tr>\n",
       "    <tr>\n",
       "      <th>2013-12-31 23:00:00</th>\n",
       "      <td>2013-12-31</td>\n",
       "      <td>0.0</td>\n",
       "      <td>438.0</td>\n",
       "      <td>5.9</td>\n",
       "      <td>5.0</td>\n",
       "    </tr>\n",
       "    <tr>\n",
       "      <th>2014-01-01 00:00:00</th>\n",
       "      <td>2013-12-31</td>\n",
       "      <td>NaN</td>\n",
       "      <td>NaN</td>\n",
       "      <td>6.0</td>\n",
       "      <td>5.0</td>\n",
       "    </tr>\n",
       "  </tbody>\n",
       "</table>\n",
       "<p>8760 rows × 5 columns</p>\n",
       "</div>"
      ]
     },
     "execution_count": 10,
     "metadata": {},
     "output_type": "execute_result"
    }
   ],
   "execution_count": 10
  },
  {
   "cell_type": "code",
   "execution_count": null,
   "metadata": {},
   "outputs": [],
   "source": [
    "#// END_TODO [Extract-household-1]"
   ]
  },
  {
   "cell_type": "markdown",
   "metadata": {
    "jp-MarkdownHeadingCollapsed": true
   },
   "source": [
    "3. Create a dataframe for `household_2` in the same way as for `household_1`. Store the query in the variable `query_household_2`. Store the dataframe in the variable `df_household_2`. Make sure the dataframe has the same format as `df_household_1`."
   ]
  },
  {
   "cell_type": "code",
   "metadata": {
    "ExecuteTime": {
     "end_time": "2024-12-30T19:36:21.529179Z",
     "start_time": "2024-12-30T19:36:21.479417Z"
    }
   },
   "source": [
    "#// BEGIN_TODO [Extract-household-2] (2 points)\n",
    "\n",
    "query_household_2 = (f'SELECT g.datetime, g.date, g.\"{household_2}\" AS gas, e.\"{household_2}\" AS electricity, w.temperature, w.wind_speed '\n",
    "                      f'FROM gas AS g, electricity AS e, weather AS w '\n",
    "                      f'WHERE g.datetime = e.datetime AND g.datetime = w.datetime;')\n",
    "\n",
    "df_household_2 = pd.read_sql_query(query_household_2, conn, index_col='datetime', parse_dates=['datetime', 'date'])\n",
    "df_household_2"
   ],
   "outputs": [
    {
     "data": {
      "text/plain": [
       "                          date       gas  electricity  temperature  wind_speed\n",
       "datetime                                                                      \n",
       "2013-01-01 01:00:00 2013-01-01  0.000000         70.0          8.6         8.0\n",
       "2013-01-01 02:00:00 2013-01-01  0.000000         73.0          8.5         6.0\n",
       "2013-01-01 03:00:00 2013-01-01  0.000000         86.0          8.6         5.0\n",
       "2013-01-01 04:00:00 2013-01-01  0.000000         69.0          8.6         6.0\n",
       "2013-01-01 05:00:00 2013-01-01  0.000000         68.0          8.6         4.0\n",
       "...                        ...       ...          ...          ...         ...\n",
       "2013-12-31 20:00:00 2013-12-31  0.325474        372.0          6.6         6.0\n",
       "2013-12-31 21:00:00 2013-12-31  0.239018       1207.0          6.1         4.0\n",
       "2013-12-31 22:00:00 2013-12-31  0.089016       1145.0          5.9         5.0\n",
       "2013-12-31 23:00:00 2013-12-31  0.379226       1791.0          5.9         5.0\n",
       "2014-01-01 00:00:00 2013-12-31       NaN          NaN          6.0         5.0\n",
       "\n",
       "[8760 rows x 5 columns]"
      ],
      "text/html": [
       "<div>\n",
       "<style scoped>\n",
       "    .dataframe tbody tr th:only-of-type {\n",
       "        vertical-align: middle;\n",
       "    }\n",
       "\n",
       "    .dataframe tbody tr th {\n",
       "        vertical-align: top;\n",
       "    }\n",
       "\n",
       "    .dataframe thead th {\n",
       "        text-align: right;\n",
       "    }\n",
       "</style>\n",
       "<table border=\"1\" class=\"dataframe\">\n",
       "  <thead>\n",
       "    <tr style=\"text-align: right;\">\n",
       "      <th></th>\n",
       "      <th>date</th>\n",
       "      <th>gas</th>\n",
       "      <th>electricity</th>\n",
       "      <th>temperature</th>\n",
       "      <th>wind_speed</th>\n",
       "    </tr>\n",
       "    <tr>\n",
       "      <th>datetime</th>\n",
       "      <th></th>\n",
       "      <th></th>\n",
       "      <th></th>\n",
       "      <th></th>\n",
       "      <th></th>\n",
       "    </tr>\n",
       "  </thead>\n",
       "  <tbody>\n",
       "    <tr>\n",
       "      <th>2013-01-01 01:00:00</th>\n",
       "      <td>2013-01-01</td>\n",
       "      <td>0.000000</td>\n",
       "      <td>70.0</td>\n",
       "      <td>8.6</td>\n",
       "      <td>8.0</td>\n",
       "    </tr>\n",
       "    <tr>\n",
       "      <th>2013-01-01 02:00:00</th>\n",
       "      <td>2013-01-01</td>\n",
       "      <td>0.000000</td>\n",
       "      <td>73.0</td>\n",
       "      <td>8.5</td>\n",
       "      <td>6.0</td>\n",
       "    </tr>\n",
       "    <tr>\n",
       "      <th>2013-01-01 03:00:00</th>\n",
       "      <td>2013-01-01</td>\n",
       "      <td>0.000000</td>\n",
       "      <td>86.0</td>\n",
       "      <td>8.6</td>\n",
       "      <td>5.0</td>\n",
       "    </tr>\n",
       "    <tr>\n",
       "      <th>2013-01-01 04:00:00</th>\n",
       "      <td>2013-01-01</td>\n",
       "      <td>0.000000</td>\n",
       "      <td>69.0</td>\n",
       "      <td>8.6</td>\n",
       "      <td>6.0</td>\n",
       "    </tr>\n",
       "    <tr>\n",
       "      <th>2013-01-01 05:00:00</th>\n",
       "      <td>2013-01-01</td>\n",
       "      <td>0.000000</td>\n",
       "      <td>68.0</td>\n",
       "      <td>8.6</td>\n",
       "      <td>4.0</td>\n",
       "    </tr>\n",
       "    <tr>\n",
       "      <th>...</th>\n",
       "      <td>...</td>\n",
       "      <td>...</td>\n",
       "      <td>...</td>\n",
       "      <td>...</td>\n",
       "      <td>...</td>\n",
       "    </tr>\n",
       "    <tr>\n",
       "      <th>2013-12-31 20:00:00</th>\n",
       "      <td>2013-12-31</td>\n",
       "      <td>0.325474</td>\n",
       "      <td>372.0</td>\n",
       "      <td>6.6</td>\n",
       "      <td>6.0</td>\n",
       "    </tr>\n",
       "    <tr>\n",
       "      <th>2013-12-31 21:00:00</th>\n",
       "      <td>2013-12-31</td>\n",
       "      <td>0.239018</td>\n",
       "      <td>1207.0</td>\n",
       "      <td>6.1</td>\n",
       "      <td>4.0</td>\n",
       "    </tr>\n",
       "    <tr>\n",
       "      <th>2013-12-31 22:00:00</th>\n",
       "      <td>2013-12-31</td>\n",
       "      <td>0.089016</td>\n",
       "      <td>1145.0</td>\n",
       "      <td>5.9</td>\n",
       "      <td>5.0</td>\n",
       "    </tr>\n",
       "    <tr>\n",
       "      <th>2013-12-31 23:00:00</th>\n",
       "      <td>2013-12-31</td>\n",
       "      <td>0.379226</td>\n",
       "      <td>1791.0</td>\n",
       "      <td>5.9</td>\n",
       "      <td>5.0</td>\n",
       "    </tr>\n",
       "    <tr>\n",
       "      <th>2014-01-01 00:00:00</th>\n",
       "      <td>2013-12-31</td>\n",
       "      <td>NaN</td>\n",
       "      <td>NaN</td>\n",
       "      <td>6.0</td>\n",
       "      <td>5.0</td>\n",
       "    </tr>\n",
       "  </tbody>\n",
       "</table>\n",
       "<p>8760 rows × 5 columns</p>\n",
       "</div>"
      ]
     },
     "execution_count": 11,
     "metadata": {},
     "output_type": "execute_result"
    }
   ],
   "execution_count": 11
  },
  {
   "cell_type": "code",
   "execution_count": null,
   "metadata": {},
   "outputs": [],
   "source": [
    "#// END_TODO [Extract-household-2]"
   ]
  },
  {
   "cell_type": "markdown",
   "metadata": {},
   "source": [
    "# Data quality"
   ]
  },
  {
   "cell_type": "markdown",
   "metadata": {},
   "source": [
    "Earlier in this assignment, it was stated that the data was partially cleaned (e.g., the datetime columns in the different tables were converted to the same format, the data and metadata (column names) were translated to English, and unrealistic measurements were removed). But,\n",
    "* How complete is the data?\n",
    "* How much data is missing and on which days is it missing?"
   ]
  },
  {
   "cell_type": "markdown",
   "metadata": {},
   "source": [
    "1. For each of the two households, add a column `missing` to the dataframe holding Boolean values to signal if there is at least one missing value in that row (`True`) or not, i.e., all values of the row are present (`False`). Then determine what percentage of data is missing or incomplete for each household (i.e., the percentage of rows with a NaN value). Store your answer in variables `household_1_missing_percent` and `household_2_missing_percent`.\n",
    "\n",
    "   **Hint:** Check the [Hints](https://canvas.tue.nl/courses/28674/pages/hints) page on Canvas if you get stuck!"
   ]
  },
  {
   "cell_type": "code",
   "execution_count": null,
   "metadata": {},
   "outputs": [],
   "source": [
    "#// BEGIN_TODO [Missing-data] (4 points)\n",
    "\n",
    "# ===== =====> Replace this line by your code. <===== ===== #\n"
   ]
  },
  {
   "cell_type": "code",
   "execution_count": null,
   "metadata": {},
   "outputs": [],
   "source": [
    "#// END_TODO [Missing-data]"
   ]
  },
  {
   "cell_type": "markdown",
   "metadata": {},
   "source": [
    "2. Even if there is enough data to work with, having several missing values on the same day may still be problematic. Check if the missing values are concentrated on particular days.\n",
    "\n",
    "    For each day, calculate the percentage of rows with missing values. Store your results as Series in variables `s_missing_household_1` and `s_missing_household_2` with `date` as index."
   ]
  },
  {
   "cell_type": "code",
   "execution_count": null,
   "metadata": {},
   "outputs": [],
   "source": [
    "#// BEGIN_TODO [Missing-daily] (4 points)\n",
    "\n",
    "# ===== =====> Replace this line by your code. <===== ===== #\n"
   ]
  },
  {
   "cell_type": "code",
   "execution_count": null,
   "metadata": {},
   "outputs": [],
   "source": [
    "#// END_TODO [Missing-daily]"
   ]
  },
  {
   "cell_type": "markdown",
   "metadata": {},
   "source": [
    "3. Look at your results from the previous step.\n",
    "    * Are the missing data clustered or scattered?\n",
    "    * Are there significant differences between the two households?\n",
    "    * Do you think this could potentially affect future analysis choices (and if so, how)?\n",
    "    * Can it have influence on the results of the data analysis (and if so, how)?\n",
    "\n",
    "   Reflect on the points above and store your observations as a string in the variable `observations_missing_data`."
   ]
  },
  {
   "cell_type": "code",
   "execution_count": null,
   "metadata": {},
   "outputs": [],
   "source": [
    "#// BEGIN_TODO [Observations-missing-data] (2 points)\n",
    "\n",
    "# ===== =====> Replace this line by your code. <===== ===== #\n"
   ]
  },
  {
   "cell_type": "code",
   "execution_count": null,
   "metadata": {},
   "outputs": [],
   "source": [
    "#// END_TODO [Observations-missing-data]"
   ]
  },
  {
   "cell_type": "markdown",
   "metadata": {},
   "source": [
    "# Taking a first look at the data"
   ]
  },
  {
   "cell_type": "markdown",
   "metadata": {},
   "source": [
    "Before writing a hypothesis, it is good to see what the data looks like. Therefore, in this section, you will create several figures to learn more about the data. Ask yourself what is interesting about each plot and try to come up with plausible explanations."
   ]
  },
  {
   "cell_type": "markdown",
   "metadata": {},
   "source": [
    "1. Use `df_household_1` and `df_household_2` to plot the hourly gas and electricity consumption of `household_1` and `household_2`. Create a figure with four line plots -- two showing hourly gas consumption and two showing electricity consumption side-by-side for each household for the entire year. What can you learn from this figure? Write your observations as a string in the variable `observations_figure_1`.\n",
    "\n",
    "> **Note:** Do not forget to follow the best practices for visualizations.\n",
    "  **This applies to all coming tasks requiring visualizations.**\n",
    "  You must:\n",
    "> - Include a descriptive **title**.\n",
    "> - Add **labels** to the **axes** and include the **units** of the quantities on the axes if applicable.\n",
    "> - Ensure that the plot is **readable** and **understandable** (also for somebody who is color-blind).\n",
    "> - Choose appropriate **ranges** for the plot **axes**.\n",
    "> - Include a **legend** when appropriate."
   ]
  },
  {
   "cell_type": "code",
   "execution_count": null,
   "metadata": {},
   "outputs": [],
   "source": [
    "#// BEGIN_TODO [First-look] (3 points)\n",
    "\n",
    "# ===== =====> Replace this line by your code. <===== ===== #\n"
   ]
  },
  {
   "cell_type": "code",
   "execution_count": null,
   "metadata": {},
   "outputs": [],
   "source": [
    "#// END_TODO [First-look]"
   ]
  },
  {
   "cell_type": "markdown",
   "metadata": {},
   "source": [
    "2. Create two more figures of your choosing, based on your observations and questions they led to. Perhaps you want to zoom in on a particular period, look at other columns of the dataframes, apply some filter, or try different kinds of plots. Write your observations for the two new figures as strings in the variables `observations_figure_2` and `observations_figure_3` respectively."
   ]
  },
  {
   "cell_type": "code",
   "execution_count": null,
   "metadata": {},
   "outputs": [],
   "source": [
    "#// BEGIN_TODO [More-figures] (3 points)\n",
    "\n",
    "# ===== =====> Replace this line by your code. <===== ===== #\n"
   ]
  },
  {
   "cell_type": "code",
   "execution_count": null,
   "metadata": {},
   "outputs": [],
   "source": [
    "#// END_TODO [More-figures]"
   ]
  },
  {
   "cell_type": "markdown",
   "metadata": {},
   "source": [
    "# Problem statement"
   ]
  },
  {
   "cell_type": "markdown",
   "metadata": {},
   "source": [
    "1. This assignment is part of the CBL (challenge-based learning) line of the Bachelor program. As part of the challenge, you are to formulate your own problem statement (question) **related to the gas and/or electricity consumption** of an individual household. You may find inspiration in the results you obtained for GA1, in the knowledge from previous courses or from high school, the news, or just common sense. Formulate a question that you may reasonably be able to answer with the data you have here. The question should be interesting for other households as well, or it might be relevant for energy providers or in the context of energy transition (from gas to electricity).\n",
    "\n",
    "   Store your problem statement as a string in the variable `problem_statement`.\n",
    "\n",
    "   In case you find it hard to think of a problem statement, you could try thinking in one of the following directions. While you are welcome to use these ideas, take into account that you can earn bonus points for coming up with an interesting and original problem statement.\n",
    "    1. Many people set their thermostat to a lower temperature at night than during the day. For example, at night, heating might be set to maintain the room temperature of 15 degrees Celsius, but during the day the thermostat is set to maintain the temperature at 20 degrees Celsius. You could write a problem statement related to the presence of such patterns in the data.\n",
    "    1. You could create a prediction model for gas usage. The data you have here is very different from GA1, but you could train a regression model using weather and gas usage data and then explore potential bias of your model. For example: are there differences in model performance on colder days versus warmer days?"
   ]
  },
  {
   "cell_type": "code",
   "execution_count": null,
   "metadata": {},
   "outputs": [],
   "source": [
    "#// BEGIN_TODO [Problem-statement] (0 points)\n",
    "\n",
    "# ===== =====> Replace this line by your code. <===== ===== #\n"
   ]
  },
  {
   "cell_type": "code",
   "execution_count": null,
   "metadata": {},
   "outputs": [],
   "source": [
    "#// END_TODO [Problem-statement]"
   ]
  },
  {
   "cell_type": "markdown",
   "metadata": {},
   "source": [
    "2. Now formulate a general hypothesis that could help to address the question from the problem statement that you have formulated. This hypothesis may only provide a part of the answer, but that is enough for this assignment. A good hypothesis for this assignment should lead to potentially useful insights. Ask yourself what you could learn depending on the outcomes of your hypothesis testing; how can the knowledge you created be used? The result is interesting, whether the hypothesis will be rejected or not. Remember that you cannot prove a causal relationship.\n",
    "\n",
    "   Here is an example of a reasonable general hypothesis unrelated to this project: \"Students who do sports perform better in their university studies.\". You cannot be sure of the outcome of hypothesis testing in advance, and any outcome, rejecting the hypothesis or not, is interesting and relevant.\n",
    "\n",
    "   Store your hypothesis as a string in the variable `hypothesis`."
   ]
  },
  {
   "cell_type": "code",
   "execution_count": null,
   "metadata": {},
   "outputs": [],
   "source": [
    "#// BEGIN_TODO [Hypothesis] (0 points)\n",
    "\n",
    "# ===== =====> Replace this line by your code. <===== ===== #\n"
   ]
  },
  {
   "cell_type": "code",
   "execution_count": null,
   "metadata": {},
   "outputs": [],
   "source": [
    "#// END_TODO [Hypothesis]"
   ]
  },
  {
   "cell_type": "markdown",
   "metadata": {},
   "source": [
    "3. Refine your general hypothesis into a **testable** hypothesis.\n",
    "\n",
    "   **Ask questions**\n",
    "\n",
    "   Carefully go over your hypothesis and note which parts are not sufficiently specific or not testable. You could write it down on paper and underline any words that could be more specific. For each of the underlined keywords, ask (write down) questions that could help specify this part. Even trivial things are welcome. You do not need to answer these questions right away; that comes in the next step. Questions can be:\n",
    "   - What is this, exactly?\n",
    "   - How can we choose a threshold value? Why is that a reasonable choice?\n",
    "   - What should be measured to represent this keyword?\n",
    "   - Is there enough data to test the hypothesis and to see a baseline?\n",
    "   - What are confounding variables and how can we reduce the number of confounding variables?\n",
    "\n",
    "   **Answer questions**\n",
    "\n",
    "   Now start answering the questions from the previous step. You may also want to check the available data for some of them: when you make decisions you want to make sure you keep enough data. Even when you keep enough data, you still should check that you are not discarding too much.\n",
    "\n",
    "   You can find an elaborate refinement of the example hypothesis \"Students who do sports perform better in their university studies.\" in `Example_hypothesis_refinement.pdf` which was included in the ZIP of this assignment.\n",
    "\n",
    "   Store your refined hypothesis as a string in the variable `refined_hypothesis`. Keep your notes, as they may be useful for the poster."
   ]
  },
  {
   "cell_type": "code",
   "execution_count": null,
   "metadata": {},
   "outputs": [],
   "source": [
    "#// BEGIN_TODO [Refined-hypothesis] (0 points)\n",
    "\n",
    "# ===== =====> Replace this line by your code. <===== ===== #\n"
   ]
  },
  {
   "cell_type": "code",
   "execution_count": null,
   "metadata": {},
   "outputs": [],
   "source": [
    "#// END_TODO [Refined-hypothesis]"
   ]
  },
  {
   "cell_type": "markdown",
   "metadata": {},
   "source": [
    "# Identify atypical periods"
   ]
  },
  {
   "cell_type": "markdown",
   "metadata": {},
   "source": [
    "In this section, you will identify periods of atypical energy consumption that you would possibly like to eliminate from consideration when testing your hypothesis. Including atypical data into the data sample for testing your hypothesis might lead to wrong results. Depending on your hypothesis, you may end up with different definitions of what is atypical. This data set has at least one clear form of atypical data, already visible in Section 7 (Taking a first look at the data). There are periods when energy consumption is much lower than surrounding periods: less gas and/or electricity was used than just before and after that period. Perhaps the people who live in this house were away on holiday. Whatever the case may be, these periods are not representative of normal use of gas and electricity.\n",
    "\n",
    "The first plots from Section 7 (Taking a first look at the data) showing all data values (per hour) are difficult to read and interpret, since the data is too volatile. The task to perform using visual inspection is to see when the houses were presumably empty.\n",
    "* When people are not away, we expect to see at least some period during that day when more electricity was used than only by fridges, TVs in standby mode, etc.\n",
    "* The same holds for gas: if people are away, they might put their thermostat a bit lower (or not), still consuming some gas for heating in winter, but not for taking showers or cooking.\n",
    "\n",
    "The active gas/electricity usage periods would manifest themselves in different typical values or in different high values.\n",
    "\n",
    "To make plots more readable, filtering data or aggregating data is often a good step. In this case, you will aggregate the data per day, but which value do you want to compute for each day? Taking the minimum value of the day is not likely to be interesting: nearly all households have some period of a day when consumption is very low. Taking the maximum value might work, but there could be outliers, making days with very low energy consumption look like a regular day. A good alternative would be to take something *near* the maximum value: a high quantile, for example (look at the EDA programming exercises if needed to refresh your knowledge)."
   ]
  },
  {
   "cell_type": "markdown",
   "metadata": {},
   "source": [
    "1. Compute daily peak consumption of gas and electricity per day for each of the two households and store them in `df_daily_peak_household_1` and `df_daily_peak_household_2`. Make sure that the index for both dataframes is using the `date` column and is still in datetime format.\n",
    "\n",
    "   When looking for atypical data, days with too much missing data could give unreliable or distorted results. It is better to filter those days out. Check if it is necessary to filter out days with too many missing values for either or both of the two households. Store your explanations of what daily value you computed and why this one, and which days you filtered out and why those ones as a string in the variable `daily_filter_missing_reasoning`."
   ]
  },
  {
   "cell_type": "code",
   "execution_count": null,
   "metadata": {},
   "outputs": [],
   "source": [
    "#// BEGIN_TODO [Daily-peaks] (4 points)\n",
    "\n",
    "# ===== =====> Replace this line by your code. <===== ===== #\n"
   ]
  },
  {
   "cell_type": "code",
   "execution_count": null,
   "metadata": {},
   "outputs": [],
   "source": [
    "#// END_TODO [Daily-peaks]"
   ]
  },
  {
   "cell_type": "markdown",
   "metadata": {},
   "source": [
    "2. Plot the daily peak consumption. Create a figure with four line plots -- two showing hourly gas consumption and two showing electricity consumption side-by-side for each household for the entire year."
   ]
  },
  {
   "cell_type": "code",
   "execution_count": null,
   "metadata": {},
   "outputs": [],
   "source": [
    "#// BEGIN_TODO [Daily-peaks-plots] (2 points)\n",
    "\n",
    "# ===== =====> Replace this line by your code. <===== ===== #\n"
   ]
  },
  {
   "cell_type": "code",
   "execution_count": null,
   "metadata": {},
   "outputs": [],
   "source": [
    "#// END_TODO [Daily-peaks-plots]"
   ]
  },
  {
   "cell_type": "markdown",
   "metadata": {},
   "source": [
    "3. The plots from `df_daily_peak_household_1` and `df_daily_peak_household_2` make it easier to identify periods of atypical energy consumption, but there are still days where it is unclear if it is actually atypical or not.\n",
    "\n",
    "   Use the following space to create plots to zoom in on interesting periods. Think of applying some filter, e.g., Gaussian filter or median filter, to identify interesting periods."
   ]
  },
  {
   "cell_type": "code",
   "execution_count": null,
   "metadata": {},
   "outputs": [],
   "source": [
    "#// BEGIN_TODO [Atypical-zoom] (4 points)\n",
    "\n",
    "# ===== =====> Replace this line by your code. <===== ===== #\n"
   ]
  },
  {
   "cell_type": "code",
   "execution_count": null,
   "metadata": {},
   "outputs": [],
   "source": [
    "#// END_TODO [Atypical-zoom]"
   ]
  },
  {
   "cell_type": "markdown",
   "metadata": {},
   "source": [
    "4. Create a Series object for each household `s_atypical_1` and `s_atypical_2` with all the dates of the year as index, and values `True` and `False` representing if you find that the energy consumption on that day looks atypical. You may create these Series objects by hand. Such an object could be created like this:\n",
    "\n",
    "   `s_atypical_1 = pd.Series(index=df_household_1['date'].unique()).fillna(False)`\n",
    "\n",
    "   Here, `pd.Series()` creates a new Series object, using the unique values from the `date` column of `df_household_1` as index. As no data is given, the object is initialized with NaN values. `fillna(False)` fills these NaN values with `False`. You can then set particular dates or ranges of dates in the Series object to `True` by hand.\n",
    "\n",
    "   It may be very useful to zoom in on particular days in the plots above, so feel free to do that. Be mindful of the filters you are using and check your suspicions with the hourly data. When you are confident that consumption for a particular house for a particular period is atypical, set the values in the Series object for that household for those days to `True`. Repeat this process until you can no longer find periods with atypical behavior for either household.\n",
    "\n",
    "   Write down your reasons for marking periods as atypical and store it as a string in the variable `atypical_reasons`. Did you find different kinds of atypical behavior?"
   ]
  },
  {
   "cell_type": "code",
   "execution_count": null,
   "metadata": {},
   "outputs": [],
   "source": [
    "#// BEGIN_TODO [Atypical-series] (3 points)\n",
    "\n",
    "# ===== =====> Replace this line by your code. <===== ===== #\n"
   ]
  },
  {
   "cell_type": "code",
   "execution_count": null,
   "metadata": {},
   "outputs": [],
   "source": [
    "#// END_TODO [Atypical-series]"
   ]
  },
  {
   "cell_type": "markdown",
   "metadata": {},
   "source": [
    "# Hypothesis test"
   ]
  },
  {
   "cell_type": "markdown",
   "metadata": {},
   "source": [
    "You have investigated when and where values are missing, made and interpreted some initial plots of the data, written a problem statement and hypothesis based on the data, and identified atypical periods in the data. Now it is time to test your hypothesis."
   ]
  },
  {
   "attachments": {},
   "cell_type": "markdown",
   "metadata": {},
   "source": [
    "1. Execute the proper steps for a hypothesis test: check whether the hypothesis test is appropriate for this data, apply the test, and report the outcome. Make sure to go through all the necessary steps in your solution: clearly write down your null hypothesis and alternative hypothesis, the level of significance, etc.\n",
    "\n",
    "   There may (or may not) be seasonal effects to the consumption of gas and/or electricity. To reduce the influence of such effects on the hypothesis test, you may want to restrict the data to a shorter time span, for instance just to winter months, or use the weather data to make this distinction.\n",
    "\n",
    "   Of course, you should also apply what you learned about missing values and atypical periods in this data set.\n",
    "\n",
    "   Perform the same test for **each household separately**. Are the results the same, or different? Reflect on this in your poster. You may want to check if you have any information in `df_customer`."
   ]
  },
  {
   "cell_type": "code",
   "execution_count": null,
   "metadata": {},
   "outputs": [],
   "source": [
    "#// BEGIN_TODO [Hypothesis-test] (1 point)\n",
    "\n",
    "# ===== =====> Replace this line by your code. <===== ===== #\n"
   ]
  },
  {
   "cell_type": "code",
   "execution_count": null,
   "metadata": {},
   "outputs": [],
   "source": [
    "#// END_TODO [Hypothesis-test]"
   ]
  },
  {
   "cell_type": "markdown",
   "metadata": {},
   "source": [
    "# Create your poster"
   ]
  },
  {
   "cell_type": "markdown",
   "metadata": {
    "jp-MarkdownHeadingCollapsed": true
   },
   "source": [
    "Finally, create a poster on which you present and discuss your results. You **must use the template of the poster for GA2 available on Canvas**. There, you can also find more information on how to create your poster.\n",
    "\n",
    "In case you want to perform any additional analysis, please, use the cells below.\n",
    "\n",
    "<div class=\"alert alert-block alert-danger\">\n",
    "    <ol>\n",
    "        <li>Include supporting evidence for choosing your hypothesis in your poster.</li>\n",
    "        <li>Double-check if the visualizations are produced correctly on Momotor under the <b>Running submitted notebook</b> tab. Make sure that every visualization on your poster can also be seen under that tab.</li>\n",
    "    </ol>\n",
    "</div>"
   ]
  },
  {
   "cell_type": "code",
   "execution_count": null,
   "metadata": {},
   "outputs": [],
   "source": [
    "#// BEGIN_TODO [Poster] (0 points)\n",
    "\n",
    "# ===== =====> Replace this line by your code. <===== ===== #\n"
   ]
  },
  {
   "cell_type": "code",
   "execution_count": null,
   "metadata": {},
   "outputs": [],
   "source": [
    "#// END_TODO [Poster]"
   ]
  },
  {
   "cell_type": "markdown",
   "metadata": {},
   "source": [
    "# Feedback\n",
    "\n",
    "Please fill in this questionaire to help us improve this course for the next year. Your feedback will be anonymized and will not affect your grade in any way!"
   ]
  },
  {
   "cell_type": "markdown",
   "metadata": {},
   "source": [
    "### How many hours did you spend on these Exercises?\n",
    "\n",
    "Assign a number to `feedback_time`."
   ]
  },
  {
   "cell_type": "code",
   "execution_count": null,
   "metadata": {},
   "outputs": [],
   "source": [
    "#// BEGIN_FEEDBACK [Feedback_1] (0 point)\n",
    "\n",
    "#// END_FEEDBACK [Feedback_1] (0 point)\n",
    "\n",
    "import numbers\n",
    "assert isinstance(feedback_time, numbers.Number), \"Please assign a number to feedback_time\"\n",
    "feedback_time"
   ]
  },
  {
   "cell_type": "markdown",
   "metadata": {},
   "source": [
    "### How difficult did you find these Exercises?\n",
    "\n",
    "Assign an integer to `feedback_difficulty`, on a scale 0 - 10, with 0 being very easy, 5 being just right, and 10 being very difficult."
   ]
  },
  {
   "cell_type": "code",
   "execution_count": null,
   "metadata": {},
   "outputs": [],
   "source": [
    "#// BEGIN_FEEDBACK [Feedback_2] (0 point)\n",
    "\n",
    "#// END_FEEDBACK [Feedback_2] (0 point)\n",
    "\n",
    "import numbers\n",
    "assert isinstance(feedback_difficulty, numbers.Number), \"Please assign a number to feedback_difficulty\"\n",
    "feedback_difficulty"
   ]
  },
  {
   "cell_type": "markdown",
   "metadata": {},
   "source": [
    "### (Optional) What did you like?\n",
    "\n",
    "Assign a string to `feedback_like`."
   ]
  },
  {
   "cell_type": "code",
   "execution_count": null,
   "metadata": {},
   "outputs": [],
   "source": [
    "#// BEGIN_FEEDBACK [Feedback_3] (0 point)\n",
    "\n",
    "#// END_FEEDBACK [Feedback_3] (0 point)"
   ]
  },
  {
   "cell_type": "markdown",
   "metadata": {},
   "source": [
    "### (Optional) What can be improved?\n",
    "\n",
    "Assign a string to `feedback_improve`. Please be specific, so that we can act on your feedback. For example, mention the specific exercises and what was unclear."
   ]
  },
  {
   "cell_type": "code",
   "execution_count": null,
   "metadata": {},
   "outputs": [],
   "source": [
    "#// BEGIN_FEEDBACK [Feedback_4] (0 point)\n",
    "\n",
    "#// END_FEEDBACK [Feedback_4] (0 point)"
   ]
  },
  {
   "cell_type": "markdown",
   "metadata": {
    "jp-MarkdownHeadingCollapsed": true
   },
   "source": [
    "\n",
    "\n",
    "\n",
    "## How to Submit Your Work\n",
    "\n",
    "1. **Before submitting**, you must run your notebook by doing **Kernel > Restart & Run All**.  \n",
    "   Make sure that your notebook runs without errors **in linear order**.\n",
    "1. Remember to rename the notebook, replacing `...-template.ipynb` with `...-yourIDnr.ipynb`, where `yourIDnr` is your TU/e identification number.\n",
    "1. Submit the executed notebook with your work\n",
    "   for the appropriate assignment in **Canvas**.\n",
    "1. In the **Momotor** tab in Canvas,\n",
    "  you can select that assignment again to find some feedback on your submitted work.\n",
    "  If there are any problems reported by _Momotor_,\n",
    "  then you need to fix those,\n",
    "  and **resubmit the fixed notebook**.\n",
    "\n",
    "In case of a high workload on our server\n",
    "(because many students submit close to the deadline),\n",
    "it may take longer to receive the feedback.\n",
    "\n",
    "\n"
   ]
  },
  {
   "cell_type": "markdown",
   "metadata": {},
   "source": [
    "---"
   ]
  },
  {
   "cell_type": "code",
   "execution_count": null,
   "metadata": {},
   "outputs": [],
   "source": [
    "# List all defined names\n",
    "%whos"
   ]
  },
  {
   "cell_type": "markdown",
   "metadata": {},
   "source": [
    "---\n",
    "\n",
    "# (End of Notebook) <span class=\"tocSkip\"></span>\n",
    "\n",
    "&copy; 2024-2025 - **TU/e** - Eindhoven University of Technology"
   ]
  }
 ],
 "metadata": {
  "hide_input": false,
  "kernelspec": {
   "display_name": "Python 3",
   "language": "python",
   "name": "python3"
  },
  "language_info": {
   "codemirror_mode": {
    "name": "ipython",
    "version": 3
   },
   "file_extension": ".py",
   "mimetype": "text/x-python",
   "name": "python",
   "nbconvert_exporter": "python",
   "pygments_lexer": "ipython3",
   "version": "3.11.7"
  },
  "toc": {
   "base_numbering": 1,
   "nav_menu": {},
   "number_sections": true,
   "sideBar": true,
   "skip_h1_title": false,
   "title_cell": "Table of Contents",
   "title_sidebar": "Contents",
   "toc_cell": false,
   "toc_position": {},
   "toc_section_display": true,
   "toc_window_display": false
  }
 },
 "nbformat": 4,
 "nbformat_minor": 4
}
